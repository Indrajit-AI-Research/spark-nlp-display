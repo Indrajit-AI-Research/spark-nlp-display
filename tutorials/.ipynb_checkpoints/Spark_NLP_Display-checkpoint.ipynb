{
 "cells": [
  {
   "cell_type": "markdown",
   "metadata": {
    "id": "O7rf8pcS-vYP"
   },
   "source": [
    "\n",
    "\n",
    "![JohnSnowLabs](https://nlp.johnsnowlabs.com/assets/images/logo.png)\n",
    "\n",
    "[![Open In Colab](https://colab.research.google.com/assets/colab-badge.svg)](https://colab.research.google.com/github/JohnSnowLabs/spark-nlp-display/blob/master/tutorials/Spark_NLP_Display.ipynb)\n",
    "\n",
    "\n"
   ]
  },
  {
   "cell_type": "markdown",
   "metadata": {
    "id": "cu022cz5-m8A"
   },
   "source": [
    "# **Spark NLP Display**"
   ]
  },
  {
   "cell_type": "code",
   "execution_count": 1,
   "metadata": {
    "colab": {
     "base_uri": "https://localhost:8080/"
    },
    "id": "cWWjLNBR0D9-",
    "outputId": "cc143224-d741-4968-8f20-9c738ed871ac"
   },
   "outputs": [
    {
     "name": "stdout",
     "output_type": "stream",
     "text": [
      "SparkNLP Version: 2.6.3\n",
      "SparkNLP-JSL Version: 2.7.0\n"
     ]
    }
   ],
   "source": [
    "import os\n",
    "import json\n",
    "\n",
    "with open('/content/spark_nlp_for_healthcare.json', 'r') as f:\n",
    "    license_keys = json.load(f)\n",
    "\n",
    "license_keys.keys()\n",
    "\n",
    "secret = license_keys['SECRET']\n",
    "os.environ['SPARK_NLP_LICENSE'] = license_keys['SPARK_NLP_LICENSE']\n",
    "os.environ['AWS_ACCESS_KEY_ID'] = license_keys['AWS_ACCESS_KEY_ID']\n",
    "os.environ['AWS_SECRET_ACCESS_KEY'] = license_keys['AWS_SECRET_ACCESS_KEY']\n",
    "sparknlp_version = license_keys[\"PUBLIC_VERSION\"]\n",
    "jsl_version = license_keys[\"JSL_VERSION\"]\n",
    "\n",
    "print ('SparkNLP Version:', sparknlp_version)\n",
    "print ('SparkNLP-JSL Version:', jsl_version)\n"
   ]
  },
  {
   "cell_type": "code",
   "execution_count": null,
   "metadata": {
    "id": "iksnHoGcyGK0"
   },
   "outputs": [],
   "source": [
    "!sudo apt-get install openjdk-8-jdk\n",
    "!java -version\n",
    "!pip install --ignore-installed -q pyspark==2.4.4\n",
    "\n",
    "# install sparknlp\n",
    "!pip install spark-nlp\n",
    "# install sparknlp-jsl\n",
    "!python -m pip install --upgrade spark-nlp-jsl==$jsl_version --extra-index-url https://pypi.johnsnowlabs.com/$secret\n",
    "# install sparknlp-display\n",
    "!pip install spark-nlp-display"
   ]
  },
  {
   "cell_type": "code",
   "execution_count": 3,
   "metadata": {
    "id": "jZSN3W8xx7ay"
   },
   "outputs": [],
   "source": [
    "import pandas as pd\n",
    "import numpy as np\n",
    "import os\n",
    "os.environ[\"JAVA_HOME\"] = \"/usr/lib/jvm/java-8-openjdk-amd64\"\n",
    "import json\n",
    "from pyspark.ml import Pipeline\n",
    "from pyspark.sql import SparkSession\n",
    "import pyspark.sql.functions as F\n",
    "from sparknlp.annotator import *\n",
    "from sparknlp.base import *\n",
    "import sparknlp\n",
    "from sparknlp.pretrained import PretrainedPipeline\n",
    "from sparknlp.annotator import *\n",
    "from sparknlp.base import *\n",
    "import sparknlp_jsl\n",
    "from sparknlp_jsl.annotator import *\n",
    "spark = sparknlp_jsl.start(secret)"
   ]
  },
  {
   "cell_type": "markdown",
   "metadata": {
    "id": "4aIqjtNjy0ZG"
   },
   "source": [
    "# **Dependency Parser Visualisation**"
   ]
  },
  {
   "cell_type": "code",
   "execution_count": 4,
   "metadata": {
    "colab": {
     "base_uri": "https://localhost:8080/"
    },
    "id": "TcjoaK1zy4Zj",
    "outputId": "f25a92a8-26b3-4033-aeb3-d49a51f7b878"
   },
   "outputs": [
    {
     "name": "stdout",
     "output_type": "stream",
     "text": [
      "pos_anc download started this may take some time.\n",
      "Approximate size to download 4.3 MB\n",
      "[OK!]\n",
      "dependency_conllu download started this may take some time.\n",
      "Approximate size to download 16.6 MB\n",
      "[OK!]\n",
      "dependency_typed_conllu download started this may take some time.\n",
      "Approximate size to download 257.4 KB\n",
      "[OK!]\n"
     ]
    }
   ],
   "source": [
    "documentAssembler = DocumentAssembler()\\\n",
    "    .setInputCol(\"text\")\\\n",
    "    .setOutputCol(\"document\")\n",
    "\n",
    "tokenizer = Tokenizer() \\\n",
    "    .setInputCols([\"document\"]) \\\n",
    "    .setOutputCol(\"token\")\n",
    "\n",
    "pos = PerceptronModel.pretrained(\"pos_anc\", 'en')\\\n",
    "        .setInputCols(\"document\", \"token\")\\\n",
    "        .setOutputCol(\"pos\")\n",
    "\n",
    "chunker = Chunker()\\\n",
    "      .setInputCols([\"document\", \"pos\"])\\\n",
    "      .setOutputCol(\"chunk\")\\\n",
    "      .setRegexParsers([\"<NNP>+\", \"<DT>?<JJ>*<NN>\"])\n",
    "\n",
    "\n",
    "dep_parser = DependencyParserModel.pretrained('dependency_conllu')\\\n",
    "        .setInputCols([\"document\", \"pos\", \"token\"])\\\n",
    "        .setOutputCol(\"dependency\")\n",
    "\n",
    "\n",
    "typed_dep_parser = TypedDependencyParserModel.pretrained('dependency_typed_conllu')\\\n",
    "        .setInputCols([\"token\", \"pos\", \"dependency\"])\\\n",
    "        .setOutputCol(\"dependency_type\")\n",
    "\n",
    "\n",
    "nlpPipeline = Pipeline(\n",
    "      stages = [\n",
    "          documentAssembler,\n",
    "          tokenizer,\n",
    "          pos,\n",
    "          dep_parser,\n",
    "          typed_dep_parser\n",
    "      ])\n",
    "\n",
    "empty_df = spark.createDataFrame([['']]).toDF(\"text\")\n",
    "\n",
    "pipelineModel = nlpPipeline.fit(empty_df)\n",
    "lmodel = LightPipeline(pipelineModel)"
   ]
  },
  {
   "cell_type": "code",
   "execution_count": 5,
   "metadata": {
    "id": "zu3HKFMU6avR"
   },
   "outputs": [],
   "source": [
    "text = ['John Snow is a good man.']\n",
    "res = lmodel.fullAnnotate(text)[0]"
   ]
  },
  {
   "cell_type": "code",
   "execution_count": 8,
   "metadata": {
    "colab": {
     "base_uri": "https://localhost:8080/",
     "height": 471
    },
    "id": "FNcz18qOy4fs",
    "outputId": "c77a8d6e-3611-49f2-c803-4ddcfe470800"
   },
   "outputs": [
    {
     "data": {
      "text/html": [
       "<svg baseProfile=\"tiny\" height=\"450\" version=\"1.2\" width=\"805\" xmlns=\"http://www.w3.org/2000/svg\" xmlns:ev=\"http://www.w3.org/2001/xml-events\" xmlns:xlink=\"http://www.w3.org/1999/xlink\"><defs /><text fill=\"gray\" font-family=\"courier\" font-size=\"25\" x=\"50\" y=\"350\">John</text><text fill=\"#6CD9BA\" x=\"58\" y=\"380\">NNP</text><text fill=\"gray\" font-family=\"courier\" font-size=\"25\" x=\"170\" y=\"350\">Snow</text><text fill=\"#6CD9BA\" x=\"178\" y=\"380\">NNP</text><text fill=\"gray\" font-family=\"courier\" font-size=\"25\" x=\"290\" y=\"350\">is</text><text fill=\"#C1CC85\" x=\"283\" y=\"380\">VBZ</text><text fill=\"gray\" font-family=\"courier\" font-size=\"25\" x=\"380\" y=\"350\">a</text><text fill=\"#C7F469\" x=\"373\" y=\"380\">DT</text><text fill=\"gray\" font-family=\"courier\" font-size=\"25\" x=\"455\" y=\"350\">good</text><text fill=\"#C7A293\" x=\"470\" y=\"380\">JJ</text><text fill=\"gray\" font-family=\"courier\" font-size=\"25\" x=\"575\" y=\"350\">man</text><rect fill=\"none\" height=\"35\" stroke=\"orange\" stroke-width=\"2\" width=\"55\" x=\"570\" y=\"325\" /><text fill=\"#9AAEB1\" x=\"582\" y=\"380\">NN</text><text fill=\"gray\" font-family=\"courier\" font-size=\"25\" x=\"680\" y=\"350\">.</text><text fill=\"#C1F766\" x=\"680\" y=\"380\">.</text><polyline fill=\"none\" points=\"619,324 619,250 688,250 688,320 690,320 688,324 686,320 688,320\" stroke=\"#94A685\" stroke-width=\"2\" /><text fill=\"#94A685\" font-family=\"courier\" font-size=\"20\" x=\"622.5909090909091\" y=\"246\">punct</text><polyline fill=\"none\" points=\"584,324 584,250 490,250 490,320 492,320 490,324 488,320 490,320\" stroke=\"#A8969E\" stroke-width=\"2\" /><text fill=\"#A8969E\" font-family=\"courier\" font-size=\"20\" x=\"511.54545454545456\" y=\"246\">amod</text><polyline fill=\"none\" points=\"591,324 591,200 392,200 392,320 394,320 392,324 390,320 392,320\" stroke=\"#83E6A2\" stroke-width=\"2\" /><text fill=\"#83E6A2\" font-family=\"courier\" font-size=\"20\" x=\"460.59090909090907\" y=\"196\">nsubj</text><polyline fill=\"none\" points=\"598,324 598,150 310,150 310,320 312,320 310,324 308,320 310,320\" stroke=\"#83E6A2\" stroke-width=\"2\" /><text fill=\"#83E6A2\" font-family=\"courier\" font-size=\"20\" x=\"423.09090909090907\" y=\"146\">nsubj</text><polyline fill=\"none\" points=\"605,324 605,100 205,100 205,320 207,320 205,324 203,320 205,320\" stroke=\"#DF8DAD\" stroke-width=\"2\" /><text fill=\"#DF8DAD\" font-family=\"courier\" font-size=\"20\" x=\"379.54545454545456\" y=\"96\">flat</text><polyline fill=\"none\" points=\"612,324 612,50 85,50 85,320 87,320 85,324 83,320 85,320\" stroke=\"#DF8DAD\" stroke-width=\"2\" /><text fill=\"#DF8DAD\" font-family=\"courier\" font-size=\"20\" x=\"323.04545454545456\" y=\"46\">flat</text></svg>"
      ],
      "text/plain": [
       "<IPython.core.display.HTML object>"
      ]
     },
     "metadata": {
      "tags": []
     },
     "output_type": "display_data"
    }
   ],
   "source": [
    "from sparknlp_display import DependencyParserVisualizer\n",
    "dependency_vis = DependencyParserVisualizer()\n",
    "dependency_vis.display(res, 'pos', 'dependency', 'dependency_type')"
   ]
  },
  {
   "cell_type": "markdown",
   "metadata": {
    "id": "QFR3Y0ooy5CU"
   },
   "source": [
    "# **NER Output Visualisation**"
   ]
  },
  {
   "cell_type": "code",
   "execution_count": 9,
   "metadata": {
    "id": "xzNPWhbQzL21"
   },
   "outputs": [],
   "source": [
    "example = [\n",
    "           \"The Mona Lisa is a 16th century oil painting created by Leonardo. It's held at the Louvre in Paris.\"\n",
    "]"
   ]
  },
  {
   "cell_type": "markdown",
   "metadata": {
    "id": "D15cZ7x0yr-T"
   },
   "source": [
    "### Pre-trained pipeline"
   ]
  },
  {
   "cell_type": "code",
   "execution_count": 10,
   "metadata": {
    "colab": {
     "base_uri": "https://localhost:8080/"
    },
    "id": "emLiZc9fyrg7",
    "outputId": "3bbc9ba4-1278-47ed-ed67-4099f023e6ee"
   },
   "outputs": [
    {
     "name": "stdout",
     "output_type": "stream",
     "text": [
      "recognize_entities_dl download started this may take some time.\n",
      "Approx size to download 159 MB\n",
      "[OK!]\n"
     ]
    }
   ],
   "source": [
    "pipeline = PretrainedPipeline('recognize_entities_dl', lang='en')"
   ]
  },
  {
   "cell_type": "code",
   "execution_count": 11,
   "metadata": {
    "colab": {
     "base_uri": "https://localhost:8080/"
    },
    "id": "VPOFr5DTzRqD",
    "outputId": "58fe422d-6a54-4201-e46f-2de511a7bb1b"
   },
   "outputs": [
    {
     "data": {
      "text/plain": [
       "dict_keys(['entities', 'document', 'token', 'ner', 'embeddings', 'sentence'])"
      ]
     },
     "execution_count": 11,
     "metadata": {
      "tags": []
     },
     "output_type": "execute_result"
    }
   ],
   "source": [
    "ppres = pipeline.fullAnnotate(example)[0]\n",
    "ppres.keys()"
   ]
  },
  {
   "cell_type": "code",
   "execution_count": 12,
   "metadata": {
    "colab": {
     "base_uri": "https://localhost:8080/",
     "height": 264
    },
    "id": "lycK0jxNzImE",
    "outputId": "8acdd31b-1ddc-4a49-f58c-8d59eb98ede5"
   },
   "outputs": [
    {
     "name": "stdout",
     "output_type": "stream",
     "text": [
      "Standard Output\n"
     ]
    },
    {
     "data": {
      "text/html": [
       "\n",
       "<style>\n",
       "    @import url('https://fonts.googleapis.com/css2?family=Montserrat:wght@300;400;500;600;700&display=swap');\n",
       "    @import url('https://fonts.googleapis.com/css2?family=Vistol Regular:wght@300;400;500;600;700&display=swap');\n",
       "    \n",
       "    .spark-nlp-display-scroll-entities {\n",
       "        border: 1px solid #E7EDF0;\n",
       "        border-radius: 3px;\n",
       "        text-align: justify;\n",
       "        \n",
       "    }\n",
       "    .spark-nlp-display-scroll-entities span {  \n",
       "        font-size: 14px;\n",
       "        line-height: 24px;\n",
       "        color: #536B76;\n",
       "        font-family: 'Montserrat', sans-serif !important;\n",
       "    }\n",
       "    \n",
       "    .spark-nlp-display-entity-wrapper{\n",
       "    \n",
       "        display: inline-grid;\n",
       "        text-align: center;\n",
       "        border-radius: 4px;\n",
       "        margin: 0 2px 5px 2px;\n",
       "        padding: 1px\n",
       "    }\n",
       "    .spark-nlp-display-entity-name{\n",
       "        font-size: 14px;\n",
       "        line-height: 24px;\n",
       "        font-family: 'Montserrat', sans-serif !important;\n",
       "        \n",
       "        background: #f1f2f3;\n",
       "        border-width: medium;\n",
       "        text-align: center;\n",
       "        \n",
       "        font-weight: 400;\n",
       "        \n",
       "        border-radius: 5px;\n",
       "        padding: 2px 5px;\n",
       "        display: block;\n",
       "        margin: 3px 2px;\n",
       "    \n",
       "    }\n",
       "    .spark-nlp-display-entity-type{\n",
       "        font-size: 14px;\n",
       "        line-height: 24px;\n",
       "        color: #ffffff;\n",
       "        font-family: 'Montserrat', sans-serif !important;\n",
       "        \n",
       "        text-transform: uppercase;\n",
       "        \n",
       "        font-weight: 500;\n",
       "\n",
       "        display: block;\n",
       "        padding: 3px 5px;\n",
       "    }\n",
       "    \n",
       "    .spark-nlp-display-entity-resolution{\n",
       "        font-size: 14px;\n",
       "        line-height: 24px;\n",
       "        color: #ffffff;\n",
       "        font-family: 'Vistol Regular', sans-serif !important;\n",
       "        \n",
       "        text-transform: uppercase;\n",
       "        \n",
       "        font-weight: 500;\n",
       "\n",
       "        display: block;\n",
       "        padding: 3px 5px;\n",
       "    }\n",
       "    \n",
       "    .spark-nlp-display-others{\n",
       "        font-size: 14px;\n",
       "        line-height: 24px;\n",
       "        font-family: 'Montserrat', sans-serif !important;\n",
       "        \n",
       "        font-weight: 400;\n",
       "    }\n",
       "\n",
       "</style>\n",
       " <span class=\"spark-nlp-display-others\" style=\"background-color: white\">The </span><span class=\"spark-nlp-display-entity-wrapper\" style=\"background-color: #7FE5B2\"><span class=\"spark-nlp-display-entity-name\">Mona Lisa </span><span class=\"spark-nlp-display-entity-type\">PER</span></span><span class=\"spark-nlp-display-others\" style=\"background-color: white\"> is a 16th century oil painting created by </span><span class=\"spark-nlp-display-entity-wrapper\" style=\"background-color: #7FE5B2\"><span class=\"spark-nlp-display-entity-name\">Leonardo </span><span class=\"spark-nlp-display-entity-type\">PER</span></span><span class=\"spark-nlp-display-others\" style=\"background-color: white\">. It's held at the </span><span class=\"spark-nlp-display-entity-wrapper\" style=\"background-color: #71C1F8\"><span class=\"spark-nlp-display-entity-name\">Louvre </span><span class=\"spark-nlp-display-entity-type\">LOC</span></span><span class=\"spark-nlp-display-others\" style=\"background-color: white\"> in </span><span class=\"spark-nlp-display-entity-wrapper\" style=\"background-color: #71C1F8\"><span class=\"spark-nlp-display-entity-name\">Paris </span><span class=\"spark-nlp-display-entity-type\">LOC</span></span><span class=\"spark-nlp-display-others\" style=\"background-color: white\">.</span></div>"
      ],
      "text/plain": [
       "<IPython.core.display.HTML object>"
      ]
     },
     "metadata": {
      "tags": []
     },
     "output_type": "display_data"
    },
    {
     "data": {
      "text/html": [
       "\n",
       "<style>\n",
       "    @import url('https://fonts.googleapis.com/css2?family=Montserrat:wght@300;400;500;600;700&display=swap');\n",
       "    @import url('https://fonts.googleapis.com/css2?family=Vistol Regular:wght@300;400;500;600;700&display=swap');\n",
       "    \n",
       "    .spark-nlp-display-scroll-entities {\n",
       "        border: 1px solid #E7EDF0;\n",
       "        border-radius: 3px;\n",
       "        text-align: justify;\n",
       "        \n",
       "    }\n",
       "    .spark-nlp-display-scroll-entities span {  \n",
       "        font-size: 14px;\n",
       "        line-height: 24px;\n",
       "        color: #536B76;\n",
       "        font-family: 'Montserrat', sans-serif !important;\n",
       "    }\n",
       "    \n",
       "    .spark-nlp-display-entity-wrapper{\n",
       "    \n",
       "        display: inline-grid;\n",
       "        text-align: center;\n",
       "        border-radius: 4px;\n",
       "        margin: 0 2px 5px 2px;\n",
       "        padding: 1px\n",
       "    }\n",
       "    .spark-nlp-display-entity-name{\n",
       "        font-size: 14px;\n",
       "        line-height: 24px;\n",
       "        font-family: 'Montserrat', sans-serif !important;\n",
       "        \n",
       "        background: #f1f2f3;\n",
       "        border-width: medium;\n",
       "        text-align: center;\n",
       "        \n",
       "        font-weight: 400;\n",
       "        \n",
       "        border-radius: 5px;\n",
       "        padding: 2px 5px;\n",
       "        display: block;\n",
       "        margin: 3px 2px;\n",
       "    \n",
       "    }\n",
       "    .spark-nlp-display-entity-type{\n",
       "        font-size: 14px;\n",
       "        line-height: 24px;\n",
       "        color: #ffffff;\n",
       "        font-family: 'Montserrat', sans-serif !important;\n",
       "        \n",
       "        text-transform: uppercase;\n",
       "        \n",
       "        font-weight: 500;\n",
       "\n",
       "        display: block;\n",
       "        padding: 3px 5px;\n",
       "    }\n",
       "    \n",
       "    .spark-nlp-display-entity-resolution{\n",
       "        font-size: 14px;\n",
       "        line-height: 24px;\n",
       "        color: #ffffff;\n",
       "        font-family: 'Vistol Regular', sans-serif !important;\n",
       "        \n",
       "        text-transform: uppercase;\n",
       "        \n",
       "        font-weight: 500;\n",
       "\n",
       "        display: block;\n",
       "        padding: 3px 5px;\n",
       "    }\n",
       "    \n",
       "    .spark-nlp-display-others{\n",
       "        font-size: 14px;\n",
       "        line-height: 24px;\n",
       "        font-family: 'Montserrat', sans-serif !important;\n",
       "        \n",
       "        font-weight: 400;\n",
       "    }\n",
       "\n",
       "</style>\n",
       " <span class=\"spark-nlp-display-others\" style=\"background-color: white\">The </span><span class=\"spark-nlp-display-entity-wrapper\" style=\"background-color: #800080\"><span class=\"spark-nlp-display-entity-name\">Mona Lisa </span><span class=\"spark-nlp-display-entity-type\">PER</span></span><span class=\"spark-nlp-display-others\" style=\"background-color: white\"> is a 16th century oil painting created by </span><span class=\"spark-nlp-display-entity-wrapper\" style=\"background-color: #800080\"><span class=\"spark-nlp-display-entity-name\">Leonardo </span><span class=\"spark-nlp-display-entity-type\">PER</span></span><span class=\"spark-nlp-display-others\" style=\"background-color: white\">. It's held at the </span><span class=\"spark-nlp-display-entity-wrapper\" style=\"background-color: #008080\"><span class=\"spark-nlp-display-entity-name\">Louvre </span><span class=\"spark-nlp-display-entity-type\">LOC</span></span><span class=\"spark-nlp-display-others\" style=\"background-color: white\"> in </span><span class=\"spark-nlp-display-entity-wrapper\" style=\"background-color: #008080\"><span class=\"spark-nlp-display-entity-name\">Paris </span><span class=\"spark-nlp-display-entity-type\">LOC</span></span><span class=\"spark-nlp-display-others\" style=\"background-color: white\">.</span></div>"
      ],
      "text/plain": [
       "<IPython.core.display.HTML object>"
      ]
     },
     "metadata": {
      "tags": []
     },
     "output_type": "display_data"
    },
    {
     "data": {
      "text/html": [
       "\n",
       "<style>\n",
       "    @import url('https://fonts.googleapis.com/css2?family=Montserrat:wght@300;400;500;600;700&display=swap');\n",
       "    @import url('https://fonts.googleapis.com/css2?family=Vistol Regular:wght@300;400;500;600;700&display=swap');\n",
       "    \n",
       "    .spark-nlp-display-scroll-entities {\n",
       "        border: 1px solid #E7EDF0;\n",
       "        border-radius: 3px;\n",
       "        text-align: justify;\n",
       "        \n",
       "    }\n",
       "    .spark-nlp-display-scroll-entities span {  \n",
       "        font-size: 14px;\n",
       "        line-height: 24px;\n",
       "        color: #536B76;\n",
       "        font-family: 'Montserrat', sans-serif !important;\n",
       "    }\n",
       "    \n",
       "    .spark-nlp-display-entity-wrapper{\n",
       "    \n",
       "        display: inline-grid;\n",
       "        text-align: center;\n",
       "        border-radius: 4px;\n",
       "        margin: 0 2px 5px 2px;\n",
       "        padding: 1px\n",
       "    }\n",
       "    .spark-nlp-display-entity-name{\n",
       "        font-size: 14px;\n",
       "        line-height: 24px;\n",
       "        font-family: 'Montserrat', sans-serif !important;\n",
       "        \n",
       "        background: #f1f2f3;\n",
       "        border-width: medium;\n",
       "        text-align: center;\n",
       "        \n",
       "        font-weight: 400;\n",
       "        \n",
       "        border-radius: 5px;\n",
       "        padding: 2px 5px;\n",
       "        display: block;\n",
       "        margin: 3px 2px;\n",
       "    \n",
       "    }\n",
       "    .spark-nlp-display-entity-type{\n",
       "        font-size: 14px;\n",
       "        line-height: 24px;\n",
       "        color: #ffffff;\n",
       "        font-family: 'Montserrat', sans-serif !important;\n",
       "        \n",
       "        text-transform: uppercase;\n",
       "        \n",
       "        font-weight: 500;\n",
       "\n",
       "        display: block;\n",
       "        padding: 3px 5px;\n",
       "    }\n",
       "    \n",
       "    .spark-nlp-display-entity-resolution{\n",
       "        font-size: 14px;\n",
       "        line-height: 24px;\n",
       "        color: #ffffff;\n",
       "        font-family: 'Vistol Regular', sans-serif !important;\n",
       "        \n",
       "        text-transform: uppercase;\n",
       "        \n",
       "        font-weight: 500;\n",
       "\n",
       "        display: block;\n",
       "        padding: 3px 5px;\n",
       "    }\n",
       "    \n",
       "    .spark-nlp-display-others{\n",
       "        font-size: 14px;\n",
       "        line-height: 24px;\n",
       "        font-family: 'Montserrat', sans-serif !important;\n",
       "        \n",
       "        font-weight: 400;\n",
       "    }\n",
       "\n",
       "</style>\n",
       " <span class=\"spark-nlp-display-others\" style=\"background-color: white\">The </span><span class=\"spark-nlp-display-entity-wrapper\" style=\"background-color: #800080\"><span class=\"spark-nlp-display-entity-name\">Mona Lisa </span><span class=\"spark-nlp-display-entity-type\">PER</span></span><span class=\"spark-nlp-display-others\" style=\"background-color: white\"> is a 16th century oil painting created by </span><span class=\"spark-nlp-display-entity-wrapper\" style=\"background-color: #800080\"><span class=\"spark-nlp-display-entity-name\">Leonardo </span><span class=\"spark-nlp-display-entity-type\">PER</span></span><span class=\"spark-nlp-display-others\" style=\"background-color: white\">. It's held at the </span><span class=\"spark-nlp-display-others\" style=\"background-color: white\">Louvre</span><span class=\"spark-nlp-display-others\" style=\"background-color: white\"> in </span><span class=\"spark-nlp-display-others\" style=\"background-color: white\">Paris</span><span class=\"spark-nlp-display-others\" style=\"background-color: white\">.</span></div>"
      ],
      "text/plain": [
       "<IPython.core.display.HTML object>"
      ]
     },
     "metadata": {
      "tags": []
     },
     "output_type": "display_data"
    },
    {
     "name": "stdout",
     "output_type": "stream",
     "text": [
      "color code for label \"LOC\": #008080\n"
     ]
    }
   ],
   "source": [
    "from sparknlp_display import NerVisualizer\n",
    "visualiser = NerVisualizer()\n",
    "print ('Standard Output')\n",
    "visualiser.display(ppres, label_col='entities', document_col='document')\n",
    "\n",
    "# Change color of an entity label\n",
    "visualiser.set_label_colors({'LOC':'#008080', 'PER':'#800080'})\n",
    "visualiser.display(ppres, label_col='entities')\n",
    "\n",
    "# Set label filter\n",
    "visualiser.display(ppres, label_col='entities', document_col='document',\n",
    "                   labels=['PER'])\n",
    "\n",
    "print ('color code for label \"LOC\": ' + visualiser.get_label_color('LOC'))"
   ]
  },
  {
   "cell_type": "markdown",
   "metadata": {
    "id": "AVoBwlVJyuM-"
   },
   "source": [
    "### New Pipeline"
   ]
  },
  {
   "cell_type": "code",
   "execution_count": 13,
   "metadata": {
    "colab": {
     "base_uri": "https://localhost:8080/"
    },
    "id": "m2CYYQI6yh1s",
    "outputId": "dda3faa9-9f77-4317-8116-ddca6cb6b285"
   },
   "outputs": [
    {
     "name": "stdout",
     "output_type": "stream",
     "text": [
      "glove_100d download started this may take some time.\n",
      "Approximate size to download 145.3 MB\n",
      "[OK!]\n",
      "ner_dl download started this may take some time.\n",
      "Approximate size to download 13.6 MB\n",
      "[OK!]\n"
     ]
    }
   ],
   "source": [
    "\n",
    "documentAssembler = DocumentAssembler()\\\n",
    "    .setInputCol(\"text\")\\\n",
    "    .setOutputCol(\"document\")\n",
    "\n",
    "tokenizer = Tokenizer() \\\n",
    "    .setInputCols([\"document\"]) \\\n",
    "    .setOutputCol(\"token\")\n",
    "\n",
    "embeddings = WordEmbeddingsModel.pretrained('glove_100d').\\\n",
    "                  setInputCols([\"document\", 'token']).\\\n",
    "                  setOutputCol(\"embeddings\")\n",
    "\n",
    "public_ner = NerDLModel.pretrained('ner_dl', 'en') \\\n",
    "          .setInputCols([\"document\", \"token\", \"embeddings\"]) \\\n",
    "          .setOutputCol(\"ner\")\n",
    "\n",
    "ner_converter = NerConverter() \\\n",
    "                .setInputCols([\"document\", \"token\", \"ner\"]) \\\n",
    "                  .setOutputCol(\"entities\")\n",
    "\n",
    "nlpPipeline = Pipeline(stages=[ documentAssembler, \n",
    "                                 tokenizer,\n",
    "                                 embeddings,\n",
    "                                 public_ner,\n",
    "                                 ner_converter\n",
    "                                 ])\n",
    "\n",
    "empty_df = spark.createDataFrame([['']]).toDF(\"text\")\n",
    "\n",
    "pipelineModel = nlpPipeline.fit(empty_df)\n",
    "lmodel = LightPipeline(pipelineModel)"
   ]
  },
  {
   "cell_type": "markdown",
   "metadata": {
    "id": "zkAmPZmy0yBn"
   },
   "source": [
    "#### **Display using Light Pipeline results**"
   ]
  },
  {
   "cell_type": "code",
   "execution_count": 14,
   "metadata": {
    "colab": {
     "base_uri": "https://localhost:8080/"
    },
    "id": "-3WoSCJ3zB6Q",
    "outputId": "a735bbd9-d49e-45fb-f828-87ecb4f449b8"
   },
   "outputs": [
    {
     "data": {
      "text/plain": [
       "dict_keys(['entities', 'document', 'token', 'ner', 'embeddings'])"
      ]
     },
     "execution_count": 14,
     "metadata": {
      "tags": []
     },
     "output_type": "execute_result"
    }
   ],
   "source": [
    "cpres = lmodel.fullAnnotate(example)[0]\n",
    "cpres.keys()"
   ]
  },
  {
   "cell_type": "code",
   "execution_count": 15,
   "metadata": {
    "colab": {
     "base_uri": "https://localhost:8080/",
     "height": 247
    },
    "id": "ht9vlfcYzGqx",
    "outputId": "40986f5a-9d8d-41ae-addd-ed0d1076f48c"
   },
   "outputs": [
    {
     "name": "stdout",
     "output_type": "stream",
     "text": [
      "Standard Output\n"
     ]
    },
    {
     "data": {
      "text/html": [
       "\n",
       "<style>\n",
       "    @import url('https://fonts.googleapis.com/css2?family=Montserrat:wght@300;400;500;600;700&display=swap');\n",
       "    @import url('https://fonts.googleapis.com/css2?family=Vistol Regular:wght@300;400;500;600;700&display=swap');\n",
       "    \n",
       "    .spark-nlp-display-scroll-entities {\n",
       "        border: 1px solid #E7EDF0;\n",
       "        border-radius: 3px;\n",
       "        text-align: justify;\n",
       "        \n",
       "    }\n",
       "    .spark-nlp-display-scroll-entities span {  \n",
       "        font-size: 14px;\n",
       "        line-height: 24px;\n",
       "        color: #536B76;\n",
       "        font-family: 'Montserrat', sans-serif !important;\n",
       "    }\n",
       "    \n",
       "    .spark-nlp-display-entity-wrapper{\n",
       "    \n",
       "        display: inline-grid;\n",
       "        text-align: center;\n",
       "        border-radius: 4px;\n",
       "        margin: 0 2px 5px 2px;\n",
       "        padding: 1px\n",
       "    }\n",
       "    .spark-nlp-display-entity-name{\n",
       "        font-size: 14px;\n",
       "        line-height: 24px;\n",
       "        font-family: 'Montserrat', sans-serif !important;\n",
       "        \n",
       "        background: #f1f2f3;\n",
       "        border-width: medium;\n",
       "        text-align: center;\n",
       "        \n",
       "        font-weight: 400;\n",
       "        \n",
       "        border-radius: 5px;\n",
       "        padding: 2px 5px;\n",
       "        display: block;\n",
       "        margin: 3px 2px;\n",
       "    \n",
       "    }\n",
       "    .spark-nlp-display-entity-type{\n",
       "        font-size: 14px;\n",
       "        line-height: 24px;\n",
       "        color: #ffffff;\n",
       "        font-family: 'Montserrat', sans-serif !important;\n",
       "        \n",
       "        text-transform: uppercase;\n",
       "        \n",
       "        font-weight: 500;\n",
       "\n",
       "        display: block;\n",
       "        padding: 3px 5px;\n",
       "    }\n",
       "    \n",
       "    .spark-nlp-display-entity-resolution{\n",
       "        font-size: 14px;\n",
       "        line-height: 24px;\n",
       "        color: #ffffff;\n",
       "        font-family: 'Vistol Regular', sans-serif !important;\n",
       "        \n",
       "        text-transform: uppercase;\n",
       "        \n",
       "        font-weight: 500;\n",
       "\n",
       "        display: block;\n",
       "        padding: 3px 5px;\n",
       "    }\n",
       "    \n",
       "    .spark-nlp-display-others{\n",
       "        font-size: 14px;\n",
       "        line-height: 24px;\n",
       "        font-family: 'Montserrat', sans-serif !important;\n",
       "        \n",
       "        font-weight: 400;\n",
       "    }\n",
       "\n",
       "</style>\n",
       " <span class=\"spark-nlp-display-others\" style=\"background-color: white\">The </span><span class=\"spark-nlp-display-entity-wrapper\" style=\"background-color: #F886C4\"><span class=\"spark-nlp-display-entity-name\">Mona Lisa </span><span class=\"spark-nlp-display-entity-type\">PER</span></span><span class=\"spark-nlp-display-others\" style=\"background-color: white\"> is a 16th century oil painting created by </span><span class=\"spark-nlp-display-entity-wrapper\" style=\"background-color: #F886C4\"><span class=\"spark-nlp-display-entity-name\">Leonardo </span><span class=\"spark-nlp-display-entity-type\">PER</span></span><span class=\"spark-nlp-display-others\" style=\"background-color: white\">. It's held at the </span><span class=\"spark-nlp-display-entity-wrapper\" style=\"background-color: #EC65C4\"><span class=\"spark-nlp-display-entity-name\">Louvre </span><span class=\"spark-nlp-display-entity-type\">LOC</span></span><span class=\"spark-nlp-display-others\" style=\"background-color: white\"> in </span><span class=\"spark-nlp-display-entity-wrapper\" style=\"background-color: #EC65C4\"><span class=\"spark-nlp-display-entity-name\">Paris </span><span class=\"spark-nlp-display-entity-type\">LOC</span></span><span class=\"spark-nlp-display-others\" style=\"background-color: white\">.</span></div>"
      ],
      "text/plain": [
       "<IPython.core.display.HTML object>"
      ]
     },
     "metadata": {
      "tags": []
     },
     "output_type": "display_data"
    },
    {
     "data": {
      "text/html": [
       "\n",
       "<style>\n",
       "    @import url('https://fonts.googleapis.com/css2?family=Montserrat:wght@300;400;500;600;700&display=swap');\n",
       "    @import url('https://fonts.googleapis.com/css2?family=Vistol Regular:wght@300;400;500;600;700&display=swap');\n",
       "    \n",
       "    .spark-nlp-display-scroll-entities {\n",
       "        border: 1px solid #E7EDF0;\n",
       "        border-radius: 3px;\n",
       "        text-align: justify;\n",
       "        \n",
       "    }\n",
       "    .spark-nlp-display-scroll-entities span {  \n",
       "        font-size: 14px;\n",
       "        line-height: 24px;\n",
       "        color: #536B76;\n",
       "        font-family: 'Montserrat', sans-serif !important;\n",
       "    }\n",
       "    \n",
       "    .spark-nlp-display-entity-wrapper{\n",
       "    \n",
       "        display: inline-grid;\n",
       "        text-align: center;\n",
       "        border-radius: 4px;\n",
       "        margin: 0 2px 5px 2px;\n",
       "        padding: 1px\n",
       "    }\n",
       "    .spark-nlp-display-entity-name{\n",
       "        font-size: 14px;\n",
       "        line-height: 24px;\n",
       "        font-family: 'Montserrat', sans-serif !important;\n",
       "        \n",
       "        background: #f1f2f3;\n",
       "        border-width: medium;\n",
       "        text-align: center;\n",
       "        \n",
       "        font-weight: 400;\n",
       "        \n",
       "        border-radius: 5px;\n",
       "        padding: 2px 5px;\n",
       "        display: block;\n",
       "        margin: 3px 2px;\n",
       "    \n",
       "    }\n",
       "    .spark-nlp-display-entity-type{\n",
       "        font-size: 14px;\n",
       "        line-height: 24px;\n",
       "        color: #ffffff;\n",
       "        font-family: 'Montserrat', sans-serif !important;\n",
       "        \n",
       "        text-transform: uppercase;\n",
       "        \n",
       "        font-weight: 500;\n",
       "\n",
       "        display: block;\n",
       "        padding: 3px 5px;\n",
       "    }\n",
       "    \n",
       "    .spark-nlp-display-entity-resolution{\n",
       "        font-size: 14px;\n",
       "        line-height: 24px;\n",
       "        color: #ffffff;\n",
       "        font-family: 'Vistol Regular', sans-serif !important;\n",
       "        \n",
       "        text-transform: uppercase;\n",
       "        \n",
       "        font-weight: 500;\n",
       "\n",
       "        display: block;\n",
       "        padding: 3px 5px;\n",
       "    }\n",
       "    \n",
       "    .spark-nlp-display-others{\n",
       "        font-size: 14px;\n",
       "        line-height: 24px;\n",
       "        font-family: 'Montserrat', sans-serif !important;\n",
       "        \n",
       "        font-weight: 400;\n",
       "    }\n",
       "\n",
       "</style>\n",
       " <span class=\"spark-nlp-display-others\" style=\"background-color: white\">The </span><span class=\"spark-nlp-display-entity-wrapper\" style=\"background-color: #800080\"><span class=\"spark-nlp-display-entity-name\">Mona Lisa </span><span class=\"spark-nlp-display-entity-type\">PER</span></span><span class=\"spark-nlp-display-others\" style=\"background-color: white\"> is a 16th century oil painting created by </span><span class=\"spark-nlp-display-entity-wrapper\" style=\"background-color: #800080\"><span class=\"spark-nlp-display-entity-name\">Leonardo </span><span class=\"spark-nlp-display-entity-type\">PER</span></span><span class=\"spark-nlp-display-others\" style=\"background-color: white\">. It's held at the </span><span class=\"spark-nlp-display-entity-wrapper\" style=\"background-color: #008080\"><span class=\"spark-nlp-display-entity-name\">Louvre </span><span class=\"spark-nlp-display-entity-type\">LOC</span></span><span class=\"spark-nlp-display-others\" style=\"background-color: white\"> in </span><span class=\"spark-nlp-display-entity-wrapper\" style=\"background-color: #008080\"><span class=\"spark-nlp-display-entity-name\">Paris </span><span class=\"spark-nlp-display-entity-type\">LOC</span></span><span class=\"spark-nlp-display-others\" style=\"background-color: white\">.</span></div>"
      ],
      "text/plain": [
       "<IPython.core.display.HTML object>"
      ]
     },
     "metadata": {
      "tags": []
     },
     "output_type": "display_data"
    },
    {
     "data": {
      "text/html": [
       "\n",
       "<style>\n",
       "    @import url('https://fonts.googleapis.com/css2?family=Montserrat:wght@300;400;500;600;700&display=swap');\n",
       "    @import url('https://fonts.googleapis.com/css2?family=Vistol Regular:wght@300;400;500;600;700&display=swap');\n",
       "    \n",
       "    .spark-nlp-display-scroll-entities {\n",
       "        border: 1px solid #E7EDF0;\n",
       "        border-radius: 3px;\n",
       "        text-align: justify;\n",
       "        \n",
       "    }\n",
       "    .spark-nlp-display-scroll-entities span {  \n",
       "        font-size: 14px;\n",
       "        line-height: 24px;\n",
       "        color: #536B76;\n",
       "        font-family: 'Montserrat', sans-serif !important;\n",
       "    }\n",
       "    \n",
       "    .spark-nlp-display-entity-wrapper{\n",
       "    \n",
       "        display: inline-grid;\n",
       "        text-align: center;\n",
       "        border-radius: 4px;\n",
       "        margin: 0 2px 5px 2px;\n",
       "        padding: 1px\n",
       "    }\n",
       "    .spark-nlp-display-entity-name{\n",
       "        font-size: 14px;\n",
       "        line-height: 24px;\n",
       "        font-family: 'Montserrat', sans-serif !important;\n",
       "        \n",
       "        background: #f1f2f3;\n",
       "        border-width: medium;\n",
       "        text-align: center;\n",
       "        \n",
       "        font-weight: 400;\n",
       "        \n",
       "        border-radius: 5px;\n",
       "        padding: 2px 5px;\n",
       "        display: block;\n",
       "        margin: 3px 2px;\n",
       "    \n",
       "    }\n",
       "    .spark-nlp-display-entity-type{\n",
       "        font-size: 14px;\n",
       "        line-height: 24px;\n",
       "        color: #ffffff;\n",
       "        font-family: 'Montserrat', sans-serif !important;\n",
       "        \n",
       "        text-transform: uppercase;\n",
       "        \n",
       "        font-weight: 500;\n",
       "\n",
       "        display: block;\n",
       "        padding: 3px 5px;\n",
       "    }\n",
       "    \n",
       "    .spark-nlp-display-entity-resolution{\n",
       "        font-size: 14px;\n",
       "        line-height: 24px;\n",
       "        color: #ffffff;\n",
       "        font-family: 'Vistol Regular', sans-serif !important;\n",
       "        \n",
       "        text-transform: uppercase;\n",
       "        \n",
       "        font-weight: 500;\n",
       "\n",
       "        display: block;\n",
       "        padding: 3px 5px;\n",
       "    }\n",
       "    \n",
       "    .spark-nlp-display-others{\n",
       "        font-size: 14px;\n",
       "        line-height: 24px;\n",
       "        font-family: 'Montserrat', sans-serif !important;\n",
       "        \n",
       "        font-weight: 400;\n",
       "    }\n",
       "\n",
       "</style>\n",
       " <span class=\"spark-nlp-display-others\" style=\"background-color: white\">The </span><span class=\"spark-nlp-display-entity-wrapper\" style=\"background-color: #800080\"><span class=\"spark-nlp-display-entity-name\">Mona Lisa </span><span class=\"spark-nlp-display-entity-type\">PER</span></span><span class=\"spark-nlp-display-others\" style=\"background-color: white\"> is a 16th century oil painting created by </span><span class=\"spark-nlp-display-entity-wrapper\" style=\"background-color: #800080\"><span class=\"spark-nlp-display-entity-name\">Leonardo </span><span class=\"spark-nlp-display-entity-type\">PER</span></span><span class=\"spark-nlp-display-others\" style=\"background-color: white\">. It's held at the </span><span class=\"spark-nlp-display-others\" style=\"background-color: white\">Louvre</span><span class=\"spark-nlp-display-others\" style=\"background-color: white\"> in </span><span class=\"spark-nlp-display-others\" style=\"background-color: white\">Paris</span><span class=\"spark-nlp-display-others\" style=\"background-color: white\">.</span></div>"
      ],
      "text/plain": [
       "<IPython.core.display.HTML object>"
      ]
     },
     "metadata": {
      "tags": []
     },
     "output_type": "display_data"
    }
   ],
   "source": [
    "from sparknlp_display import NerVisualizer\n",
    "visualiser = NerVisualizer()\n",
    "print ('Standard Output')\n",
    "visualiser.display(ppres, label_col='entities', document_col='document')\n",
    "\n",
    "# Change color of an entity label\n",
    "visualiser.set_label_colors({'LOC':'#008080', 'PER':'#800080'})\n",
    "visualiser.display(ppres, label_col='entities')\n",
    "\n",
    "# Set label filter\n",
    "visualiser.display(ppres, label_col='entities', document_col='document',\n",
    "                   labels=['PER'])"
   ]
  },
  {
   "cell_type": "markdown",
   "metadata": {
    "id": "9uD5lGDx012t"
   },
   "source": [
    "#### **Display using Full Pipeline results**"
   ]
  },
  {
   "cell_type": "code",
   "execution_count": 16,
   "metadata": {
    "id": "k41B3NEw1G-j"
   },
   "outputs": [],
   "source": [
    "cpres_f = pipelineModel.transform(spark.createDataFrame(pd.DataFrame({'text':example})))\n",
    "cpres_f = cpres_f.collect()[0]\n",
    "#cpres_f.keys()"
   ]
  },
  {
   "cell_type": "code",
   "execution_count": 17,
   "metadata": {
    "colab": {
     "base_uri": "https://localhost:8080/",
     "height": 88
    },
    "id": "W5flm9TV5HPI",
    "outputId": "e5c21adc-f9b0-46c2-f76d-cbbd82ab618a"
   },
   "outputs": [
    {
     "data": {
      "text/html": [
       "\n",
       "<style>\n",
       "    @import url('https://fonts.googleapis.com/css2?family=Montserrat:wght@300;400;500;600;700&display=swap');\n",
       "    @import url('https://fonts.googleapis.com/css2?family=Vistol Regular:wght@300;400;500;600;700&display=swap');\n",
       "    \n",
       "    .spark-nlp-display-scroll-entities {\n",
       "        border: 1px solid #E7EDF0;\n",
       "        border-radius: 3px;\n",
       "        text-align: justify;\n",
       "        \n",
       "    }\n",
       "    .spark-nlp-display-scroll-entities span {  \n",
       "        font-size: 14px;\n",
       "        line-height: 24px;\n",
       "        color: #536B76;\n",
       "        font-family: 'Montserrat', sans-serif !important;\n",
       "    }\n",
       "    \n",
       "    .spark-nlp-display-entity-wrapper{\n",
       "    \n",
       "        display: inline-grid;\n",
       "        text-align: center;\n",
       "        border-radius: 4px;\n",
       "        margin: 0 2px 5px 2px;\n",
       "        padding: 1px\n",
       "    }\n",
       "    .spark-nlp-display-entity-name{\n",
       "        font-size: 14px;\n",
       "        line-height: 24px;\n",
       "        font-family: 'Montserrat', sans-serif !important;\n",
       "        \n",
       "        background: #f1f2f3;\n",
       "        border-width: medium;\n",
       "        text-align: center;\n",
       "        \n",
       "        font-weight: 400;\n",
       "        \n",
       "        border-radius: 5px;\n",
       "        padding: 2px 5px;\n",
       "        display: block;\n",
       "        margin: 3px 2px;\n",
       "    \n",
       "    }\n",
       "    .spark-nlp-display-entity-type{\n",
       "        font-size: 14px;\n",
       "        line-height: 24px;\n",
       "        color: #ffffff;\n",
       "        font-family: 'Montserrat', sans-serif !important;\n",
       "        \n",
       "        text-transform: uppercase;\n",
       "        \n",
       "        font-weight: 500;\n",
       "\n",
       "        display: block;\n",
       "        padding: 3px 5px;\n",
       "    }\n",
       "    \n",
       "    .spark-nlp-display-entity-resolution{\n",
       "        font-size: 14px;\n",
       "        line-height: 24px;\n",
       "        color: #ffffff;\n",
       "        font-family: 'Vistol Regular', sans-serif !important;\n",
       "        \n",
       "        text-transform: uppercase;\n",
       "        \n",
       "        font-weight: 500;\n",
       "\n",
       "        display: block;\n",
       "        padding: 3px 5px;\n",
       "    }\n",
       "    \n",
       "    .spark-nlp-display-others{\n",
       "        font-size: 14px;\n",
       "        line-height: 24px;\n",
       "        font-family: 'Montserrat', sans-serif !important;\n",
       "        \n",
       "        font-weight: 400;\n",
       "    }\n",
       "\n",
       "</style>\n",
       " <span class=\"spark-nlp-display-others\" style=\"background-color: white\">The </span><span class=\"spark-nlp-display-entity-wrapper\" style=\"background-color: #800080\"><span class=\"spark-nlp-display-entity-name\">Mona Lisa </span><span class=\"spark-nlp-display-entity-type\">PER</span></span><span class=\"spark-nlp-display-others\" style=\"background-color: white\"> is a 16th century oil painting created by </span><span class=\"spark-nlp-display-entity-wrapper\" style=\"background-color: #800080\"><span class=\"spark-nlp-display-entity-name\">Leonardo </span><span class=\"spark-nlp-display-entity-type\">PER</span></span><span class=\"spark-nlp-display-others\" style=\"background-color: white\">. </span><span class=\"spark-nlp-display-entity-wrapper\" style=\"background-color: #800080\"><span class=\"spark-nlp-display-entity-name\">It's </span><span class=\"spark-nlp-display-entity-type\">PER</span></span><span class=\"spark-nlp-display-others\" style=\"background-color: white\"> held at the </span><span class=\"spark-nlp-display-entity-wrapper\" style=\"background-color: #008080\"><span class=\"spark-nlp-display-entity-name\">Louvre </span><span class=\"spark-nlp-display-entity-type\">LOC</span></span><span class=\"spark-nlp-display-others\" style=\"background-color: white\"> in </span><span class=\"spark-nlp-display-entity-wrapper\" style=\"background-color: #008080\"><span class=\"spark-nlp-display-entity-name\">Paris </span><span class=\"spark-nlp-display-entity-type\">LOC</span></span><span class=\"spark-nlp-display-others\" style=\"background-color: white\">.</span></div>"
      ],
      "text/plain": [
       "<IPython.core.display.HTML object>"
      ]
     },
     "metadata": {
      "tags": []
     },
     "output_type": "display_data"
    }
   ],
   "source": [
    "visualiser.display(cpres_f, label_col='entities', document_col='document')"
   ]
  },
  {
   "cell_type": "markdown",
   "metadata": {
    "id": "3CwVx_r00-OA"
   },
   "source": [
    "# **Relation Extraction Visualisation**"
   ]
  },
  {
   "cell_type": "code",
   "execution_count": 18,
   "metadata": {
    "colab": {
     "base_uri": "https://localhost:8080/"
    },
    "id": "hUVa2TXn1PaY",
    "outputId": "c6152a90-9093-4d44-8c63-b1f4ddfd3a09"
   },
   "outputs": [
    {
     "name": "stdout",
     "output_type": "stream",
     "text": [
      "pos_clinical download started this may take some time.\n",
      "Approximate size to download 1.7 MB\n",
      "[OK!]\n",
      "dependency_conllu download started this may take some time.\n",
      "Approximate size to download 16.6 MB\n",
      "[OK!]\n",
      "embeddings_clinical download started this may take some time.\n",
      "Approximate size to download 1.6 GB\n",
      "[OK!]\n",
      "ner_clinical download started this may take some time.\n",
      "Approximate size to download 13.8 MB\n",
      "[OK!]\n",
      "re_clinical download started this may take some time.\n",
      "Approximate size to download 6 MB\n",
      "[OK!]\n"
     ]
    }
   ],
   "source": [
    "document_assembler = DocumentAssembler() \\\n",
    "    .setInputCol('text')\\\n",
    "    .setOutputCol('document')\n",
    "\n",
    "sentence_detector = SentenceDetector() \\\n",
    "    .setInputCols(['document'])\\\n",
    "    .setOutputCol('sentences')\n",
    "\n",
    "tokenizer = Tokenizer()\\\n",
    "    .setInputCols(['sentences']) \\\n",
    "    .setOutputCol('tokens')\n",
    "\n",
    "pos_tagger = PerceptronModel()\\\n",
    "    .pretrained(\"pos_clinical\", \"en\", \"clinical/models\") \\\n",
    "    .setInputCols([\"sentences\", \"tokens\"])\\\n",
    "    .setOutputCol(\"pos_tags\")\n",
    "\n",
    "dependency_parser = DependencyParserModel()\\\n",
    "    .pretrained(\"dependency_conllu\", \"en\")\\\n",
    "    .setInputCols([\"sentences\", \"pos_tags\", \"tokens\"])\\\n",
    "    .setOutputCol(\"dependencies\")\n",
    "\n",
    "embeddings = WordEmbeddingsModel.pretrained('embeddings_clinical', 'en', 'clinical/models')\\\n",
    "    .setInputCols([\"sentences\", \"tokens\"])\\\n",
    "    .setOutputCol(\"embeddings\")\n",
    "\n",
    "posology_ner_model = NerDLModel().pretrained('ner_clinical', 'en', 'clinical/models')\\\n",
    "    .setInputCols(\"sentences\", \"tokens\", \"embeddings\")\\\n",
    "    .setOutputCol(\"ner_tags\")   \n",
    "\n",
    "ner_chunker = NerConverter()\\\n",
    "    .setInputCols([\"sentences\", \"tokens\", \"ner_tags\"])\\\n",
    "    .setOutputCol(\"ner_chunk\")\n",
    "\n",
    "posology_re_Model = RelationExtractionModel()\\\n",
    "    .pretrained(\"re_clinical\", \"en\", \"clinical/models\")\\\n",
    "    .setInputCols([\"embeddings\", \"pos_tags\", \"ner_chunk\", \"dependencies\"])\\\n",
    "    .setOutputCol(\"relations\")\\\n",
    "    .setMaxSyntacticDistance(7)\n",
    "    \n",
    "pipeline = Pipeline(stages=[\n",
    "    document_assembler, \n",
    "    sentence_detector,\n",
    "    tokenizer,\n",
    "    pos_tagger,\n",
    "    dependency_parser,\n",
    "    embeddings,\n",
    "    posology_ner_model,\n",
    "    ner_chunker,\n",
    "    posology_re_Model])\n",
    "\n",
    "empty_df = spark.createDataFrame([['']]).toDF(\"text\")\n",
    "pipelineModel = pipeline.fit(empty_df)\n",
    "\n",
    "lmodel = sparknlp.base.LightPipeline(pipelineModel)"
   ]
  },
  {
   "cell_type": "code",
   "execution_count": 19,
   "metadata": {
    "colab": {
     "base_uri": "https://localhost:8080/",
     "height": 1000
    },
    "id": "hvWWUS5l1Tky",
    "outputId": "37d347ca-e8d5-46ac-ee21-d64e05f1e9f1"
   },
   "outputs": [
    {
     "data": {
      "text/html": [
       "<svg baseProfile=\"tiny\" height=\"2058.4\" version=\"1.2\" width=\"920\" xmlns=\"http://www.w3.org/2000/svg\" xmlns:ev=\"http://www.w3.org/2001/xml-events\" xmlns:xlink=\"http://www.w3.org/1999/xlink\"><defs /><text fill=\"gray\" font-family=\"courier\" font-size=\"16\" x=\"10\" y=\"75\">This</text><text fill=\"gray\" font-family=\"courier\" font-size=\"16\" x=\"63.5\" y=\"75\">is</text><text fill=\"gray\" font-family=\"courier\" font-size=\"16\" x=\"97.6\" y=\"75\">the</text><text fill=\"gray\" font-family=\"courier\" font-size=\"16\" x=\"141.39999999999998\" y=\"75\">case</text><text fill=\"gray\" font-family=\"courier\" font-size=\"16\" x=\"194.89999999999998\" y=\"75\">of</text><text fill=\"gray\" font-family=\"courier\" font-size=\"16\" x=\"228.99999999999997\" y=\"75\">a</text><text fill=\"gray\" font-family=\"courier\" font-size=\"16\" x=\"253.39999999999998\" y=\"75\">very</text><text fill=\"gray\" font-family=\"courier\" font-size=\"16\" x=\"306.9\" y=\"75\">pleasant</text><text fill=\"gray\" font-family=\"courier\" font-size=\"16\" x=\"399.2\" y=\"75\">46-year-old</text><text fill=\"gray\" font-family=\"courier\" font-size=\"16\" x=\"520.6\" y=\"75\">Caucasian</text><text fill=\"gray\" font-family=\"courier\" font-size=\"16\" x=\"622.6\" y=\"75\">female,</text><text fill=\"gray\" font-family=\"courier\" font-size=\"16\" x=\"705.2\" y=\"75\">seen</text><text fill=\"gray\" font-family=\"courier\" font-size=\"16\" x=\"758.7\" y=\"75\">in</text><text fill=\"gray\" font-family=\"courier\" font-size=\"16\" x=\"792.8000000000001\" y=\"75\">clinic</text><text fill=\"gray\" font-family=\"courier\" font-size=\"16\" x=\"865.7\" y=\"75\">on</text><text fill=\"gray\" font-family=\"courier\" font-size=\"16\" x=\"10\" y=\"175\">12/11/07</text><text fill=\"gray\" font-family=\"courier\" font-size=\"16\" x=\"102.3\" y=\"175\">during</text><text fill=\"gray\" font-family=\"courier\" font-size=\"16\" x=\"175.2\" y=\"175\">which</text><text fill=\"gray\" font-family=\"courier\" font-size=\"16\" x=\"238.39999999999998\" y=\"175\" /><rect fill=\"none\" height=\"25\" rx=\"3\" ry=\"3\" stroke=\"#e6ccff\" stroke-width=\"2\" width=\"286.0\" x=\"250.1\" y=\"157\" /><text fill=\"gray\" font-family=\"courier\" font-size=\"16\" x=\"253.09999999999997\" y=\"175\">time MRI of the left shoulder</text><text fill=\"mediumseagreen\" font-family=\"courier\" font-size=\"12\" x=\"380.28181818181815\" y=\"195\">TEST</text><text fill=\"gray\" font-family=\"courier\" font-size=\"16\" x=\"559.0999999999999\" y=\"175\" /><text fill=\"gray\" font-family=\"courier\" font-size=\"16\" x=\"573.8\" y=\"175\">showed</text><text fill=\"gray\" font-family=\"courier\" font-size=\"16\" x=\"646.6999999999999\" y=\"175\">no</text><text fill=\"gray\" font-family=\"courier\" font-size=\"16\" x=\"680.8\" y=\"175\">evidence</text><text fill=\"gray\" font-family=\"courier\" font-size=\"16\" x=\"773.0999999999999\" y=\"175\">of</text><text fill=\"gray\" font-family=\"courier\" font-size=\"16\" x=\"807.1999999999999\" y=\"175\" /><rect fill=\"none\" height=\"25\" rx=\"3\" ry=\"3\" stroke=\"#cceeff\" stroke-width=\"2\" width=\"169.6\" x=\"7\" y=\"257\" /><text fill=\"gray\" font-family=\"courier\" font-size=\"16\" x=\"10\" y=\"275\">rotator cuff tear</text><text fill=\"mediumseagreen\" font-family=\"courier\" font-size=\"12\" x=\"68.4\" y=\"295\">PROBLEM</text><text fill=\"gray\" font-family=\"courier\" font-size=\"16\" x=\"199.6\" y=\"275\">.</text><text fill=\"gray\" font-family=\"courier\" font-size=\"16\" x=\"224.0\" y=\"275\">She</text><text fill=\"gray\" font-family=\"courier\" font-size=\"16\" x=\"267.8\" y=\"275\">did</text><text fill=\"gray\" font-family=\"courier\" font-size=\"16\" x=\"311.6\" y=\"275\">have</text><text fill=\"gray\" font-family=\"courier\" font-size=\"16\" x=\"365.1\" y=\"275\" /><rect fill=\"none\" height=\"25\" rx=\"3\" ry=\"3\" stroke=\"#e6ccff\" stroke-width=\"2\" width=\"353.9\" x=\"376.8\" y=\"257\" /><text fill=\"gray\" font-family=\"courier\" font-size=\"16\" x=\"379.8\" y=\"275\">a previous MRI of the cervical spine</text><text fill=\"mediumseagreen\" font-family=\"courier\" font-size=\"12\" x=\"540.9318181818181\" y=\"295\">TEST</text><text fill=\"gray\" font-family=\"courier\" font-size=\"16\" x=\"753.7\" y=\"275\" /><text fill=\"gray\" font-family=\"courier\" font-size=\"16\" x=\"768.4000000000001\" y=\"275\">that</text><text fill=\"gray\" font-family=\"courier\" font-size=\"16\" x=\"821.9000000000001\" y=\"275\">did</text><text fill=\"gray\" font-family=\"courier\" font-size=\"16\" x=\"865.7\" y=\"275\">show</text><text fill=\"gray\" font-family=\"courier\" font-size=\"16\" x=\"10\" y=\"375\" /><rect fill=\"none\" height=\"25\" rx=\"3\" ry=\"3\" stroke=\"#cceeff\" stroke-width=\"2\" width=\"363.6\" x=\"21.7\" y=\"357\" /><text fill=\"gray\" font-family=\"courier\" font-size=\"16\" x=\"24.7\" y=\"375\">an osteophyte on the left C6-C7 level</text><text fill=\"mediumseagreen\" font-family=\"courier\" font-size=\"12\" x=\"180.09999999999997\" y=\"395\">PROBLEM</text><text fill=\"gray\" font-family=\"courier\" font-size=\"16\" x=\"408.29999999999995\" y=\"375\">.</text><text fill=\"gray\" font-family=\"courier\" font-size=\"16\" x=\"432.69999999999993\" y=\"375\">Based</text><text fill=\"gray\" font-family=\"courier\" font-size=\"16\" x=\"495.8999999999999\" y=\"375\">on</text><text fill=\"gray\" font-family=\"courier\" font-size=\"16\" x=\"529.9999999999999\" y=\"375\">this,</text><text fill=\"gray\" font-family=\"courier\" font-size=\"16\" x=\"593.1999999999999\" y=\"375\">negative</text><text fill=\"gray\" font-family=\"courier\" font-size=\"16\" x=\"685.4999999999999\" y=\"375\" /><rect fill=\"none\" height=\"25\" rx=\"3\" ry=\"3\" stroke=\"#e6ccff\" stroke-width=\"2\" width=\"189.0\" x=\"697.2\" y=\"357\" /><text fill=\"gray\" font-family=\"courier\" font-size=\"16\" x=\"700.1999999999999\" y=\"375\">MRI of the shoulder</text><text fill=\"mediumseagreen\" font-family=\"courier\" font-size=\"12\" x=\"778.8818181818181\" y=\"395\">TEST</text><text fill=\"gray\" font-family=\"courier\" font-size=\"16\" x=\"10\" y=\"475\">,</text><text fill=\"gray\" font-family=\"courier\" font-size=\"16\" x=\"34.4\" y=\"475\">the</text><text fill=\"gray\" font-family=\"courier\" font-size=\"16\" x=\"78.19999999999999\" y=\"475\">patient</text><text fill=\"gray\" font-family=\"courier\" font-size=\"16\" x=\"160.79999999999998\" y=\"475\">was</text><text fill=\"gray\" font-family=\"courier\" font-size=\"16\" x=\"204.59999999999997\" y=\"475\">recommended</text><text fill=\"gray\" font-family=\"courier\" font-size=\"16\" x=\"325.99999999999994\" y=\"475\">to</text><text fill=\"gray\" font-family=\"courier\" font-size=\"16\" x=\"360.0999999999999\" y=\"475\">have</text><text fill=\"gray\" font-family=\"courier\" font-size=\"16\" x=\"413.5999999999999\" y=\"475\" /><rect fill=\"none\" height=\"25\" rx=\"3\" ry=\"3\" stroke=\"#ffffcc\" stroke-width=\"2\" width=\"276.3\" x=\"425.3\" y=\"457\" /><text fill=\"gray\" font-family=\"courier\" font-size=\"16\" x=\"428.2999999999999\" y=\"475\">anterior cervical discectomy</text><text fill=\"mediumseagreen\" font-family=\"courier\" font-size=\"12\" x=\"532.9954545454543\" y=\"495\">TREATMENT</text><text fill=\"gray\" font-family=\"courier\" font-size=\"16\" x=\"724.5999999999999\" y=\"475\" /><text fill=\"gray\" font-family=\"courier\" font-size=\"16\" x=\"739.3\" y=\"475\">with</text><text fill=\"gray\" font-family=\"courier\" font-size=\"16\" x=\"792.8\" y=\"475\" /><rect fill=\"none\" height=\"25\" rx=\"3\" ry=\"3\" stroke=\"#ffffcc\" stroke-width=\"2\" width=\"392.7\" x=\"7\" y=\"557\" /><text fill=\"gray\" font-family=\"courier\" font-size=\"16\" x=\"10\" y=\"575\">anterior interbody fusion at C6-C7 level</text><text fill=\"mediumseagreen\" font-family=\"courier\" font-size=\"12\" x=\"172.89545454545453\" y=\"595\">TREATMENT</text><text fill=\"gray\" font-family=\"courier\" font-size=\"16\" x=\"422.7\" y=\"575\">.</text><text fill=\"gray\" font-family=\"courier\" font-size=\"16\" x=\"447.09999999999997\" y=\"575\">Operation,</text><text fill=\"gray\" font-family=\"courier\" font-size=\"16\" x=\"558.8\" y=\"575\">expected</text><text fill=\"gray\" font-family=\"courier\" font-size=\"16\" x=\"651.0999999999999\" y=\"575\">outcome,</text><text fill=\"gray\" font-family=\"courier\" font-size=\"16\" x=\"743.3999999999999\" y=\"575\">risks,</text><text fill=\"gray\" font-family=\"courier\" font-size=\"16\" x=\"816.2999999999998\" y=\"575\">and</text><text fill=\"gray\" font-family=\"courier\" font-size=\"16\" x=\"10\" y=\"675\">benefits</text><text fill=\"gray\" font-family=\"courier\" font-size=\"16\" x=\"102.3\" y=\"675\">were</text><text fill=\"gray\" font-family=\"courier\" font-size=\"16\" x=\"155.8\" y=\"675\">discussed</text><text fill=\"gray\" font-family=\"courier\" font-size=\"16\" x=\"257.8\" y=\"675\">with</text><text fill=\"gray\" font-family=\"courier\" font-size=\"16\" x=\"311.3\" y=\"675\">her.</text><text fill=\"gray\" font-family=\"courier\" font-size=\"16\" x=\"364.8\" y=\"675\">Risks</text><text fill=\"gray\" font-family=\"courier\" font-size=\"16\" x=\"428.0\" y=\"675\">include,</text><text fill=\"gray\" font-family=\"courier\" font-size=\"16\" x=\"520.3\" y=\"675\">but</text><text fill=\"gray\" font-family=\"courier\" font-size=\"16\" x=\"564.0999999999999\" y=\"675\">not</text><text fill=\"gray\" font-family=\"courier\" font-size=\"16\" x=\"607.8999999999999\" y=\"675\">exclusive</text><text fill=\"gray\" font-family=\"courier\" font-size=\"16\" x=\"709.8999999999999\" y=\"675\">of</text><text fill=\"gray\" font-family=\"courier\" font-size=\"16\" x=\"743.9999999999999\" y=\"675\" /><rect fill=\"none\" height=\"25\" rx=\"3\" ry=\"3\" stroke=\"#cceeff\" stroke-width=\"2\" width=\"82.3\" x=\"755.7\" y=\"657\" /><text fill=\"gray\" font-family=\"courier\" font-size=\"16\" x=\"758.6999999999999\" y=\"675\">bleeding</text><text fill=\"mediumseagreen\" font-family=\"courier\" font-size=\"12\" x=\"773.4499999999999\" y=\"695\">PROBLEM</text><text fill=\"gray\" font-family=\"courier\" font-size=\"16\" x=\"860.9999999999999\" y=\"675\" /><text fill=\"gray\" font-family=\"courier\" font-size=\"16\" x=\"875.6999999999999\" y=\"675\">and</text><text fill=\"gray\" font-family=\"courier\" font-size=\"16\" x=\"10\" y=\"775\" /><rect fill=\"none\" height=\"25\" rx=\"3\" ry=\"3\" stroke=\"#cceeff\" stroke-width=\"2\" width=\"92.0\" x=\"21.7\" y=\"757\" /><text fill=\"gray\" font-family=\"courier\" font-size=\"16\" x=\"24.7\" y=\"775\">infection</text><text fill=\"mediumseagreen\" font-family=\"courier\" font-size=\"12\" x=\"44.300000000000004\" y=\"795\">PROBLEM</text><text fill=\"gray\" font-family=\"courier\" font-size=\"16\" x=\"136.7\" y=\"775\">,</text><text fill=\"gray\" font-family=\"courier\" font-size=\"16\" x=\"161.1\" y=\"775\" /><rect fill=\"none\" height=\"25\" rx=\"3\" ry=\"3\" stroke=\"#cceeff\" stroke-width=\"2\" width=\"82.3\" x=\"172.8\" y=\"757\" /><text fill=\"gray\" font-family=\"courier\" font-size=\"16\" x=\"175.79999999999998\" y=\"775\">bleeding</text><text fill=\"mediumseagreen\" font-family=\"courier\" font-size=\"12\" x=\"190.54999999999998\" y=\"795\">PROBLEM</text><text fill=\"gray\" font-family=\"courier\" font-size=\"16\" x=\"278.09999999999997\" y=\"775\" /><text fill=\"gray\" font-family=\"courier\" font-size=\"16\" x=\"292.79999999999995\" y=\"775\">could</text><text fill=\"gray\" font-family=\"courier\" font-size=\"16\" x=\"355.99999999999994\" y=\"775\">be</text><text fill=\"gray\" font-family=\"courier\" font-size=\"16\" x=\"390.0999999999999\" y=\"775\" /><rect fill=\"none\" height=\"25\" rx=\"3\" ry=\"3\" stroke=\"#cceeff\" stroke-width=\"2\" width=\"198.7\" x=\"401.8\" y=\"757\" /><text fill=\"gray\" font-family=\"courier\" font-size=\"16\" x=\"404.7999999999999\" y=\"775\">soft tissue bleeding</text><text fill=\"mediumseagreen\" font-family=\"courier\" font-size=\"12\" x=\"477.7499999999999\" y=\"795\">PROBLEM</text><text fill=\"gray\" font-family=\"courier\" font-size=\"16\" x=\"623.4999999999999\" y=\"775\">,</text><text fill=\"gray\" font-family=\"courier\" font-size=\"16\" x=\"647.8999999999999\" y=\"775\">which</text><text fill=\"gray\" font-family=\"courier\" font-size=\"16\" x=\"711.0999999999999\" y=\"775\">may</text><text fill=\"gray\" font-family=\"courier\" font-size=\"16\" x=\"754.8999999999999\" y=\"775\">compromise</text><text fill=\"gray\" font-family=\"courier\" font-size=\"16\" x=\"10\" y=\"875\">airway</text><text fill=\"gray\" font-family=\"courier\" font-size=\"16\" x=\"82.89999999999999\" y=\"875\">and</text><text fill=\"gray\" font-family=\"courier\" font-size=\"16\" x=\"126.69999999999999\" y=\"875\">may</text><text fill=\"gray\" font-family=\"courier\" font-size=\"16\" x=\"170.5\" y=\"875\">result</text><text fill=\"gray\" font-family=\"courier\" font-size=\"16\" x=\"243.39999999999998\" y=\"875\">in</text><text fill=\"gray\" font-family=\"courier\" font-size=\"16\" x=\"277.5\" y=\"875\">return</text><text fill=\"gray\" font-family=\"courier\" font-size=\"16\" x=\"350.4\" y=\"875\">to</text><text fill=\"gray\" font-family=\"courier\" font-size=\"16\" x=\"384.5\" y=\"875\">the</text><text fill=\"gray\" font-family=\"courier\" font-size=\"16\" x=\"428.3\" y=\"875\">operating</text><text fill=\"gray\" font-family=\"courier\" font-size=\"16\" x=\"530.3\" y=\"875\">room</text><text fill=\"gray\" font-family=\"courier\" font-size=\"16\" x=\"583.8\" y=\"875\">emergently</text><text fill=\"gray\" font-family=\"courier\" font-size=\"16\" x=\"695.5\" y=\"875\">for</text><text fill=\"gray\" font-family=\"courier\" font-size=\"16\" x=\"739.3\" y=\"875\" /><rect fill=\"none\" height=\"25\" rx=\"3\" ry=\"3\" stroke=\"#ffffcc\" stroke-width=\"2\" width=\"101.7\" x=\"751.0\" y=\"857\" /><text fill=\"gray\" font-family=\"courier\" font-size=\"16\" x=\"754.0\" y=\"875\">evacuation</text><text fill=\"mediumseagreen\" font-family=\"courier\" font-size=\"12\" x=\"771.3954545454545\" y=\"895\">TREATMENT</text><text fill=\"gray\" font-family=\"courier\" font-size=\"16\" x=\"875.7\" y=\"875\" /><text fill=\"gray\" font-family=\"courier\" font-size=\"16\" x=\"10\" y=\"975\">of</text><text fill=\"gray\" font-family=\"courier\" font-size=\"16\" x=\"44.099999999999994\" y=\"975\">said</text><text fill=\"gray\" font-family=\"courier\" font-size=\"16\" x=\"97.6\" y=\"975\">hematoma.</text><text fill=\"gray\" font-family=\"courier\" font-size=\"16\" x=\"199.6\" y=\"975\">There</text><text fill=\"gray\" font-family=\"courier\" font-size=\"16\" x=\"262.8\" y=\"975\">is</text><text fill=\"gray\" font-family=\"courier\" font-size=\"16\" x=\"296.9\" y=\"975\">also</text><text fill=\"gray\" font-family=\"courier\" font-size=\"16\" x=\"350.4\" y=\"975\">the</text><text fill=\"gray\" font-family=\"courier\" font-size=\"16\" x=\"394.2\" y=\"975\">possibility</text><text fill=\"gray\" font-family=\"courier\" font-size=\"16\" x=\"515.6\" y=\"975\">of</text><text fill=\"gray\" font-family=\"courier\" font-size=\"16\" x=\"549.7\" y=\"975\" /><rect fill=\"none\" height=\"25\" rx=\"3\" ry=\"3\" stroke=\"#cceeff\" stroke-width=\"2\" width=\"315.1\" x=\"561.4\" y=\"957\" /><text fill=\"gray\" font-family=\"courier\" font-size=\"16\" x=\"564.4000000000001\" y=\"975\">bleeding into the epidural space</text><text fill=\"mediumseagreen\" font-family=\"courier\" font-size=\"12\" x=\"695.5500000000001\" y=\"995\">PROBLEM</text><text fill=\"gray\" font-family=\"courier\" font-size=\"16\" x=\"10\" y=\"1075\">,</text><text fill=\"gray\" font-family=\"courier\" font-size=\"16\" x=\"34.4\" y=\"1075\">which</text><text fill=\"gray\" font-family=\"courier\" font-size=\"16\" x=\"97.6\" y=\"1075\">can</text><text fill=\"gray\" font-family=\"courier\" font-size=\"16\" x=\"141.39999999999998\" y=\"1075\">compress</text><text fill=\"gray\" font-family=\"courier\" font-size=\"16\" x=\"233.7\" y=\"1075\">the</text><text fill=\"gray\" font-family=\"courier\" font-size=\"16\" x=\"277.5\" y=\"1075\">spinal</text><text fill=\"gray\" font-family=\"courier\" font-size=\"16\" x=\"350.4\" y=\"1075\">cord</text><text fill=\"gray\" font-family=\"courier\" font-size=\"16\" x=\"403.9\" y=\"1075\">and</text><text fill=\"gray\" font-family=\"courier\" font-size=\"16\" x=\"447.7\" y=\"1075\">result</text><text fill=\"gray\" font-family=\"courier\" font-size=\"16\" x=\"520.6\" y=\"1075\">in</text><text fill=\"gray\" font-family=\"courier\" font-size=\"16\" x=\"554.7\" y=\"1075\" /><rect fill=\"none\" height=\"25\" rx=\"3\" ry=\"3\" stroke=\"#cceeff\" stroke-width=\"2\" width=\"82.3\" x=\"566.4\" y=\"1057\" /><text fill=\"gray\" font-family=\"courier\" font-size=\"16\" x=\"569.4000000000001\" y=\"1075\">weakness</text><text fill=\"mediumseagreen\" font-family=\"courier\" font-size=\"12\" x=\"584.1500000000001\" y=\"1095\">PROBLEM</text><text fill=\"gray\" font-family=\"courier\" font-size=\"16\" x=\"671.7\" y=\"1075\" /><text fill=\"gray\" font-family=\"courier\" font-size=\"16\" x=\"686.4000000000001\" y=\"1075\">and</text><text fill=\"gray\" font-family=\"courier\" font-size=\"16\" x=\"730.2\" y=\"1075\" /><rect fill=\"none\" height=\"25\" rx=\"3\" ry=\"3\" stroke=\"#cceeff\" stroke-width=\"2\" width=\"315.1\" x=\"7\" y=\"1157\" /><text fill=\"gray\" font-family=\"courier\" font-size=\"16\" x=\"10\" y=\"1175\">numbness of all four extremities</text><text fill=\"mediumseagreen\" font-family=\"courier\" font-size=\"12\" x=\"141.14999999999998\" y=\"1195\">PROBLEM</text><text fill=\"gray\" font-family=\"courier\" font-size=\"16\" x=\"345.09999999999997\" y=\"1175\" /><text fill=\"gray\" font-family=\"courier\" font-size=\"16\" x=\"359.79999999999995\" y=\"1175\">as</text><text fill=\"gray\" font-family=\"courier\" font-size=\"16\" x=\"393.9\" y=\"1175\">well</text><text fill=\"gray\" font-family=\"courier\" font-size=\"16\" x=\"447.4\" y=\"1175\">as</text><text fill=\"gray\" font-family=\"courier\" font-size=\"16\" x=\"481.5\" y=\"1175\" /><rect fill=\"none\" height=\"25\" rx=\"3\" ry=\"3\" stroke=\"#cceeff\" stroke-width=\"2\" width=\"392.7\" x=\"493.2\" y=\"1157\" /><text fill=\"gray\" font-family=\"courier\" font-size=\"16\" x=\"496.2\" y=\"1175\">impairment of bowel and bladder function</text><text fill=\"mediumseagreen\" font-family=\"courier\" font-size=\"12\" x=\"666.15\" y=\"1195\">PROBLEM</text><text fill=\"gray\" font-family=\"courier\" font-size=\"16\" x=\"10\" y=\"1275\">.</text><text fill=\"gray\" font-family=\"courier\" font-size=\"16\" x=\"34.4\" y=\"1275\">However,</text><text fill=\"gray\" font-family=\"courier\" font-size=\"16\" x=\"126.69999999999999\" y=\"1275\">the</text><text fill=\"gray\" font-family=\"courier\" font-size=\"16\" x=\"170.5\" y=\"1275\">patient</text><text fill=\"gray\" font-family=\"courier\" font-size=\"16\" x=\"253.1\" y=\"1275\">may</text><text fill=\"gray\" font-family=\"courier\" font-size=\"16\" x=\"296.9\" y=\"1275\">develop</text><text fill=\"gray\" font-family=\"courier\" font-size=\"16\" x=\"379.5\" y=\"1275\">deeper-seated</text><text fill=\"gray\" font-family=\"courier\" font-size=\"16\" x=\"520.3\" y=\"1275\">infection,</text><text fill=\"gray\" font-family=\"courier\" font-size=\"16\" x=\"632.0\" y=\"1275\">which</text><text fill=\"gray\" font-family=\"courier\" font-size=\"16\" x=\"695.2\" y=\"1275\">may</text><text fill=\"gray\" font-family=\"courier\" font-size=\"16\" x=\"739.0\" y=\"1275\">require</text><text fill=\"gray\" font-family=\"courier\" font-size=\"16\" x=\"821.6\" y=\"1275\">return</text><text fill=\"gray\" font-family=\"courier\" font-size=\"16\" x=\"10\" y=\"1375\">to</text><text fill=\"gray\" font-family=\"courier\" font-size=\"16\" x=\"44.099999999999994\" y=\"1375\">the</text><text fill=\"gray\" font-family=\"courier\" font-size=\"16\" x=\"87.89999999999999\" y=\"1375\">operating</text><text fill=\"gray\" font-family=\"courier\" font-size=\"16\" x=\"189.89999999999998\" y=\"1375\">room.</text><text fill=\"gray\" font-family=\"courier\" font-size=\"16\" x=\"253.09999999999997\" y=\"1375\">Should</text><text fill=\"gray\" font-family=\"courier\" font-size=\"16\" x=\"325.99999999999994\" y=\"1375\" /><rect fill=\"none\" height=\"25\" rx=\"3\" ry=\"3\" stroke=\"#cceeff\" stroke-width=\"2\" width=\"130.8\" x=\"337.7\" y=\"1357\" /><text fill=\"gray\" font-family=\"courier\" font-size=\"16\" x=\"340.69999999999993\" y=\"1375\">the infection</text><text fill=\"mediumseagreen\" font-family=\"courier\" font-size=\"12\" x=\"379.69999999999993\" y=\"1395\">PROBLEM</text><text fill=\"gray\" font-family=\"courier\" font-size=\"16\" x=\"491.4999999999999\" y=\"1375\" /><text fill=\"gray\" font-family=\"courier\" font-size=\"16\" x=\"506.1999999999999\" y=\"1375\">be</text><text fill=\"gray\" font-family=\"courier\" font-size=\"16\" x=\"540.2999999999998\" y=\"1375\">in</text><text fill=\"gray\" font-family=\"courier\" font-size=\"16\" x=\"574.3999999999999\" y=\"1375\">the</text><text fill=\"gray\" font-family=\"courier\" font-size=\"16\" x=\"618.1999999999998\" y=\"1375\">area</text><text fill=\"gray\" font-family=\"courier\" font-size=\"16\" x=\"671.6999999999998\" y=\"1375\">of</text><text fill=\"gray\" font-family=\"courier\" font-size=\"16\" x=\"705.7999999999998\" y=\"1375\" /><rect fill=\"none\" height=\"25\" rx=\"3\" ry=\"3\" stroke=\"#ffffcc\" stroke-width=\"2\" width=\"256.9\" x=\"7\" y=\"1457\" /><text fill=\"gray\" font-family=\"courier\" font-size=\"16\" x=\"10\" y=\"1475\">the spinal instrumentation</text><text fill=\"mediumseagreen\" font-family=\"courier\" font-size=\"12\" x=\"104.99545454545454\" y=\"1495\">TREATMENT</text><text fill=\"gray\" font-family=\"courier\" font-size=\"16\" x=\"286.9\" y=\"1475\">,</text><text fill=\"gray\" font-family=\"courier\" font-size=\"16\" x=\"311.29999999999995\" y=\"1475\">this</text><text fill=\"gray\" font-family=\"courier\" font-size=\"16\" x=\"364.79999999999995\" y=\"1475\">will</text><text fill=\"gray\" font-family=\"courier\" font-size=\"16\" x=\"418.29999999999995\" y=\"1475\">cause</text><text fill=\"gray\" font-family=\"courier\" font-size=\"16\" x=\"481.49999999999994\" y=\"1475\">a</text><text fill=\"gray\" font-family=\"courier\" font-size=\"16\" x=\"505.8999999999999\" y=\"1475\">dilemma</text><text fill=\"gray\" font-family=\"courier\" font-size=\"16\" x=\"588.4999999999999\" y=\"1475\">since</text><text fill=\"gray\" font-family=\"courier\" font-size=\"16\" x=\"651.6999999999999\" y=\"1475\">there</text><text fill=\"gray\" font-family=\"courier\" font-size=\"16\" x=\"714.9\" y=\"1475\">might</text><text fill=\"gray\" font-family=\"courier\" font-size=\"16\" x=\"778.1\" y=\"1475\">be</text><text fill=\"gray\" font-family=\"courier\" font-size=\"16\" x=\"812.2\" y=\"1475\">a</text><text fill=\"gray\" font-family=\"courier\" font-size=\"16\" x=\"836.6\" y=\"1475\">need</text><text fill=\"gray\" font-family=\"courier\" font-size=\"16\" x=\"10\" y=\"1575\">to</text><text fill=\"gray\" font-family=\"courier\" font-size=\"16\" x=\"44.099999999999994\" y=\"1575\">remove</text><text fill=\"gray\" font-family=\"courier\" font-size=\"16\" x=\"116.99999999999999\" y=\"1575\" /><rect fill=\"none\" height=\"25\" rx=\"3\" ry=\"3\" stroke=\"#ffffcc\" stroke-width=\"2\" width=\"256.9\" x=\"128.7\" y=\"1557\" /><text fill=\"gray\" font-family=\"courier\" font-size=\"16\" x=\"131.7\" y=\"1575\">the spinal instrumentation</text><text fill=\"mediumseagreen\" font-family=\"courier\" font-size=\"12\" x=\"226.69545454545454\" y=\"1595\">TREATMENT</text><text fill=\"gray\" font-family=\"courier\" font-size=\"16\" x=\"408.59999999999997\" y=\"1575\" /><text fill=\"gray\" font-family=\"courier\" font-size=\"16\" x=\"423.29999999999995\" y=\"1575\">and/or</text><text fill=\"gray\" font-family=\"courier\" font-size=\"16\" x=\"496.19999999999993\" y=\"1575\" /><rect fill=\"none\" height=\"25\" rx=\"3\" ry=\"3\" stroke=\"#ffffcc\" stroke-width=\"2\" width=\"92.0\" x=\"507.9\" y=\"1557\" /><text fill=\"gray\" font-family=\"courier\" font-size=\"16\" x=\"510.8999999999999\" y=\"1575\">allograft</text><text fill=\"mediumseagreen\" font-family=\"courier\" font-size=\"12\" x=\"523.4454545454544\" y=\"1595\">TREATMENT</text><text fill=\"gray\" font-family=\"courier\" font-size=\"16\" x=\"622.8999999999999\" y=\"1575\">.</text><text fill=\"gray\" font-family=\"courier\" font-size=\"16\" x=\"647.2999999999998\" y=\"1575\">There</text><text fill=\"gray\" font-family=\"courier\" font-size=\"16\" x=\"710.4999999999999\" y=\"1575\">is</text><text fill=\"gray\" font-family=\"courier\" font-size=\"16\" x=\"744.5999999999999\" y=\"1575\">also</text><text fill=\"gray\" font-family=\"courier\" font-size=\"16\" x=\"798.0999999999999\" y=\"1575\">the</text><text fill=\"gray\" font-family=\"courier\" font-size=\"16\" x=\"10\" y=\"1675\">possibility</text><text fill=\"gray\" font-family=\"courier\" font-size=\"16\" x=\"131.39999999999998\" y=\"1675\">of</text><text fill=\"gray\" font-family=\"courier\" font-size=\"16\" x=\"165.49999999999997\" y=\"1675\">potential</text><text fill=\"gray\" font-family=\"courier\" font-size=\"16\" x=\"267.5\" y=\"1675\">injury</text><text fill=\"gray\" font-family=\"courier\" font-size=\"16\" x=\"340.4\" y=\"1675\">to</text><text fill=\"gray\" font-family=\"courier\" font-size=\"16\" x=\"374.5\" y=\"1675\">the</text><text fill=\"gray\" font-family=\"courier\" font-size=\"16\" x=\"418.3\" y=\"1675\">esophageus,</text><text fill=\"gray\" font-family=\"courier\" font-size=\"16\" x=\"539.7\" y=\"1675\">the</text><text fill=\"gray\" font-family=\"courier\" font-size=\"16\" x=\"583.5\" y=\"1675\">trachea,</text><text fill=\"gray\" font-family=\"courier\" font-size=\"16\" x=\"675.8\" y=\"1675\">and</text><text fill=\"gray\" font-family=\"courier\" font-size=\"16\" x=\"719.5999999999999\" y=\"1675\">the</text><text fill=\"gray\" font-family=\"courier\" font-size=\"16\" x=\"763.3999999999999\" y=\"1675\">carotid</text><text fill=\"gray\" font-family=\"courier\" font-size=\"16\" x=\"10\" y=\"1775\">artery.</text><text fill=\"gray\" font-family=\"courier\" font-size=\"16\" x=\"92.6\" y=\"1775\">There</text><text fill=\"gray\" font-family=\"courier\" font-size=\"16\" x=\"155.79999999999998\" y=\"1775\">is</text><text fill=\"gray\" font-family=\"courier\" font-size=\"16\" x=\"189.89999999999998\" y=\"1775\">also</text><text fill=\"gray\" font-family=\"courier\" font-size=\"16\" x=\"243.39999999999998\" y=\"1775\">the</text><text fill=\"gray\" font-family=\"courier\" font-size=\"16\" x=\"287.2\" y=\"1775\">risks</text><text fill=\"gray\" font-family=\"courier\" font-size=\"16\" x=\"350.4\" y=\"1775\">of</text><text fill=\"gray\" font-family=\"courier\" font-size=\"16\" x=\"384.5\" y=\"1775\" /><rect fill=\"none\" height=\"25\" rx=\"3\" ry=\"3\" stroke=\"#cceeff\" stroke-width=\"2\" width=\"392.7\" x=\"396.2\" y=\"1757\" /><text fill=\"gray\" font-family=\"courier\" font-size=\"16\" x=\"399.2\" y=\"1775\">stroke on the right cerebral circulation</text><text fill=\"mediumseagreen\" font-family=\"courier\" font-size=\"12\" x=\"569.15\" y=\"1795\">PROBLEM</text><text fill=\"gray\" font-family=\"courier\" font-size=\"16\" x=\"811.9\" y=\"1775\" /><text fill=\"gray\" font-family=\"courier\" font-size=\"16\" x=\"826.6\" y=\"1775\">should</text><text fill=\"gray\" font-family=\"courier\" font-size=\"16\" x=\"899.5\" y=\"1775\" /><rect fill=\"none\" height=\"25\" rx=\"3\" ry=\"3\" stroke=\"#cceeff\" stroke-width=\"2\" width=\"208.4\" x=\"7\" y=\"1857\" /><text fill=\"gray\" font-family=\"courier\" font-size=\"16\" x=\"10\" y=\"1875\">an undiagnosed plaque</text><text fill=\"mediumseagreen\" font-family=\"courier\" font-size=\"12\" x=\"87.79999999999998\" y=\"1895\">PROBLEM</text><text fill=\"gray\" font-family=\"courier\" font-size=\"16\" x=\"238.39999999999998\" y=\"1875\" /><text fill=\"gray\" font-family=\"courier\" font-size=\"16\" x=\"243.09999999999997\" y=\"1875\">be</text><text fill=\"gray\" font-family=\"courier\" font-size=\"16\" x=\"267.2\" y=\"1875\">propelled</text><text fill=\"gray\" font-family=\"courier\" font-size=\"16\" x=\"359.2\" y=\"1875\">from</text><text fill=\"gray\" font-family=\"courier\" font-size=\"16\" x=\"402.7\" y=\"1875\">the</text><text fill=\"gray\" font-family=\"courier\" font-size=\"16\" x=\"436.5\" y=\"1875\">right</text><text fill=\"gray\" font-family=\"courier\" font-size=\"16\" x=\"489.7\" y=\"1875\">carotid.</text><text fill=\"gray\" font-family=\"courier\" font-size=\"16\" x=\"572.0\" y=\"1875\">She</text><text fill=\"gray\" font-family=\"courier\" font-size=\"16\" x=\"605.8\" y=\"1875\">understood</text><text fill=\"gray\" font-family=\"courier\" font-size=\"16\" x=\"707.5\" y=\"1875\">all</text><text fill=\"gray\" font-family=\"courier\" font-size=\"16\" x=\"741.3\" y=\"1875\">of</text><text fill=\"gray\" font-family=\"courier\" font-size=\"16\" x=\"765.4\" y=\"1875\">these</text><text fill=\"gray\" font-family=\"courier\" font-size=\"16\" x=\"818.6\" y=\"1875\">risks</text><text fill=\"gray\" font-family=\"courier\" font-size=\"16\" x=\"871.8000000000001\" y=\"1875\">and</text><text fill=\"gray\" font-family=\"courier\" font-size=\"16\" x=\"10\" y=\"1975\">agreed</text><text fill=\"gray\" font-family=\"courier\" font-size=\"16\" x=\"72.89999999999999\" y=\"1975\">to</text><text fill=\"gray\" font-family=\"courier\" font-size=\"16\" x=\"96.99999999999999\" y=\"1975\">have</text><text fill=\"gray\" font-family=\"courier\" font-size=\"16\" x=\"140.5\" y=\"1975\">the</text><text fill=\"gray\" font-family=\"courier\" font-size=\"16\" x=\"174.3\" y=\"1975\">procedure</text><text fill=\"gray\" font-family=\"courier\" font-size=\"16\" x=\"266.3\" y=\"1975\">performed.</text><polyline fill=\"none\" points=\"206.0,755.0 204.7143,753.7961 203.4286,752.5931 202.1429,751.3921 200.8571,750.194 199.5714,748.9998 198.2857,747.8104 197.0,746.6268 195.7143,745.45 194.4286,744.281 193.1429,743.1207 191.8571,741.9701 190.5714,740.8301 189.2857,739.7017 188.0,738.586 186.7143,737.4838 185.4286,736.3962 184.1429,735.324 182.8571,734.2684 181.5714,733.2302 180.2857,732.2103 179.0,731.2099 177.7143,730.2298 176.4286,729.2711 175.1429,728.3346 173.8571,727.4214 172.5714,726.5324 171.2857,725.6685 170.0,724.8309 168.7143,724.0204 167.4286,723.238 166.1429,722.4846 164.8571,721.7613 163.5714,721.069 162.2857,720.4087 161.0,719.7813 159.7143,719.1879 158.4286,718.6293 157.1429,718.1066 155.8571,717.6207 154.5714,717.1726 153.2857,716.7632 152.0,716.3936 150.7143,716.0647 149.4286,715.7774 148.1429,715.5328 146.8571,715.3317 145.5714,715.1753 144.2857,715.0644 143.0,715.0 143.0,715.0 141.7143,714.9828 140.4286,715.012 139.1429,715.0869 137.8571,715.2062 136.5714,715.3692 135.2857,715.5749 134.0,715.8222 132.7143,716.1101 131.4286,716.4379 130.1429,716.8044 128.8571,717.2086 127.5714,717.6497 126.2857,718.1267 125.0,718.6385 123.7143,719.1842 122.4286,719.7629 121.1429,720.3736 119.8571,721.0152 118.5714,721.687 117.2857,722.3877 116.0,723.1166 114.7143,723.8726 113.4286,724.6548 112.1429,725.4622 110.8571,726.2938 109.5714,727.1486 108.2857,728.0257 107.0,728.9242 105.7143,729.843 104.4286,730.7812 103.1429,731.7378 101.8571,732.7118 100.5714,733.7023 99.2857,734.7083 98.0,735.7289 96.7143,736.763 95.4286,737.8097 94.1429,738.868 92.8571,739.937 91.5714,741.0157 90.2857,742.1031 89.0,743.1983 87.7143,744.3002 86.4286,745.4079 85.1429,746.5205 83.8571,747.637 82.5714,748.7564 81.2857,749.8777 80.0,751.0\" stroke=\"springgreen\" stroke-width=\"2\" /><polyline fill=\"none\" points=\"80,751 88.8198,749.5129 84.3073,747.855 84.1022,743.0519 80,751\" stroke=\"springgreen\" stroke-width=\"2\" /><rect fill=\"white\" font-family=\"courier\" height=\"13\" rx=\"2\" ry=\"2\" stroke=\"springgreen\" stroke-width=\"1\" transform=\"rotate(1.8183029644518331 141.5 716.5)\" width=\"35.2222\" x=\"123.8889\" y=\"710\" /><text fill=\"springgreen\" font-family=\"courier\" font-size=\"12\" transform=\"rotate(1.8183029644518331 141.5 716.5)\" x=\"126.88888888888889\" y=\"720\">TrCP</text><polyline fill=\"none\" points=\"682.0,1155.0 681.6327,1154.3367 681.2653,1153.6735 680.898,1153.0102 680.5306,1152.3469 680.1633,1151.6837 679.7959,1151.0204 679.4286,1150.3571 679.0612,1149.6939 678.6939,1149.0306 678.3265,1148.3673 677.9592,1147.7041 677.5918,1147.0408 677.2245,1146.3776 676.8571,1145.7143 676.4898,1145.051 676.1224,1144.3878 675.7551,1143.7245 675.3878,1143.0612 675.0204,1142.398 674.6531,1141.7347 674.2857,1141.0714 673.9184,1140.4082 673.551,1139.7449 673.1837,1139.0816 672.8163,1138.4184 672.449,1137.7551 672.0816,1137.0918 671.7143,1136.4286 671.3469,1135.7653 670.9796,1135.102 670.6122,1134.4388 670.2449,1133.7755 669.8776,1133.1122 669.5102,1132.449 669.1429,1131.7857 668.7755,1131.1224 668.4082,1130.4592 668.0408,1129.7959 667.6735,1129.1327 667.3061,1128.4694 666.9388,1127.8061 666.5714,1127.1429 666.2041,1126.4796 665.8367,1125.8163 665.4694,1125.1531 665.102,1124.4898 664.7347,1123.8265 664.3673,1123.1633 664.0,1122.5 664.0,1122.5 663.6327,1121.8367 663.2653,1121.1735 662.898,1120.5102 662.5306,1119.8469 662.1633,1119.1837 661.7959,1118.5204 661.4286,1117.8571 661.0612,1117.1939 660.6939,1116.5306 660.3265,1115.8673 659.9592,1115.2041 659.5918,1114.5408 659.2245,1113.8776 658.8571,1113.2143 658.4898,1112.551 658.1224,1111.8878 657.7551,1111.2245 657.3878,1110.5612 657.0204,1109.898 656.6531,1109.2347 656.2857,1108.5714 655.9184,1107.9082 655.551,1107.2449 655.1837,1106.5816 654.8163,1105.9184 654.449,1105.2551 654.0816,1104.5918 653.7143,1103.9286 653.3469,1103.2653 652.9796,1102.602 652.6122,1101.9388 652.2449,1101.2755 651.8776,1100.6122 651.5102,1099.949 651.1429,1099.2857 650.7755,1098.6224 650.4082,1097.9592 650.0408,1097.2959 649.6735,1096.6327 649.3061,1095.9694 648.9388,1095.3061 648.5714,1094.6429 648.2041,1093.9796 647.8367,1093.3163 647.4694,1092.6531 647.102,1091.9898 646.7347,1091.3265 646.3673,1090.6633 646.0,1090.0\" stroke=\"deepskyblue\" stroke-width=\"2\" /><polyline fill=\"none\" points=\"646,1090 646.3768,1098.9363 648.584,1094.6656 653.3752,1095.0603 646,1090\" stroke=\"deepskyblue\" stroke-width=\"2\" /><rect fill=\"white\" font-family=\"courier\" height=\"13\" rx=\"2\" ry=\"2\" stroke=\"deepskyblue\" stroke-width=\"1\" transform=\"rotate(61.020292302071226 662.5 1119.0)\" width=\"35.2222\" x=\"644.8889\" y=\"1112.5\" /><text fill=\"deepskyblue\" font-family=\"courier\" font-size=\"12\" transform=\"rotate(61.020292302071226 662.5 1119.0)\" x=\"647.8888888888889\" y=\"1122.5\">TrWP</text><polyline fill=\"none\" points=\"494.0,755.0 491.2653,753.7961 488.5306,752.5931 485.7959,751.3921 483.0612,750.194 480.3265,748.9998 477.5918,747.8104 474.8571,746.6268 472.1224,745.45 469.3878,744.281 466.6531,743.1207 463.9184,741.9701 461.1837,740.8301 458.449,739.7017 455.7143,738.586 452.9796,737.4838 450.2449,736.3962 447.5102,735.324 444.7755,734.2684 442.0408,733.2302 439.3061,732.2103 436.5714,731.2099 433.8367,730.2298 431.102,729.2711 428.3673,728.3346 425.6327,727.4214 422.898,726.5324 420.1633,725.6685 417.4286,724.8309 414.6939,724.0204 411.9592,723.238 409.2245,722.4846 406.4898,721.7613 403.7551,721.069 401.0204,720.4087 398.2857,719.7813 395.551,719.1879 392.8163,718.6293 390.0816,718.1066 387.3469,717.6207 384.6122,717.1726 381.8776,716.7632 379.1429,716.3936 376.4082,716.0647 373.6735,715.7774 370.9388,715.5328 368.2041,715.3317 365.4694,715.1753 362.7347,715.0644 360.0,715.0 360.0,715.0 357.2653,714.9828 354.5306,715.012 351.7959,715.0869 349.0612,715.2062 346.3265,715.3692 343.5918,715.5749 340.8571,715.8222 338.1224,716.1101 335.3878,716.4379 332.6531,716.8044 329.9184,717.2086 327.1837,717.6497 324.449,718.1267 321.7143,718.6385 318.9796,719.1842 316.2449,719.7629 313.5102,720.3736 310.7755,721.0152 308.0408,721.687 305.3061,722.3877 302.5714,723.1166 299.8367,723.8726 297.102,724.6548 294.3673,725.4622 291.6327,726.2938 288.898,727.1486 286.1633,728.0257 283.4286,728.9242 280.6939,729.843 277.9592,730.7812 275.2245,731.7378 272.4898,732.7118 269.7551,733.7023 267.0204,734.7083 264.2857,735.7289 261.551,736.763 258.8163,737.8097 256.0816,738.868 253.3469,739.937 250.6122,741.0157 247.8776,742.1031 245.1429,743.1983 242.4082,744.3002 239.6735,745.4079 236.9388,746.5205 234.2041,747.637 231.4694,748.7564 228.7347,749.8777 226.0,751.0\" stroke=\"purple\" stroke-width=\"2\" /><polyline fill=\"none\" points=\"226,751 234.8653,752.1858 231.0444,749.2683 232.2678,744.6192 226,751\" stroke=\"purple\" stroke-width=\"2\" /><rect fill=\"white\" font-family=\"courier\" height=\"13\" rx=\"2\" ry=\"2\" stroke=\"purple\" stroke-width=\"1\" transform=\"rotate(0.8550973962667232 358.5 716.5)\" width=\"35.2222\" x=\"340.8889\" y=\"710\" /><text fill=\"purple\" font-family=\"courier\" font-size=\"12\" transform=\"rotate(0.8550973962667232 358.5 716.5)\" x=\"343.8888888888889\" y=\"720\">TeRP</text><polyline fill=\"none\" points=\"546.0,1555.0 543.1837,1553.7961 540.3673,1552.5931 537.551,1551.3921 534.7347,1550.194 531.9184,1548.9998 529.102,1547.8104 526.2857,1546.6268 523.4694,1545.45 520.6531,1544.281 517.8367,1543.1207 515.0204,1541.9701 512.2041,1540.8301 509.3878,1539.7017 506.5714,1538.586 503.7551,1537.4838 500.9388,1536.3962 498.1224,1535.324 495.3061,1534.2684 492.4898,1533.2302 489.6735,1532.2103 486.8571,1531.2099 484.0408,1530.2298 481.2245,1529.2711 478.4082,1528.3346 475.5918,1527.4214 472.7755,1526.5324 469.9592,1525.6685 467.1429,1524.8309 464.3265,1524.0204 461.5102,1523.238 458.6939,1522.4846 455.8776,1521.7613 453.0612,1521.069 450.2449,1520.4087 447.4286,1519.7813 444.6122,1519.1879 441.7959,1518.6293 438.9796,1518.1066 436.1633,1517.6207 433.3469,1517.1726 430.5306,1516.7632 427.7143,1516.3936 424.898,1516.0647 422.0816,1515.7774 419.2653,1515.5328 416.449,1515.3317 413.6327,1515.1753 410.8163,1515.0644 408.0,1515.0 408.0,1515.0 405.1837,1514.9828 402.3673,1515.012 399.551,1515.0869 396.7347,1515.2062 393.9184,1515.3692 391.102,1515.5749 388.2857,1515.8222 385.4694,1516.1101 382.6531,1516.4379 379.8367,1516.8044 377.0204,1517.2086 374.2041,1517.6497 371.3878,1518.1267 368.5714,1518.6385 365.7551,1519.1842 362.9388,1519.7629 360.1224,1520.3736 357.3061,1521.0152 354.4898,1521.687 351.6735,1522.3877 348.8571,1523.1166 346.0408,1523.8726 343.2245,1524.6548 340.4082,1525.4622 337.5918,1526.2938 334.7755,1527.1486 331.9592,1528.0257 329.1429,1528.9242 326.3265,1529.843 323.5102,1530.7812 320.6939,1531.7378 317.8776,1532.7118 315.0612,1533.7023 312.2449,1534.7083 309.4286,1535.7289 306.6122,1536.763 303.7959,1537.8097 300.9796,1538.868 298.1633,1539.937 295.3469,1541.0157 292.5306,1542.1031 289.7143,1543.1983 286.898,1544.3002 284.0816,1545.4079 281.2653,1546.5205 278.449,1547.637 275.6327,1548.7564 272.8163,1549.8777 270.0,1551.0\" stroke=\"purple\" stroke-width=\"2\" /><polyline fill=\"none\" points=\"270,1551 278.8544,1552.2649 275.0596,1549.3135 276.3246,1544.6754 270,1551\" stroke=\"purple\" stroke-width=\"2\" /><rect fill=\"white\" font-family=\"courier\" height=\"13\" rx=\"2\" ry=\"2\" stroke=\"purple\" stroke-width=\"1\" transform=\"rotate(0.8303154862580109 406.5 1516.5)\" width=\"35.2222\" x=\"388.8889\" y=\"1510\" /><text fill=\"purple\" font-family=\"courier\" font-size=\"12\" transform=\"rotate(0.8303154862580109 406.5 1516.5)\" x=\"391.8888888888889\" y=\"1520\">TeRP</text><polyline fill=\"none\" points=\"576.0,455.0 577.9694,454.3367 579.9388,453.6735 581.9082,453.0102 583.8776,452.3469 585.8469,451.6837 587.8163,451.0204 589.7857,450.3571 591.7551,449.6939 593.7245,449.0306 595.6939,448.3673 597.6633,447.7041 599.6327,447.0408 601.602,446.3776 603.5714,445.7143 605.5408,445.051 607.5102,444.3878 609.4796,443.7245 611.449,443.0612 613.4184,442.398 615.3878,441.7347 617.3571,441.0714 619.3265,440.4082 621.2959,439.7449 623.2653,439.0816 625.2347,438.4184 627.2041,437.7551 629.1735,437.0918 631.1429,436.4286 633.1122,435.7653 635.0816,435.102 637.051,434.4388 639.0204,433.7755 640.9898,433.1122 642.9592,432.449 644.9286,431.7857 646.898,431.1224 648.8673,430.4592 650.8367,429.7959 652.8061,429.1327 654.7755,428.4694 656.7449,427.8061 658.7143,427.1429 660.6837,426.4796 662.6531,425.8163 664.6224,425.1531 666.5918,424.4898 668.5612,423.8265 670.5306,423.1633 672.5,422.5 672.5,422.5 674.4694,421.8367 676.4388,421.1735 678.4082,420.5102 680.3776,419.8469 682.3469,419.1837 684.3163,418.5204 686.2857,417.8571 688.2551,417.1939 690.2245,416.5306 692.1939,415.8673 694.1633,415.2041 696.1327,414.5408 698.102,413.8776 700.0714,413.2143 702.0408,412.551 704.0102,411.8878 705.9796,411.2245 707.949,410.5612 709.9184,409.898 711.8878,409.2347 713.8571,408.5714 715.8265,407.9082 717.7959,407.2449 719.7653,406.5816 721.7347,405.9184 723.7041,405.2551 725.6735,404.5918 727.6429,403.9286 729.6122,403.2653 731.5816,402.602 733.551,401.9388 735.5204,401.2755 737.4898,400.6122 739.4592,399.949 741.4286,399.2857 743.398,398.6224 745.3673,397.9592 747.3367,397.2959 749.3061,396.6327 751.2755,395.9694 753.2449,395.3061 755.2143,394.6429 757.1837,393.9796 759.1531,393.3163 761.1224,392.6531 763.0918,391.9898 765.0612,391.3265 767.0306,390.6633 769.0,390.0\" stroke=\"purple\" stroke-width=\"2\" /><polyline fill=\"none\" points=\"769,390 760.1417,388.7626 763.9456,391.7023 762.6951,396.3442 769,390\" stroke=\"purple\" stroke-width=\"2\" /><rect fill=\"white\" font-family=\"courier\" height=\"13\" rx=\"2\" ry=\"2\" stroke=\"purple\" stroke-width=\"1\" transform=\"rotate(-18.612885454332396 671.0 419.0)\" width=\"35.2222\" x=\"653.3889\" y=\"412.5\" /><text fill=\"purple\" font-family=\"courier\" font-size=\"12\" transform=\"rotate(-18.612885454332396 671.0 419.0)\" x=\"656.3888888888889\" y=\"422.5\">TeRP</text><polyline fill=\"none\" points=\"270.0,1555.0 271.0204,1553.3163 272.0408,1551.6327 273.0612,1549.949 274.0816,1548.2653 275.102,1546.5816 276.1224,1544.898 277.1429,1543.2143 278.1633,1541.5306 279.1837,1539.8469 280.2041,1538.1633 281.2245,1536.4796 282.2449,1534.7959 283.2653,1533.1122 284.2857,1531.4286 285.3061,1529.7449 286.3265,1528.0612 287.3469,1526.3776 288.3673,1524.6939 289.3878,1523.0102 290.4082,1521.3265 291.4286,1519.6429 292.449,1517.9592 293.4694,1516.2755 294.4898,1514.5918 295.5102,1512.9082 296.5306,1511.2245 297.551,1509.5408 298.5714,1507.8571 299.5918,1506.1735 300.6122,1504.4898 301.6327,1502.8061 302.6531,1501.1224 303.6735,1499.4388 304.6939,1497.7551 305.7143,1496.0714 306.7347,1494.3878 307.7551,1492.7041 308.7755,1491.0204 309.7959,1489.3367 310.8163,1487.6531 311.8367,1485.9694 312.8571,1484.2857 313.8776,1482.602 314.898,1480.9184 315.9184,1479.2347 316.9388,1477.551 317.9592,1475.8673 318.9796,1474.1837 320.0,1472.5 320.0,1472.5 321.0204,1470.8163 322.0408,1469.1327 323.0612,1467.449 324.0816,1465.7653 325.102,1464.0816 326.1224,1462.398 327.1429,1460.7143 328.1633,1459.0306 329.1837,1457.3469 330.2041,1455.6633 331.2245,1453.9796 332.2449,1452.2959 333.2653,1450.6122 334.2857,1448.9286 335.3061,1447.2449 336.3265,1445.5612 337.3469,1443.8776 338.3673,1442.1939 339.3878,1440.5102 340.4082,1438.8265 341.4286,1437.1429 342.449,1435.4592 343.4694,1433.7755 344.4898,1432.0918 345.5102,1430.4082 346.5306,1428.7245 347.551,1427.0408 348.5714,1425.3571 349.5918,1423.6735 350.6122,1421.9898 351.6327,1420.3061 352.6531,1418.6224 353.6735,1416.9388 354.6939,1415.2551 355.7143,1413.5714 356.7347,1411.8878 357.7551,1410.2041 358.7755,1408.5204 359.7959,1406.8367 360.8163,1405.1531 361.8367,1403.4694 362.8571,1401.7857 363.8776,1400.102 364.898,1398.4184 365.9184,1396.7347 366.9388,1395.051 367.9592,1393.3673 368.9796,1391.6837 370.0,1390.0\" stroke=\"purple\" stroke-width=\"2\" /><polyline fill=\"none\" points=\"370,1390 362.4328,1394.7684 367.2357,1394.5611 369.2744,1398.9148 370,1390\" stroke=\"purple\" stroke-width=\"2\" /><rect fill=\"white\" font-family=\"courier\" height=\"13\" rx=\"2\" ry=\"2\" stroke=\"purple\" stroke-width=\"1\" transform=\"rotate(-58.781597235653635 318.5 1469.0)\" width=\"35.2222\" x=\"300.8889\" y=\"1462.5\" /><text fill=\"purple\" font-family=\"courier\" font-size=\"12\" transform=\"rotate(-58.781597235653635 318.5 1469.0)\" x=\"303.8888888888889\" y=\"1472.5\">TeRP</text><polyline fill=\"none\" points=\"148.0,1455.0 150.3163,1454.3367 152.6327,1453.6735 154.949,1453.0102 157.2653,1452.3469 159.5816,1451.6837 161.898,1451.0204 164.2143,1450.3571 166.5306,1449.6939 168.8469,1449.0306 171.1633,1448.3673 173.4796,1447.7041 175.7959,1447.0408 178.1122,1446.3776 180.4286,1445.7143 182.7449,1445.051 185.0612,1444.3878 187.3776,1443.7245 189.6939,1443.0612 192.0102,1442.398 194.3265,1441.7347 196.6429,1441.0714 198.9592,1440.4082 201.2755,1439.7449 203.5918,1439.0816 205.9082,1438.4184 208.2245,1437.7551 210.5408,1437.0918 212.8571,1436.4286 215.1735,1435.7653 217.4898,1435.102 219.8061,1434.4388 222.1224,1433.7755 224.4388,1433.1122 226.7551,1432.449 229.0714,1431.7857 231.3878,1431.1224 233.7041,1430.4592 236.0204,1429.7959 238.3367,1429.1327 240.6531,1428.4694 242.9694,1427.8061 245.2857,1427.1429 247.602,1426.4796 249.9184,1425.8163 252.2347,1425.1531 254.551,1424.4898 256.8673,1423.8265 259.1837,1423.1633 261.5,1422.5 261.5,1422.5 263.8163,1421.8367 266.1327,1421.1735 268.449,1420.5102 270.7653,1419.8469 273.0816,1419.1837 275.398,1418.5204 277.7143,1417.8571 280.0306,1417.1939 282.3469,1416.5306 284.6633,1415.8673 286.9796,1415.2041 289.2959,1414.5408 291.6122,1413.8776 293.9286,1413.2143 296.2449,1412.551 298.5612,1411.8878 300.8776,1411.2245 303.1939,1410.5612 305.5102,1409.898 307.8265,1409.2347 310.1429,1408.5714 312.4592,1407.9082 314.7755,1407.2449 317.0918,1406.5816 319.4082,1405.9184 321.7245,1405.2551 324.0408,1404.5918 326.3571,1403.9286 328.6735,1403.2653 330.9898,1402.602 333.3061,1401.9388 335.6224,1401.2755 337.9388,1400.6122 340.2551,1399.949 342.5714,1399.2857 344.8878,1398.6224 347.2041,1397.9592 349.5204,1397.2959 351.8367,1396.6327 354.1531,1395.9694 356.4694,1395.3061 358.7857,1394.6429 361.102,1393.9796 363.4184,1393.3163 365.7347,1392.6531 368.051,1391.9898 370.3673,1391.3265 372.6837,1390.6633 375.0,1390.0\" stroke=\"maroon\" stroke-width=\"2\" /><polyline fill=\"none\" points=\"375,1390 366.208,1388.3568 369.8727,1391.4682 368.4102,1396.0477 375,1390\" stroke=\"maroon\" stroke-width=\"2\" /><rect fill=\"white\" font-family=\"courier\" height=\"13\" rx=\"2\" ry=\"2\" stroke=\"maroon\" stroke-width=\"1\" transform=\"rotate(-15.978726775297405 260.0 1419.0)\" width=\"42.4074\" x=\"238.7963\" y=\"1412.5\" /><text fill=\"maroon\" font-family=\"courier\" font-size=\"12\" transform=\"rotate(-15.978726775297405 260.0 1419.0)\" x=\"241.7962962962963\" y=\"1422.5\">TrNAP</text><polyline fill=\"none\" points=\"509.0,755.0 511.5918,754.3367 514.1837,753.6735 516.7755,753.0102 519.3673,752.3469 521.9592,751.6837 524.551,751.0204 527.1429,750.3571 529.7347,749.6939 532.3265,749.0306 534.9184,748.3673 537.5102,747.7041 540.102,747.0408 542.6939,746.3776 545.2857,745.7143 547.8776,745.051 550.4694,744.3878 553.0612,743.7245 555.6531,743.0612 558.2449,742.398 560.8367,741.7347 563.4286,741.0714 566.0204,740.4082 568.6122,739.7449 571.2041,739.0816 573.7959,738.4184 576.3878,737.7551 578.9796,737.0918 581.5714,736.4286 584.1633,735.7653 586.7551,735.102 589.3469,734.4388 591.9388,733.7755 594.5306,733.1122 597.1224,732.449 599.7143,731.7857 602.3061,731.1224 604.898,730.4592 607.4898,729.7959 610.0816,729.1327 612.6735,728.4694 615.2653,727.8061 617.8571,727.1429 620.449,726.4796 623.0408,725.8163 625.6327,725.1531 628.2245,724.4898 630.8163,723.8265 633.4082,723.1633 636.0,722.5 636.0,722.5 638.5918,721.8367 641.1837,721.1735 643.7755,720.5102 646.3673,719.8469 648.9592,719.1837 651.551,718.5204 654.1429,717.8571 656.7347,717.1939 659.3265,716.5306 661.9184,715.8673 664.5102,715.2041 667.102,714.5408 669.6939,713.8776 672.2857,713.2143 674.8776,712.551 677.4694,711.8878 680.0612,711.2245 682.6531,710.5612 685.2449,709.898 687.8367,709.2347 690.4286,708.5714 693.0204,707.9082 695.6122,707.2449 698.2041,706.5816 700.7959,705.9184 703.3878,705.2551 705.9796,704.5918 708.5714,703.9286 711.1633,703.2653 713.7551,702.602 716.3469,701.9388 718.9388,701.2755 721.5306,700.6122 724.1224,699.949 726.7143,699.2857 729.3061,698.6224 731.898,697.9592 734.4898,697.2959 737.0816,696.6327 739.6735,695.9694 742.2653,695.3061 744.8571,694.6429 747.449,693.9796 750.0408,693.3163 752.6327,692.6531 755.2245,691.9898 757.8163,691.3265 760.4082,690.6633 763.0,690.0\" stroke=\"deepskyblue\" stroke-width=\"2\" /><polyline fill=\"none\" points=\"763,690 754.2581,688.1082 757.8332,691.3222 756.2414,695.8585 763,690\" stroke=\"deepskyblue\" stroke-width=\"2\" /><rect fill=\"white\" font-family=\"courier\" height=\"13\" rx=\"2\" ry=\"2\" stroke=\"deepskyblue\" stroke-width=\"1\" transform=\"rotate(-14.354255629728266 634.5 719.0)\" width=\"35.2222\" x=\"616.8889\" y=\"712.5\" /><text fill=\"deepskyblue\" font-family=\"courier\" font-size=\"12\" transform=\"rotate(-14.354255629728266 634.5 719.0)\" x=\"619.8888888888889\" y=\"722.5\">TrWP</text><polyline fill=\"none\" points=\"794.0,855.0 791.4082,854.3367 788.8163,853.6735 786.2245,853.0102 783.6327,852.3469 781.0408,851.6837 778.449,851.0204 775.8571,850.3571 773.2653,849.6939 770.6735,849.0306 768.0816,848.3673 765.4898,847.7041 762.898,847.0408 760.3061,846.3776 757.7143,845.7143 755.1224,845.051 752.5306,844.3878 749.9388,843.7245 747.3469,843.0612 744.7551,842.398 742.1633,841.7347 739.5714,841.0714 736.9796,840.4082 734.3878,839.7449 731.7959,839.0816 729.2041,838.4184 726.6122,837.7551 724.0204,837.0918 721.4286,836.4286 718.8367,835.7653 716.2449,835.102 713.6531,834.4388 711.0612,833.7755 708.4694,833.1122 705.8776,832.449 703.2857,831.7857 700.6939,831.1224 698.102,830.4592 695.5102,829.7959 692.9184,829.1327 690.3265,828.4694 687.7347,827.8061 685.1429,827.1429 682.551,826.4796 679.9592,825.8163 677.3673,825.1531 674.7755,824.4898 672.1837,823.8265 669.5918,823.1633 667.0,822.5 667.0,822.5 664.4082,821.8367 661.8163,821.1735 659.2245,820.5102 656.6327,819.8469 654.0408,819.1837 651.449,818.5204 648.8571,817.8571 646.2653,817.1939 643.6735,816.5306 641.0816,815.8673 638.4898,815.2041 635.898,814.5408 633.3061,813.8776 630.7143,813.2143 628.1224,812.551 625.5306,811.8878 622.9388,811.2245 620.3469,810.5612 617.7551,809.898 615.1633,809.2347 612.5714,808.5714 609.9796,807.9082 607.3878,807.2449 604.7959,806.5816 602.2041,805.9184 599.6122,805.2551 597.0204,804.5918 594.4286,803.9286 591.8367,803.2653 589.2449,802.602 586.6531,801.9388 584.0612,801.2755 581.4694,800.6122 578.8776,799.949 576.2857,799.2857 573.6939,798.6224 571.102,797.9592 568.5102,797.2959 565.9184,796.6327 563.3265,795.9694 560.7347,795.3061 558.1429,794.6429 555.551,793.9796 552.9592,793.3163 550.3673,792.6531 547.7755,791.9898 545.1837,791.3265 542.5918,790.6633 540.0,790.0\" stroke=\"purple\" stroke-width=\"2\" /><polyline fill=\"none\" points=\"540,790 546.7586,795.8585 545.1668,791.3222 548.7419,788.1082 540,790\" stroke=\"purple\" stroke-width=\"2\" /><rect fill=\"white\" font-family=\"courier\" height=\"13\" rx=\"2\" ry=\"2\" stroke=\"purple\" stroke-width=\"1\" transform=\"rotate(14.354255629728266 665.5 819.0)\" width=\"35.2222\" x=\"647.8889\" y=\"812.5\" /><text fill=\"purple\" font-family=\"courier\" font-size=\"12\" transform=\"rotate(14.354255629728266 665.5 819.0)\" x=\"650.8888888888889\" y=\"822.5\">TeRP</text><polyline fill=\"none\" points=\"104.0,255.0 106.7245,254.3367 109.449,253.6735 112.1735,253.0102 114.898,252.3469 117.6224,251.6837 120.3469,251.0204 123.0714,250.3571 125.7959,249.6939 128.5204,249.0306 131.2449,248.3673 133.9694,247.7041 136.6939,247.0408 139.4184,246.3776 142.1429,245.7143 144.8673,245.051 147.5918,244.3878 150.3163,243.7245 153.0408,243.0612 155.7653,242.398 158.4898,241.7347 161.2143,241.0714 163.9388,240.4082 166.6633,239.7449 169.3878,239.0816 172.1122,238.4184 174.8367,237.7551 177.5612,237.0918 180.2857,236.4286 183.0102,235.7653 185.7347,235.102 188.4592,234.4388 191.1837,233.7755 193.9082,233.1122 196.6327,232.449 199.3571,231.7857 202.0816,231.1224 204.8061,230.4592 207.5306,229.7959 210.2551,229.1327 212.9796,228.4694 215.7041,227.8061 218.4286,227.1429 221.1531,226.4796 223.8776,225.8163 226.602,225.1531 229.3265,224.4898 232.051,223.8265 234.7755,223.1633 237.5,222.5 237.5,222.5 240.2245,221.8367 242.949,221.1735 245.6735,220.5102 248.398,219.8469 251.1224,219.1837 253.8469,218.5204 256.5714,217.8571 259.2959,217.1939 262.0204,216.5306 264.7449,215.8673 267.4694,215.2041 270.1939,214.5408 272.9184,213.8776 275.6429,213.2143 278.3673,212.551 281.0918,211.8878 283.8163,211.2245 286.5408,210.5612 289.2653,209.898 291.9898,209.2347 294.7143,208.5714 297.4388,207.9082 300.1633,207.2449 302.8878,206.5816 305.6122,205.9184 308.3367,205.2551 311.0612,204.5918 313.7857,203.9286 316.5102,203.2653 319.2347,202.602 321.9592,201.9388 324.6837,201.2755 327.4082,200.6122 330.1327,199.949 332.8571,199.2857 335.5816,198.6224 338.3061,197.9592 341.0306,197.2959 343.7551,196.6327 346.4796,195.9694 349.2041,195.3061 351.9286,194.6429 354.6531,193.9796 357.3776,193.3163 360.102,192.6531 362.8265,191.9898 365.551,191.3265 368.2755,190.6633 371.0,190.0\" stroke=\"purple\" stroke-width=\"2\" /><polyline fill=\"none\" points=\"371,190 362.2809,188.0058 365.818,191.2615 364.1732,195.7788 371,190\" stroke=\"purple\" stroke-width=\"2\" /><rect fill=\"white\" font-family=\"courier\" height=\"13\" rx=\"2\" ry=\"2\" stroke=\"purple\" stroke-width=\"1\" transform=\"rotate(-13.682258160256879 236.0 219.0)\" width=\"35.2222\" x=\"218.3889\" y=\"212.5\" /><text fill=\"purple\" font-family=\"courier\" font-size=\"12\" transform=\"rotate(-13.682258160256879 236.0 219.0)\" x=\"221.38888888888889\" y=\"222.5\">TeRP</text><polyline fill=\"none\" points=\"499.0,755.0 494.6735,753.7961 490.3469,752.5931 486.0204,751.3921 481.6939,750.194 477.3673,748.9998 473.0408,747.8104 468.7143,746.6268 464.3878,745.45 460.0612,744.281 455.7347,743.1207 451.4082,741.9701 447.0816,740.8301 442.7551,739.7017 438.4286,738.586 434.102,737.4838 429.7755,736.3962 425.449,735.324 421.1224,734.2684 416.7959,733.2302 412.4694,732.2103 408.1429,731.2099 403.8163,730.2298 399.4898,729.2711 395.1633,728.3346 390.8367,727.4214 386.5102,726.5324 382.1837,725.6685 377.8571,724.8309 373.5306,724.0204 369.2041,723.238 364.8776,722.4846 360.551,721.7613 356.2245,721.069 351.898,720.4087 347.5714,719.7813 343.2449,719.1879 338.9184,718.6293 334.5918,718.1066 330.2653,717.6207 325.9388,717.1726 321.6122,716.7632 317.2857,716.3936 312.9592,716.0647 308.6327,715.7774 304.3061,715.5328 299.9796,715.3317 295.6531,715.1753 291.3265,715.0644 287.0,715.0 287.0,715.0 282.6735,714.9828 278.3469,715.012 274.0204,715.0869 269.6939,715.2062 265.3673,715.3692 261.0408,715.5749 256.7143,715.8222 252.3878,716.1101 248.0612,716.4379 243.7347,716.8044 239.4082,717.2086 235.0816,717.6497 230.7551,718.1267 226.4286,718.6385 222.102,719.1842 217.7755,719.7629 213.449,720.3736 209.1224,721.0152 204.7959,721.687 200.4694,722.3877 196.1429,723.1166 191.8163,723.8726 187.4898,724.6548 183.1633,725.4622 178.8367,726.2938 174.5102,727.1486 170.1837,728.0257 165.8571,728.9242 161.5306,729.843 157.2041,730.7812 152.8776,731.7378 148.551,732.7118 144.2245,733.7023 139.898,734.7083 135.5714,735.7289 131.2449,736.763 126.9184,737.8097 122.5918,738.868 118.2653,739.937 113.9388,741.0157 109.6122,742.1031 105.2857,743.1983 100.9592,744.3002 96.6327,745.4079 92.3061,746.5205 87.9796,747.637 83.6531,748.7564 79.3265,749.8777 75.0,751.0\" stroke=\"deepskyblue\" stroke-width=\"2\" /><polyline fill=\"none\" points=\"75,751 83.6663,753.2127 80.2121,749.8691 81.9699,745.3946 75,751\" stroke=\"deepskyblue\" stroke-width=\"2\" /><rect fill=\"white\" font-family=\"courier\" height=\"13\" rx=\"2\" ry=\"2\" stroke=\"deepskyblue\" stroke-width=\"1\" transform=\"rotate(0.5405101871306665 285.5 716.5)\" width=\"35.2222\" x=\"267.8889\" y=\"710\" /><text fill=\"deepskyblue\" font-family=\"courier\" font-size=\"12\" transform=\"rotate(0.5405101871306665 285.5 716.5)\" x=\"270.8888888888889\" y=\"720\">TrWP</text><polyline fill=\"none\" points=\"216.0,355.0 219.2143,354.3367 222.4286,353.6735 225.6429,353.0102 228.8571,352.3469 232.0714,351.6837 235.2857,351.0204 238.5,350.3571 241.7143,349.6939 244.9286,349.0306 248.1429,348.3673 251.3571,347.7041 254.5714,347.0408 257.7857,346.3776 261.0,345.7143 264.2143,345.051 267.4286,344.3878 270.6429,343.7245 273.8571,343.0612 277.0714,342.398 280.2857,341.7347 283.5,341.0714 286.7143,340.4082 289.9286,339.7449 293.1429,339.0816 296.3571,338.4184 299.5714,337.7551 302.7857,337.0918 306.0,336.4286 309.2143,335.7653 312.4286,335.102 315.6429,334.4388 318.8571,333.7755 322.0714,333.1122 325.2857,332.449 328.5,331.7857 331.7143,331.1224 334.9286,330.4592 338.1429,329.7959 341.3571,329.1327 344.5714,328.4694 347.7857,327.8061 351.0,327.1429 354.2143,326.4796 357.4286,325.8163 360.6429,325.1531 363.8571,324.4898 367.0714,323.8265 370.2857,323.1633 373.5,322.5 373.5,322.5 376.7143,321.8367 379.9286,321.1735 383.1429,320.5102 386.3571,319.8469 389.5714,319.1837 392.7857,318.5204 396.0,317.8571 399.2143,317.1939 402.4286,316.5306 405.6429,315.8673 408.8571,315.2041 412.0714,314.5408 415.2857,313.8776 418.5,313.2143 421.7143,312.551 424.9286,311.8878 428.1429,311.2245 431.3571,310.5612 434.5714,309.898 437.7857,309.2347 441.0,308.5714 444.2143,307.9082 447.4286,307.2449 450.6429,306.5816 453.8571,305.9184 457.0714,305.2551 460.2857,304.5918 463.5,303.9286 466.7143,303.2653 469.9286,302.602 473.1429,301.9388 476.3571,301.2755 479.5714,300.6122 482.7857,299.949 486.0,299.2857 489.2143,298.6224 492.4286,297.9592 495.6429,297.2959 498.8571,296.6327 502.0714,295.9694 505.2857,295.3061 508.5,294.6429 511.7143,293.9796 514.9286,293.3163 518.1429,292.6531 521.3571,291.9898 524.5714,291.3265 527.7857,290.6633 531.0,290.0\" stroke=\"purple\" stroke-width=\"2\" /><polyline fill=\"none\" points=\"531,290 522.3567,287.6993 525.7767,291.0778 523.9734,295.5342 531,290\" stroke=\"purple\" stroke-width=\"2\" /><rect fill=\"white\" font-family=\"courier\" height=\"13\" rx=\"2\" ry=\"2\" stroke=\"purple\" stroke-width=\"1\" transform=\"rotate(-11.659292653522998 372.0 319.0)\" width=\"35.2222\" x=\"354.3889\" y=\"312.5\" /><text fill=\"purple\" font-family=\"courier\" font-size=\"12\" transform=\"rotate(-11.659292653522998 372.0 319.0)\" x=\"357.3888888888889\" y=\"322.5\">TeRP</text><polyline fill=\"none\" points=\"216.0,555.0 219.1327,554.3367 222.2653,553.6735 225.398,553.0102 228.5306,552.3469 231.6633,551.6837 234.7959,551.0204 237.9286,550.3571 241.0612,549.6939 244.1939,549.0306 247.3265,548.3673 250.4592,547.7041 253.5918,547.0408 256.7245,546.3776 259.8571,545.7143 262.9898,545.051 266.1224,544.3878 269.2551,543.7245 272.3878,543.0612 275.5204,542.398 278.6531,541.7347 281.7857,541.0714 284.9184,540.4082 288.051,539.7449 291.1837,539.0816 294.3163,538.4184 297.449,537.7551 300.5816,537.0918 303.7143,536.4286 306.8469,535.7653 309.9796,535.102 313.1122,534.4388 316.2449,533.7755 319.3776,533.1122 322.5102,532.449 325.6429,531.7857 328.7755,531.1224 331.9082,530.4592 335.0408,529.7959 338.1735,529.1327 341.3061,528.4694 344.4388,527.8061 347.5714,527.1429 350.7041,526.4796 353.8367,525.8163 356.9694,525.1531 360.102,524.4898 363.2347,523.8265 366.3673,523.1633 369.5,522.5 369.5,522.5 372.6327,521.8367 375.7653,521.1735 378.898,520.5102 382.0306,519.8469 385.1633,519.1837 388.2959,518.5204 391.4286,517.8571 394.5612,517.1939 397.6939,516.5306 400.8265,515.8673 403.9592,515.2041 407.0918,514.5408 410.2245,513.8776 413.3571,513.2143 416.4898,512.551 419.6224,511.8878 422.7551,511.2245 425.8878,510.5612 429.0204,509.898 432.1531,509.2347 435.2857,508.5714 438.4184,507.9082 441.551,507.2449 444.6837,506.5816 447.8163,505.9184 450.949,505.2551 454.0816,504.5918 457.2143,503.9286 460.3469,503.2653 463.4796,502.602 466.6122,501.9388 469.7449,501.2755 472.8776,500.6122 476.0102,499.949 479.1429,499.2857 482.2755,498.6224 485.4082,497.9592 488.5408,497.2959 491.6735,496.6327 494.8061,495.9694 497.9388,495.3061 501.0714,494.6429 504.2041,493.9796 507.3367,493.3163 510.4694,492.6531 513.602,491.9898 516.7347,491.3265 519.8673,490.6633 523.0,490.0\" stroke=\"purple\" stroke-width=\"2\" /><polyline fill=\"none\" points=\"523,490 514.345,487.7438 517.7823,491.1047 516.002,495.5703 523,490\" stroke=\"purple\" stroke-width=\"2\" /><rect fill=\"white\" font-family=\"courier\" height=\"13\" rx=\"2\" ry=\"2\" stroke=\"purple\" stroke-width=\"1\" transform=\"rotate(-11.954482802493075 368.0 519.0)\" width=\"35.2222\" x=\"350.3889\" y=\"512.5\" /><text fill=\"purple\" font-family=\"courier\" font-size=\"12\" transform=\"rotate(-11.954482802493075 368.0 519.0)\" x=\"353.3888888888889\" y=\"522.5\">TeRP</text><polyline fill=\"none\" points=\"687.0,1155.0 681.7959,1153.7961 676.5918,1152.5931 671.3878,1151.3921 666.1837,1150.194 660.9796,1148.9998 655.7755,1147.8104 650.5714,1146.6268 645.3673,1145.45 640.1633,1144.281 634.9592,1143.1207 629.7551,1141.9701 624.551,1140.8301 619.3469,1139.7017 614.1429,1138.586 608.9388,1137.4838 603.7347,1136.3962 598.5306,1135.324 593.3265,1134.2684 588.1224,1133.2302 582.9184,1132.2103 577.7143,1131.2099 572.5102,1130.2298 567.3061,1129.2711 562.102,1128.3346 556.898,1127.4214 551.6939,1126.5324 546.4898,1125.6685 541.2857,1124.8309 536.0816,1124.0204 530.8776,1123.238 525.6735,1122.4846 520.4694,1121.7613 515.2653,1121.069 510.0612,1120.4087 504.8571,1119.7813 499.6531,1119.1879 494.449,1118.6293 489.2449,1118.1066 484.0408,1117.6207 478.8367,1117.1726 473.6327,1116.7632 468.4286,1116.3936 463.2245,1116.0647 458.0204,1115.7774 452.8163,1115.5328 447.6122,1115.3317 442.4082,1115.1753 437.2041,1115.0644 432.0,1115.0 432.0,1115.0 426.7959,1114.9828 421.5918,1115.012 416.3878,1115.0869 411.1837,1115.2062 405.9796,1115.3692 400.7755,1115.5749 395.5714,1115.8222 390.3673,1116.1101 385.1633,1116.4379 379.9592,1116.8044 374.7551,1117.2086 369.551,1117.6497 364.3469,1118.1267 359.1429,1118.6385 353.9388,1119.1842 348.7347,1119.7629 343.5306,1120.3736 338.3265,1121.0152 333.1224,1121.687 327.9184,1122.3877 322.7143,1123.1166 317.5102,1123.8726 312.3061,1124.6548 307.102,1125.4622 301.898,1126.2938 296.6939,1127.1486 291.4898,1128.0257 286.2857,1128.9242 281.0816,1129.843 275.8776,1130.7812 270.6735,1131.7378 265.4694,1132.7118 260.2653,1133.7023 255.0612,1134.7083 249.8571,1135.7289 244.6531,1136.763 239.449,1137.8097 234.2449,1138.868 229.0408,1139.937 223.8367,1141.0157 218.6327,1142.1031 213.4286,1143.1983 208.2245,1144.3002 203.0204,1145.4079 197.8163,1146.5205 192.6122,1147.637 187.4082,1148.7564 182.2041,1149.8777 177.0,1151.0\" stroke=\"purple\" stroke-width=\"2\" /><polyline fill=\"none\" points=\"177,1151 185.583,1153.5162 182.2486,1150.0532 184.1628,1145.6433 177,1151\" stroke=\"purple\" stroke-width=\"2\" /><rect fill=\"white\" font-family=\"courier\" height=\"13\" rx=\"2\" ry=\"2\" stroke=\"purple\" stroke-width=\"1\" transform=\"rotate(0.449369448707963 430.5 1116.5)\" width=\"35.2222\" x=\"412.8889\" y=\"1110\" /><text fill=\"purple\" font-family=\"courier\" font-size=\"12\" transform=\"rotate(0.449369448707963 430.5 1116.5)\" x=\"415.8888888888889\" y=\"1120\">TeRP</text><polyline fill=\"none\" points=\"124.0,1855.0 128.4388,1854.3367 132.8776,1853.6735 137.3163,1853.0102 141.7551,1852.3469 146.1939,1851.6837 150.6327,1851.0204 155.0714,1850.3571 159.5102,1849.6939 163.949,1849.0306 168.3878,1848.3673 172.8265,1847.7041 177.2653,1847.0408 181.7041,1846.3776 186.1429,1845.7143 190.5816,1845.051 195.0204,1844.3878 199.4592,1843.7245 203.898,1843.0612 208.3367,1842.398 212.7755,1841.7347 217.2143,1841.0714 221.6531,1840.4082 226.0918,1839.7449 230.5306,1839.0816 234.9694,1838.4184 239.4082,1837.7551 243.8469,1837.0918 248.2857,1836.4286 252.7245,1835.7653 257.1633,1835.102 261.602,1834.4388 266.0408,1833.7755 270.4796,1833.1122 274.9184,1832.449 279.3571,1831.7857 283.7959,1831.1224 288.2347,1830.4592 292.6735,1829.7959 297.1122,1829.1327 301.551,1828.4694 305.9898,1827.8061 310.4286,1827.1429 314.8673,1826.4796 319.3061,1825.8163 323.7449,1825.1531 328.1837,1824.4898 332.6224,1823.8265 337.0612,1823.1633 341.5,1822.5 341.5,1822.5 345.9388,1821.8367 350.3776,1821.1735 354.8163,1820.5102 359.2551,1819.8469 363.6939,1819.1837 368.1327,1818.5204 372.5714,1817.8571 377.0102,1817.1939 381.449,1816.5306 385.8878,1815.8673 390.3265,1815.2041 394.7653,1814.5408 399.2041,1813.8776 403.6429,1813.2143 408.0816,1812.551 412.5204,1811.8878 416.9592,1811.2245 421.398,1810.5612 425.8367,1809.898 430.2755,1809.2347 434.7143,1808.5714 439.1531,1807.9082 443.5918,1807.2449 448.0306,1806.5816 452.4694,1805.9184 456.9082,1805.2551 461.3469,1804.5918 465.7857,1803.9286 470.2245,1803.2653 474.6633,1802.602 479.102,1801.9388 483.5408,1801.2755 487.9796,1800.6122 492.4184,1799.949 496.8571,1799.2857 501.2959,1798.6224 505.7347,1797.9592 510.1735,1797.2959 514.6122,1796.6327 519.051,1795.9694 523.4898,1795.3061 527.9286,1794.6429 532.3673,1793.9796 536.8061,1793.3163 541.2449,1792.6531 545.6837,1791.9898 550.1224,1791.3265 554.5612,1790.6633 559.0,1790.0\" stroke=\"purple\" stroke-width=\"2\" /><polyline fill=\"none\" points=\"559,1790 550.4967,1787.2262 553.7252,1790.7882 551.679,1795.1384 559,1790\" stroke=\"purple\" stroke-width=\"2\" /><rect fill=\"white\" font-family=\"courier\" height=\"13\" rx=\"2\" ry=\"2\" stroke=\"purple\" stroke-width=\"1\" transform=\"rotate(-8.498558879493682 340.0 1819.0)\" width=\"35.2222\" x=\"322.3889\" y=\"1812.5\" /><text fill=\"purple\" font-family=\"courier\" font-size=\"12\" transform=\"rotate(-8.498558879493682 340.0 1819.0)\" x=\"325.3888888888889\" y=\"1822.5\">TeRP</text><polyline fill=\"none\" points=\"177.0,1155.0 182.1837,1153.3163 187.3673,1151.6327 192.551,1149.949 197.7347,1148.2653 202.9184,1146.5816 208.102,1144.898 213.2857,1143.2143 218.4694,1141.5306 223.6531,1139.8469 228.8367,1138.1633 234.0204,1136.4796 239.2041,1134.7959 244.3878,1133.1122 249.5714,1131.4286 254.7551,1129.7449 259.9388,1128.0612 265.1224,1126.3776 270.3061,1124.6939 275.4898,1123.0102 280.6735,1121.3265 285.8571,1119.6429 291.0408,1117.9592 296.2245,1116.2755 301.4082,1114.5918 306.5918,1112.9082 311.7755,1111.2245 316.9592,1109.5408 322.1429,1107.8571 327.3265,1106.1735 332.5102,1104.4898 337.6939,1102.8061 342.8776,1101.1224 348.0612,1099.4388 353.2449,1097.7551 358.4286,1096.0714 363.6122,1094.3878 368.7959,1092.7041 373.9796,1091.0204 379.1633,1089.3367 384.3469,1087.6531 389.5306,1085.9694 394.7143,1084.2857 399.898,1082.602 405.0816,1080.9184 410.2653,1079.2347 415.449,1077.551 420.6327,1075.8673 425.8163,1074.1837 431.0,1072.5 431.0,1072.5 436.1837,1070.8163 441.3673,1069.1327 446.551,1067.449 451.7347,1065.7653 456.9184,1064.0816 462.102,1062.398 467.2857,1060.7143 472.4694,1059.0306 477.6531,1057.3469 482.8367,1055.6633 488.0204,1053.9796 493.2041,1052.2959 498.3878,1050.6122 503.5714,1048.9286 508.7551,1047.2449 513.9388,1045.5612 519.1224,1043.8776 524.3061,1042.1939 529.4898,1040.5102 534.6735,1038.8265 539.8571,1037.1429 545.0408,1035.4592 550.2245,1033.7755 555.4082,1032.0918 560.5918,1030.4082 565.7755,1028.7245 570.9592,1027.0408 576.1429,1025.3571 581.3265,1023.6735 586.5102,1021.9898 591.6939,1020.3061 596.8776,1018.6224 602.0612,1016.9388 607.2449,1015.2551 612.4286,1013.5714 617.6122,1011.8878 622.7959,1010.2041 627.9796,1008.5204 633.1633,1006.8367 638.3469,1005.1531 643.5306,1003.4694 648.7143,1001.7857 653.898,1000.102 659.0816,998.4184 664.2653,996.7347 669.449,995.051 674.6327,993.3673 679.8163,991.6837 685.0,990.0\" stroke=\"purple\" stroke-width=\"2\" /><polyline fill=\"none\" points=\"685,990 676.1556,988.667 679.9275,991.6476 678.627,996.2757 685,990\" stroke=\"purple\" stroke-width=\"2\" /><rect fill=\"white\" font-family=\"courier\" height=\"13\" rx=\"2\" ry=\"2\" stroke=\"purple\" stroke-width=\"1\" transform=\"rotate(-17.99395982021873 429.5 1069.0)\" width=\"35.2222\" x=\"411.8889\" y=\"1062.5\" /><text fill=\"purple\" font-family=\"courier\" font-size=\"12\" transform=\"rotate(-17.99395982021873 429.5 1069.0)\" x=\"414.8888888888889\" y=\"1072.5\">TeRP</text><polyline fill=\"none\" points=\"211.0,555.0 216.7449,553.3163 222.4898,551.6327 228.2347,549.949 233.9796,548.2653 239.7245,546.5816 245.4694,544.898 251.2143,543.2143 256.9592,541.5306 262.7041,539.8469 268.449,538.1633 274.1939,536.4796 279.9388,534.7959 285.6837,533.1122 291.4286,531.4286 297.1735,529.7449 302.9184,528.0612 308.6633,526.3776 314.4082,524.6939 320.1531,523.0102 325.898,521.3265 331.6429,519.6429 337.3878,517.9592 343.1327,516.2755 348.8776,514.5918 354.6224,512.9082 360.3673,511.2245 366.1122,509.5408 371.8571,507.8571 377.602,506.1735 383.3469,504.4898 389.0918,502.8061 394.8367,501.1224 400.5816,499.4388 406.3265,497.7551 412.0714,496.0714 417.8163,494.3878 423.5612,492.7041 429.3061,491.0204 435.051,489.3367 440.7959,487.6531 446.5408,485.9694 452.2857,484.2857 458.0306,482.602 463.7755,480.9184 469.5204,479.2347 475.2653,477.551 481.0102,475.8673 486.7551,474.1837 492.5,472.5 492.5,472.5 498.2449,470.8163 503.9898,469.1327 509.7347,467.449 515.4796,465.7653 521.2245,464.0816 526.9694,462.398 532.7143,460.7143 538.4592,459.0306 544.2041,457.3469 549.949,455.6633 555.6939,453.9796 561.4388,452.2959 567.1837,450.6122 572.9286,448.9286 578.6735,447.2449 584.4184,445.5612 590.1633,443.8776 595.9082,442.1939 601.6531,440.5102 607.398,438.8265 613.1429,437.1429 618.8878,435.4592 624.6327,433.7755 630.3776,432.0918 636.1224,430.4082 641.8673,428.7245 647.6122,427.0408 653.3571,425.3571 659.102,423.6735 664.8469,421.9898 670.5918,420.3061 676.3367,418.6224 682.0816,416.9388 687.8265,415.2551 693.5714,413.5714 699.3163,411.8878 705.0612,410.2041 710.8061,408.5204 716.551,406.8367 722.2959,405.1531 728.0408,403.4694 733.7857,401.7857 739.5306,400.102 745.2755,398.4184 751.0204,396.7347 756.7653,395.051 762.5102,393.3673 768.2551,391.6837 774.0,390.0\" stroke=\"purple\" stroke-width=\"2\" /><polyline fill=\"none\" points=\"774,390 765.1979,388.4114 768.8819,391.5 767.4479,396.0885 774,390\" stroke=\"purple\" stroke-width=\"2\" /><rect fill=\"white\" font-family=\"courier\" height=\"13\" rx=\"2\" ry=\"2\" stroke=\"purple\" stroke-width=\"1\" transform=\"rotate(-16.33442705792688 491.0 469.0)\" width=\"35.2222\" x=\"473.3889\" y=\"462.5\" /><text fill=\"purple\" font-family=\"courier\" font-size=\"12\" transform=\"rotate(-16.33442705792688 491.0 469.0)\" x=\"476.3888888888889\" y=\"472.5\">TeRP</text><polyline fill=\"none\" points=\"80.0,755.0 87.0204,754.3367 94.0408,753.6735 101.0612,753.0102 108.0816,752.3469 115.102,751.6837 122.1224,751.0204 129.1429,750.3571 136.1633,749.6939 143.1837,749.0306 150.2041,748.3673 157.2245,747.7041 164.2449,747.0408 171.2653,746.3776 178.2857,745.7143 185.3061,745.051 192.3265,744.3878 199.3469,743.7245 206.3673,743.0612 213.3878,742.398 220.4082,741.7347 227.4286,741.0714 234.449,740.4082 241.4694,739.7449 248.4898,739.0816 255.5102,738.4184 262.5306,737.7551 269.551,737.0918 276.5714,736.4286 283.5918,735.7653 290.6122,735.102 297.6327,734.4388 304.6531,733.7755 311.6735,733.1122 318.6939,732.449 325.7143,731.7857 332.7347,731.1224 339.7551,730.4592 346.7755,729.7959 353.7959,729.1327 360.8163,728.4694 367.8367,727.8061 374.8571,727.1429 381.8776,726.4796 388.898,725.8163 395.9184,725.1531 402.9388,724.4898 409.9592,723.8265 416.9796,723.1633 424.0,722.5 424.0,722.5 431.0204,721.8367 438.0408,721.1735 445.0612,720.5102 452.0816,719.8469 459.102,719.1837 466.1224,718.5204 473.1429,717.8571 480.1633,717.1939 487.1837,716.5306 494.2041,715.8673 501.2245,715.2041 508.2449,714.5408 515.2653,713.8776 522.2857,713.2143 529.3061,712.551 536.3265,711.8878 543.3469,711.2245 550.3673,710.5612 557.3878,709.898 564.4082,709.2347 571.4286,708.5714 578.449,707.9082 585.4694,707.2449 592.4898,706.5816 599.5102,705.9184 606.5306,705.2551 613.551,704.5918 620.5714,703.9286 627.5918,703.2653 634.6122,702.602 641.6327,701.9388 648.6531,701.2755 655.6735,700.6122 662.6939,699.949 669.7143,699.2857 676.7347,698.6224 683.7551,697.9592 690.7755,697.2959 697.7959,696.6327 704.8163,695.9694 711.8367,695.3061 718.8571,694.6429 725.8776,693.9796 732.898,693.3163 739.9184,692.6531 746.9388,691.9898 753.9592,691.3265 760.9796,690.6633 768.0,690.0\" stroke=\"springgreen\" stroke-width=\"2\" /><polyline fill=\"none\" points=\"768,690 759.6592,686.7702 762.6903,690.5016 760.4117,694.7347 768,690\" stroke=\"springgreen\" stroke-width=\"2\" /><rect fill=\"white\" font-family=\"courier\" height=\"13\" rx=\"2\" ry=\"2\" stroke=\"springgreen\" stroke-width=\"1\" transform=\"rotate(-5.3970988402365725 422.5 719.0)\" width=\"35.2222\" x=\"404.8889\" y=\"712.5\" /><text fill=\"springgreen\" font-family=\"courier\" font-size=\"12\" transform=\"rotate(-5.3970988402365725 422.5 719.0)\" x=\"407.8888888888889\" y=\"722.5\">TrCP</text></svg>"
      ],
      "text/plain": [
       "<IPython.core.display.HTML object>"
      ]
     },
     "metadata": {
      "tags": []
     },
     "output_type": "display_data"
    }
   ],
   "source": [
    "text = [\n",
    "        \"\"\"This is the case of a very pleasant 46-year-old Caucasian female, seen in clinic on 12/11/07 during which time MRI of the left shoulder showed no evidence of rotator cuff tear. She did have a previous MRI of the cervical spine that did show an osteophyte on the left C6-C7 level. Based on this, negative MRI of the shoulder, the patient was recommended to have anterior cervical discectomy with anterior interbody fusion at C6-C7 level. Operation, expected outcome, risks, and benefits were discussed with her. Risks include, but not exclusive of bleeding and infection, bleeding could be soft tissue bleeding, which may compromise airway and may result in return to the operating room emergently for evacuation of said hematoma. There is also the possibility of bleeding into the epidural space, which can compress the spinal cord and result in weakness and numbness of all four extremities as well as impairment of bowel and bladder function. However, the patient may develop deeper-seated infection, which may require return to the operating room. Should the infection be in the area of the spinal instrumentation, this will cause a dilemma since there might be a need to remove the spinal instrumentation and/or allograft. There is also the possibility of potential injury to the esophageus, the trachea, and the carotid artery. There is also the risks of stroke on the right cerebral circulation should an undiagnosed plaque be propelled from the right carotid. She understood all of these risks and agreed to have the procedure performed.\"\"\",\n",
    "]\n",
    "res = lmodel.fullAnnotate(text)[0]\n",
    "\n",
    "from sparknlp_display import RelationExtractionVisualizer\n",
    "\n",
    "vis = RelationExtractionVisualizer()\n",
    "vis.display(res, 'relations', show_relations=True) # default show_relations: True\n"
   ]
  },
  {
   "cell_type": "markdown",
   "metadata": {
    "id": "8bQmNVDJ1aQT"
   },
   "source": [
    "# **Entity Resolution Visualisation**"
   ]
  },
  {
   "cell_type": "code",
   "execution_count": 20,
   "metadata": {
    "colab": {
     "base_uri": "https://localhost:8080/"
    },
    "id": "ZfOj1kVE1jPL",
    "outputId": "10b22c56-a1a6-42d4-bc5a-d2fe89309316"
   },
   "outputs": [
    {
     "name": "stdout",
     "output_type": "stream",
     "text": [
      "embeddings_clinical download started this may take some time.\n",
      "Approximate size to download 1.6 GB\n",
      "[OK!]\n",
      "ner_clinical download started this may take some time.\n",
      "Approximate size to download 13.8 MB\n",
      "[OK!]\n",
      "chunkresolve_snomed_findings_clinical download started this may take some time.\n",
      "Approximate size to download 162.6 MB\n",
      "[OK!]\n"
     ]
    }
   ],
   "source": [
    "document_assembler = DocumentAssembler() \\\n",
    "    .setInputCol('text')\\\n",
    "    .setOutputCol('document')\n",
    "\n",
    "sentence_detector = SentenceDetector() \\\n",
    "    .setInputCols(['document'])\\\n",
    "    .setOutputCol('sentences')\n",
    "\n",
    "tokenizer = Tokenizer()\\\n",
    "    .setInputCols(['sentences']) \\\n",
    "    .setOutputCol('tokens')\n",
    "\n",
    "embeddings = WordEmbeddingsModel.pretrained('embeddings_clinical', 'en', 'clinical/models')\\\n",
    "    .setInputCols([\"sentences\", \"tokens\"])\\\n",
    "    .setOutputCol(\"embeddings\")\n",
    "\n",
    "ner_model = NerDLModel().pretrained('ner_clinical', 'en', 'clinical/models')\\\n",
    "    .setInputCols(\"sentences\", \"tokens\", \"embeddings\")\\\n",
    "    .setOutputCol(\"ner_tags\")   \n",
    "\n",
    "ner_chunker = NerConverter()\\\n",
    "    .setInputCols([\"sentences\", \"tokens\", \"ner_tags\"])\\\n",
    "    .setOutputCol(\"ner_chunk\")#.setWhiteList(['PROBLEM','TREATMENT'])\n",
    "\n",
    "chunk_embeddings = ChunkEmbeddings()\\\n",
    "    .setInputCols(\"ner_chunk\", \"embeddings\")\\\n",
    "    .setOutputCol(\"chunk_embeddings\")\n",
    "\n",
    "entity_resolver = \\\n",
    "    ChunkEntityResolverModel.pretrained(\"chunkresolve_snomed_findings_clinical\",\"en\",\"clinical/models\")\\\n",
    "    .setInputCols(\"tokens\",\"chunk_embeddings\").setOutputCol(\"resolution\")\n",
    "    \n",
    "pipeline = Pipeline(stages=[\n",
    "    document_assembler, \n",
    "    sentence_detector,\n",
    "    tokenizer,\n",
    "    embeddings,\n",
    "    ner_model,\n",
    "    ner_chunker,\n",
    "    chunk_embeddings,\n",
    "    entity_resolver])\n",
    "\n",
    "empty_df = spark.createDataFrame([['']]).toDF(\"text\")\n",
    "pipelineModel = pipeline.fit(empty_df)\n",
    "\n",
    "lmodel = sparknlp.base.LightPipeline(pipelineModel)"
   ]
  },
  {
   "cell_type": "code",
   "execution_count": 21,
   "metadata": {
    "colab": {
     "base_uri": "https://localhost:8080/",
     "height": 1000
    },
    "id": "QCzoW-sO1j3l",
    "outputId": "d6a911ca-2e12-46f3-f149-b9174d6195d2"
   },
   "outputs": [
    {
     "data": {
      "text/html": [
       "\n",
       "<style>\n",
       "    @import url('https://fonts.googleapis.com/css2?family=Montserrat:wght@300;400;500;600;700&display=swap');\n",
       "    @import url('https://fonts.googleapis.com/css2?family=Vistol Regular:wght@300;400;500;600;700&display=swap');\n",
       "    \n",
       "    .spark-nlp-display-scroll-entities {\n",
       "        border: 1px solid #E7EDF0;\n",
       "        border-radius: 3px;\n",
       "        text-align: justify;\n",
       "        \n",
       "    }\n",
       "    .spark-nlp-display-scroll-entities span {  \n",
       "        font-size: 14px;\n",
       "        line-height: 24px;\n",
       "        color: #536B76;\n",
       "        font-family: 'Montserrat', sans-serif !important;\n",
       "    }\n",
       "    \n",
       "    .spark-nlp-display-entity-wrapper{\n",
       "    \n",
       "        display: inline-grid;\n",
       "        text-align: center;\n",
       "        border-radius: 4px;\n",
       "        margin: 0 2px 5px 2px;\n",
       "        padding: 1px\n",
       "    }\n",
       "    .spark-nlp-display-entity-name{\n",
       "        font-size: 14px;\n",
       "        line-height: 24px;\n",
       "        font-family: 'Montserrat', sans-serif !important;\n",
       "        \n",
       "        background: #f1f2f3;\n",
       "        border-width: medium;\n",
       "        text-align: center;\n",
       "        \n",
       "        font-weight: 400;\n",
       "        \n",
       "        border-radius: 5px;\n",
       "        padding: 2px 5px;\n",
       "        display: block;\n",
       "        margin: 3px 2px;\n",
       "    \n",
       "    }\n",
       "    .spark-nlp-display-entity-type{\n",
       "        font-size: 14px;\n",
       "        line-height: 24px;\n",
       "        color: #ffffff;\n",
       "        font-family: 'Montserrat', sans-serif !important;\n",
       "        \n",
       "        text-transform: uppercase;\n",
       "        \n",
       "        font-weight: 500;\n",
       "\n",
       "        display: block;\n",
       "        padding: 3px 5px;\n",
       "    }\n",
       "    \n",
       "    .spark-nlp-display-entity-resolution{\n",
       "        font-size: 14px;\n",
       "        line-height: 24px;\n",
       "        color: #ffffff;\n",
       "        font-family: 'Vistol Regular', sans-serif !important;\n",
       "        \n",
       "        text-transform: uppercase;\n",
       "        \n",
       "        font-weight: 500;\n",
       "\n",
       "        display: block;\n",
       "        padding: 3px 5px;\n",
       "    }\n",
       "    \n",
       "    .spark-nlp-display-others{\n",
       "        font-size: 14px;\n",
       "        line-height: 24px;\n",
       "        font-family: 'Montserrat', sans-serif !important;\n",
       "        \n",
       "        font-weight: 400;\n",
       "    }\n",
       "\n",
       "</style>\n",
       " <span class=\"spark-nlp-display-others\" style=\"background-color: white\">This is the case of a very pleasant 46-year-old Caucasian female, seen in clinic on 12/11/07 during which </span><span class=\"spark-nlp-display-entity-wrapper\" style=\"background-color: #e6ccffB3\"><span class=\"spark-nlp-display-entity-name\">time MRI of the left shoulder </span><span class=\"spark-nlp-display-entity-type\">TEST</span><span class=\"spark-nlp-display-entity-resolution\" style=\"background-color: #e6ccffFF\">11780921000119100 </span><span class=\"spark-nlp-display-entity-resolution\" style=\"background-color: #e6ccffCC\">Injury of left shoulder</span></span><span class=\"spark-nlp-display-others\" style=\"background-color: white\"> showed no evidence of </span><span class=\"spark-nlp-display-entity-wrapper\" style=\"background-color: #800080B3\"><span class=\"spark-nlp-display-entity-name\">rotator cuff tear </span><span class=\"spark-nlp-display-entity-type\">PROBLEM</span><span class=\"spark-nlp-display-entity-resolution\" style=\"background-color: #800080FF\">4106009 </span><span class=\"spark-nlp-display-entity-resolution\" style=\"background-color: #800080CC\">Rotator cuff tear</span></span><span class=\"spark-nlp-display-others\" style=\"background-color: white\">. She did have </span><span class=\"spark-nlp-display-entity-wrapper\" style=\"background-color: #e6ccffB3\"><span class=\"spark-nlp-display-entity-name\">a previous MRI of the cervical spine </span><span class=\"spark-nlp-display-entity-type\">TEST</span><span class=\"spark-nlp-display-entity-resolution\" style=\"background-color: #e6ccffFF\">116275003 </span><span class=\"spark-nlp-display-entity-resolution\" style=\"background-color: #e6ccffCC\">Finding of cervical spine</span></span><span class=\"spark-nlp-display-others\" style=\"background-color: white\"> that did show </span><span class=\"spark-nlp-display-entity-wrapper\" style=\"background-color: #800080B3\"><span class=\"spark-nlp-display-entity-name\">an osteophyte on the left C6-C7 level </span><span class=\"spark-nlp-display-entity-type\">PROBLEM</span><span class=\"spark-nlp-display-entity-resolution\" style=\"background-color: #800080FF\">316551000119104 </span><span class=\"spark-nlp-display-entity-resolution\" style=\"background-color: #800080CC\">Osteophyte of left ankle (disorder)</span></span><span class=\"spark-nlp-display-others\" style=\"background-color: white\">. Based on this, negative </span><span class=\"spark-nlp-display-entity-wrapper\" style=\"background-color: #e6ccffB3\"><span class=\"spark-nlp-display-entity-name\">MRI of the shoulder </span><span class=\"spark-nlp-display-entity-type\">TEST</span><span class=\"spark-nlp-display-entity-resolution\" style=\"background-color: #e6ccffFF\">267949000 </span><span class=\"spark-nlp-display-entity-resolution\" style=\"background-color: #e6ccffCC\">Arthralgia of the shoulder region</span></span><span class=\"spark-nlp-display-others\" style=\"background-color: white\">, the patient was recommended to have </span><span class=\"spark-nlp-display-entity-wrapper\" style=\"background-color: #008080B3\"><span class=\"spark-nlp-display-entity-name\">anterior cervical discectomy </span><span class=\"spark-nlp-display-entity-type\">TREATMENT</span><span class=\"spark-nlp-display-entity-resolution\" style=\"background-color: #008080FF\">109402007 </span><span class=\"spark-nlp-display-entity-resolution\" style=\"background-color: #008080CC\">Anterior perimaxillary faciosynostosis</span></span><span class=\"spark-nlp-display-others\" style=\"background-color: white\"> with </span><span class=\"spark-nlp-display-entity-wrapper\" style=\"background-color: #008080B3\"><span class=\"spark-nlp-display-entity-name\">anterior interbody fusion at C6-C7 level </span><span class=\"spark-nlp-display-entity-type\">TREATMENT</span><span class=\"spark-nlp-display-entity-resolution\" style=\"background-color: #008080FF\">721515003 </span><span class=\"spark-nlp-display-entity-resolution\" style=\"background-color: #008080CC\">Anterior cord syndrome of spinal cord at fourth lumbar level</span></span><span class=\"spark-nlp-display-others\" style=\"background-color: white\">. Operation, expected outcome, risks, and benefits were discussed with her. Risks include, but not exclusive of </span><span class=\"spark-nlp-display-entity-wrapper\" style=\"background-color: #800080B3\"><span class=\"spark-nlp-display-entity-name\">bleeding </span><span class=\"spark-nlp-display-entity-type\">PROBLEM</span><span class=\"spark-nlp-display-entity-resolution\" style=\"background-color: #800080FF\">266603000 </span><span class=\"spark-nlp-display-entity-resolution\" style=\"background-color: #800080CC\">Ovulation bleeding</span></span><span class=\"spark-nlp-display-others\" style=\"background-color: white\"> and </span><span class=\"spark-nlp-display-entity-wrapper\" style=\"background-color: #800080B3\"><span class=\"spark-nlp-display-entity-name\">infection </span><span class=\"spark-nlp-display-entity-type\">PROBLEM</span><span class=\"spark-nlp-display-entity-resolution\" style=\"background-color: #800080FF\">128351009 </span><span class=\"spark-nlp-display-entity-resolution\" style=\"background-color: #800080CC\">Eye infection</span></span><span class=\"spark-nlp-display-others\" style=\"background-color: white\">, </span><span class=\"spark-nlp-display-entity-wrapper\" style=\"background-color: #800080B3\"><span class=\"spark-nlp-display-entity-name\">bleeding </span><span class=\"spark-nlp-display-entity-type\">PROBLEM</span><span class=\"spark-nlp-display-entity-resolution\" style=\"background-color: #800080FF\">266603000 </span><span class=\"spark-nlp-display-entity-resolution\" style=\"background-color: #800080CC\">Ovulation bleeding</span></span><span class=\"spark-nlp-display-others\" style=\"background-color: white\"> could be </span><span class=\"spark-nlp-display-entity-wrapper\" style=\"background-color: #800080B3\"><span class=\"spark-nlp-display-entity-name\">soft tissue bleeding </span><span class=\"spark-nlp-display-entity-type\">PROBLEM</span><span class=\"spark-nlp-display-entity-resolution\" style=\"background-color: #800080FF\">95880003 </span><span class=\"spark-nlp-display-entity-resolution\" style=\"background-color: #800080CC\">Soft tissue infection</span></span><span class=\"spark-nlp-display-others\" style=\"background-color: white\">, which may compromise airway and may result in return to the operating room emergently for </span><span class=\"spark-nlp-display-entity-wrapper\" style=\"background-color: #008080B3\"><span class=\"spark-nlp-display-entity-name\">evacuation </span><span class=\"spark-nlp-display-entity-type\">TREATMENT</span><span class=\"spark-nlp-display-entity-resolution\" style=\"background-color: #008080FF\">249515001 </span><span class=\"spark-nlp-display-entity-resolution\" style=\"background-color: #008080CC\">Incomplete bowel evacuation</span></span><span class=\"spark-nlp-display-others\" style=\"background-color: white\"> of said </span><span class=\"spark-nlp-display-entity-wrapper\" style=\"background-color: #800080B3\"><span class=\"spark-nlp-display-entity-name\">hematoma </span><span class=\"spark-nlp-display-entity-type\">PROBLEM</span><span class=\"spark-nlp-display-entity-resolution\" style=\"background-color: #800080FF\">236002003 </span><span class=\"spark-nlp-display-entity-resolution\" style=\"background-color: #800080CC\">Retroperitoneal hematoma</span></span><span class=\"spark-nlp-display-others\" style=\"background-color: white\">. There is also the possibility of </span><span class=\"spark-nlp-display-entity-wrapper\" style=\"background-color: #800080B3\"><span class=\"spark-nlp-display-entity-name\">bleeding into the epidural space </span><span class=\"spark-nlp-display-entity-type\">PROBLEM</span><span class=\"spark-nlp-display-entity-resolution\" style=\"background-color: #800080FF\">450379002 </span><span class=\"spark-nlp-display-entity-resolution\" style=\"background-color: #800080CC\">Haemorrhage into epidural space of spine</span></span><span class=\"spark-nlp-display-others\" style=\"background-color: white\">, which can compress the spinal cord and result in </span><span class=\"spark-nlp-display-entity-wrapper\" style=\"background-color: #800080B3\"><span class=\"spark-nlp-display-entity-name\">weakness </span><span class=\"spark-nlp-display-entity-type\">PROBLEM</span><span class=\"spark-nlp-display-entity-resolution\" style=\"background-color: #800080FF\">13791008 </span><span class=\"spark-nlp-display-entity-resolution\" style=\"background-color: #800080CC\">Weakness</span></span><span class=\"spark-nlp-display-others\" style=\"background-color: white\"> and </span><span class=\"spark-nlp-display-entity-wrapper\" style=\"background-color: #800080B3\"><span class=\"spark-nlp-display-entity-name\">numbness of all four extremities </span><span class=\"spark-nlp-display-entity-type\">PROBLEM</span><span class=\"spark-nlp-display-entity-resolution\" style=\"background-color: #800080FF\">609554006 </span><span class=\"spark-nlp-display-entity-resolution\" style=\"background-color: #800080CC\">Paralytic syndrome of all four limbs</span></span><span class=\"spark-nlp-display-others\" style=\"background-color: white\"> as well as </span><span class=\"spark-nlp-display-entity-wrapper\" style=\"background-color: #800080B3\"><span class=\"spark-nlp-display-entity-name\">impairment of bowel and bladder function </span><span class=\"spark-nlp-display-entity-type\">PROBLEM</span><span class=\"spark-nlp-display-entity-resolution\" style=\"background-color: #800080FF\">129023004 </span><span class=\"spark-nlp-display-entity-resolution\" style=\"background-color: #800080CC\">Maintains bowel and bladder continence</span></span><span class=\"spark-nlp-display-others\" style=\"background-color: white\">. However, the patient may develop </span><span class=\"spark-nlp-display-entity-wrapper\" style=\"background-color: #800080B3\"><span class=\"spark-nlp-display-entity-name\">deeper-seated infection </span><span class=\"spark-nlp-display-entity-type\">PROBLEM</span><span class=\"spark-nlp-display-entity-resolution\" style=\"background-color: #800080FF\">419468003 </span><span class=\"spark-nlp-display-entity-resolution\" style=\"background-color: #800080CC\">Gardnerella infection</span></span><span class=\"spark-nlp-display-others\" style=\"background-color: white\">, which may require return to the operating room. Should </span><span class=\"spark-nlp-display-entity-wrapper\" style=\"background-color: #800080B3\"><span class=\"spark-nlp-display-entity-name\">the infection </span><span class=\"spark-nlp-display-entity-type\">PROBLEM</span><span class=\"spark-nlp-display-entity-resolution\" style=\"background-color: #800080FF\">419468003 </span><span class=\"spark-nlp-display-entity-resolution\" style=\"background-color: #800080CC\">Gardnerella infection</span></span><span class=\"spark-nlp-display-others\" style=\"background-color: white\"> be in the area of </span><span class=\"spark-nlp-display-entity-wrapper\" style=\"background-color: #008080B3\"><span class=\"spark-nlp-display-entity-name\">the spinal instrumentation </span><span class=\"spark-nlp-display-entity-type\">TREATMENT</span><span class=\"spark-nlp-display-entity-resolution\" style=\"background-color: #008080FF\">307211004 </span><span class=\"spark-nlp-display-entity-resolution\" style=\"background-color: #008080CC\">Nonunion of spinal fusion</span></span><span class=\"spark-nlp-display-others\" style=\"background-color: white\">, this will cause a dilemma since there might be a need to remove </span><span class=\"spark-nlp-display-entity-wrapper\" style=\"background-color: #008080B3\"><span class=\"spark-nlp-display-entity-name\">the spinal instrumentation </span><span class=\"spark-nlp-display-entity-type\">TREATMENT</span><span class=\"spark-nlp-display-entity-resolution\" style=\"background-color: #008080FF\">307211004 </span><span class=\"spark-nlp-display-entity-resolution\" style=\"background-color: #008080CC\">Nonunion of spinal fusion</span></span><span class=\"spark-nlp-display-others\" style=\"background-color: white\"> and/or </span><span class=\"spark-nlp-display-entity-wrapper\" style=\"background-color: #008080B3\"><span class=\"spark-nlp-display-entity-name\">allograft </span><span class=\"spark-nlp-display-entity-type\">TREATMENT</span><span class=\"spark-nlp-display-entity-resolution\" style=\"background-color: #008080FF\">314002005 </span><span class=\"spark-nlp-display-entity-resolution\" style=\"background-color: #008080CC\">Corneal allograft rejection</span></span><span class=\"spark-nlp-display-others\" style=\"background-color: white\">. There is also the possibility of </span><span class=\"spark-nlp-display-entity-wrapper\" style=\"background-color: #800080B3\"><span class=\"spark-nlp-display-entity-name\">potential injury to the esophageus, the trachea, and the carotid artery </span><span class=\"spark-nlp-display-entity-type\">PROBLEM</span><span class=\"spark-nlp-display-entity-resolution\" style=\"background-color: #800080FF\">285709007 </span><span class=\"spark-nlp-display-entity-resolution\" style=\"background-color: #800080CC\">Injury of artery of head and neck (disorder)</span></span><span class=\"spark-nlp-display-others\" style=\"background-color: white\">. There is also the risks of </span><span class=\"spark-nlp-display-entity-wrapper\" style=\"background-color: #800080B3\"><span class=\"spark-nlp-display-entity-name\">stroke on the right cerebral circulation </span><span class=\"spark-nlp-display-entity-type\">PROBLEM</span><span class=\"spark-nlp-display-entity-resolution\" style=\"background-color: #800080FF\">230696001 </span><span class=\"spark-nlp-display-entity-resolution\" style=\"background-color: #800080CC\">Posterior cerebral circulation stroke</span></span><span class=\"spark-nlp-display-others\" style=\"background-color: white\"> should </span><span class=\"spark-nlp-display-entity-wrapper\" style=\"background-color: #800080B3\"><span class=\"spark-nlp-display-entity-name\">an undiagnosed plaque </span><span class=\"spark-nlp-display-entity-type\">PROBLEM</span><span class=\"spark-nlp-display-entity-resolution\" style=\"background-color: #800080FF\">276321008 </span><span class=\"spark-nlp-display-entity-resolution\" style=\"background-color: #800080CC\">Mucosal plaque (finding)</span></span><span class=\"spark-nlp-display-others\" style=\"background-color: white\"> be propelled from the right carotid. She understood all of these risks and agreed to have </span><span class=\"spark-nlp-display-entity-wrapper\" style=\"background-color: #008080B3\"><span class=\"spark-nlp-display-entity-name\">the procedure </span><span class=\"spark-nlp-display-entity-type\">TREATMENT</span><span class=\"spark-nlp-display-entity-resolution\" style=\"background-color: #008080FF\">183815004 </span><span class=\"spark-nlp-display-entity-resolution\" style=\"background-color: #008080CC\">Admission fundable procedure</span></span><span class=\"spark-nlp-display-others\" style=\"background-color: white\"> performed.</span></div>"
      ],
      "text/plain": [
       "<IPython.core.display.HTML object>"
      ]
     },
     "metadata": {
      "tags": []
     },
     "output_type": "display_data"
    }
   ],
   "source": [
    "text = [\n",
    "        \"\"\"This is the case of a very pleasant 46-year-old Caucasian female, seen in clinic on 12/11/07 during which time MRI of the left shoulder showed no evidence of rotator cuff tear. She did have a previous MRI of the cervical spine that did show an osteophyte on the left C6-C7 level. Based on this, negative MRI of the shoulder, the patient was recommended to have anterior cervical discectomy with anterior interbody fusion at C6-C7 level. Operation, expected outcome, risks, and benefits were discussed with her. Risks include, but not exclusive of bleeding and infection, bleeding could be soft tissue bleeding, which may compromise airway and may result in return to the operating room emergently for evacuation of said hematoma. There is also the possibility of bleeding into the epidural space, which can compress the spinal cord and result in weakness and numbness of all four extremities as well as impairment of bowel and bladder function. However, the patient may develop deeper-seated infection, which may require return to the operating room. Should the infection be in the area of the spinal instrumentation, this will cause a dilemma since there might be a need to remove the spinal instrumentation and/or allograft. There is also the possibility of potential injury to the esophageus, the trachea, and the carotid artery. There is also the risks of stroke on the right cerebral circulation should an undiagnosed plaque be propelled from the right carotid. She understood all of these risks and agreed to have the procedure performed.\"\"\",\n",
    "]\n",
    "res = lmodel.fullAnnotate(text)[0]\n",
    "\n",
    "from sparknlp_display import EntityResolverVisualizer\n",
    "\n",
    "vis = EntityResolverVisualizer()\n",
    "vis.set_label_colors({'TREATMENT':'#008080', 'problem':'#800080'})\n",
    "vis.display(res, 'ner_chunk', 'resolution')\n"
   ]
  },
  {
   "cell_type": "markdown",
   "metadata": {
    "id": "p7miDjgYlgq8"
   },
   "source": [
    "# **Assertion Status Visualisation**"
   ]
  },
  {
   "cell_type": "code",
   "execution_count": 22,
   "metadata": {
    "colab": {
     "base_uri": "https://localhost:8080/"
    },
    "id": "zC3DeBKmlmHZ",
    "outputId": "a8acb2b3-8aa3-4a01-e624-1dcaf7eb4272"
   },
   "outputs": [
    {
     "name": "stdout",
     "output_type": "stream",
     "text": [
      "embeddings_clinical download started this may take some time.\n",
      "Approximate size to download 1.6 GB\n",
      "[OK!]\n",
      "ner_clinical download started this may take some time.\n",
      "Approximate size to download 13.8 MB\n",
      "[OK!]\n",
      "assertion_dl download started this may take some time.\n",
      "Approximate size to download 1.3 MB\n",
      "[OK!]\n"
     ]
    }
   ],
   "source": [
    "documentAssembler = DocumentAssembler()\\\n",
    "  .setInputCol(\"text\")\\\n",
    "  .setOutputCol(\"document\")\n",
    "\n",
    "sentenceDetector = SentenceDetector()\\\n",
    "  .setInputCols([\"document\"])\\\n",
    "  .setOutputCol(\"sentence\")\n",
    "\n",
    "tokenizer = Tokenizer()\\\n",
    "  .setInputCols([\"sentence\"])\\\n",
    "  .setOutputCol(\"token\")\n",
    "\n",
    "word_embeddings = WordEmbeddingsModel.pretrained(\"embeddings_clinical\", \"en\", \"clinical/models\")\\\n",
    "  .setInputCols([\"sentence\", \"token\"])\\\n",
    "  .setOutputCol(\"embeddings\")\n",
    "\n",
    "clinical_ner = NerDLModel.pretrained(\"ner_clinical\", \"en\", \"clinical/models\") \\\n",
    "  .setInputCols([\"sentence\", \"token\", \"embeddings\"]) \\\n",
    "  .setOutputCol(\"ner\")\n",
    "\n",
    "ner_converter = NerConverter() \\\n",
    "  .setInputCols([\"sentence\", \"token\", \"ner\"]) \\\n",
    "  .setOutputCol(\"ner_chunk\").setWhiteList(['PROBLEM'])\n",
    "\n",
    "clinical_assertion = AssertionDLModel.pretrained(\"assertion_dl\", \"en\", \"clinical/models\") \\\n",
    "    .setInputCols([\"sentence\", \"ner_chunk\", \"embeddings\"]) \\\n",
    "    .setOutputCol(\"assertion\")\n",
    "    \n",
    "nlpPipeline = Pipeline(stages=[\n",
    "    documentAssembler, \n",
    "    sentenceDetector,\n",
    "    tokenizer,\n",
    "    word_embeddings,\n",
    "    clinical_ner,\n",
    "    ner_converter,\n",
    "    clinical_assertion\n",
    "    ])\n",
    "\n",
    "empty_data = spark.createDataFrame([[\"\"]]).toDF(\"text\")\n",
    "\n",
    "model = nlpPipeline.fit(empty_data)\n",
    "\n",
    "lmodel = LightPipeline(model)"
   ]
  },
  {
   "cell_type": "code",
   "execution_count": 23,
   "metadata": {
    "colab": {
     "base_uri": "https://localhost:8080/",
     "height": 921
    },
    "id": "T9qaR9J-mQ7z",
    "outputId": "5c4dca7b-0ae2-48f8-a82d-2e9b75ba02f7"
   },
   "outputs": [
    {
     "data": {
      "text/html": [
       "\n",
       "<style>\n",
       "    @import url('https://fonts.googleapis.com/css2?family=Montserrat:wght@300;400;500;600;700&display=swap');\n",
       "    @import url('https://fonts.googleapis.com/css2?family=Vistol Regular:wght@300;400;500;600;700&display=swap');\n",
       "    \n",
       "    .spark-nlp-display-scroll-entities {\n",
       "        border: 1px solid #E7EDF0;\n",
       "        border-radius: 3px;\n",
       "        text-align: justify;\n",
       "        \n",
       "    }\n",
       "    .spark-nlp-display-scroll-entities span {  \n",
       "        font-size: 14px;\n",
       "        line-height: 24px;\n",
       "        color: #536B76;\n",
       "        font-family: 'Montserrat', sans-serif !important;\n",
       "    }\n",
       "    \n",
       "    .spark-nlp-display-entity-wrapper{\n",
       "    \n",
       "        display: inline-grid;\n",
       "        text-align: center;\n",
       "        border-radius: 4px;\n",
       "        margin: 0 2px 5px 2px;\n",
       "        padding: 1px\n",
       "    }\n",
       "    .spark-nlp-display-entity-name{\n",
       "        font-size: 14px;\n",
       "        line-height: 24px;\n",
       "        font-family: 'Montserrat', sans-serif !important;\n",
       "        \n",
       "        background: #f1f2f3;\n",
       "        border-width: medium;\n",
       "        text-align: center;\n",
       "        \n",
       "        font-weight: 400;\n",
       "        \n",
       "        border-radius: 5px;\n",
       "        padding: 2px 5px;\n",
       "        display: block;\n",
       "        margin: 3px 2px;\n",
       "    \n",
       "    }\n",
       "    .spark-nlp-display-entity-type{\n",
       "        font-size: 14px;\n",
       "        line-height: 24px;\n",
       "        color: #ffffff;\n",
       "        font-family: 'Montserrat', sans-serif !important;\n",
       "        \n",
       "        text-transform: uppercase;\n",
       "        \n",
       "        font-weight: 500;\n",
       "\n",
       "        display: block;\n",
       "        padding: 3px 5px;\n",
       "    }\n",
       "    \n",
       "    .spark-nlp-display-entity-resolution{\n",
       "        font-size: 14px;\n",
       "        line-height: 24px;\n",
       "        color: #ffffff;\n",
       "        font-family: 'Vistol Regular', sans-serif !important;\n",
       "        \n",
       "        text-transform: uppercase;\n",
       "        \n",
       "        font-weight: 500;\n",
       "\n",
       "        display: block;\n",
       "        padding: 3px 5px;\n",
       "    }\n",
       "    \n",
       "    .spark-nlp-display-others{\n",
       "        font-size: 14px;\n",
       "        line-height: 24px;\n",
       "        font-family: 'Montserrat', sans-serif !important;\n",
       "        \n",
       "        font-weight: 400;\n",
       "    }\n",
       "\n",
       "</style>\n",
       " <span class=\"spark-nlp-display-others\" style=\"background-color: white\">This is the case of a very pleasant 46-year-old Caucasian female, seen in clinic on 12/11/07 during which time MRI of the left shoulder showed no evidence of </span><span class=\"spark-nlp-display-entity-wrapper\" style=\"background-color: #800080B3\"><span class=\"spark-nlp-display-entity-name\">rotator cuff tear </span><span class=\"spark-nlp-display-entity-type\">PROBLEM</span><span class=\"spark-nlp-display-entity-resolution\" style=\"background-color: #800080FF\">absent </span></span><span class=\"spark-nlp-display-others\" style=\"background-color: white\">. She did have a previous MRI of the cervical spine that did show </span><span class=\"spark-nlp-display-entity-wrapper\" style=\"background-color: #800080B3\"><span class=\"spark-nlp-display-entity-name\">an osteophyte on the left C6-C7 level </span><span class=\"spark-nlp-display-entity-type\">PROBLEM</span><span class=\"spark-nlp-display-entity-resolution\" style=\"background-color: #800080FF\">present </span></span><span class=\"spark-nlp-display-others\" style=\"background-color: white\">. Based on this, negative MRI of the shoulder, the patient was recommended to have anterior cervical discectomy with anterior interbody fusion at C6-C7 level. Operation, expected outcome, risks, and benefits were discussed with her. Risks include, but not exclusive of </span><span class=\"spark-nlp-display-entity-wrapper\" style=\"background-color: #800080B3\"><span class=\"spark-nlp-display-entity-name\">bleeding </span><span class=\"spark-nlp-display-entity-type\">PROBLEM</span><span class=\"spark-nlp-display-entity-resolution\" style=\"background-color: #800080FF\">present </span></span><span class=\"spark-nlp-display-others\" style=\"background-color: white\"> and </span><span class=\"spark-nlp-display-entity-wrapper\" style=\"background-color: #800080B3\"><span class=\"spark-nlp-display-entity-name\">infection </span><span class=\"spark-nlp-display-entity-type\">PROBLEM</span><span class=\"spark-nlp-display-entity-resolution\" style=\"background-color: #800080FF\">present </span></span><span class=\"spark-nlp-display-others\" style=\"background-color: white\">, </span><span class=\"spark-nlp-display-entity-wrapper\" style=\"background-color: #800080B3\"><span class=\"spark-nlp-display-entity-name\">bleeding </span><span class=\"spark-nlp-display-entity-type\">PROBLEM</span><span class=\"spark-nlp-display-entity-resolution\" style=\"background-color: #800080FF\">present </span></span><span class=\"spark-nlp-display-others\" style=\"background-color: white\"> could be </span><span class=\"spark-nlp-display-entity-wrapper\" style=\"background-color: #800080B3\"><span class=\"spark-nlp-display-entity-name\">soft tissue bleeding </span><span class=\"spark-nlp-display-entity-type\">PROBLEM</span><span class=\"spark-nlp-display-entity-resolution\" style=\"background-color: #800080FF\">present </span></span><span class=\"spark-nlp-display-others\" style=\"background-color: white\">, which may compromise airway and may result in return to the operating room emergently for evacuation of said </span><span class=\"spark-nlp-display-entity-wrapper\" style=\"background-color: #800080B3\"><span class=\"spark-nlp-display-entity-name\">hematoma </span><span class=\"spark-nlp-display-entity-type\">PROBLEM</span><span class=\"spark-nlp-display-entity-resolution\" style=\"background-color: #800080FF\">present </span></span><span class=\"spark-nlp-display-others\" style=\"background-color: white\">. There is also the possibility of </span><span class=\"spark-nlp-display-entity-wrapper\" style=\"background-color: #800080B3\"><span class=\"spark-nlp-display-entity-name\">bleeding into the epidural space </span><span class=\"spark-nlp-display-entity-type\">PROBLEM</span><span class=\"spark-nlp-display-entity-resolution\" style=\"background-color: #800080FF\">possible </span></span><span class=\"spark-nlp-display-others\" style=\"background-color: white\">, which can compress the spinal cord and result in </span><span class=\"spark-nlp-display-entity-wrapper\" style=\"background-color: #800080B3\"><span class=\"spark-nlp-display-entity-name\">weakness </span><span class=\"spark-nlp-display-entity-type\">PROBLEM</span><span class=\"spark-nlp-display-entity-resolution\" style=\"background-color: #800080FF\">present </span></span><span class=\"spark-nlp-display-others\" style=\"background-color: white\"> and </span><span class=\"spark-nlp-display-entity-wrapper\" style=\"background-color: #800080B3\"><span class=\"spark-nlp-display-entity-name\">numbness of all four extremities </span><span class=\"spark-nlp-display-entity-type\">PROBLEM</span><span class=\"spark-nlp-display-entity-resolution\" style=\"background-color: #800080FF\">present </span></span><span class=\"spark-nlp-display-others\" style=\"background-color: white\"> as well as </span><span class=\"spark-nlp-display-entity-wrapper\" style=\"background-color: #800080B3\"><span class=\"spark-nlp-display-entity-name\">impairment of bowel and bladder function </span><span class=\"spark-nlp-display-entity-type\">PROBLEM</span><span class=\"spark-nlp-display-entity-resolution\" style=\"background-color: #800080FF\">present </span></span><span class=\"spark-nlp-display-others\" style=\"background-color: white\">. However, the patient may develop </span><span class=\"spark-nlp-display-entity-wrapper\" style=\"background-color: #800080B3\"><span class=\"spark-nlp-display-entity-name\">deeper-seated infection </span><span class=\"spark-nlp-display-entity-type\">PROBLEM</span><span class=\"spark-nlp-display-entity-resolution\" style=\"background-color: #800080FF\">possible </span></span><span class=\"spark-nlp-display-others\" style=\"background-color: white\">, which may require return to the operating room. Should </span><span class=\"spark-nlp-display-entity-wrapper\" style=\"background-color: #800080B3\"><span class=\"spark-nlp-display-entity-name\">the infection </span><span class=\"spark-nlp-display-entity-type\">PROBLEM</span><span class=\"spark-nlp-display-entity-resolution\" style=\"background-color: #800080FF\">possible </span></span><span class=\"spark-nlp-display-others\" style=\"background-color: white\"> be in the area of the spinal instrumentation, this will cause a dilemma since there might be a need to remove the spinal instrumentation and/or allograft. There is also the possibility of </span><span class=\"spark-nlp-display-entity-wrapper\" style=\"background-color: #800080B3\"><span class=\"spark-nlp-display-entity-name\">potential injury to the esophageus, the trachea, and the carotid artery </span><span class=\"spark-nlp-display-entity-type\">PROBLEM</span><span class=\"spark-nlp-display-entity-resolution\" style=\"background-color: #800080FF\">possible </span></span><span class=\"spark-nlp-display-others\" style=\"background-color: white\">. There is also the risks of </span><span class=\"spark-nlp-display-entity-wrapper\" style=\"background-color: #800080B3\"><span class=\"spark-nlp-display-entity-name\">stroke on the right cerebral circulation </span><span class=\"spark-nlp-display-entity-type\">PROBLEM</span><span class=\"spark-nlp-display-entity-resolution\" style=\"background-color: #800080FF\">possible </span></span><span class=\"spark-nlp-display-others\" style=\"background-color: white\"> should </span><span class=\"spark-nlp-display-entity-wrapper\" style=\"background-color: #800080B3\"><span class=\"spark-nlp-display-entity-name\">an undiagnosed plaque </span><span class=\"spark-nlp-display-entity-type\">PROBLEM</span><span class=\"spark-nlp-display-entity-resolution\" style=\"background-color: #800080FF\">possible </span></span><span class=\"spark-nlp-display-others\" style=\"background-color: white\"> be propelled from the right carotid. She understood all of these risks and agreed to have the procedure performed.</span></div>"
      ],
      "text/plain": [
       "<IPython.core.display.HTML object>"
      ]
     },
     "metadata": {
      "tags": []
     },
     "output_type": "display_data"
    }
   ],
   "source": [
    "text = [\n",
    "        \"\"\"This is the case of a very pleasant 46-year-old Caucasian female, seen in clinic on 12/11/07 during which time MRI of the left shoulder showed no evidence of rotator cuff tear. She did have a previous MRI of the cervical spine that did show an osteophyte on the left C6-C7 level. Based on this, negative MRI of the shoulder, the patient was recommended to have anterior cervical discectomy with anterior interbody fusion at C6-C7 level. Operation, expected outcome, risks, and benefits were discussed with her. Risks include, but not exclusive of bleeding and infection, bleeding could be soft tissue bleeding, which may compromise airway and may result in return to the operating room emergently for evacuation of said hematoma. There is also the possibility of bleeding into the epidural space, which can compress the spinal cord and result in weakness and numbness of all four extremities as well as impairment of bowel and bladder function. However, the patient may develop deeper-seated infection, which may require return to the operating room. Should the infection be in the area of the spinal instrumentation, this will cause a dilemma since there might be a need to remove the spinal instrumentation and/or allograft. There is also the possibility of potential injury to the esophageus, the trachea, and the carotid artery. There is also the risks of stroke on the right cerebral circulation should an undiagnosed plaque be propelled from the right carotid. She understood all of these risks and agreed to have the procedure performed.\"\"\",\n",
    "]\n",
    "res = lmodel.fullAnnotate(text)[0]\n",
    "\n",
    "from sparknlp_display import AssertionVisualizer\n",
    "\n",
    "vis = AssertionVisualizer()\n",
    "vis.set_label_colors({'TREATMENT':'#008080', 'problem':'#800080'})\n",
    "vis.display(res, 'ner_chunk', 'assertion')\n"
   ]
  }
 ],
 "metadata": {
  "colab": {
   "collapsed_sections": [],
   "name": "Spark-NLP-Display.ipynb",
   "provenance": [],
   "toc_visible": true
  },
  "kernelspec": {
   "display_name": "Python 3",
   "language": "python",
   "name": "python3"
  },
  "language_info": {
   "codemirror_mode": {
    "name": "ipython",
    "version": 3
   },
   "file_extension": ".py",
   "mimetype": "text/x-python",
   "name": "python",
   "nbconvert_exporter": "python",
   "pygments_lexer": "ipython3",
   "version": "3.7.6"
  }
 },
 "nbformat": 4,
 "nbformat_minor": 1
}
