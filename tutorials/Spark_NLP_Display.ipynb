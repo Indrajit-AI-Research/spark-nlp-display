{
 "cells": [
  {
   "cell_type": "markdown",
   "metadata": {
    "id": "O7rf8pcS-vYP"
   },
   "source": [
    "\n",
    "\n",
    "![JohnSnowLabs](https://nlp.johnsnowlabs.com/assets/images/logo.png)\n",
    "\n",
    "[![Open In Colab](https://colab.research.google.com/assets/colab-badge.svg)](https://colab.research.google.com/github/JohnSnowLabs/spark-nlp-display/blob/main/tutorials/Spark_NLP_Display.ipynb)\n",
    "\n",
    "\n"
   ]
  },
  {
   "cell_type": "markdown",
   "metadata": {
    "id": "cu022cz5-m8A"
   },
   "source": [
    "# **Spark NLP Display**"
   ]
  },
  {
   "cell_type": "markdown",
   "metadata": {
    "id": "MPq5GEK6HfvN"
   },
   "source": [
    "# **Public Models' Visualisations**"
   ]
  },
  {
   "cell_type": "code",
   "execution_count": null,
   "metadata": {
    "id": "iksnHoGcyGK0"
   },
   "outputs": [],
   "source": [
    "!sudo apt-get install openjdk-8-jdk\n",
    "!java -version\n",
    "!pip install --ignore-installed -q pyspark==2.4.4\n",
    "\n",
    "# install sparknlp\n",
    "!pip install spark-nlp\n",
    "# install sparknlp-display\n",
    "!pip install spark-nlp-display"
   ]
  },
  {
   "cell_type": "code",
   "execution_count": null,
   "metadata": {
    "id": "jZSN3W8xx7ay"
   },
   "outputs": [],
   "source": [
    "import pandas as pd\n",
    "import numpy as np\n",
    "import os\n",
    "os.environ[\"JAVA_HOME\"] = \"/usr/lib/jvm/java-8-openjdk-amd64\"\n",
    "import json\n",
    "from pyspark.ml import Pipeline\n",
    "from pyspark.sql import SparkSession\n",
    "import pyspark.sql.functions as F\n",
    "from sparknlp.annotator import *\n",
    "from sparknlp.base import *\n",
    "import sparknlp\n",
    "from sparknlp.pretrained import PretrainedPipeline\n",
    "from sparknlp.annotator import *\n",
    "from sparknlp.base import *\n",
    "\n",
    "spark = sparknlp.start()\n"
   ]
  },
  {
   "cell_type": "markdown",
   "metadata": {
    "id": "4aIqjtNjy0ZG"
   },
   "source": [
    "## **Dependency Parser Visualisation**"
   ]
  },
  {
   "cell_type": "code",
   "execution_count": null,
   "metadata": {
    "colab": {
     "base_uri": "https://localhost:8080/"
    },
    "id": "TcjoaK1zy4Zj",
    "outputId": "f73a45b1-5f37-4795-a131-4ae1fea6d4b8"
   },
   "outputs": [
    {
     "name": "stdout",
     "output_type": "stream",
     "text": [
      "pos_anc download started this may take some time.\n",
      "Approximate size to download 4.3 MB\n",
      "[OK!]\n",
      "dependency_conllu download started this may take some time.\n",
      "Approximate size to download 16.6 MB\n",
      "[OK!]\n",
      "dependency_typed_conllu download started this may take some time.\n",
      "Approximate size to download 257.4 KB\n",
      "[OK!]\n"
     ]
    }
   ],
   "source": [
    "documentAssembler = DocumentAssembler()\\\n",
    "    .setInputCol(\"text\")\\\n",
    "    .setOutputCol(\"document\")\n",
    "\n",
    "tokenizer = Tokenizer() \\\n",
    "    .setInputCols([\"document\"]) \\\n",
    "    .setOutputCol(\"token\")\n",
    "\n",
    "pos = PerceptronModel.pretrained(\"pos_anc\", 'en')\\\n",
    "        .setInputCols(\"document\", \"token\")\\\n",
    "        .setOutputCol(\"pos\")\n",
    "\n",
    "chunker = Chunker()\\\n",
    "      .setInputCols([\"document\", \"pos\"])\\\n",
    "      .setOutputCol(\"chunk\")\\\n",
    "      .setRegexParsers([\"<NNP>+\", \"<DT>?<JJ>*<NN>\"])\n",
    "\n",
    "\n",
    "dep_parser = DependencyParserModel.pretrained('dependency_conllu')\\\n",
    "        .setInputCols([\"document\", \"pos\", \"token\"])\\\n",
    "        .setOutputCol(\"dependency\")\n",
    "\n",
    "\n",
    "typed_dep_parser = TypedDependencyParserModel.pretrained('dependency_typed_conllu')\\\n",
    "        .setInputCols([\"token\", \"pos\", \"dependency\"])\\\n",
    "        .setOutputCol(\"dependency_type\")\n",
    "\n",
    "\n",
    "nlpPipeline = Pipeline(\n",
    "      stages = [\n",
    "          documentAssembler,\n",
    "          tokenizer,\n",
    "          pos,\n",
    "          dep_parser,\n",
    "          typed_dep_parser\n",
    "      ])\n",
    "\n",
    "empty_df = spark.createDataFrame([['']]).toDF(\"text\")\n",
    "\n",
    "pipelineModel = nlpPipeline.fit(empty_df)\n",
    "lmodel = LightPipeline(pipelineModel)"
   ]
  },
  {
   "cell_type": "code",
   "execution_count": null,
   "metadata": {
    "id": "zu3HKFMU6avR"
   },
   "outputs": [],
   "source": [
    "text = ['John Snow is a good man.']\n",
    "res = lmodel.fullAnnotate(text)[0]"
   ]
  },
  {
   "cell_type": "code",
   "execution_count": null,
   "metadata": {
    "colab": {
     "base_uri": "https://localhost:8080/",
     "height": 471
    },
    "id": "FNcz18qOy4fs",
    "outputId": "81f82393-4ba2-44f5-b606-00421796db40"
   },
   "outputs": [
    {
     "data": {
      "text/html": [
       "<svg baseProfile=\"tiny\" height=\"450\" version=\"1.2\" width=\"805\" xmlns=\"http://www.w3.org/2000/svg\" xmlns:ev=\"http://www.w3.org/2001/xml-events\" xmlns:xlink=\"http://www.w3.org/1999/xlink\"><defs /><text fill=\"gray\" font-family=\"courier\" font-size=\"25\" x=\"50\" y=\"350\">John</text><text fill=\"#CCACDE\" x=\"58\" y=\"380\">NNP</text><text fill=\"gray\" font-family=\"courier\" font-size=\"25\" x=\"170\" y=\"350\">Snow</text><text fill=\"#CCACDE\" x=\"178\" y=\"380\">NNP</text><text fill=\"gray\" font-family=\"courier\" font-size=\"25\" x=\"290\" y=\"350\">is</text><text fill=\"#BDEABA\" x=\"283\" y=\"380\">VBZ</text><text fill=\"gray\" font-family=\"courier\" font-size=\"25\" x=\"380\" y=\"350\">a</text><text fill=\"#F1F7C0\" x=\"373\" y=\"380\">DT</text><text fill=\"gray\" font-family=\"courier\" font-size=\"25\" x=\"455\" y=\"350\">good</text><text fill=\"#8F7EE2\" x=\"470\" y=\"380\">JJ</text><text fill=\"gray\" font-family=\"courier\" font-size=\"25\" x=\"575\" y=\"350\">man</text><rect fill=\"none\" height=\"35\" stroke=\"orange\" stroke-width=\"2\" width=\"55\" x=\"570\" y=\"325\" /><text fill=\"#9278EF\" x=\"582\" y=\"380\">NN</text><text fill=\"gray\" font-family=\"courier\" font-size=\"25\" x=\"680\" y=\"350\">.</text><text fill=\"#996EE2\" x=\"680\" y=\"380\">.</text><polyline fill=\"none\" points=\"619,324 619,250 688,250 688,320 690,320 688,324 686,320 688,320\" stroke=\"#E8D6DC\" stroke-width=\"2\" /><text fill=\"#E8D6DC\" font-family=\"courier\" font-size=\"20\" x=\"622.5909090909091\" y=\"246\">punct</text><polyline fill=\"none\" points=\"584,324 584,250 490,250 490,320 492,320 490,324 488,320 490,320\" stroke=\"#6C776F\" stroke-width=\"2\" /><text fill=\"#6C776F\" font-family=\"courier\" font-size=\"20\" x=\"511.54545454545456\" y=\"246\">amod</text><polyline fill=\"none\" points=\"591,324 591,200 392,200 392,320 394,320 392,324 390,320 392,320\" stroke=\"#788F79\" stroke-width=\"2\" /><text fill=\"#788F79\" font-family=\"courier\" font-size=\"20\" x=\"460.59090909090907\" y=\"196\">nsubj</text><polyline fill=\"none\" points=\"598,324 598,150 310,150 310,320 312,320 310,324 308,320 310,320\" stroke=\"#788F79\" stroke-width=\"2\" /><text fill=\"#788F79\" font-family=\"courier\" font-size=\"20\" x=\"423.09090909090907\" y=\"146\">nsubj</text><polyline fill=\"none\" points=\"605,324 605,100 205,100 205,320 207,320 205,324 203,320 205,320\" stroke=\"#85DD98\" stroke-width=\"2\" /><text fill=\"#85DD98\" font-family=\"courier\" font-size=\"20\" x=\"379.54545454545456\" y=\"96\">flat</text><polyline fill=\"none\" points=\"612,324 612,50 85,50 85,320 87,320 85,324 83,320 85,320\" stroke=\"#85DD98\" stroke-width=\"2\" /><text fill=\"#85DD98\" font-family=\"courier\" font-size=\"20\" x=\"323.04545454545456\" y=\"46\">flat</text></svg>"
      ],
      "text/plain": [
       "<IPython.core.display.HTML object>"
      ]
     },
     "metadata": {
      "tags": []
     },
     "output_type": "display_data"
    }
   ],
   "source": [
    "from sparknlp_display import DependencyParserVisualizer\n",
    "dependency_vis = DependencyParserVisualizer()\n",
    "dependency_vis.display(res, 'pos', 'dependency', 'dependency_type')"
   ]
  },
  {
   "cell_type": "markdown",
   "metadata": {
    "id": "QFR3Y0ooy5CU"
   },
   "source": [
    "## **NER Output Visualisation**"
   ]
  },
  {
   "cell_type": "code",
   "execution_count": null,
   "metadata": {
    "id": "xzNPWhbQzL21"
   },
   "outputs": [],
   "source": [
    "example = [\n",
    "           \"The Mona Lisa is a 16th century oil painting created by Leonardo. It's held at the Louvre in Paris.\"\n",
    "]"
   ]
  },
  {
   "cell_type": "markdown",
   "metadata": {
    "id": "D15cZ7x0yr-T"
   },
   "source": [
    "### **Pre-trained pipeline**"
   ]
  },
  {
   "cell_type": "code",
   "execution_count": null,
   "metadata": {
    "colab": {
     "base_uri": "https://localhost:8080/"
    },
    "id": "emLiZc9fyrg7",
    "outputId": "0102bf8b-b5bb-402b-d158-b4cd8350e9c2"
   },
   "outputs": [
    {
     "name": "stdout",
     "output_type": "stream",
     "text": [
      "recognize_entities_dl download started this may take some time.\n",
      "Approx size to download 159 MB\n",
      "[OK!]\n"
     ]
    }
   ],
   "source": [
    "pipeline = PretrainedPipeline('recognize_entities_dl', lang='en')"
   ]
  },
  {
   "cell_type": "code",
   "execution_count": null,
   "metadata": {
    "colab": {
     "base_uri": "https://localhost:8080/"
    },
    "id": "VPOFr5DTzRqD",
    "outputId": "a38fd3e7-d10f-46aa-9dea-cd9f4b6eb069"
   },
   "outputs": [
    {
     "data": {
      "text/plain": [
       "dict_keys(['entities', 'document', 'token', 'ner', 'embeddings', 'sentence'])"
      ]
     },
     "execution_count": 9,
     "metadata": {
      "tags": []
     },
     "output_type": "execute_result"
    }
   ],
   "source": [
    "ppres = pipeline.fullAnnotate(example)[0]\n",
    "ppres.keys()"
   ]
  },
  {
   "cell_type": "code",
   "execution_count": null,
   "metadata": {
    "colab": {
     "base_uri": "https://localhost:8080/",
     "height": 264
    },
    "id": "lycK0jxNzImE",
    "outputId": "e2fc8705-7636-4070-822d-da1263495fd2"
   },
   "outputs": [
    {
     "name": "stdout",
     "output_type": "stream",
     "text": [
      "Standard Output\n"
     ]
    },
    {
     "data": {
      "text/html": [
       "\n",
       "<style>\n",
       "    @import url('https://fonts.googleapis.com/css2?family=Montserrat:wght@300;400;500;600;700&display=swap');\n",
       "    @import url('https://fonts.googleapis.com/css2?family=Vistol Regular:wght@300;400;500;600;700&display=swap');\n",
       "    \n",
       "    .spark-nlp-display-scroll-entities {\n",
       "        border: 1px solid #E7EDF0;\n",
       "        border-radius: 3px;\n",
       "        text-align: justify;\n",
       "        \n",
       "    }\n",
       "    .spark-nlp-display-scroll-entities span {  \n",
       "        font-size: 14px;\n",
       "        line-height: 24px;\n",
       "        color: #536B76;\n",
       "        font-family: 'Montserrat', sans-serif !important;\n",
       "    }\n",
       "    \n",
       "    .spark-nlp-display-entity-wrapper{\n",
       "    \n",
       "        display: inline-grid;\n",
       "        text-align: center;\n",
       "        border-radius: 4px;\n",
       "        margin: 0 2px 5px 2px;\n",
       "        padding: 1px\n",
       "    }\n",
       "    .spark-nlp-display-entity-name{\n",
       "        font-size: 14px;\n",
       "        line-height: 24px;\n",
       "        font-family: 'Montserrat', sans-serif !important;\n",
       "        \n",
       "        background: #f1f2f3;\n",
       "        border-width: medium;\n",
       "        text-align: center;\n",
       "        \n",
       "        font-weight: 400;\n",
       "        \n",
       "        border-radius: 5px;\n",
       "        padding: 2px 5px;\n",
       "        display: block;\n",
       "        margin: 3px 2px;\n",
       "    \n",
       "    }\n",
       "    .spark-nlp-display-entity-type{\n",
       "        font-size: 14px;\n",
       "        line-height: 24px;\n",
       "        color: #ffffff;\n",
       "        font-family: 'Montserrat', sans-serif !important;\n",
       "        \n",
       "        text-transform: uppercase;\n",
       "        \n",
       "        font-weight: 500;\n",
       "\n",
       "        display: block;\n",
       "        padding: 3px 5px;\n",
       "    }\n",
       "    \n",
       "    .spark-nlp-display-entity-resolution{\n",
       "        font-size: 14px;\n",
       "        line-height: 24px;\n",
       "        color: #ffffff;\n",
       "        font-family: 'Vistol Regular', sans-serif !important;\n",
       "        \n",
       "        text-transform: uppercase;\n",
       "        \n",
       "        font-weight: 500;\n",
       "\n",
       "        display: block;\n",
       "        padding: 3px 5px;\n",
       "    }\n",
       "    \n",
       "    .spark-nlp-display-others{\n",
       "        font-size: 14px;\n",
       "        line-height: 24px;\n",
       "        font-family: 'Montserrat', sans-serif !important;\n",
       "        \n",
       "        font-weight: 400;\n",
       "    }\n",
       "\n",
       "</style>\n",
       " <span class=\"spark-nlp-display-others\" style=\"background-color: white\">The </span><span class=\"spark-nlp-display-entity-wrapper\" style=\"background-color: #70C67B\"><span class=\"spark-nlp-display-entity-name\">Mona Lisa </span><span class=\"spark-nlp-display-entity-type\">PER</span></span><span class=\"spark-nlp-display-others\" style=\"background-color: white\"> is a 16th century oil painting created by </span><span class=\"spark-nlp-display-entity-wrapper\" style=\"background-color: #70C67B\"><span class=\"spark-nlp-display-entity-name\">Leonardo </span><span class=\"spark-nlp-display-entity-type\">PER</span></span><span class=\"spark-nlp-display-others\" style=\"background-color: white\">. It's held at the </span><span class=\"spark-nlp-display-entity-wrapper\" style=\"background-color: #E9F48B\"><span class=\"spark-nlp-display-entity-name\">Louvre </span><span class=\"spark-nlp-display-entity-type\">LOC</span></span><span class=\"spark-nlp-display-others\" style=\"background-color: white\"> in </span><span class=\"spark-nlp-display-entity-wrapper\" style=\"background-color: #E9F48B\"><span class=\"spark-nlp-display-entity-name\">Paris </span><span class=\"spark-nlp-display-entity-type\">LOC</span></span><span class=\"spark-nlp-display-others\" style=\"background-color: white\">.</span></div>"
      ],
      "text/plain": [
       "<IPython.core.display.HTML object>"
      ]
     },
     "metadata": {
      "tags": []
     },
     "output_type": "display_data"
    },
    {
     "data": {
      "text/html": [
       "\n",
       "<style>\n",
       "    @import url('https://fonts.googleapis.com/css2?family=Montserrat:wght@300;400;500;600;700&display=swap');\n",
       "    @import url('https://fonts.googleapis.com/css2?family=Vistol Regular:wght@300;400;500;600;700&display=swap');\n",
       "    \n",
       "    .spark-nlp-display-scroll-entities {\n",
       "        border: 1px solid #E7EDF0;\n",
       "        border-radius: 3px;\n",
       "        text-align: justify;\n",
       "        \n",
       "    }\n",
       "    .spark-nlp-display-scroll-entities span {  \n",
       "        font-size: 14px;\n",
       "        line-height: 24px;\n",
       "        color: #536B76;\n",
       "        font-family: 'Montserrat', sans-serif !important;\n",
       "    }\n",
       "    \n",
       "    .spark-nlp-display-entity-wrapper{\n",
       "    \n",
       "        display: inline-grid;\n",
       "        text-align: center;\n",
       "        border-radius: 4px;\n",
       "        margin: 0 2px 5px 2px;\n",
       "        padding: 1px\n",
       "    }\n",
       "    .spark-nlp-display-entity-name{\n",
       "        font-size: 14px;\n",
       "        line-height: 24px;\n",
       "        font-family: 'Montserrat', sans-serif !important;\n",
       "        \n",
       "        background: #f1f2f3;\n",
       "        border-width: medium;\n",
       "        text-align: center;\n",
       "        \n",
       "        font-weight: 400;\n",
       "        \n",
       "        border-radius: 5px;\n",
       "        padding: 2px 5px;\n",
       "        display: block;\n",
       "        margin: 3px 2px;\n",
       "    \n",
       "    }\n",
       "    .spark-nlp-display-entity-type{\n",
       "        font-size: 14px;\n",
       "        line-height: 24px;\n",
       "        color: #ffffff;\n",
       "        font-family: 'Montserrat', sans-serif !important;\n",
       "        \n",
       "        text-transform: uppercase;\n",
       "        \n",
       "        font-weight: 500;\n",
       "\n",
       "        display: block;\n",
       "        padding: 3px 5px;\n",
       "    }\n",
       "    \n",
       "    .spark-nlp-display-entity-resolution{\n",
       "        font-size: 14px;\n",
       "        line-height: 24px;\n",
       "        color: #ffffff;\n",
       "        font-family: 'Vistol Regular', sans-serif !important;\n",
       "        \n",
       "        text-transform: uppercase;\n",
       "        \n",
       "        font-weight: 500;\n",
       "\n",
       "        display: block;\n",
       "        padding: 3px 5px;\n",
       "    }\n",
       "    \n",
       "    .spark-nlp-display-others{\n",
       "        font-size: 14px;\n",
       "        line-height: 24px;\n",
       "        font-family: 'Montserrat', sans-serif !important;\n",
       "        \n",
       "        font-weight: 400;\n",
       "    }\n",
       "\n",
       "</style>\n",
       " <span class=\"spark-nlp-display-others\" style=\"background-color: white\">The </span><span class=\"spark-nlp-display-entity-wrapper\" style=\"background-color: #800080\"><span class=\"spark-nlp-display-entity-name\">Mona Lisa </span><span class=\"spark-nlp-display-entity-type\">PER</span></span><span class=\"spark-nlp-display-others\" style=\"background-color: white\"> is a 16th century oil painting created by </span><span class=\"spark-nlp-display-entity-wrapper\" style=\"background-color: #800080\"><span class=\"spark-nlp-display-entity-name\">Leonardo </span><span class=\"spark-nlp-display-entity-type\">PER</span></span><span class=\"spark-nlp-display-others\" style=\"background-color: white\">. It's held at the </span><span class=\"spark-nlp-display-entity-wrapper\" style=\"background-color: #008080\"><span class=\"spark-nlp-display-entity-name\">Louvre </span><span class=\"spark-nlp-display-entity-type\">LOC</span></span><span class=\"spark-nlp-display-others\" style=\"background-color: white\"> in </span><span class=\"spark-nlp-display-entity-wrapper\" style=\"background-color: #008080\"><span class=\"spark-nlp-display-entity-name\">Paris </span><span class=\"spark-nlp-display-entity-type\">LOC</span></span><span class=\"spark-nlp-display-others\" style=\"background-color: white\">.</span></div>"
      ],
      "text/plain": [
       "<IPython.core.display.HTML object>"
      ]
     },
     "metadata": {
      "tags": []
     },
     "output_type": "display_data"
    },
    {
     "data": {
      "text/html": [
       "\n",
       "<style>\n",
       "    @import url('https://fonts.googleapis.com/css2?family=Montserrat:wght@300;400;500;600;700&display=swap');\n",
       "    @import url('https://fonts.googleapis.com/css2?family=Vistol Regular:wght@300;400;500;600;700&display=swap');\n",
       "    \n",
       "    .spark-nlp-display-scroll-entities {\n",
       "        border: 1px solid #E7EDF0;\n",
       "        border-radius: 3px;\n",
       "        text-align: justify;\n",
       "        \n",
       "    }\n",
       "    .spark-nlp-display-scroll-entities span {  \n",
       "        font-size: 14px;\n",
       "        line-height: 24px;\n",
       "        color: #536B76;\n",
       "        font-family: 'Montserrat', sans-serif !important;\n",
       "    }\n",
       "    \n",
       "    .spark-nlp-display-entity-wrapper{\n",
       "    \n",
       "        display: inline-grid;\n",
       "        text-align: center;\n",
       "        border-radius: 4px;\n",
       "        margin: 0 2px 5px 2px;\n",
       "        padding: 1px\n",
       "    }\n",
       "    .spark-nlp-display-entity-name{\n",
       "        font-size: 14px;\n",
       "        line-height: 24px;\n",
       "        font-family: 'Montserrat', sans-serif !important;\n",
       "        \n",
       "        background: #f1f2f3;\n",
       "        border-width: medium;\n",
       "        text-align: center;\n",
       "        \n",
       "        font-weight: 400;\n",
       "        \n",
       "        border-radius: 5px;\n",
       "        padding: 2px 5px;\n",
       "        display: block;\n",
       "        margin: 3px 2px;\n",
       "    \n",
       "    }\n",
       "    .spark-nlp-display-entity-type{\n",
       "        font-size: 14px;\n",
       "        line-height: 24px;\n",
       "        color: #ffffff;\n",
       "        font-family: 'Montserrat', sans-serif !important;\n",
       "        \n",
       "        text-transform: uppercase;\n",
       "        \n",
       "        font-weight: 500;\n",
       "\n",
       "        display: block;\n",
       "        padding: 3px 5px;\n",
       "    }\n",
       "    \n",
       "    .spark-nlp-display-entity-resolution{\n",
       "        font-size: 14px;\n",
       "        line-height: 24px;\n",
       "        color: #ffffff;\n",
       "        font-family: 'Vistol Regular', sans-serif !important;\n",
       "        \n",
       "        text-transform: uppercase;\n",
       "        \n",
       "        font-weight: 500;\n",
       "\n",
       "        display: block;\n",
       "        padding: 3px 5px;\n",
       "    }\n",
       "    \n",
       "    .spark-nlp-display-others{\n",
       "        font-size: 14px;\n",
       "        line-height: 24px;\n",
       "        font-family: 'Montserrat', sans-serif !important;\n",
       "        \n",
       "        font-weight: 400;\n",
       "    }\n",
       "\n",
       "</style>\n",
       " <span class=\"spark-nlp-display-others\" style=\"background-color: white\">The </span><span class=\"spark-nlp-display-entity-wrapper\" style=\"background-color: #800080\"><span class=\"spark-nlp-display-entity-name\">Mona Lisa </span><span class=\"spark-nlp-display-entity-type\">PER</span></span><span class=\"spark-nlp-display-others\" style=\"background-color: white\"> is a 16th century oil painting created by </span><span class=\"spark-nlp-display-entity-wrapper\" style=\"background-color: #800080\"><span class=\"spark-nlp-display-entity-name\">Leonardo </span><span class=\"spark-nlp-display-entity-type\">PER</span></span><span class=\"spark-nlp-display-others\" style=\"background-color: white\">. It's held at the </span><span class=\"spark-nlp-display-others\" style=\"background-color: white\">Louvre</span><span class=\"spark-nlp-display-others\" style=\"background-color: white\"> in </span><span class=\"spark-nlp-display-others\" style=\"background-color: white\">Paris</span><span class=\"spark-nlp-display-others\" style=\"background-color: white\">.</span></div>"
      ],
      "text/plain": [
       "<IPython.core.display.HTML object>"
      ]
     },
     "metadata": {
      "tags": []
     },
     "output_type": "display_data"
    },
    {
     "name": "stdout",
     "output_type": "stream",
     "text": [
      "color code for label \"LOC\": #008080\n"
     ]
    }
   ],
   "source": [
    "from sparknlp_display import NerVisualizer\n",
    "visualiser = NerVisualizer()\n",
    "print ('Standard Output')\n",
    "visualiser.display(ppres, label_col='entities', document_col='document')\n",
    "\n",
    "# Change color of an entity label\n",
    "visualiser.set_label_colors({'LOC':'#008080', 'PER':'#800080'})\n",
    "visualiser.display(ppres, label_col='entities')\n",
    "\n",
    "# Set label filter\n",
    "visualiser.display(ppres, label_col='entities', document_col='document',\n",
    "                   labels=['PER'])\n",
    "\n",
    "print ('color code for label \"LOC\": ' + visualiser.get_label_color('LOC'))"
   ]
  },
  {
   "cell_type": "markdown",
   "metadata": {
    "id": "AVoBwlVJyuM-"
   },
   "source": [
    "### **New Pipeline**"
   ]
  },
  {
   "cell_type": "code",
   "execution_count": null,
   "metadata": {
    "colab": {
     "base_uri": "https://localhost:8080/"
    },
    "id": "m2CYYQI6yh1s",
    "outputId": "b5933853-fcd6-485e-892c-011ee5ad0692"
   },
   "outputs": [
    {
     "name": "stdout",
     "output_type": "stream",
     "text": [
      "glove_100d download started this may take some time.\n",
      "Approximate size to download 145.3 MB\n",
      "[OK!]\n",
      "ner_dl download started this may take some time.\n",
      "Approximate size to download 13.6 MB\n",
      "[OK!]\n"
     ]
    }
   ],
   "source": [
    "\n",
    "documentAssembler = DocumentAssembler()\\\n",
    "    .setInputCol(\"text\")\\\n",
    "    .setOutputCol(\"document\")\n",
    "\n",
    "tokenizer = Tokenizer() \\\n",
    "    .setInputCols([\"document\"]) \\\n",
    "    .setOutputCol(\"token\")\n",
    "\n",
    "embeddings = WordEmbeddingsModel.pretrained('glove_100d').\\\n",
    "                  setInputCols([\"document\", 'token']).\\\n",
    "                  setOutputCol(\"embeddings\")\n",
    "\n",
    "public_ner = NerDLModel.pretrained('ner_dl', 'en') \\\n",
    "          .setInputCols([\"document\", \"token\", \"embeddings\"]) \\\n",
    "          .setOutputCol(\"ner\")\n",
    "\n",
    "ner_converter = NerConverter() \\\n",
    "                .setInputCols([\"document\", \"token\", \"ner\"]) \\\n",
    "                  .setOutputCol(\"entities\")\n",
    "\n",
    "nlpPipeline = Pipeline(stages=[ documentAssembler, \n",
    "                                 tokenizer,\n",
    "                                 embeddings,\n",
    "                                 public_ner,\n",
    "                                 ner_converter\n",
    "                                 ])\n",
    "\n",
    "empty_df = spark.createDataFrame([['']]).toDF(\"text\")\n",
    "\n",
    "pipelineModel = nlpPipeline.fit(empty_df)\n",
    "lmodel = LightPipeline(pipelineModel)"
   ]
  },
  {
   "cell_type": "markdown",
   "metadata": {
    "id": "zkAmPZmy0yBn"
   },
   "source": [
    "#### **Display using Light Pipeline results**"
   ]
  },
  {
   "cell_type": "code",
   "execution_count": null,
   "metadata": {
    "colab": {
     "base_uri": "https://localhost:8080/"
    },
    "id": "-3WoSCJ3zB6Q",
    "outputId": "fa365145-bc96-4d74-993d-7178668010a2"
   },
   "outputs": [
    {
     "data": {
      "text/plain": [
       "dict_keys(['entities', 'document', 'token', 'ner', 'embeddings'])"
      ]
     },
     "execution_count": 12,
     "metadata": {
      "tags": []
     },
     "output_type": "execute_result"
    }
   ],
   "source": [
    "cpres = lmodel.fullAnnotate(example)[0]\n",
    "cpres.keys()"
   ]
  },
  {
   "cell_type": "code",
   "execution_count": null,
   "metadata": {
    "colab": {
     "base_uri": "https://localhost:8080/",
     "height": 247
    },
    "id": "ht9vlfcYzGqx",
    "outputId": "c389072a-9555-407c-8ef3-7dcc440034b6"
   },
   "outputs": [
    {
     "name": "stdout",
     "output_type": "stream",
     "text": [
      "Standard Output\n"
     ]
    },
    {
     "data": {
      "text/html": [
       "\n",
       "<style>\n",
       "    @import url('https://fonts.googleapis.com/css2?family=Montserrat:wght@300;400;500;600;700&display=swap');\n",
       "    @import url('https://fonts.googleapis.com/css2?family=Vistol Regular:wght@300;400;500;600;700&display=swap');\n",
       "    \n",
       "    .spark-nlp-display-scroll-entities {\n",
       "        border: 1px solid #E7EDF0;\n",
       "        border-radius: 3px;\n",
       "        text-align: justify;\n",
       "        \n",
       "    }\n",
       "    .spark-nlp-display-scroll-entities span {  \n",
       "        font-size: 14px;\n",
       "        line-height: 24px;\n",
       "        color: #536B76;\n",
       "        font-family: 'Montserrat', sans-serif !important;\n",
       "    }\n",
       "    \n",
       "    .spark-nlp-display-entity-wrapper{\n",
       "    \n",
       "        display: inline-grid;\n",
       "        text-align: center;\n",
       "        border-radius: 4px;\n",
       "        margin: 0 2px 5px 2px;\n",
       "        padding: 1px\n",
       "    }\n",
       "    .spark-nlp-display-entity-name{\n",
       "        font-size: 14px;\n",
       "        line-height: 24px;\n",
       "        font-family: 'Montserrat', sans-serif !important;\n",
       "        \n",
       "        background: #f1f2f3;\n",
       "        border-width: medium;\n",
       "        text-align: center;\n",
       "        \n",
       "        font-weight: 400;\n",
       "        \n",
       "        border-radius: 5px;\n",
       "        padding: 2px 5px;\n",
       "        display: block;\n",
       "        margin: 3px 2px;\n",
       "    \n",
       "    }\n",
       "    .spark-nlp-display-entity-type{\n",
       "        font-size: 14px;\n",
       "        line-height: 24px;\n",
       "        color: #ffffff;\n",
       "        font-family: 'Montserrat', sans-serif !important;\n",
       "        \n",
       "        text-transform: uppercase;\n",
       "        \n",
       "        font-weight: 500;\n",
       "\n",
       "        display: block;\n",
       "        padding: 3px 5px;\n",
       "    }\n",
       "    \n",
       "    .spark-nlp-display-entity-resolution{\n",
       "        font-size: 14px;\n",
       "        line-height: 24px;\n",
       "        color: #ffffff;\n",
       "        font-family: 'Vistol Regular', sans-serif !important;\n",
       "        \n",
       "        text-transform: uppercase;\n",
       "        \n",
       "        font-weight: 500;\n",
       "\n",
       "        display: block;\n",
       "        padding: 3px 5px;\n",
       "    }\n",
       "    \n",
       "    .spark-nlp-display-others{\n",
       "        font-size: 14px;\n",
       "        line-height: 24px;\n",
       "        font-family: 'Montserrat', sans-serif !important;\n",
       "        \n",
       "        font-weight: 400;\n",
       "    }\n",
       "\n",
       "</style>\n",
       " <span class=\"spark-nlp-display-others\" style=\"background-color: white\">The </span><span class=\"spark-nlp-display-entity-wrapper\" style=\"background-color: #EF70C7\"><span class=\"spark-nlp-display-entity-name\">Mona Lisa </span><span class=\"spark-nlp-display-entity-type\">PER</span></span><span class=\"spark-nlp-display-others\" style=\"background-color: white\"> is a 16th century oil painting created by </span><span class=\"spark-nlp-display-entity-wrapper\" style=\"background-color: #EF70C7\"><span class=\"spark-nlp-display-entity-name\">Leonardo </span><span class=\"spark-nlp-display-entity-type\">PER</span></span><span class=\"spark-nlp-display-others\" style=\"background-color: white\">. It's held at the </span><span class=\"spark-nlp-display-entity-wrapper\" style=\"background-color: #AAF2BC\"><span class=\"spark-nlp-display-entity-name\">Louvre </span><span class=\"spark-nlp-display-entity-type\">LOC</span></span><span class=\"spark-nlp-display-others\" style=\"background-color: white\"> in </span><span class=\"spark-nlp-display-entity-wrapper\" style=\"background-color: #AAF2BC\"><span class=\"spark-nlp-display-entity-name\">Paris </span><span class=\"spark-nlp-display-entity-type\">LOC</span></span><span class=\"spark-nlp-display-others\" style=\"background-color: white\">.</span></div>"
      ],
      "text/plain": [
       "<IPython.core.display.HTML object>"
      ]
     },
     "metadata": {
      "tags": []
     },
     "output_type": "display_data"
    },
    {
     "data": {
      "text/html": [
       "\n",
       "<style>\n",
       "    @import url('https://fonts.googleapis.com/css2?family=Montserrat:wght@300;400;500;600;700&display=swap');\n",
       "    @import url('https://fonts.googleapis.com/css2?family=Vistol Regular:wght@300;400;500;600;700&display=swap');\n",
       "    \n",
       "    .spark-nlp-display-scroll-entities {\n",
       "        border: 1px solid #E7EDF0;\n",
       "        border-radius: 3px;\n",
       "        text-align: justify;\n",
       "        \n",
       "    }\n",
       "    .spark-nlp-display-scroll-entities span {  \n",
       "        font-size: 14px;\n",
       "        line-height: 24px;\n",
       "        color: #536B76;\n",
       "        font-family: 'Montserrat', sans-serif !important;\n",
       "    }\n",
       "    \n",
       "    .spark-nlp-display-entity-wrapper{\n",
       "    \n",
       "        display: inline-grid;\n",
       "        text-align: center;\n",
       "        border-radius: 4px;\n",
       "        margin: 0 2px 5px 2px;\n",
       "        padding: 1px\n",
       "    }\n",
       "    .spark-nlp-display-entity-name{\n",
       "        font-size: 14px;\n",
       "        line-height: 24px;\n",
       "        font-family: 'Montserrat', sans-serif !important;\n",
       "        \n",
       "        background: #f1f2f3;\n",
       "        border-width: medium;\n",
       "        text-align: center;\n",
       "        \n",
       "        font-weight: 400;\n",
       "        \n",
       "        border-radius: 5px;\n",
       "        padding: 2px 5px;\n",
       "        display: block;\n",
       "        margin: 3px 2px;\n",
       "    \n",
       "    }\n",
       "    .spark-nlp-display-entity-type{\n",
       "        font-size: 14px;\n",
       "        line-height: 24px;\n",
       "        color: #ffffff;\n",
       "        font-family: 'Montserrat', sans-serif !important;\n",
       "        \n",
       "        text-transform: uppercase;\n",
       "        \n",
       "        font-weight: 500;\n",
       "\n",
       "        display: block;\n",
       "        padding: 3px 5px;\n",
       "    }\n",
       "    \n",
       "    .spark-nlp-display-entity-resolution{\n",
       "        font-size: 14px;\n",
       "        line-height: 24px;\n",
       "        color: #ffffff;\n",
       "        font-family: 'Vistol Regular', sans-serif !important;\n",
       "        \n",
       "        text-transform: uppercase;\n",
       "        \n",
       "        font-weight: 500;\n",
       "\n",
       "        display: block;\n",
       "        padding: 3px 5px;\n",
       "    }\n",
       "    \n",
       "    .spark-nlp-display-others{\n",
       "        font-size: 14px;\n",
       "        line-height: 24px;\n",
       "        font-family: 'Montserrat', sans-serif !important;\n",
       "        \n",
       "        font-weight: 400;\n",
       "    }\n",
       "\n",
       "</style>\n",
       " <span class=\"spark-nlp-display-others\" style=\"background-color: white\">The </span><span class=\"spark-nlp-display-entity-wrapper\" style=\"background-color: #800080\"><span class=\"spark-nlp-display-entity-name\">Mona Lisa </span><span class=\"spark-nlp-display-entity-type\">PER</span></span><span class=\"spark-nlp-display-others\" style=\"background-color: white\"> is a 16th century oil painting created by </span><span class=\"spark-nlp-display-entity-wrapper\" style=\"background-color: #800080\"><span class=\"spark-nlp-display-entity-name\">Leonardo </span><span class=\"spark-nlp-display-entity-type\">PER</span></span><span class=\"spark-nlp-display-others\" style=\"background-color: white\">. It's held at the </span><span class=\"spark-nlp-display-entity-wrapper\" style=\"background-color: #008080\"><span class=\"spark-nlp-display-entity-name\">Louvre </span><span class=\"spark-nlp-display-entity-type\">LOC</span></span><span class=\"spark-nlp-display-others\" style=\"background-color: white\"> in </span><span class=\"spark-nlp-display-entity-wrapper\" style=\"background-color: #008080\"><span class=\"spark-nlp-display-entity-name\">Paris </span><span class=\"spark-nlp-display-entity-type\">LOC</span></span><span class=\"spark-nlp-display-others\" style=\"background-color: white\">.</span></div>"
      ],
      "text/plain": [
       "<IPython.core.display.HTML object>"
      ]
     },
     "metadata": {
      "tags": []
     },
     "output_type": "display_data"
    },
    {
     "data": {
      "text/html": [
       "\n",
       "<style>\n",
       "    @import url('https://fonts.googleapis.com/css2?family=Montserrat:wght@300;400;500;600;700&display=swap');\n",
       "    @import url('https://fonts.googleapis.com/css2?family=Vistol Regular:wght@300;400;500;600;700&display=swap');\n",
       "    \n",
       "    .spark-nlp-display-scroll-entities {\n",
       "        border: 1px solid #E7EDF0;\n",
       "        border-radius: 3px;\n",
       "        text-align: justify;\n",
       "        \n",
       "    }\n",
       "    .spark-nlp-display-scroll-entities span {  \n",
       "        font-size: 14px;\n",
       "        line-height: 24px;\n",
       "        color: #536B76;\n",
       "        font-family: 'Montserrat', sans-serif !important;\n",
       "    }\n",
       "    \n",
       "    .spark-nlp-display-entity-wrapper{\n",
       "    \n",
       "        display: inline-grid;\n",
       "        text-align: center;\n",
       "        border-radius: 4px;\n",
       "        margin: 0 2px 5px 2px;\n",
       "        padding: 1px\n",
       "    }\n",
       "    .spark-nlp-display-entity-name{\n",
       "        font-size: 14px;\n",
       "        line-height: 24px;\n",
       "        font-family: 'Montserrat', sans-serif !important;\n",
       "        \n",
       "        background: #f1f2f3;\n",
       "        border-width: medium;\n",
       "        text-align: center;\n",
       "        \n",
       "        font-weight: 400;\n",
       "        \n",
       "        border-radius: 5px;\n",
       "        padding: 2px 5px;\n",
       "        display: block;\n",
       "        margin: 3px 2px;\n",
       "    \n",
       "    }\n",
       "    .spark-nlp-display-entity-type{\n",
       "        font-size: 14px;\n",
       "        line-height: 24px;\n",
       "        color: #ffffff;\n",
       "        font-family: 'Montserrat', sans-serif !important;\n",
       "        \n",
       "        text-transform: uppercase;\n",
       "        \n",
       "        font-weight: 500;\n",
       "\n",
       "        display: block;\n",
       "        padding: 3px 5px;\n",
       "    }\n",
       "    \n",
       "    .spark-nlp-display-entity-resolution{\n",
       "        font-size: 14px;\n",
       "        line-height: 24px;\n",
       "        color: #ffffff;\n",
       "        font-family: 'Vistol Regular', sans-serif !important;\n",
       "        \n",
       "        text-transform: uppercase;\n",
       "        \n",
       "        font-weight: 500;\n",
       "\n",
       "        display: block;\n",
       "        padding: 3px 5px;\n",
       "    }\n",
       "    \n",
       "    .spark-nlp-display-others{\n",
       "        font-size: 14px;\n",
       "        line-height: 24px;\n",
       "        font-family: 'Montserrat', sans-serif !important;\n",
       "        \n",
       "        font-weight: 400;\n",
       "    }\n",
       "\n",
       "</style>\n",
       " <span class=\"spark-nlp-display-others\" style=\"background-color: white\">The </span><span class=\"spark-nlp-display-entity-wrapper\" style=\"background-color: #800080\"><span class=\"spark-nlp-display-entity-name\">Mona Lisa </span><span class=\"spark-nlp-display-entity-type\">PER</span></span><span class=\"spark-nlp-display-others\" style=\"background-color: white\"> is a 16th century oil painting created by </span><span class=\"spark-nlp-display-entity-wrapper\" style=\"background-color: #800080\"><span class=\"spark-nlp-display-entity-name\">Leonardo </span><span class=\"spark-nlp-display-entity-type\">PER</span></span><span class=\"spark-nlp-display-others\" style=\"background-color: white\">. It's held at the </span><span class=\"spark-nlp-display-others\" style=\"background-color: white\">Louvre</span><span class=\"spark-nlp-display-others\" style=\"background-color: white\"> in </span><span class=\"spark-nlp-display-others\" style=\"background-color: white\">Paris</span><span class=\"spark-nlp-display-others\" style=\"background-color: white\">.</span></div>"
      ],
      "text/plain": [
       "<IPython.core.display.HTML object>"
      ]
     },
     "metadata": {
      "tags": []
     },
     "output_type": "display_data"
    }
   ],
   "source": [
    "from sparknlp_display import NerVisualizer\n",
    "visualiser = NerVisualizer()\n",
    "print ('Standard Output')\n",
    "visualiser.display(ppres, label_col='entities', document_col='document')\n",
    "\n",
    "# Change color of an entity label\n",
    "visualiser.set_label_colors({'LOC':'#008080', 'PER':'#800080'})\n",
    "visualiser.display(ppres, label_col='entities')\n",
    "\n",
    "# Set label filter\n",
    "visualiser.display(ppres, label_col='entities', document_col='document',\n",
    "                   labels=['PER'])"
   ]
  },
  {
   "cell_type": "markdown",
   "metadata": {
    "id": "9uD5lGDx012t"
   },
   "source": [
    "#### **Display using Full Pipeline results**"
   ]
  },
  {
   "cell_type": "code",
   "execution_count": null,
   "metadata": {
    "id": "k41B3NEw1G-j"
   },
   "outputs": [],
   "source": [
    "cpres_f = pipelineModel.transform(spark.createDataFrame(pd.DataFrame({'text':example})))\n",
    "cpres_f = cpres_f.collect()[0]\n",
    "#cpres_f.keys()"
   ]
  },
  {
   "cell_type": "code",
   "execution_count": null,
   "metadata": {
    "colab": {
     "base_uri": "https://localhost:8080/",
     "height": 88
    },
    "id": "W5flm9TV5HPI",
    "outputId": "d7e969b5-9fbe-41de-9a65-1bae0f265455"
   },
   "outputs": [
    {
     "data": {
      "text/html": [
       "\n",
       "<style>\n",
       "    @import url('https://fonts.googleapis.com/css2?family=Montserrat:wght@300;400;500;600;700&display=swap');\n",
       "    @import url('https://fonts.googleapis.com/css2?family=Vistol Regular:wght@300;400;500;600;700&display=swap');\n",
       "    \n",
       "    .spark-nlp-display-scroll-entities {\n",
       "        border: 1px solid #E7EDF0;\n",
       "        border-radius: 3px;\n",
       "        text-align: justify;\n",
       "        \n",
       "    }\n",
       "    .spark-nlp-display-scroll-entities span {  \n",
       "        font-size: 14px;\n",
       "        line-height: 24px;\n",
       "        color: #536B76;\n",
       "        font-family: 'Montserrat', sans-serif !important;\n",
       "    }\n",
       "    \n",
       "    .spark-nlp-display-entity-wrapper{\n",
       "    \n",
       "        display: inline-grid;\n",
       "        text-align: center;\n",
       "        border-radius: 4px;\n",
       "        margin: 0 2px 5px 2px;\n",
       "        padding: 1px\n",
       "    }\n",
       "    .spark-nlp-display-entity-name{\n",
       "        font-size: 14px;\n",
       "        line-height: 24px;\n",
       "        font-family: 'Montserrat', sans-serif !important;\n",
       "        \n",
       "        background: #f1f2f3;\n",
       "        border-width: medium;\n",
       "        text-align: center;\n",
       "        \n",
       "        font-weight: 400;\n",
       "        \n",
       "        border-radius: 5px;\n",
       "        padding: 2px 5px;\n",
       "        display: block;\n",
       "        margin: 3px 2px;\n",
       "    \n",
       "    }\n",
       "    .spark-nlp-display-entity-type{\n",
       "        font-size: 14px;\n",
       "        line-height: 24px;\n",
       "        color: #ffffff;\n",
       "        font-family: 'Montserrat', sans-serif !important;\n",
       "        \n",
       "        text-transform: uppercase;\n",
       "        \n",
       "        font-weight: 500;\n",
       "\n",
       "        display: block;\n",
       "        padding: 3px 5px;\n",
       "    }\n",
       "    \n",
       "    .spark-nlp-display-entity-resolution{\n",
       "        font-size: 14px;\n",
       "        line-height: 24px;\n",
       "        color: #ffffff;\n",
       "        font-family: 'Vistol Regular', sans-serif !important;\n",
       "        \n",
       "        text-transform: uppercase;\n",
       "        \n",
       "        font-weight: 500;\n",
       "\n",
       "        display: block;\n",
       "        padding: 3px 5px;\n",
       "    }\n",
       "    \n",
       "    .spark-nlp-display-others{\n",
       "        font-size: 14px;\n",
       "        line-height: 24px;\n",
       "        font-family: 'Montserrat', sans-serif !important;\n",
       "        \n",
       "        font-weight: 400;\n",
       "    }\n",
       "\n",
       "</style>\n",
       " <span class=\"spark-nlp-display-others\" style=\"background-color: white\">The </span><span class=\"spark-nlp-display-entity-wrapper\" style=\"background-color: #800080\"><span class=\"spark-nlp-display-entity-name\">Mona Lisa </span><span class=\"spark-nlp-display-entity-type\">PER</span></span><span class=\"spark-nlp-display-others\" style=\"background-color: white\"> is a 16th century oil painting created by </span><span class=\"spark-nlp-display-entity-wrapper\" style=\"background-color: #800080\"><span class=\"spark-nlp-display-entity-name\">Leonardo </span><span class=\"spark-nlp-display-entity-type\">PER</span></span><span class=\"spark-nlp-display-others\" style=\"background-color: white\">. </span><span class=\"spark-nlp-display-entity-wrapper\" style=\"background-color: #800080\"><span class=\"spark-nlp-display-entity-name\">It's </span><span class=\"spark-nlp-display-entity-type\">PER</span></span><span class=\"spark-nlp-display-others\" style=\"background-color: white\"> held at the </span><span class=\"spark-nlp-display-entity-wrapper\" style=\"background-color: #008080\"><span class=\"spark-nlp-display-entity-name\">Louvre </span><span class=\"spark-nlp-display-entity-type\">LOC</span></span><span class=\"spark-nlp-display-others\" style=\"background-color: white\"> in </span><span class=\"spark-nlp-display-entity-wrapper\" style=\"background-color: #008080\"><span class=\"spark-nlp-display-entity-name\">Paris </span><span class=\"spark-nlp-display-entity-type\">LOC</span></span><span class=\"spark-nlp-display-others\" style=\"background-color: white\">.</span></div>"
      ],
      "text/plain": [
       "<IPython.core.display.HTML object>"
      ]
     },
     "metadata": {
      "tags": []
     },
     "output_type": "display_data"
    }
   ],
   "source": [
    "visualiser.display(cpres_f, label_col='entities', document_col='document')"
   ]
  },
  {
   "cell_type": "markdown",
   "metadata": {
    "id": "C9fx_gGjHtrr"
   },
   "source": [
    "# **Licensed Models' Visualisations**"
   ]
  },
  {
   "cell_type": "markdown",
   "metadata": {
    "id": "-ULLif4vH-K3"
   },
   "source": [
    "#### Restart Session and install Spark NLP JSL"
   ]
  },
  {
   "cell_type": "code",
   "execution_count": null,
   "metadata": {
    "id": "OASqP-PCIMuh"
   },
   "outputs": [],
   "source": [
    "import os\n",
    "\n",
    "def restart_runtime():\n",
    "  os.kill(os.getpid(), 9)\n",
    "restart_runtime()"
   ]
  },
  {
   "cell_type": "code",
   "execution_count": null,
   "metadata": {
    "colab": {
     "base_uri": "https://localhost:8080/"
    },
    "id": "qDqIXsRsH9VR",
    "outputId": "0126a707-514a-4227-e297-7f491aa94a2c"
   },
   "outputs": [
    {
     "name": "stdout",
     "output_type": "stream",
     "text": [
      "SparkNLP Version: 2.6.3\n",
      "SparkNLP-JSL Version: 2.7.0\n"
     ]
    }
   ],
   "source": [
    "import os\n",
    "import json\n",
    "\n",
    "with open('/content/spark_nlp_for_healthcare.json', 'r') as f:\n",
    "    license_keys = json.load(f)\n",
    "\n",
    "license_keys.keys()\n",
    "\n",
    "secret = license_keys['SECRET']\n",
    "os.environ['SPARK_NLP_LICENSE'] = license_keys['SPARK_NLP_LICENSE']\n",
    "os.environ['AWS_ACCESS_KEY_ID'] = license_keys['AWS_ACCESS_KEY_ID']\n",
    "os.environ['AWS_SECRET_ACCESS_KEY'] = license_keys['AWS_SECRET_ACCESS_KEY']\n",
    "sparknlp_version = license_keys[\"PUBLIC_VERSION\"]\n",
    "jsl_version = license_keys[\"JSL_VERSION\"]\n",
    "\n",
    "print ('SparkNLP Version:', sparknlp_version)\n",
    "print ('SparkNLP-JSL Version:', jsl_version)\n"
   ]
  },
  {
   "cell_type": "code",
   "execution_count": null,
   "metadata": {
    "colab": {
     "base_uri": "https://localhost:8080/"
    },
    "id": "KZmofa2aIVZb",
    "outputId": "d95dbc7f-2f48-4aab-e948-14c85e5827b5"
   },
   "outputs": [
    {
     "name": "stdout",
     "output_type": "stream",
     "text": [
      "Looking in indexes: https://pypi.org/simple, https://pypi.johnsnowlabs.com/2.7.0-e49fd2919a73690cd04ed3b6e223e21330c5214b\n",
      "Collecting spark-nlp-jsl==2.7.0\n",
      "\u001b[?25l  Downloading https://pypi.johnsnowlabs.com/2.7.0-e49fd2919a73690cd04ed3b6e223e21330c5214b/spark-nlp-jsl/spark_nlp_jsl-2.7.0-py3-none-any.whl (44kB)\n",
      "\u001b[K     |████████████████████████████████| 51kB 379kB/s \n",
      "\u001b[?25hRequirement already satisfied, skipping upgrade: spark-nlp==2.6.3 in /usr/local/lib/python3.6/dist-packages (from spark-nlp-jsl==2.7.0) (2.6.3)\n",
      "Installing collected packages: spark-nlp-jsl\n",
      "Successfully installed spark-nlp-jsl-2.7.0\n"
     ]
    }
   ],
   "source": [
    "# install sparknlp-jsl\n",
    "!python -m pip install --upgrade spark-nlp-jsl==$jsl_version --extra-index-url https://pypi.johnsnowlabs.com/$secret\n"
   ]
  },
  {
   "cell_type": "code",
   "execution_count": null,
   "metadata": {
    "id": "iPmd8DrOIOqx"
   },
   "outputs": [],
   "source": [
    "import pandas as pd\n",
    "import numpy as np\n",
    "import os\n",
    "os.environ[\"JAVA_HOME\"] = \"/usr/lib/jvm/java-8-openjdk-amd64\"\n",
    "import json\n",
    "from pyspark.ml import Pipeline\n",
    "from pyspark.sql import SparkSession\n",
    "import pyspark.sql.functions as F\n",
    "from sparknlp.annotator import *\n",
    "from sparknlp.base import *\n",
    "import sparknlp\n",
    "from sparknlp.pretrained import PretrainedPipeline\n",
    "from sparknlp.annotator import *\n",
    "from sparknlp.base import *\n",
    "import sparknlp_jsl\n",
    "from sparknlp_jsl.annotator import *\n",
    "spark = sparknlp_jsl.start(secret)"
   ]
  },
  {
   "cell_type": "markdown",
   "metadata": {
    "id": "3CwVx_r00-OA"
   },
   "source": [
    "## **Relation Extraction Visualisation**"
   ]
  },
  {
   "cell_type": "code",
   "execution_count": null,
   "metadata": {
    "colab": {
     "base_uri": "https://localhost:8080/"
    },
    "id": "hUVa2TXn1PaY",
    "outputId": "bb4af6f0-5278-4b73-8907-703e6d5c10bf"
   },
   "outputs": [
    {
     "name": "stdout",
     "output_type": "stream",
     "text": [
      "pos_clinical download started this may take some time.\n",
      "Approximate size to download 1.7 MB\n",
      "[OK!]\n",
      "dependency_conllu download started this may take some time.\n",
      "Approximate size to download 16.6 MB\n",
      "[OK!]\n",
      "embeddings_clinical download started this may take some time.\n",
      "Approximate size to download 1.6 GB\n",
      "[OK!]\n",
      "ner_clinical download started this may take some time.\n",
      "Approximate size to download 13.8 MB\n",
      "[OK!]\n",
      "re_clinical download started this may take some time.\n",
      "Approximate size to download 6 MB\n",
      "[OK!]\n"
     ]
    }
   ],
   "source": [
    "document_assembler = DocumentAssembler() \\\n",
    "    .setInputCol('text')\\\n",
    "    .setOutputCol('document')\n",
    "\n",
    "sentence_detector = SentenceDetector() \\\n",
    "    .setInputCols(['document'])\\\n",
    "    .setOutputCol('sentences')\n",
    "\n",
    "tokenizer = Tokenizer()\\\n",
    "    .setInputCols(['sentences']) \\\n",
    "    .setOutputCol('tokens')\n",
    "\n",
    "pos_tagger = PerceptronModel()\\\n",
    "    .pretrained(\"pos_clinical\", \"en\", \"clinical/models\") \\\n",
    "    .setInputCols([\"sentences\", \"tokens\"])\\\n",
    "    .setOutputCol(\"pos_tags\")\n",
    "\n",
    "dependency_parser = DependencyParserModel()\\\n",
    "    .pretrained(\"dependency_conllu\", \"en\")\\\n",
    "    .setInputCols([\"sentences\", \"pos_tags\", \"tokens\"])\\\n",
    "    .setOutputCol(\"dependencies\")\n",
    "\n",
    "embeddings = WordEmbeddingsModel.pretrained('embeddings_clinical', 'en', 'clinical/models')\\\n",
    "    .setInputCols([\"sentences\", \"tokens\"])\\\n",
    "    .setOutputCol(\"embeddings\")\n",
    "\n",
    "posology_ner_model = NerDLModel().pretrained('ner_clinical', 'en', 'clinical/models')\\\n",
    "    .setInputCols(\"sentences\", \"tokens\", \"embeddings\")\\\n",
    "    .setOutputCol(\"ner_tags\")   \n",
    "\n",
    "ner_chunker = NerConverter()\\\n",
    "    .setInputCols([\"sentences\", \"tokens\", \"ner_tags\"])\\\n",
    "    .setOutputCol(\"ner_chunk\")\n",
    "\n",
    "posology_re_Model = RelationExtractionModel()\\\n",
    "    .pretrained(\"re_clinical\", \"en\", \"clinical/models\")\\\n",
    "    .setInputCols([\"embeddings\", \"pos_tags\", \"ner_chunk\", \"dependencies\"])\\\n",
    "    .setOutputCol(\"relations\")\\\n",
    "    .setMaxSyntacticDistance(7)\n",
    "    \n",
    "pipeline = Pipeline(stages=[\n",
    "    document_assembler, \n",
    "    sentence_detector,\n",
    "    tokenizer,\n",
    "    pos_tagger,\n",
    "    dependency_parser,\n",
    "    embeddings,\n",
    "    posology_ner_model,\n",
    "    ner_chunker,\n",
    "    posology_re_Model])\n",
    "\n",
    "empty_df = spark.createDataFrame([['']]).toDF(\"text\")\n",
    "pipelineModel = pipeline.fit(empty_df)\n",
    "\n",
    "lmodel = sparknlp.base.LightPipeline(pipelineModel)"
   ]
  },
  {
   "cell_type": "code",
   "execution_count": null,
   "metadata": {
    "colab": {
     "base_uri": "https://localhost:8080/",
     "height": 1000
    },
    "id": "hvWWUS5l1Tky",
    "outputId": "b861fcb0-06c5-4460-96d7-df6faa08dde8"
   },
   "outputs": [
    {
     "data": {
      "text/html": [
       "<svg baseProfile=\"full\" height=\"2075\" version=\"1.1\" width=\"920\" xmlns=\"http://www.w3.org/2000/svg\" xmlns:ev=\"http://www.w3.org/2001/xml-events\" xmlns:xlink=\"http://www.w3.org/1999/xlink\"><defs /><rect fill=\"#e6ccff\" fill-opacity=\"0.2\" height=\"25\" rx=\"2\" ry=\"2\" stroke=\"#e6ccff\" stroke-width=\"1\" width=\"286.0\" x=\"250.09999999999997\" y=\"157\" /><rect fill=\"#cceeff\" fill-opacity=\"0.2\" height=\"25\" rx=\"2\" ry=\"2\" stroke=\"#cceeff\" stroke-width=\"1\" width=\"169.6\" x=\"7\" y=\"257\" /><rect fill=\"#e6ccff\" fill-opacity=\"0.2\" height=\"25\" rx=\"2\" ry=\"2\" stroke=\"#e6ccff\" stroke-width=\"1\" width=\"353.9\" x=\"376.8\" y=\"257\" /><rect fill=\"#cceeff\" fill-opacity=\"0.2\" height=\"25\" rx=\"2\" ry=\"2\" stroke=\"#cceeff\" stroke-width=\"1\" width=\"363.59999999999997\" x=\"21.7\" y=\"357\" /><rect fill=\"#e6ccff\" fill-opacity=\"0.2\" height=\"25\" rx=\"2\" ry=\"2\" stroke=\"#e6ccff\" stroke-width=\"1\" width=\"189.0\" x=\"697.1999999999999\" y=\"357\" /><rect fill=\"#ffffcc\" fill-opacity=\"0.2\" height=\"25\" rx=\"2\" ry=\"2\" stroke=\"#ffffcc\" stroke-width=\"1\" width=\"276.29999999999995\" x=\"425.2999999999999\" y=\"457\" /><rect fill=\"#ffffcc\" fill-opacity=\"0.2\" height=\"25\" rx=\"2\" ry=\"2\" stroke=\"#ffffcc\" stroke-width=\"1\" width=\"392.7\" x=\"7\" y=\"557\" /><rect fill=\"#cceeff\" fill-opacity=\"0.2\" height=\"25\" rx=\"2\" ry=\"2\" stroke=\"#cceeff\" stroke-width=\"1\" width=\"82.3\" x=\"755.6999999999999\" y=\"657\" /><rect fill=\"#cceeff\" fill-opacity=\"0.2\" height=\"25\" rx=\"2\" ry=\"2\" stroke=\"#cceeff\" stroke-width=\"1\" width=\"92.0\" x=\"21.7\" y=\"757\" /><rect fill=\"#cceeff\" fill-opacity=\"0.2\" height=\"25\" rx=\"2\" ry=\"2\" stroke=\"#cceeff\" stroke-width=\"1\" width=\"82.3\" x=\"172.79999999999998\" y=\"757\" /><rect fill=\"#cceeff\" fill-opacity=\"0.2\" height=\"25\" rx=\"2\" ry=\"2\" stroke=\"#cceeff\" stroke-width=\"1\" width=\"198.7\" x=\"401.7999999999999\" y=\"757\" /><rect fill=\"#ffffcc\" fill-opacity=\"0.2\" height=\"25\" rx=\"2\" ry=\"2\" stroke=\"#ffffcc\" stroke-width=\"1\" width=\"101.69999999999999\" x=\"751.0\" y=\"857\" /><rect fill=\"#cceeff\" fill-opacity=\"0.2\" height=\"25\" rx=\"2\" ry=\"2\" stroke=\"#cceeff\" stroke-width=\"1\" width=\"315.09999999999997\" x=\"561.4000000000001\" y=\"957\" /><rect fill=\"#cceeff\" fill-opacity=\"0.2\" height=\"25\" rx=\"2\" ry=\"2\" stroke=\"#cceeff\" stroke-width=\"1\" width=\"82.3\" x=\"566.4000000000001\" y=\"1057\" /><rect fill=\"#cceeff\" fill-opacity=\"0.2\" height=\"25\" rx=\"2\" ry=\"2\" stroke=\"#cceeff\" stroke-width=\"1\" width=\"315.09999999999997\" x=\"7\" y=\"1157\" /><rect fill=\"#cceeff\" fill-opacity=\"0.2\" height=\"25\" rx=\"2\" ry=\"2\" stroke=\"#cceeff\" stroke-width=\"1\" width=\"392.7\" x=\"493.2\" y=\"1157\" /><rect fill=\"#cceeff\" fill-opacity=\"0.2\" height=\"25\" rx=\"2\" ry=\"2\" stroke=\"#cceeff\" stroke-width=\"1\" width=\"130.79999999999998\" x=\"337.69999999999993\" y=\"1357\" /><rect fill=\"#ffffcc\" fill-opacity=\"0.2\" height=\"25\" rx=\"2\" ry=\"2\" stroke=\"#ffffcc\" stroke-width=\"1\" width=\"256.9\" x=\"7\" y=\"1457\" /><rect fill=\"#ffffcc\" fill-opacity=\"0.2\" height=\"25\" rx=\"2\" ry=\"2\" stroke=\"#ffffcc\" stroke-width=\"1\" width=\"256.9\" x=\"128.7\" y=\"1557\" /><rect fill=\"#ffffcc\" fill-opacity=\"0.2\" height=\"25\" rx=\"2\" ry=\"2\" stroke=\"#ffffcc\" stroke-width=\"1\" width=\"92.0\" x=\"507.8999999999999\" y=\"1557\" /><rect fill=\"#cceeff\" fill-opacity=\"0.2\" height=\"25\" rx=\"2\" ry=\"2\" stroke=\"#cceeff\" stroke-width=\"1\" width=\"392.7\" x=\"396.2\" y=\"1757\" /><rect fill=\"#cceeff\" fill-opacity=\"0.2\" height=\"25\" rx=\"2\" ry=\"2\" stroke=\"#cceeff\" stroke-width=\"1\" width=\"208.39999999999998\" x=\"7\" y=\"1857\" /><text fill=\"#546c74\" font-family=\"Monaco\" font-size=\"16\" style=\"font-weight:100\" x=\"10\" y=\"75\">This</text><text fill=\"#546c74\" font-family=\"Monaco\" font-size=\"16\" style=\"font-weight:100\" x=\"63.5\" y=\"75\">is</text><text fill=\"#546c74\" font-family=\"Monaco\" font-size=\"16\" style=\"font-weight:100\" x=\"97.6\" y=\"75\">the</text><text fill=\"#546c74\" font-family=\"Monaco\" font-size=\"16\" style=\"font-weight:100\" x=\"141.39999999999998\" y=\"75\">case</text><text fill=\"#546c74\" font-family=\"Monaco\" font-size=\"16\" style=\"font-weight:100\" x=\"194.89999999999998\" y=\"75\">of</text><text fill=\"#546c74\" font-family=\"Monaco\" font-size=\"16\" style=\"font-weight:100\" x=\"228.99999999999997\" y=\"75\">a</text><text fill=\"#546c74\" font-family=\"Monaco\" font-size=\"16\" style=\"font-weight:100\" x=\"253.39999999999998\" y=\"75\">very</text><text fill=\"#546c74\" font-family=\"Monaco\" font-size=\"16\" style=\"font-weight:100\" x=\"306.9\" y=\"75\">pleasant</text><text fill=\"#546c74\" font-family=\"Monaco\" font-size=\"16\" style=\"font-weight:100\" x=\"399.2\" y=\"75\">46-year-old</text><text fill=\"#546c74\" font-family=\"Monaco\" font-size=\"16\" style=\"font-weight:100\" x=\"520.6\" y=\"75\">Caucasian</text><text fill=\"#546c74\" font-family=\"Monaco\" font-size=\"16\" style=\"font-weight:100\" x=\"622.6\" y=\"75\">female,</text><text fill=\"#546c74\" font-family=\"Monaco\" font-size=\"16\" style=\"font-weight:100\" x=\"705.2\" y=\"75\">seen</text><text fill=\"#546c74\" font-family=\"Monaco\" font-size=\"16\" style=\"font-weight:100\" x=\"758.7\" y=\"75\">in</text><text fill=\"#546c74\" font-family=\"Monaco\" font-size=\"16\" style=\"font-weight:100\" x=\"792.8000000000001\" y=\"75\">clinic</text><text fill=\"#546c74\" font-family=\"Monaco\" font-size=\"16\" style=\"font-weight:100\" x=\"865.7\" y=\"75\">on</text><text fill=\"#546c74\" font-family=\"Monaco\" font-size=\"16\" style=\"font-weight:100\" x=\"10\" y=\"175\">12/11/07</text><text fill=\"#546c74\" font-family=\"Monaco\" font-size=\"16\" style=\"font-weight:100\" x=\"102.3\" y=\"175\">during</text><text fill=\"#546c74\" font-family=\"Monaco\" font-size=\"16\" style=\"font-weight:100\" x=\"175.2\" y=\"175\">which</text><text fill=\"#546c74\" font-family=\"Monaco\" font-size=\"16\" style=\"font-weight:100\" x=\"238.39999999999998\" y=\"175\" /><text fill=\"#546c74\" font-family=\"Monaco\" font-size=\"16\" style=\"font-weight:100\" x=\"253.09999999999997\" y=\"175\">time MRI of the left shoulder</text><text fill=\"#1f77b7\" font-family=\"Monaco\" font-size=\"12\" style=\"font-weight:lighter\" x=\"380.28181818181815\" y=\"195\">TEST</text><text fill=\"#546c74\" font-family=\"Monaco\" font-size=\"16\" style=\"font-weight:100\" x=\"559.0999999999999\" y=\"175\" /><text fill=\"#546c74\" font-family=\"Monaco\" font-size=\"16\" style=\"font-weight:100\" x=\"573.8\" y=\"175\">showed</text><text fill=\"#546c74\" font-family=\"Monaco\" font-size=\"16\" style=\"font-weight:100\" x=\"646.6999999999999\" y=\"175\">no</text><text fill=\"#546c74\" font-family=\"Monaco\" font-size=\"16\" style=\"font-weight:100\" x=\"680.8\" y=\"175\">evidence</text><text fill=\"#546c74\" font-family=\"Monaco\" font-size=\"16\" style=\"font-weight:100\" x=\"773.0999999999999\" y=\"175\">of</text><text fill=\"#546c74\" font-family=\"Monaco\" font-size=\"16\" style=\"font-weight:100\" x=\"807.1999999999999\" y=\"175\" /><text fill=\"#546c74\" font-family=\"Monaco\" font-size=\"16\" style=\"font-weight:100\" x=\"10\" y=\"275\">rotator cuff tear</text><text fill=\"#1f77b7\" font-family=\"Monaco\" font-size=\"12\" style=\"font-weight:lighter\" x=\"68.4\" y=\"295\">PROBLEM</text><text fill=\"#546c74\" font-family=\"Monaco\" font-size=\"16\" style=\"font-weight:100\" x=\"199.6\" y=\"275\">.</text><text fill=\"#546c74\" font-family=\"Monaco\" font-size=\"16\" style=\"font-weight:100\" x=\"224.0\" y=\"275\">She</text><text fill=\"#546c74\" font-family=\"Monaco\" font-size=\"16\" style=\"font-weight:100\" x=\"267.8\" y=\"275\">did</text><text fill=\"#546c74\" font-family=\"Monaco\" font-size=\"16\" style=\"font-weight:100\" x=\"311.6\" y=\"275\">have</text><text fill=\"#546c74\" font-family=\"Monaco\" font-size=\"16\" style=\"font-weight:100\" x=\"365.1\" y=\"275\" /><text fill=\"#546c74\" font-family=\"Monaco\" font-size=\"16\" style=\"font-weight:100\" x=\"379.8\" y=\"275\">a previous MRI of the cervical spine</text><text fill=\"#1f77b7\" font-family=\"Monaco\" font-size=\"12\" style=\"font-weight:lighter\" x=\"540.9318181818181\" y=\"295\">TEST</text><text fill=\"#546c74\" font-family=\"Monaco\" font-size=\"16\" style=\"font-weight:100\" x=\"753.7\" y=\"275\" /><text fill=\"#546c74\" font-family=\"Monaco\" font-size=\"16\" style=\"font-weight:100\" x=\"768.4000000000001\" y=\"275\">that</text><text fill=\"#546c74\" font-family=\"Monaco\" font-size=\"16\" style=\"font-weight:100\" x=\"821.9000000000001\" y=\"275\">did</text><text fill=\"#546c74\" font-family=\"Monaco\" font-size=\"16\" style=\"font-weight:100\" x=\"865.7\" y=\"275\">show</text><text fill=\"#546c74\" font-family=\"Monaco\" font-size=\"16\" style=\"font-weight:100\" x=\"10\" y=\"375\" /><text fill=\"#546c74\" font-family=\"Monaco\" font-size=\"16\" style=\"font-weight:100\" x=\"24.7\" y=\"375\">an osteophyte on the left C6-C7 level</text><text fill=\"#1f77b7\" font-family=\"Monaco\" font-size=\"12\" style=\"font-weight:lighter\" x=\"180.09999999999997\" y=\"395\">PROBLEM</text><text fill=\"#546c74\" font-family=\"Monaco\" font-size=\"16\" style=\"font-weight:100\" x=\"408.29999999999995\" y=\"375\">.</text><text fill=\"#546c74\" font-family=\"Monaco\" font-size=\"16\" style=\"font-weight:100\" x=\"432.69999999999993\" y=\"375\">Based</text><text fill=\"#546c74\" font-family=\"Monaco\" font-size=\"16\" style=\"font-weight:100\" x=\"495.8999999999999\" y=\"375\">on</text><text fill=\"#546c74\" font-family=\"Monaco\" font-size=\"16\" style=\"font-weight:100\" x=\"529.9999999999999\" y=\"375\">this,</text><text fill=\"#546c74\" font-family=\"Monaco\" font-size=\"16\" style=\"font-weight:100\" x=\"593.1999999999999\" y=\"375\">negative</text><text fill=\"#546c74\" font-family=\"Monaco\" font-size=\"16\" style=\"font-weight:100\" x=\"685.4999999999999\" y=\"375\" /><text fill=\"#546c74\" font-family=\"Monaco\" font-size=\"16\" style=\"font-weight:100\" x=\"700.1999999999999\" y=\"375\">MRI of the shoulder</text><text fill=\"#1f77b7\" font-family=\"Monaco\" font-size=\"12\" style=\"font-weight:lighter\" x=\"778.8818181818181\" y=\"395\">TEST</text><text fill=\"#546c74\" font-family=\"Monaco\" font-size=\"16\" style=\"font-weight:100\" x=\"10\" y=\"475\">,</text><text fill=\"#546c74\" font-family=\"Monaco\" font-size=\"16\" style=\"font-weight:100\" x=\"34.4\" y=\"475\">the</text><text fill=\"#546c74\" font-family=\"Monaco\" font-size=\"16\" style=\"font-weight:100\" x=\"78.19999999999999\" y=\"475\">patient</text><text fill=\"#546c74\" font-family=\"Monaco\" font-size=\"16\" style=\"font-weight:100\" x=\"160.79999999999998\" y=\"475\">was</text><text fill=\"#546c74\" font-family=\"Monaco\" font-size=\"16\" style=\"font-weight:100\" x=\"204.59999999999997\" y=\"475\">recommended</text><text fill=\"#546c74\" font-family=\"Monaco\" font-size=\"16\" style=\"font-weight:100\" x=\"325.99999999999994\" y=\"475\">to</text><text fill=\"#546c74\" font-family=\"Monaco\" font-size=\"16\" style=\"font-weight:100\" x=\"360.0999999999999\" y=\"475\">have</text><text fill=\"#546c74\" font-family=\"Monaco\" font-size=\"16\" style=\"font-weight:100\" x=\"413.5999999999999\" y=\"475\" /><text fill=\"#546c74\" font-family=\"Monaco\" font-size=\"16\" style=\"font-weight:100\" x=\"428.2999999999999\" y=\"475\">anterior cervical discectomy</text><text fill=\"#1f77b7\" font-family=\"Monaco\" font-size=\"12\" style=\"font-weight:lighter\" x=\"532.9954545454543\" y=\"495\">TREATMENT</text><text fill=\"#546c74\" font-family=\"Monaco\" font-size=\"16\" style=\"font-weight:100\" x=\"724.5999999999999\" y=\"475\" /><text fill=\"#546c74\" font-family=\"Monaco\" font-size=\"16\" style=\"font-weight:100\" x=\"739.3\" y=\"475\">with</text><text fill=\"#546c74\" font-family=\"Monaco\" font-size=\"16\" style=\"font-weight:100\" x=\"792.8\" y=\"475\" /><text fill=\"#546c74\" font-family=\"Monaco\" font-size=\"16\" style=\"font-weight:100\" x=\"10\" y=\"575\">anterior interbody fusion at C6-C7 level</text><text fill=\"#1f77b7\" font-family=\"Monaco\" font-size=\"12\" style=\"font-weight:lighter\" x=\"172.89545454545453\" y=\"595\">TREATMENT</text><text fill=\"#546c74\" font-family=\"Monaco\" font-size=\"16\" style=\"font-weight:100\" x=\"422.7\" y=\"575\">.</text><text fill=\"#546c74\" font-family=\"Monaco\" font-size=\"16\" style=\"font-weight:100\" x=\"447.09999999999997\" y=\"575\">Operation,</text><text fill=\"#546c74\" font-family=\"Monaco\" font-size=\"16\" style=\"font-weight:100\" x=\"558.8\" y=\"575\">expected</text><text fill=\"#546c74\" font-family=\"Monaco\" font-size=\"16\" style=\"font-weight:100\" x=\"651.0999999999999\" y=\"575\">outcome,</text><text fill=\"#546c74\" font-family=\"Monaco\" font-size=\"16\" style=\"font-weight:100\" x=\"743.3999999999999\" y=\"575\">risks,</text><text fill=\"#546c74\" font-family=\"Monaco\" font-size=\"16\" style=\"font-weight:100\" x=\"816.2999999999998\" y=\"575\">and</text><text fill=\"#546c74\" font-family=\"Monaco\" font-size=\"16\" style=\"font-weight:100\" x=\"10\" y=\"675\">benefits</text><text fill=\"#546c74\" font-family=\"Monaco\" font-size=\"16\" style=\"font-weight:100\" x=\"102.3\" y=\"675\">were</text><text fill=\"#546c74\" font-family=\"Monaco\" font-size=\"16\" style=\"font-weight:100\" x=\"155.8\" y=\"675\">discussed</text><text fill=\"#546c74\" font-family=\"Monaco\" font-size=\"16\" style=\"font-weight:100\" x=\"257.8\" y=\"675\">with</text><text fill=\"#546c74\" font-family=\"Monaco\" font-size=\"16\" style=\"font-weight:100\" x=\"311.3\" y=\"675\">her.</text><text fill=\"#546c74\" font-family=\"Monaco\" font-size=\"16\" style=\"font-weight:100\" x=\"364.8\" y=\"675\">Risks</text><text fill=\"#546c74\" font-family=\"Monaco\" font-size=\"16\" style=\"font-weight:100\" x=\"428.0\" y=\"675\">include,</text><text fill=\"#546c74\" font-family=\"Monaco\" font-size=\"16\" style=\"font-weight:100\" x=\"520.3\" y=\"675\">but</text><text fill=\"#546c74\" font-family=\"Monaco\" font-size=\"16\" style=\"font-weight:100\" x=\"564.0999999999999\" y=\"675\">not</text><text fill=\"#546c74\" font-family=\"Monaco\" font-size=\"16\" style=\"font-weight:100\" x=\"607.8999999999999\" y=\"675\">exclusive</text><text fill=\"#546c74\" font-family=\"Monaco\" font-size=\"16\" style=\"font-weight:100\" x=\"709.8999999999999\" y=\"675\">of</text><text fill=\"#546c74\" font-family=\"Monaco\" font-size=\"16\" style=\"font-weight:100\" x=\"743.9999999999999\" y=\"675\" /><text fill=\"#546c74\" font-family=\"Monaco\" font-size=\"16\" style=\"font-weight:100\" x=\"758.6999999999999\" y=\"675\">bleeding</text><text fill=\"#1f77b7\" font-family=\"Monaco\" font-size=\"12\" style=\"font-weight:lighter\" x=\"773.4499999999999\" y=\"695\">PROBLEM</text><text fill=\"#546c74\" font-family=\"Monaco\" font-size=\"16\" style=\"font-weight:100\" x=\"860.9999999999999\" y=\"675\" /><text fill=\"#546c74\" font-family=\"Monaco\" font-size=\"16\" style=\"font-weight:100\" x=\"875.6999999999999\" y=\"675\">and</text><text fill=\"#546c74\" font-family=\"Monaco\" font-size=\"16\" style=\"font-weight:100\" x=\"10\" y=\"775\" /><text fill=\"#546c74\" font-family=\"Monaco\" font-size=\"16\" style=\"font-weight:100\" x=\"24.7\" y=\"775\">infection</text><text fill=\"#1f77b7\" font-family=\"Monaco\" font-size=\"12\" style=\"font-weight:lighter\" x=\"44.300000000000004\" y=\"795\">PROBLEM</text><text fill=\"#546c74\" font-family=\"Monaco\" font-size=\"16\" style=\"font-weight:100\" x=\"136.7\" y=\"775\">,</text><text fill=\"#546c74\" font-family=\"Monaco\" font-size=\"16\" style=\"font-weight:100\" x=\"161.1\" y=\"775\" /><text fill=\"#546c74\" font-family=\"Monaco\" font-size=\"16\" style=\"font-weight:100\" x=\"175.79999999999998\" y=\"775\">bleeding</text><text fill=\"#1f77b7\" font-family=\"Monaco\" font-size=\"12\" style=\"font-weight:lighter\" x=\"190.54999999999998\" y=\"795\">PROBLEM</text><text fill=\"#546c74\" font-family=\"Monaco\" font-size=\"16\" style=\"font-weight:100\" x=\"278.09999999999997\" y=\"775\" /><text fill=\"#546c74\" font-family=\"Monaco\" font-size=\"16\" style=\"font-weight:100\" x=\"292.79999999999995\" y=\"775\">could</text><text fill=\"#546c74\" font-family=\"Monaco\" font-size=\"16\" style=\"font-weight:100\" x=\"355.99999999999994\" y=\"775\">be</text><text fill=\"#546c74\" font-family=\"Monaco\" font-size=\"16\" style=\"font-weight:100\" x=\"390.0999999999999\" y=\"775\" /><text fill=\"#546c74\" font-family=\"Monaco\" font-size=\"16\" style=\"font-weight:100\" x=\"404.7999999999999\" y=\"775\">soft tissue bleeding</text><text fill=\"#1f77b7\" font-family=\"Monaco\" font-size=\"12\" style=\"font-weight:lighter\" x=\"477.7499999999999\" y=\"795\">PROBLEM</text><text fill=\"#546c74\" font-family=\"Monaco\" font-size=\"16\" style=\"font-weight:100\" x=\"623.4999999999999\" y=\"775\">,</text><text fill=\"#546c74\" font-family=\"Monaco\" font-size=\"16\" style=\"font-weight:100\" x=\"647.8999999999999\" y=\"775\">which</text><text fill=\"#546c74\" font-family=\"Monaco\" font-size=\"16\" style=\"font-weight:100\" x=\"711.0999999999999\" y=\"775\">may</text><text fill=\"#546c74\" font-family=\"Monaco\" font-size=\"16\" style=\"font-weight:100\" x=\"754.8999999999999\" y=\"775\">compromise</text><text fill=\"#546c74\" font-family=\"Monaco\" font-size=\"16\" style=\"font-weight:100\" x=\"10\" y=\"875\">airway</text><text fill=\"#546c74\" font-family=\"Monaco\" font-size=\"16\" style=\"font-weight:100\" x=\"82.89999999999999\" y=\"875\">and</text><text fill=\"#546c74\" font-family=\"Monaco\" font-size=\"16\" style=\"font-weight:100\" x=\"126.69999999999999\" y=\"875\">may</text><text fill=\"#546c74\" font-family=\"Monaco\" font-size=\"16\" style=\"font-weight:100\" x=\"170.5\" y=\"875\">result</text><text fill=\"#546c74\" font-family=\"Monaco\" font-size=\"16\" style=\"font-weight:100\" x=\"243.39999999999998\" y=\"875\">in</text><text fill=\"#546c74\" font-family=\"Monaco\" font-size=\"16\" style=\"font-weight:100\" x=\"277.5\" y=\"875\">return</text><text fill=\"#546c74\" font-family=\"Monaco\" font-size=\"16\" style=\"font-weight:100\" x=\"350.4\" y=\"875\">to</text><text fill=\"#546c74\" font-family=\"Monaco\" font-size=\"16\" style=\"font-weight:100\" x=\"384.5\" y=\"875\">the</text><text fill=\"#546c74\" font-family=\"Monaco\" font-size=\"16\" style=\"font-weight:100\" x=\"428.3\" y=\"875\">operating</text><text fill=\"#546c74\" font-family=\"Monaco\" font-size=\"16\" style=\"font-weight:100\" x=\"530.3\" y=\"875\">room</text><text fill=\"#546c74\" font-family=\"Monaco\" font-size=\"16\" style=\"font-weight:100\" x=\"583.8\" y=\"875\">emergently</text><text fill=\"#546c74\" font-family=\"Monaco\" font-size=\"16\" style=\"font-weight:100\" x=\"695.5\" y=\"875\">for</text><text fill=\"#546c74\" font-family=\"Monaco\" font-size=\"16\" style=\"font-weight:100\" x=\"739.3\" y=\"875\" /><text fill=\"#546c74\" font-family=\"Monaco\" font-size=\"16\" style=\"font-weight:100\" x=\"754.0\" y=\"875\">evacuation</text><text fill=\"#1f77b7\" font-family=\"Monaco\" font-size=\"12\" style=\"font-weight:lighter\" x=\"771.3954545454545\" y=\"895\">TREATMENT</text><text fill=\"#546c74\" font-family=\"Monaco\" font-size=\"16\" style=\"font-weight:100\" x=\"875.7\" y=\"875\" /><text fill=\"#546c74\" font-family=\"Monaco\" font-size=\"16\" style=\"font-weight:100\" x=\"10\" y=\"975\">of</text><text fill=\"#546c74\" font-family=\"Monaco\" font-size=\"16\" style=\"font-weight:100\" x=\"44.099999999999994\" y=\"975\">said</text><text fill=\"#546c74\" font-family=\"Monaco\" font-size=\"16\" style=\"font-weight:100\" x=\"97.6\" y=\"975\">hematoma.</text><text fill=\"#546c74\" font-family=\"Monaco\" font-size=\"16\" style=\"font-weight:100\" x=\"199.6\" y=\"975\">There</text><text fill=\"#546c74\" font-family=\"Monaco\" font-size=\"16\" style=\"font-weight:100\" x=\"262.8\" y=\"975\">is</text><text fill=\"#546c74\" font-family=\"Monaco\" font-size=\"16\" style=\"font-weight:100\" x=\"296.9\" y=\"975\">also</text><text fill=\"#546c74\" font-family=\"Monaco\" font-size=\"16\" style=\"font-weight:100\" x=\"350.4\" y=\"975\">the</text><text fill=\"#546c74\" font-family=\"Monaco\" font-size=\"16\" style=\"font-weight:100\" x=\"394.2\" y=\"975\">possibility</text><text fill=\"#546c74\" font-family=\"Monaco\" font-size=\"16\" style=\"font-weight:100\" x=\"515.6\" y=\"975\">of</text><text fill=\"#546c74\" font-family=\"Monaco\" font-size=\"16\" style=\"font-weight:100\" x=\"549.7\" y=\"975\" /><text fill=\"#546c74\" font-family=\"Monaco\" font-size=\"16\" style=\"font-weight:100\" x=\"564.4000000000001\" y=\"975\">bleeding into the epidural space</text><text fill=\"#1f77b7\" font-family=\"Monaco\" font-size=\"12\" style=\"font-weight:lighter\" x=\"695.5500000000001\" y=\"995\">PROBLEM</text><text fill=\"#546c74\" font-family=\"Monaco\" font-size=\"16\" style=\"font-weight:100\" x=\"10\" y=\"1075\">,</text><text fill=\"#546c74\" font-family=\"Monaco\" font-size=\"16\" style=\"font-weight:100\" x=\"34.4\" y=\"1075\">which</text><text fill=\"#546c74\" font-family=\"Monaco\" font-size=\"16\" style=\"font-weight:100\" x=\"97.6\" y=\"1075\">can</text><text fill=\"#546c74\" font-family=\"Monaco\" font-size=\"16\" style=\"font-weight:100\" x=\"141.39999999999998\" y=\"1075\">compress</text><text fill=\"#546c74\" font-family=\"Monaco\" font-size=\"16\" style=\"font-weight:100\" x=\"233.7\" y=\"1075\">the</text><text fill=\"#546c74\" font-family=\"Monaco\" font-size=\"16\" style=\"font-weight:100\" x=\"277.5\" y=\"1075\">spinal</text><text fill=\"#546c74\" font-family=\"Monaco\" font-size=\"16\" style=\"font-weight:100\" x=\"350.4\" y=\"1075\">cord</text><text fill=\"#546c74\" font-family=\"Monaco\" font-size=\"16\" style=\"font-weight:100\" x=\"403.9\" y=\"1075\">and</text><text fill=\"#546c74\" font-family=\"Monaco\" font-size=\"16\" style=\"font-weight:100\" x=\"447.7\" y=\"1075\">result</text><text fill=\"#546c74\" font-family=\"Monaco\" font-size=\"16\" style=\"font-weight:100\" x=\"520.6\" y=\"1075\">in</text><text fill=\"#546c74\" font-family=\"Monaco\" font-size=\"16\" style=\"font-weight:100\" x=\"554.7\" y=\"1075\" /><text fill=\"#546c74\" font-family=\"Monaco\" font-size=\"16\" style=\"font-weight:100\" x=\"569.4000000000001\" y=\"1075\">weakness</text><text fill=\"#1f77b7\" font-family=\"Monaco\" font-size=\"12\" style=\"font-weight:lighter\" x=\"584.1500000000001\" y=\"1095\">PROBLEM</text><text fill=\"#546c74\" font-family=\"Monaco\" font-size=\"16\" style=\"font-weight:100\" x=\"671.7\" y=\"1075\" /><text fill=\"#546c74\" font-family=\"Monaco\" font-size=\"16\" style=\"font-weight:100\" x=\"686.4000000000001\" y=\"1075\">and</text><text fill=\"#546c74\" font-family=\"Monaco\" font-size=\"16\" style=\"font-weight:100\" x=\"730.2\" y=\"1075\" /><text fill=\"#546c74\" font-family=\"Monaco\" font-size=\"16\" style=\"font-weight:100\" x=\"10\" y=\"1175\">numbness of all four extremities</text><text fill=\"#1f77b7\" font-family=\"Monaco\" font-size=\"12\" style=\"font-weight:lighter\" x=\"141.14999999999998\" y=\"1195\">PROBLEM</text><text fill=\"#546c74\" font-family=\"Monaco\" font-size=\"16\" style=\"font-weight:100\" x=\"345.09999999999997\" y=\"1175\" /><text fill=\"#546c74\" font-family=\"Monaco\" font-size=\"16\" style=\"font-weight:100\" x=\"359.79999999999995\" y=\"1175\">as</text><text fill=\"#546c74\" font-family=\"Monaco\" font-size=\"16\" style=\"font-weight:100\" x=\"393.9\" y=\"1175\">well</text><text fill=\"#546c74\" font-family=\"Monaco\" font-size=\"16\" style=\"font-weight:100\" x=\"447.4\" y=\"1175\">as</text><text fill=\"#546c74\" font-family=\"Monaco\" font-size=\"16\" style=\"font-weight:100\" x=\"481.5\" y=\"1175\" /><text fill=\"#546c74\" font-family=\"Monaco\" font-size=\"16\" style=\"font-weight:100\" x=\"496.2\" y=\"1175\">impairment of bowel and bladder function</text><text fill=\"#1f77b7\" font-family=\"Monaco\" font-size=\"12\" style=\"font-weight:lighter\" x=\"666.15\" y=\"1195\">PROBLEM</text><text fill=\"#546c74\" font-family=\"Monaco\" font-size=\"16\" style=\"font-weight:100\" x=\"10\" y=\"1275\">.</text><text fill=\"#546c74\" font-family=\"Monaco\" font-size=\"16\" style=\"font-weight:100\" x=\"34.4\" y=\"1275\">However,</text><text fill=\"#546c74\" font-family=\"Monaco\" font-size=\"16\" style=\"font-weight:100\" x=\"126.69999999999999\" y=\"1275\">the</text><text fill=\"#546c74\" font-family=\"Monaco\" font-size=\"16\" style=\"font-weight:100\" x=\"170.5\" y=\"1275\">patient</text><text fill=\"#546c74\" font-family=\"Monaco\" font-size=\"16\" style=\"font-weight:100\" x=\"253.1\" y=\"1275\">may</text><text fill=\"#546c74\" font-family=\"Monaco\" font-size=\"16\" style=\"font-weight:100\" x=\"296.9\" y=\"1275\">develop</text><text fill=\"#546c74\" font-family=\"Monaco\" font-size=\"16\" style=\"font-weight:100\" x=\"379.5\" y=\"1275\">deeper-seated</text><text fill=\"#546c74\" font-family=\"Monaco\" font-size=\"16\" style=\"font-weight:100\" x=\"520.3\" y=\"1275\">infection,</text><text fill=\"#546c74\" font-family=\"Monaco\" font-size=\"16\" style=\"font-weight:100\" x=\"632.0\" y=\"1275\">which</text><text fill=\"#546c74\" font-family=\"Monaco\" font-size=\"16\" style=\"font-weight:100\" x=\"695.2\" y=\"1275\">may</text><text fill=\"#546c74\" font-family=\"Monaco\" font-size=\"16\" style=\"font-weight:100\" x=\"739.0\" y=\"1275\">require</text><text fill=\"#546c74\" font-family=\"Monaco\" font-size=\"16\" style=\"font-weight:100\" x=\"821.6\" y=\"1275\">return</text><text fill=\"#546c74\" font-family=\"Monaco\" font-size=\"16\" style=\"font-weight:100\" x=\"10\" y=\"1375\">to</text><text fill=\"#546c74\" font-family=\"Monaco\" font-size=\"16\" style=\"font-weight:100\" x=\"44.099999999999994\" y=\"1375\">the</text><text fill=\"#546c74\" font-family=\"Monaco\" font-size=\"16\" style=\"font-weight:100\" x=\"87.89999999999999\" y=\"1375\">operating</text><text fill=\"#546c74\" font-family=\"Monaco\" font-size=\"16\" style=\"font-weight:100\" x=\"189.89999999999998\" y=\"1375\">room.</text><text fill=\"#546c74\" font-family=\"Monaco\" font-size=\"16\" style=\"font-weight:100\" x=\"253.09999999999997\" y=\"1375\">Should</text><text fill=\"#546c74\" font-family=\"Monaco\" font-size=\"16\" style=\"font-weight:100\" x=\"325.99999999999994\" y=\"1375\" /><text fill=\"#546c74\" font-family=\"Monaco\" font-size=\"16\" style=\"font-weight:100\" x=\"340.69999999999993\" y=\"1375\">the infection</text><text fill=\"#1f77b7\" font-family=\"Monaco\" font-size=\"12\" style=\"font-weight:lighter\" x=\"379.69999999999993\" y=\"1395\">PROBLEM</text><text fill=\"#546c74\" font-family=\"Monaco\" font-size=\"16\" style=\"font-weight:100\" x=\"491.4999999999999\" y=\"1375\" /><text fill=\"#546c74\" font-family=\"Monaco\" font-size=\"16\" style=\"font-weight:100\" x=\"506.1999999999999\" y=\"1375\">be</text><text fill=\"#546c74\" font-family=\"Monaco\" font-size=\"16\" style=\"font-weight:100\" x=\"540.2999999999998\" y=\"1375\">in</text><text fill=\"#546c74\" font-family=\"Monaco\" font-size=\"16\" style=\"font-weight:100\" x=\"574.3999999999999\" y=\"1375\">the</text><text fill=\"#546c74\" font-family=\"Monaco\" font-size=\"16\" style=\"font-weight:100\" x=\"618.1999999999998\" y=\"1375\">area</text><text fill=\"#546c74\" font-family=\"Monaco\" font-size=\"16\" style=\"font-weight:100\" x=\"671.6999999999998\" y=\"1375\">of</text><text fill=\"#546c74\" font-family=\"Monaco\" font-size=\"16\" style=\"font-weight:100\" x=\"705.7999999999998\" y=\"1375\" /><text fill=\"#546c74\" font-family=\"Monaco\" font-size=\"16\" style=\"font-weight:100\" x=\"10\" y=\"1475\">the spinal instrumentation</text><text fill=\"#1f77b7\" font-family=\"Monaco\" font-size=\"12\" style=\"font-weight:lighter\" x=\"104.99545454545454\" y=\"1495\">TREATMENT</text><text fill=\"#546c74\" font-family=\"Monaco\" font-size=\"16\" style=\"font-weight:100\" x=\"286.9\" y=\"1475\">,</text><text fill=\"#546c74\" font-family=\"Monaco\" font-size=\"16\" style=\"font-weight:100\" x=\"311.29999999999995\" y=\"1475\">this</text><text fill=\"#546c74\" font-family=\"Monaco\" font-size=\"16\" style=\"font-weight:100\" x=\"364.79999999999995\" y=\"1475\">will</text><text fill=\"#546c74\" font-family=\"Monaco\" font-size=\"16\" style=\"font-weight:100\" x=\"418.29999999999995\" y=\"1475\">cause</text><text fill=\"#546c74\" font-family=\"Monaco\" font-size=\"16\" style=\"font-weight:100\" x=\"481.49999999999994\" y=\"1475\">a</text><text fill=\"#546c74\" font-family=\"Monaco\" font-size=\"16\" style=\"font-weight:100\" x=\"505.8999999999999\" y=\"1475\">dilemma</text><text fill=\"#546c74\" font-family=\"Monaco\" font-size=\"16\" style=\"font-weight:100\" x=\"588.4999999999999\" y=\"1475\">since</text><text fill=\"#546c74\" font-family=\"Monaco\" font-size=\"16\" style=\"font-weight:100\" x=\"651.6999999999999\" y=\"1475\">there</text><text fill=\"#546c74\" font-family=\"Monaco\" font-size=\"16\" style=\"font-weight:100\" x=\"714.9\" y=\"1475\">might</text><text fill=\"#546c74\" font-family=\"Monaco\" font-size=\"16\" style=\"font-weight:100\" x=\"778.1\" y=\"1475\">be</text><text fill=\"#546c74\" font-family=\"Monaco\" font-size=\"16\" style=\"font-weight:100\" x=\"812.2\" y=\"1475\">a</text><text fill=\"#546c74\" font-family=\"Monaco\" font-size=\"16\" style=\"font-weight:100\" x=\"836.6\" y=\"1475\">need</text><text fill=\"#546c74\" font-family=\"Monaco\" font-size=\"16\" style=\"font-weight:100\" x=\"10\" y=\"1575\">to</text><text fill=\"#546c74\" font-family=\"Monaco\" font-size=\"16\" style=\"font-weight:100\" x=\"44.099999999999994\" y=\"1575\">remove</text><text fill=\"#546c74\" font-family=\"Monaco\" font-size=\"16\" style=\"font-weight:100\" x=\"116.99999999999999\" y=\"1575\" /><text fill=\"#546c74\" font-family=\"Monaco\" font-size=\"16\" style=\"font-weight:100\" x=\"131.7\" y=\"1575\">the spinal instrumentation</text><text fill=\"#1f77b7\" font-family=\"Monaco\" font-size=\"12\" style=\"font-weight:lighter\" x=\"226.69545454545454\" y=\"1595\">TREATMENT</text><text fill=\"#546c74\" font-family=\"Monaco\" font-size=\"16\" style=\"font-weight:100\" x=\"408.59999999999997\" y=\"1575\" /><text fill=\"#546c74\" font-family=\"Monaco\" font-size=\"16\" style=\"font-weight:100\" x=\"423.29999999999995\" y=\"1575\">and/or</text><text fill=\"#546c74\" font-family=\"Monaco\" font-size=\"16\" style=\"font-weight:100\" x=\"496.19999999999993\" y=\"1575\" /><text fill=\"#546c74\" font-family=\"Monaco\" font-size=\"16\" style=\"font-weight:100\" x=\"510.8999999999999\" y=\"1575\">allograft</text><text fill=\"#1f77b7\" font-family=\"Monaco\" font-size=\"12\" style=\"font-weight:lighter\" x=\"523.4454545454544\" y=\"1595\">TREATMENT</text><text fill=\"#546c74\" font-family=\"Monaco\" font-size=\"16\" style=\"font-weight:100\" x=\"622.8999999999999\" y=\"1575\">.</text><text fill=\"#546c74\" font-family=\"Monaco\" font-size=\"16\" style=\"font-weight:100\" x=\"647.2999999999998\" y=\"1575\">There</text><text fill=\"#546c74\" font-family=\"Monaco\" font-size=\"16\" style=\"font-weight:100\" x=\"710.4999999999999\" y=\"1575\">is</text><text fill=\"#546c74\" font-family=\"Monaco\" font-size=\"16\" style=\"font-weight:100\" x=\"744.5999999999999\" y=\"1575\">also</text><text fill=\"#546c74\" font-family=\"Monaco\" font-size=\"16\" style=\"font-weight:100\" x=\"798.0999999999999\" y=\"1575\">the</text><text fill=\"#546c74\" font-family=\"Monaco\" font-size=\"16\" style=\"font-weight:100\" x=\"10\" y=\"1675\">possibility</text><text fill=\"#546c74\" font-family=\"Monaco\" font-size=\"16\" style=\"font-weight:100\" x=\"131.39999999999998\" y=\"1675\">of</text><text fill=\"#546c74\" font-family=\"Monaco\" font-size=\"16\" style=\"font-weight:100\" x=\"165.49999999999997\" y=\"1675\">potential</text><text fill=\"#546c74\" font-family=\"Monaco\" font-size=\"16\" style=\"font-weight:100\" x=\"267.5\" y=\"1675\">injury</text><text fill=\"#546c74\" font-family=\"Monaco\" font-size=\"16\" style=\"font-weight:100\" x=\"340.4\" y=\"1675\">to</text><text fill=\"#546c74\" font-family=\"Monaco\" font-size=\"16\" style=\"font-weight:100\" x=\"374.5\" y=\"1675\">the</text><text fill=\"#546c74\" font-family=\"Monaco\" font-size=\"16\" style=\"font-weight:100\" x=\"418.3\" y=\"1675\">esophageus,</text><text fill=\"#546c74\" font-family=\"Monaco\" font-size=\"16\" style=\"font-weight:100\" x=\"539.7\" y=\"1675\">the</text><text fill=\"#546c74\" font-family=\"Monaco\" font-size=\"16\" style=\"font-weight:100\" x=\"583.5\" y=\"1675\">trachea,</text><text fill=\"#546c74\" font-family=\"Monaco\" font-size=\"16\" style=\"font-weight:100\" x=\"675.8\" y=\"1675\">and</text><text fill=\"#546c74\" font-family=\"Monaco\" font-size=\"16\" style=\"font-weight:100\" x=\"719.5999999999999\" y=\"1675\">the</text><text fill=\"#546c74\" font-family=\"Monaco\" font-size=\"16\" style=\"font-weight:100\" x=\"763.3999999999999\" y=\"1675\">carotid</text><text fill=\"#546c74\" font-family=\"Monaco\" font-size=\"16\" style=\"font-weight:100\" x=\"10\" y=\"1775\">artery.</text><text fill=\"#546c74\" font-family=\"Monaco\" font-size=\"16\" style=\"font-weight:100\" x=\"92.6\" y=\"1775\">There</text><text fill=\"#546c74\" font-family=\"Monaco\" font-size=\"16\" style=\"font-weight:100\" x=\"155.79999999999998\" y=\"1775\">is</text><text fill=\"#546c74\" font-family=\"Monaco\" font-size=\"16\" style=\"font-weight:100\" x=\"189.89999999999998\" y=\"1775\">also</text><text fill=\"#546c74\" font-family=\"Monaco\" font-size=\"16\" style=\"font-weight:100\" x=\"243.39999999999998\" y=\"1775\">the</text><text fill=\"#546c74\" font-family=\"Monaco\" font-size=\"16\" style=\"font-weight:100\" x=\"287.2\" y=\"1775\">risks</text><text fill=\"#546c74\" font-family=\"Monaco\" font-size=\"16\" style=\"font-weight:100\" x=\"350.4\" y=\"1775\">of</text><text fill=\"#546c74\" font-family=\"Monaco\" font-size=\"16\" style=\"font-weight:100\" x=\"384.5\" y=\"1775\" /><text fill=\"#546c74\" font-family=\"Monaco\" font-size=\"16\" style=\"font-weight:100\" x=\"399.2\" y=\"1775\">stroke on the right cerebral circulation</text><text fill=\"#1f77b7\" font-family=\"Monaco\" font-size=\"12\" style=\"font-weight:lighter\" x=\"569.15\" y=\"1795\">PROBLEM</text><text fill=\"#546c74\" font-family=\"Monaco\" font-size=\"16\" style=\"font-weight:100\" x=\"811.9\" y=\"1775\" /><text fill=\"#546c74\" font-family=\"Monaco\" font-size=\"16\" style=\"font-weight:100\" x=\"826.6\" y=\"1775\">should</text><text fill=\"#546c74\" font-family=\"Monaco\" font-size=\"16\" style=\"font-weight:100\" x=\"899.5\" y=\"1775\" /><text fill=\"#546c74\" font-family=\"Monaco\" font-size=\"16\" style=\"font-weight:100\" x=\"10\" y=\"1875\">an undiagnosed plaque</text><text fill=\"#1f77b7\" font-family=\"Monaco\" font-size=\"12\" style=\"font-weight:lighter\" x=\"87.79999999999998\" y=\"1895\">PROBLEM</text><text fill=\"#546c77\" font-family=\"Monaco\" font-size=\"16\" style=\"font-weight:100\" x=\"238.39999999999998\" y=\"1875\" /><text fill=\"#546c77\" font-family=\"Monaco\" font-size=\"16\" style=\"font-weight:100\" x=\"243.09999999999997\" y=\"1875\">be</text><text fill=\"#546c77\" font-family=\"Monaco\" font-size=\"16\" style=\"font-weight:100\" x=\"267.2\" y=\"1875\">propelled</text><text fill=\"#546c77\" font-family=\"Monaco\" font-size=\"16\" style=\"font-weight:100\" x=\"359.2\" y=\"1875\">from</text><text fill=\"#546c77\" font-family=\"Monaco\" font-size=\"16\" style=\"font-weight:100\" x=\"402.7\" y=\"1875\">the</text><text fill=\"#546c77\" font-family=\"Monaco\" font-size=\"16\" style=\"font-weight:100\" x=\"436.5\" y=\"1875\">right</text><text fill=\"#546c77\" font-family=\"Monaco\" font-size=\"16\" style=\"font-weight:100\" x=\"489.7\" y=\"1875\">carotid.</text><text fill=\"#546c77\" font-family=\"Monaco\" font-size=\"16\" style=\"font-weight:100\" x=\"572.0\" y=\"1875\">She</text><text fill=\"#546c77\" font-family=\"Monaco\" font-size=\"16\" style=\"font-weight:100\" x=\"605.8\" y=\"1875\">understood</text><text fill=\"#546c77\" font-family=\"Monaco\" font-size=\"16\" style=\"font-weight:100\" x=\"707.5\" y=\"1875\">all</text><text fill=\"#546c77\" font-family=\"Monaco\" font-size=\"16\" style=\"font-weight:100\" x=\"741.3\" y=\"1875\">of</text><text fill=\"#546c77\" font-family=\"Monaco\" font-size=\"16\" style=\"font-weight:100\" x=\"765.4\" y=\"1875\">these</text><text fill=\"#546c77\" font-family=\"Monaco\" font-size=\"16\" style=\"font-weight:100\" x=\"818.6\" y=\"1875\">risks</text><text fill=\"#546c77\" font-family=\"Monaco\" font-size=\"16\" style=\"font-weight:100\" x=\"871.8000000000001\" y=\"1875\">and</text><text fill=\"#546c77\" font-family=\"Monaco\" font-size=\"16\" style=\"font-weight:100\" x=\"10\" y=\"1975\">agreed</text><text fill=\"#546c77\" font-family=\"Monaco\" font-size=\"16\" style=\"font-weight:100\" x=\"72.89999999999999\" y=\"1975\">to</text><text fill=\"#546c77\" font-family=\"Monaco\" font-size=\"16\" style=\"font-weight:100\" x=\"96.99999999999999\" y=\"1975\">have</text><text fill=\"#546c77\" font-family=\"Monaco\" font-size=\"16\" style=\"font-weight:100\" x=\"140.5\" y=\"1975\">the</text><text fill=\"#546c77\" font-family=\"Monaco\" font-size=\"16\" style=\"font-weight:100\" x=\"174.3\" y=\"1975\">procedure</text><text fill=\"#546c77\" font-family=\"Monaco\" font-size=\"16\" style=\"font-weight:100\" x=\"266.3\" y=\"1975\">performed.</text><polyline fill=\"none\" points=\"206.0,755.0 204.71428571428572,753.7960798646823 203.4285714285714,752.593128713376 202.14285714285714,751.3921155300937 200.85714285714283,750.1940092988466 199.57142857142856,748.9997790036464 198.28571428571428,747.810393628505 197.00000000000003,746.6268221574346 195.71428571428575,745.4500335744461 194.42857142857144,744.2809968635519 193.1428571428571,743.1206810087633 191.85714285714283,741.9700549940925 190.57142857142853,740.8300878035511 189.28571428571428,739.701748421151 188.00000000000003,738.5860058309039 186.71428571428575,737.4838290168213 185.42857142857142,736.3961869629153 184.14285714285717,735.3240486531973 182.85714285714286,734.2683830716794 181.57142857142856,733.2301592023732 180.28571428571425,732.2103460292905 178.99999999999997,731.2099125364431 177.71428571428572,730.2298277078429 176.42857142857144,729.2710605275013 175.14285714285714,728.3345799794304 173.85714285714286,727.4213550476417 172.57142857142856,726.5323547161472 171.28571428571428,725.6685479689586 170.0,724.8309037900875 168.71428571428572,724.0203911635458 167.42857142857144,723.2379790733453 166.14285714285717,722.4846365034978 164.85714285714283,721.7613324380147 163.57142857142856,721.0690358609083 162.2857142857143,720.4087157561901 161.0,719.7813411078719 159.71428571428572,719.1878808999652 158.42857142857144,718.6293041164821 157.14285714285717,718.1065797414343 155.8571428571429,717.6206767588335 154.57142857142858,717.1725641526916 153.28571428571428,716.76321090702 152.0,716.3935860058309 150.7142857142857,716.0646584331358 149.42857142857144,715.7773971729466 148.14285714285717,715.5327712092751 146.85714285714286,715.3317495261329 145.57142857142858,715.1753011075318 144.28571428571428,715.0643949374835 143.0,715.0 143.0,715.0 141.71428571428567,714.9827622844223 140.4285714285714,715.0120358014092 139.14285714285717,715.0868515669491 137.85714285714286,715.2062405970302 136.57142857142856,715.3692339076405 135.28571428571428,715.5748625147684 134.00000000000006,715.8221574344026 132.71428571428572,716.1101496825303 131.42857142857144,716.4378702751405 130.1428571428571,716.804350228221 128.85714285714286,717.2086205577607 127.57142857142856,717.6497122797472 126.28571428571428,718.1266564101691 125.0,718.6384839650145 123.71428571428574,719.1842259602718 122.42857142857144,719.7629134119287 121.14285714285715,720.3735773359739 119.85714285714286,721.0152487483956 118.57142857142857,721.6869586651819 117.28571428571426,722.3877381023211 115.99999999999999,723.1166180758016 114.71428571428572,723.8726296016115 113.42857142857142,724.6548036957389 112.14285714285715,725.4621713741723 110.85714285714286,726.2937636528998 109.57142857142857,727.1486115479095 108.28571428571429,728.0257460751898 107.0,728.9241982507289 105.71428571428572,729.842999090515 104.42857142857143,730.7811796105365 103.14285714285715,731.7377708267813 101.85714285714286,732.711803755238 100.57142857142856,733.7023094118946 99.28571428571428,734.7083188127395 98.0,735.7288629737609 96.71428571428572,736.7629729109469 95.42857142857144,737.8096796402858 94.14285714285715,738.8680141777661 92.85714285714286,739.9370075393756 91.57142857142858,741.0156907411027 90.28571428571429,742.1030947989358 89.0,743.1982507288631 87.71428571428572,744.3001895468724 86.42857142857144,745.4079422689525 85.14285714285715,746.5205399110915 83.85714285714286,747.6370134892775 82.57142857142857,748.7563940194987 81.28571428571428,749.8777125177435 80.0,751.0\" stroke=\"#39bf7f\" stroke-width=\"1\" /><polyline fill=\"none\" points=\"86.98660533216089,752.0896540426306 80,751 81.08965404263058,744.0133946678391 80,751\" stroke=\"#39bf7f\" stroke-width=\"1\" /><rect fill=\"white\" font-family=\"Monaco\" height=\"13\" rx=\"2\" ry=\"2\" stroke=\"#39bf7f\" stroke-width=\"1\" transform=\"rotate(1.8183029644518331 141.5 716.5)\" width=\"35.22222222222222\" x=\"123.88888888888889\" y=\"710\" /><text fill=\"#39bf7f\" font-family=\"courier\" font-size=\"12\" transform=\"rotate(1.8183029644518331 141.5 716.5)\" x=\"126.88888888888889\" y=\"720\">TrCP</text><polyline fill=\"none\" points=\"682.0,1155.0 681.6326530612245,1154.3367346938771 681.2653061224488,1153.673469387755 680.8979591836735,1153.0102040816328 680.530612244898,1152.3469387755101 680.1632653061223,1151.6836734693877 679.7959183673469,1151.020408163265 679.4285714285716,1150.357142857143 679.0612244897959,1149.6938775510205 678.6938775510204,1149.030612244898 678.3265306122448,1148.3673469387752 677.9591836734693,1147.704081632653 677.5918367346937,1147.0408163265306 677.2244897959183,1146.377551020408 676.8571428571429,1145.7142857142858 676.4897959183675,1145.0510204081636 676.1224489795919,1144.387755102041 675.7551020408164,1143.7244897959185 675.3877551020407,1143.0612244897961 675.0204081632653,1142.3979591836735 674.6530612244898,1141.7346938775509 674.2857142857142,1141.0714285714284 673.9183673469388,1140.4081632653063 673.5510204081633,1139.7448979591836 673.1836734693877,1139.0816326530612 672.8163265306122,1138.4183673469388 672.4489795918366,1137.7551020408164 672.0816326530612,1137.091836734694 671.7142857142858,1136.4285714285716 671.3469387755101,1135.7653061224491 670.9795918367347,1135.1020408163267 670.6122448979593,1134.4387755102043 670.2448979591836,1133.7755102040817 669.8775510204082,1133.1122448979593 669.5102040816327,1132.4489795918369 669.1428571428572,1131.7857142857144 668.7755102040817,1131.122448979592 668.408163265306,1130.4591836734694 668.0408163265306,1129.795918367347 667.6734693877552,1129.1326530612246 667.3061224489795,1128.4693877551022 666.9387755102041,1127.8061224489797 666.5714285714287,1127.1428571428573 666.204081632653,1126.4795918367347 665.8367346938776,1125.8163265306123 665.469387755102,1125.1530612244899 665.1020408163265,1124.4897959183675 664.7346938775511,1123.826530612245 664.3673469387754,1123.1632653061224 664.0,1122.5 664.0,1122.5 663.6326530612245,1121.8367346938776 663.2653061224489,1121.1734693877552 662.8979591836736,1120.5102040816328 662.530612244898,1119.8469387755101 662.1632653061225,1119.1836734693875 661.7959183673469,1118.520408163265 661.4285714285717,1117.8571428571431 661.0612244897959,1117.1938775510205 660.6938775510205,1116.530612244898 660.3265306122448,1115.8673469387754 659.9591836734694,1115.204081632653 659.5918367346937,1114.5408163265301 659.2244897959184,1113.8775510204077 658.8571428571428,1113.2142857142858 658.4897959183675,1112.5510204081634 658.1224489795918,1111.8877551020407 657.7551020408164,1111.2244897959185 657.3877551020407,1110.5612244897957 657.0204081632653,1109.8979591836735 656.6530612244898,1109.2346938775509 656.2857142857142,1108.5714285714282 655.9183673469388,1107.908163265306 655.5510204081633,1107.2448979591836 655.1836734693878,1106.5816326530612 654.8163265306123,1105.9183673469388 654.4489795918366,1105.2551020408162 654.0816326530613,1104.591836734694 653.7142857142858,1103.9285714285716 653.3469387755102,1103.265306122449 652.9795918367347,1102.6020408163265 652.6122448979593,1101.938775510204 652.2448979591836,1101.2755102040815 651.8775510204082,1100.612244897959 651.5102040816327,1099.9489795918366 651.1428571428572,1099.2857142857142 650.7755102040817,1098.6224489795918 650.4081632653063,1097.9591836734694 650.0408163265306,1097.295918367347 649.6734693877552,1096.6326530612246 649.3061224489796,1095.9693877551022 648.9387755102041,1095.3061224489795 648.5714285714286,1094.642857142857 648.204081632653,1093.9795918367345 647.8367346938776,1093.316326530612 647.469387755102,1092.6530612244899 647.1020408163265,1091.9897959183675 646.7346938775511,1091.3265306122448 646.3673469387755,1090.6632653061224 646.0,1090.0\" stroke=\"#0398da\" stroke-width=\"1\" /><polyline fill=\"none\" points=\"644.0485423595018,1096.796455920356 646,1090 652.7964559203559,1091.9514576404981 646,1090\" stroke=\"#0398da\" stroke-width=\"1\" /><rect fill=\"white\" font-family=\"Monaco\" height=\"13\" rx=\"2\" ry=\"2\" stroke=\"#0398da\" stroke-width=\"1\" transform=\"rotate(61.020292302071226 662.5 1119.0)\" width=\"35.22222222222222\" x=\"644.8888888888889\" y=\"1112.5\" /><text fill=\"#0398da\" font-family=\"courier\" font-size=\"12\" transform=\"rotate(61.020292302071226 662.5 1119.0)\" x=\"647.8888888888889\" y=\"1122.5\">TrWP</text><polyline fill=\"none\" points=\"494.0,755.0 491.2653061224489,753.7960798646823 488.5306122448979,752.593128713376 485.795918367347,751.3921155300937 483.0612244897959,750.1940092988466 480.32653061224494,748.9997790036464 477.5918367346939,747.810393628505 474.857142857143,746.6268221574346 472.1224489795919,745.4500335744461 469.3877551020409,744.2809968635519 466.65306122448976,743.1206810087633 463.91836734693874,741.9700549940925 461.18367346938766,740.8300878035511 458.44897959183675,739.701748421151 455.7142857142858,738.5860058309039 452.97959183673476,737.4838290168213 450.24489795918373,736.3961869629153 447.51020408163276,735.3240486531973 444.7755102040816,734.2683830716794 442.0408163265306,733.2301592023732 439.3061224489796,732.2103460292905 436.57142857142856,731.2099125364431 433.83673469387764,730.2298277078429 431.1020408163265,729.2710605275013 428.3673469387756,728.3345799794304 425.6326530612245,727.4213550476417 422.8979591836735,726.5323547161472 420.16326530612247,725.6685479689586 417.4285714285715,724.8309037900875 414.6938775510204,724.0203911635458 411.95918367346945,723.2379790733453 409.22448979591843,722.4846365034978 406.48979591836735,721.7613324380147 403.7551020408163,721.0690358609083 401.0204081632653,720.4087157561901 398.28571428571433,719.7813411078719 395.55102040816325,719.1878808999652 392.8163265306123,718.6293041164821 390.0816326530612,718.1065797414343 387.34693877551024,717.6206767588335 384.6122448979593,717.1725641526916 381.8775510204082,716.76321090702 379.14285714285717,716.3935860058309 376.40816326530614,716.0646584331358 373.6734693877551,715.7773971729466 370.9387755102041,715.5327712092751 368.20408163265313,715.3317495261329 365.46938775510205,715.1753011075318 362.734693877551,715.0643949374835 360.0,715.0 360.0,715.0 357.2653061224489,714.9827622844223 354.5306122448979,715.0120358014092 351.795918367347,715.0868515669491 349.06122448979585,715.2062405970302 346.3265306122449,715.3692339076405 343.59183673469386,715.5748625147684 340.85714285714295,715.8221574344026 338.1224489795919,716.1101496825303 335.38775510204084,716.4378702751405 332.65306122448976,716.804350228221 329.91836734693874,717.2086205577607 327.1836734693877,717.6497122797472 324.44897959183675,718.1266564101691 321.71428571428567,718.6384839650145 318.97959183673476,719.1842259602718 316.2448979591837,719.7629134119287 313.5102040816327,720.3735773359739 310.7755102040816,721.0152487483956 308.0408163265306,721.6869586651819 305.3061224489796,722.3877381023211 302.5714285714285,723.1166180758016 299.83673469387753,723.8726296016115 297.10204081632656,724.6548036957389 294.36734693877554,725.4621713741723 291.63265306122446,726.2937636528998 288.89795918367344,727.1486115479095 286.1632653061224,728.0257460751898 283.42857142857144,728.9241982507289 280.6938775510204,729.842999090515 277.9591836734694,730.7811796105365 275.2244897959184,731.7377708267813 272.48979591836735,732.711803755238 269.7551020408163,733.7023094118946 267.0204081632653,734.7083188127395 264.2857142857143,735.7288629737609 261.55102040816325,736.7629729109469 258.81632653061223,737.8096796402858 256.0816326530612,738.8680141777661 253.34693877551018,739.9370075393756 250.6122448979592,741.0156907411027 247.87755102040813,742.1030947989358 245.14285714285717,743.1982507288631 242.40816326530611,744.3001895468724 239.6734693877551,745.4079422689525 236.9387755102041,746.5205399110915 234.20408163265307,747.6370134892775 231.46938775510205,748.7563940194987 228.73469387755102,749.8777125177435 226.0,751.0\" stroke=\"#8c35cd\" stroke-width=\"1\" /><polyline fill=\"none\" points=\"232.35253673717904,754.1056846270653 226,751 229.1056846270654,744.647463262821 226,751\" stroke=\"#8c35cd\" stroke-width=\"1\" /><rect fill=\"white\" font-family=\"Monaco\" height=\"13\" rx=\"2\" ry=\"2\" stroke=\"#8c35cd\" stroke-width=\"1\" transform=\"rotate(0.8550973962667232 358.5 716.5)\" width=\"35.22222222222222\" x=\"340.8888888888889\" y=\"710\" /><text fill=\"#8c35cd\" font-family=\"courier\" font-size=\"12\" transform=\"rotate(0.8550973962667232 358.5 716.5)\" x=\"343.8888888888889\" y=\"720\">TeRP</text><polyline fill=\"none\" points=\"546.0,1555.0 543.1836734693877,1553.7960798646823 540.3673469387754,1552.593128713376 537.5510204081634,1551.3921155300939 534.7346938775511,1550.1940092988466 531.9183673469388,1548.9997790036466 529.1020408163265,1547.810393628505 526.2857142857144,1546.6268221574346 523.4693877551022,1545.4500335744465 520.6530612244898,1544.280996863552 517.8367346938775,1543.120681008763 515.0204081632653,1541.9700549940926 512.204081632653,1540.8300878035511 509.3877551020408,1539.701748421151 506.57142857142856,1538.5860058309038 503.7551020408164,1537.4838290168213 500.93877551020415,1536.3961869629154 498.12244897959187,1535.3240486531975 495.3061224489795,1534.2683830716792 492.48979591836735,1533.2301592023734 489.67346938775506,1532.2103460292903 486.8571428571428,1531.209912536443 484.0408163265306,1530.229827707843 481.22448979591843,1529.2710605275013 478.4081632653061,1528.3345799794304 475.59183673469386,1527.4213550476416 472.77551020408157,1526.5323547161472 469.9591836734694,1525.6685479689586 467.1428571428571,1524.8309037900876 464.32653061224494,1524.0203911635458 461.51020408163265,1523.2379790733453 458.6938775510205,1522.484636503498 455.87755102040813,1521.7613324380147 453.06122448979596,1521.0690358609083 450.2448979591837,1520.40871575619 447.42857142857144,1519.7813411078719 444.61224489795916,1519.1878808999654 441.795918367347,1518.6293041164822 438.9795918367347,1518.1065797414344 436.1632653061224,1517.6206767588337 433.34693877551024,1517.1725641526916 430.53061224489795,1516.76321090702 427.7142857142858,1516.393586005831 424.8979591836735,1516.0646584331357 422.08163265306126,1515.7773971729466 419.265306122449,1515.5327712092749 416.44897959183675,1515.3317495261329 413.63265306122446,1515.1753011075316 410.81632653061223,1515.0643949374835 408.0,1515.0 408.0,1515.0 405.18367346938766,1514.9827622844223 402.3673469387755,1515.012035801409 399.55102040816325,1515.0868515669492 396.734693877551,1515.2062405970303 393.9183673469388,1515.3692339076404 391.10204081632645,1515.5748625147685 388.2857142857144,1515.822157434403 385.4693877551021,1516.1101496825304 382.6530612244898,1516.4378702751405 379.83673469387753,1516.804350228221 377.02040816326524,1517.2086205577605 374.204081632653,1517.649712279747 371.3877551020408,1518.126656410169 368.5714285714286,1518.6384839650143 365.7551020408164,1519.184225960272 362.9387755102041,1519.7629134119288 360.12244897959187,1520.373577335974 357.3061224489796,1521.0152487483956 354.4897959183674,1521.686958665182 351.67346938775506,1522.387738102321 348.8571428571428,1523.1166180758016 346.0408163265306,1523.8726296016116 343.2244897959183,1524.654803695739 340.40816326530614,1525.4621713741722 337.59183673469386,1526.2937636528998 334.7755102040817,1527.1486115479092 331.9591836734694,1528.0257460751895 329.1428571428572,1528.9241982507288 326.32653061224494,1529.8429990905147 323.51020408163265,1530.7811796105364 320.6938775510204,1531.7377708267813 317.8775510204082,1532.7118037552382 315.0612244897959,1533.7023094118945 312.2448979591837,1534.7083188127394 309.42857142857144,1535.728862973761 306.6122448979592,1536.7629729109467 303.795918367347,1537.809679640286 300.9795918367347,1538.8680141777659 298.16326530612247,1539.9370075393756 295.34693877551024,1541.0156907411028 292.53061224489795,1542.1030947989357 289.7142857142857,1543.198250728863 286.8979591836735,1544.3001895468724 284.0816326530612,1545.4079422689524 281.26530612244903,1546.5205399110914 278.44897959183675,1547.6370134892775 275.6326530612245,1548.7563940194987 272.81632653061223,1549.8777125177435 270.0,1551.0\" stroke=\"#8c35cd\" stroke-width=\"1\" /><polyline fill=\"none\" points=\"276.3245553203368,1554.1622776601685 270,1551 273.16227766016834,1544.675444679663 270,1551\" stroke=\"#8c35cd\" stroke-width=\"1\" /><rect fill=\"white\" font-family=\"Monaco\" height=\"13\" rx=\"2\" ry=\"2\" stroke=\"#8c35cd\" stroke-width=\"1\" transform=\"rotate(0.8303154862580109 406.5 1516.5)\" width=\"35.22222222222222\" x=\"388.8888888888889\" y=\"1510\" /><text fill=\"#8c35cd\" font-family=\"courier\" font-size=\"12\" transform=\"rotate(0.8303154862580109 406.5 1516.5)\" x=\"391.8888888888889\" y=\"1520\">TeRP</text><polyline fill=\"none\" points=\"576.0,455.0 577.969387755102,454.3367346938775 579.938775510204,453.67346938775506 581.9081632653063,453.01020408163265 583.8775510204083,452.3469387755102 585.8469387755101,451.68367346938777 587.8163265306122,451.0204081632653 589.7857142857143,450.35714285714295 591.7551020408165,449.69387755102053 593.7244897959184,449.030612244898 595.6938775510205,448.3673469387755 597.6632653061224,447.7040816326531 599.6326530612245,447.04081632653055 601.6020408163265,446.3775510204082 603.5714285714287,445.7142857142858 605.5408163265307,445.05102040816337 607.5102040816328,444.38775510204084 609.4795918367348,443.72448979591843 611.4489795918367,443.0612244897959 613.4183673469389,442.3979591836735 615.3877551020407,441.7346938775509 617.3571428571429,441.07142857142856 619.3265306122448,440.40816326530614 621.2959183673469,439.7448979591836 623.265306122449,439.08163265306126 625.2346938775511,438.4183673469388 627.204081632653,437.7551020408163 629.1734693877551,437.09183673469397 631.1428571428572,436.4285714285715 633.1122448979593,435.765306122449 635.0816326530612,435.10204081632656 637.0510204081634,434.43877551020415 639.0204081632653,433.7755102040816 640.9897959183675,433.1122448979593 642.9591836734694,432.44897959183675 644.9285714285714,431.78571428571433 646.8979591836735,431.1224489795919 648.8673469387755,430.4591836734694 650.8367346938776,429.795918367347 652.8061224489796,429.13265306122446 654.7755102040817,428.46938775510205 656.7448979591836,427.8061224489796 658.7142857142858,427.1428571428572 660.6836734693877,426.4795918367347 662.6530612244898,425.8163265306123 664.6224489795918,425.1530612244898 666.591836734694,424.48979591836735 668.5612244897959,423.8265306122449 670.530612244898,423.1632653061224 672.5,422.5 672.5,422.5 674.4693877551019,421.83673469387753 676.438775510204,421.173469387755 678.4081632653061,420.51020408163265 680.3775510204082,419.8469387755102 682.34693877551,419.1836734693877 684.3163265306122,418.52040816326524 686.2857142857144,417.857142857143 688.2551020408165,417.1938775510205 690.2244897959184,416.530612244898 692.1938775510204,415.8673469387755 694.1632653061223,415.20408163265296 696.1326530612245,414.54081632653055 698.1020408163264,413.87755102040813 700.0714285714286,413.21428571428567 702.0408163265307,412.55102040816325 704.0102040816327,411.88775510204084 705.9795918367347,411.2244897959184 707.9489795918366,410.5612244897959 709.9183673469387,409.89795918367344 711.8877551020406,409.2346938775509 713.8571428571428,408.5714285714285 715.8265306122448,407.90816326530614 717.7959183673469,407.2448979591836 719.7653061224489,406.5816326530612 721.7346938775511,405.91836734693874 723.7040816326529,405.25510204081627 725.673469387755,404.59183673469386 727.6428571428571,403.92857142857144 729.6122448979593,403.265306122449 731.5816326530612,402.6020408163265 733.5510204081633,401.9387755102041 735.5204081632651,401.2755102040816 737.4897959183673,400.61224489795916 739.4591836734693,399.94897959183675 741.4285714285713,399.2857142857143 743.3979591836735,398.6224489795918 745.3673469387754,397.9591836734694 747.3367346938776,397.295918367347 749.3061224489795,396.63265306122446 751.2755102040817,395.96938775510205 753.2448979591836,395.3061224489796 755.2142857142858,394.6428571428571 757.1836734693877,393.9795918367347 759.1530612244896,393.31632653061223 761.1224489795919,392.6530612244898 763.0918367346939,391.98979591836735 765.0612244897959,391.32653061224494 767.0306122448978,390.66326530612247 769.0,390.0\" stroke=\"#8c35cd\" stroke-width=\"1\" /><polyline fill=\"none\" points=\"762.6656544879128,386.8573789707474 769,390 765.8573789707474,396.3343455120872 769,390\" stroke=\"#8c35cd\" stroke-width=\"1\" /><rect fill=\"white\" font-family=\"Monaco\" height=\"13\" rx=\"2\" ry=\"2\" stroke=\"#8c35cd\" stroke-width=\"1\" transform=\"rotate(-18.612885454332396 671.0 419.0)\" width=\"35.22222222222222\" x=\"653.3888888888889\" y=\"412.5\" /><text fill=\"#8c35cd\" font-family=\"courier\" font-size=\"12\" transform=\"rotate(-18.612885454332396 671.0 419.0)\" x=\"656.3888888888889\" y=\"422.5\">TeRP</text><polyline fill=\"none\" points=\"270.0,1555.0 271.0204081632653,1553.3163265306118 272.04081632653055,1551.6326530612241 273.0612244897959,1549.9489795918366 274.08163265306126,1548.265306122449 275.1020408163265,1546.5816326530612 276.12244897959175,1544.8979591836735 277.1428571428572,1543.2142857142862 278.16326530612247,1541.5306122448983 279.1836734693878,1539.8469387755104 280.204081632653,1538.1632653061222 281.2244897959183,1536.4795918367345 282.2448979591836,1534.7959183673468 283.265306122449,1533.1122448979593 284.28571428571433,1531.428571428571 285.30612244897964,1529.7448979591838 286.32653061224494,1528.0612244897961 287.34693877551024,1526.3775510204082 288.3673469387755,1524.6938775510205 289.38775510204084,1523.0102040816328 290.4081632653061,1521.3265306122448 291.4285714285714,1519.642857142857 292.4489795918368,1517.9591836734696 293.46938775510205,1516.2755102040817 294.4897959183674,1514.591836734694 295.51020408163265,1512.9081632653063 296.53061224489795,1511.2244897959183 297.55102040816325,1509.5408163265308 298.5714285714286,1507.857142857143 299.59183673469386,1506.1734693877552 300.61224489795916,1504.4897959183672 301.6326530612245,1502.8061224489797 302.6530612244898,1501.1224489795918 303.6734693877552,1499.438775510204 304.6938775510204,1497.7551020408164 305.7142857142857,1496.0714285714284 306.734693877551,1494.387755102041 307.7551020408164,1492.704081632653 308.7755102040817,1491.0204081632655 309.795918367347,1489.3367346938776 310.8163265306123,1487.6530612244899 311.8367346938776,1485.9693877551022 312.8571428571429,1484.2857142857142 313.87755102040813,1482.6020408163265 314.8979591836735,1480.9183673469388 315.9183673469388,1479.234693877551 316.9387755102041,1477.5510204081634 317.9591836734694,1475.8673469387754 318.97959183673464,1474.183673469388 320.0,1472.5 320.0,1472.5 321.02040816326524,1470.8163265306123 322.04081632653055,1469.1326530612241 323.0612244897959,1467.4489795918369 324.08163265306126,1465.765306122449 325.1020408163265,1464.0816326530614 326.1224489795918,1462.3979591836733 327.1428571428572,1460.7142857142858 328.16326530612247,1459.030612244898 329.18367346938777,1457.3469387755104 330.204081632653,1455.6632653061222 331.2244897959183,1453.9795918367342 332.2448979591836,1452.295918367347 333.265306122449,1450.612244897959 334.2857142857143,1448.9285714285716 335.30612244897964,1447.244897959184 336.3265306122449,1445.5612244897961 337.34693877551024,1443.8775510204084 338.3673469387755,1442.1938775510205 339.3877551020408,1440.5102040816328 340.40816326530603,1438.8265306122448 341.4285714285714,1437.1428571428569 342.44897959183675,1435.4591836734694 343.469387755102,1433.7755102040817 344.4897959183673,1432.0918367346937 345.51020408163265,1430.4081632653063 346.5306122448979,1428.7244897959183 347.55102040816325,1427.0408163265306 348.5714285714286,1425.357142857143 349.59183673469386,1423.6734693877552 350.61224489795916,1421.9897959183675 351.6326530612245,1420.3061224489795 352.65306122448976,1418.6224489795918 353.67346938775506,1416.938775510204 354.6938775510204,1415.2551020408162 355.71428571428567,1413.5714285714284 356.73469387755097,1411.8877551020407 357.75510204081627,1410.204081632653 358.77551020408157,1408.5204081632653 359.7959183673469,1406.8367346938776 360.8163265306123,1405.1530612244899 361.83673469387753,1403.4693877551022 362.8571428571429,1401.7857142857142 363.87755102040813,1400.1020408163265 364.89795918367344,1398.4183673469388 365.9183673469388,1396.7346938775509 366.9387755102041,1395.0510204081634 367.9591836734694,1393.3673469387757 368.97959183673464,1391.6836734693877 370.0,1390.0\" stroke=\"#8c35cd\" stroke-width=\"1\" /><polyline fill=\"none\" points=\"363.13250226176325,1391.6844805773032 370,1390 371.6844805773033,1396.8674977382368 370,1390\" stroke=\"#8c35cd\" stroke-width=\"1\" /><rect fill=\"white\" font-family=\"Monaco\" height=\"13\" rx=\"2\" ry=\"2\" stroke=\"#8c35cd\" stroke-width=\"1\" transform=\"rotate(-58.781597235653635 318.5 1469.0)\" width=\"35.22222222222222\" x=\"300.8888888888889\" y=\"1462.5\" /><text fill=\"#8c35cd\" font-family=\"courier\" font-size=\"12\" transform=\"rotate(-58.781597235653635 318.5 1469.0)\" x=\"303.8888888888889\" y=\"1472.5\">TeRP</text><polyline fill=\"none\" points=\"148.0,1455.0 150.31632653061223,1454.3367346938774 152.63265306122446,1453.6734693877547 154.94897959183675,1453.0102040816328 157.26530612244898,1452.3469387755104 159.58163265306123,1451.6836734693877 161.8979591836735,1451.0204081632653 164.21428571428575,1450.3571428571433 166.53061224489798,1449.6938775510207 168.84693877551024,1449.0306122448983 171.1632653061224,1448.3673469387754 173.47959183673464,1447.704081632653 175.79591836734693,1447.0408163265304 178.11224489795916,1446.3775510204082 180.42857142857142,1445.7142857142858 182.7448979591837,1445.0510204081634 185.06122448979596,1444.387755102041 187.3775510204082,1443.7244897959185 189.6938775510204,1443.0612244897961 192.01020408163265,1442.3979591836735 194.32653061224488,1441.7346938775509 196.64285714285714,1441.0714285714284 198.95918367346937,1440.4081632653063 201.27551020408163,1439.7448979591836 203.5918367346939,1439.0816326530614 205.90816326530611,1438.4183673469388 208.22448979591834,1437.7551020408164 210.5408163265306,1437.091836734694 212.8571428571429,1436.4285714285718 215.17346938775512,1435.7653061224491 217.48979591836735,1435.1020408163265 219.8061224489796,1434.4387755102043 222.12244897959187,1433.7755102040815 224.4387755102041,1433.1122448979593 226.75510204081633,1432.4489795918366 229.0714285714286,1431.7857142857142 231.3877551020408,1431.1224489795918 233.70408163265307,1430.4591836734694 236.0204081632653,1429.795918367347 238.33673469387756,1429.1326530612246 240.65306122448982,1428.4693877551022 242.96938775510205,1427.8061224489797 245.28571428571428,1427.1428571428573 247.60204081632654,1426.4795918367347 249.91836734693874,1425.816326530612 252.23469387755102,1425.1530612244896 254.55102040816325,1424.4897959183672 256.86734693877554,1423.826530612245 259.18367346938777,1423.1632653061224 261.5,1422.5 261.5,1422.5 263.81632653061223,1421.8367346938776 266.13265306122446,1421.173469387755 268.44897959183675,1420.5102040816328 270.765306122449,1419.8469387755104 273.0816326530612,1419.1836734693877 275.39795918367344,1418.520408163265 277.7142857142858,1417.8571428571431 280.03061224489795,1417.1938775510207 282.34693877551024,1416.530612244898 284.6632653061224,1415.8673469387752 286.9795918367347,1415.2040816326526 289.29591836734687,1414.5408163265304 291.61224489795916,1413.8775510204082 293.92857142857144,1413.2142857142856 296.2448979591837,1412.5510204081634 298.56122448979596,1411.8877551020407 300.87755102040825,1411.2244897959183 303.1938775510204,1410.561224489796 305.5102040816326,1409.8979591836733 307.8265306122448,1409.2346938775509 310.14285714285705,1408.5714285714284 312.45918367346934,1407.9081632653063 314.7755102040816,1407.2448979591834 317.09183673469386,1406.581632653061 319.4081632653061,1405.9183673469388 321.7244897959183,1405.2551020408162 324.04081632653055,1404.591836734694 326.35714285714283,1403.9285714285716 328.67346938775506,1403.265306122449 330.98979591836735,1402.6020408163265 333.3061224489796,1401.938775510204 335.6224489795918,1401.2755102040815 337.93877551020404,1400.612244897959 340.2551020408163,1399.9489795918366 342.57142857142856,1399.2857142857142 344.8877551020408,1398.6224489795918 347.204081632653,1397.9591836734694 349.5204081632653,1397.295918367347 351.83673469387753,1396.6326530612243 354.15306122448976,1395.9693877551022 356.46938775510205,1395.3061224489797 358.7857142857143,1394.6428571428573 361.1020408163265,1393.9795918367347 363.41836734693874,1393.3163265306123 365.734693877551,1392.6530612244896 368.05102040816325,1391.9897959183675 370.36734693877554,1391.326530612245 372.6836734693877,1390.6632653061224 375.0,1390.0\" stroke=\"#d46992\" stroke-width=\"1\" /><polyline fill=\"none\" points=\"368.8167779872857,1386.5695823080146 375,1390 371.5695823080147,1396.1832220127144 375,1390\" stroke=\"#d46992\" stroke-width=\"1\" /><rect fill=\"white\" font-family=\"Monaco\" height=\"13\" rx=\"2\" ry=\"2\" stroke=\"#d46992\" stroke-width=\"1\" transform=\"rotate(-15.978726775297405 260.0 1419.0)\" width=\"42.407407407407405\" x=\"238.7962962962963\" y=\"1412.5\" /><text fill=\"#d46992\" font-family=\"courier\" font-size=\"12\" transform=\"rotate(-15.978726775297405 260.0 1419.0)\" x=\"241.7962962962963\" y=\"1422.5\">TrNAP</text><polyline fill=\"none\" points=\"509.0,755.0 511.59183673469386,754.3367346938776 514.1836734693876,753.6734693877551 516.7755102040816,753.0102040816327 519.3673469387754,752.3469387755102 521.9591836734695,751.6836734693877 524.5510204081631,751.0204081632652 527.1428571428573,750.3571428571431 529.7346938775511,749.6938775510206 532.3265306122449,749.0306122448982 534.9183673469388,748.3673469387755 537.5102040816325,747.7040816326529 540.1020408163265,747.0408163265306 542.6938775510205,746.3775510204082 545.2857142857143,745.7142857142859 547.8775510204083,745.0510204081634 550.4693877551022,744.387755102041 553.061224489796,743.7244897959185 555.6530612244899,743.0612244897959 558.2448979591836,742.3979591836735 560.8367346938775,741.7346938775509 563.4285714285714,741.0714285714286 566.0204081632654,740.4081632653063 568.6122448979592,739.7448979591837 571.2040816326531,739.0816326530612 573.7959183673469,738.4183673469388 576.3877551020408,737.7551020408163 578.9795918367347,737.0918367346939 581.5714285714287,736.4285714285716 584.1632653061224,735.7653061224491 586.7551020408164,735.1020408163265 589.3469387755104,734.4387755102042 591.9387755102041,733.7755102040816 594.5306122448981,733.1122448979593 597.1224489795919,732.4489795918367 599.7142857142858,731.7857142857143 602.3061224489796,731.1224489795918 604.8979591836735,730.4591836734694 607.4897959183673,729.795918367347 610.0816326530612,729.1326530612246 612.6734693877552,728.469387755102 615.265306122449,727.8061224489796 617.8571428571429,727.1428571428571 620.4489795918367,726.4795918367347 623.0408163265306,725.8163265306123 625.6326530612246,725.1530612244899 628.2244897959183,724.4897959183673 630.8163265306123,723.8265306122448 633.4081632653061,723.1632653061224 636.0,722.5 636.0,722.5 638.5918367346939,721.8367346938775 641.1836734693876,721.173469387755 643.7755102040816,720.5102040816327 646.3673469387755,719.8469387755101 648.9591836734693,719.1836734693878 651.5510204081631,718.5204081632652 654.1428571428572,717.8571428571429 656.734693877551,717.1938775510205 659.3265306122449,716.530612244898 661.9183673469387,715.8673469387754 664.5102040816325,715.204081632653 667.1020408163264,714.5408163265305 669.6938775510203,713.8775510204081 672.2857142857143,713.2142857142858 674.8775510204082,712.5510204081634 677.4693877551019,711.8877551020408 680.0612244897959,711.2244897959184 682.6530612244896,710.5612244897959 685.2448979591836,709.8979591836735 687.8367346938774,709.2346938775509 690.4285714285713,708.5714285714283 693.0204081632653,707.908163265306 695.6122448979592,707.2448979591837 698.2040816326531,706.5816326530612 700.7959183673469,705.9183673469387 703.3877551020407,705.2551020408162 705.9795918367347,704.5918367346939 708.5714285714284,703.9285714285716 711.1632653061224,703.265306122449 713.7551020408164,702.6020408163265 716.3469387755102,701.9387755102041 718.9387755102041,701.2755102040816 721.530612244898,700.6122448979592 724.1224489795918,699.9489795918366 726.7142857142857,699.2857142857143 729.3061224489795,698.6224489795918 731.8979591836735,697.9591836734694 734.4897959183673,697.295918367347 737.0816326530612,696.6326530612245 739.6734693877552,695.969387755102 742.2653061224489,695.3061224489795 744.8571428571429,694.6428571428571 747.4489795918367,693.9795918367347 750.0408163265305,693.3163265306122 752.6326530612245,692.6530612244899 755.2244897959184,691.9897959183673 757.8163265306123,691.3265306122448 760.408163265306,690.6632653061224 763.0,690.0\" stroke=\"#0398da\" stroke-width=\"1\" /><polyline fill=\"none\" points=\"756.9165104755389,686.3956754855074 763,690 759.3956754855074,696.0834895244611 763,690\" stroke=\"#0398da\" stroke-width=\"1\" /><rect fill=\"white\" font-family=\"Monaco\" height=\"13\" rx=\"2\" ry=\"2\" stroke=\"#0398da\" stroke-width=\"1\" transform=\"rotate(-14.354255629728266 634.5 719.0)\" width=\"35.22222222222222\" x=\"616.8888888888889\" y=\"712.5\" /><text fill=\"#0398da\" font-family=\"courier\" font-size=\"12\" transform=\"rotate(-14.354255629728266 634.5 719.0)\" x=\"619.8888888888889\" y=\"722.5\">TrWP</text><polyline fill=\"none\" points=\"794.0,855.0 791.408163265306,854.3367346938775 788.8163265306122,853.6734693877551 786.2244897959184,853.0102040816328 783.6326530612245,852.3469387755104 781.0408163265307,851.6836734693877 778.4489795918365,851.0204081632651 775.857142857143,850.357142857143 773.2653061224491,849.6938775510205 770.6734693877553,849.0306122448981 768.0816326530612,848.3673469387753 765.4897959183672,847.704081632653 762.8979591836734,847.0408163265306 760.3061224489796,846.3775510204082 757.7142857142858,845.7142857142857 755.1224489795919,845.0510204081635 752.5306122448981,844.387755102041 749.9387755102042,843.7244897959185 747.3469387755101,843.0612244897959 744.7551020408164,842.3979591836735 742.1632653061223,841.734693877551 739.5714285714284,841.0714285714284 736.9795918367348,840.4081632653061 734.3877551020408,839.7448979591837 731.795918367347,839.0816326530612 729.2040816326531,838.4183673469388 726.6122448979592,837.7551020408163 724.0204081632653,837.091836734694 721.4285714285716,836.4285714285716 718.8367346938776,835.7653061224491 716.2448979591837,835.1020408163266 713.6530612244899,834.4387755102041 711.0612244897959,833.7755102040817 708.469387755102,833.1122448979593 705.8775510204082,832.4489795918366 703.2857142857143,831.7857142857144 700.6938775510204,831.1224489795918 698.1020408163265,830.4591836734694 695.5102040816328,829.795918367347 692.9183673469388,829.1326530612246 690.326530612245,828.4693877551022 687.7346938775511,827.8061224489796 685.1428571428571,827.1428571428571 682.5510204081633,826.4795918367347 679.9591836734694,825.8163265306123 677.3673469387755,825.1530612244899 674.7755102040817,824.4897959183673 672.1836734693878,823.8265306122449 669.5918367346939,823.1632653061224 667.0,822.5 667.0,822.5 664.408163265306,821.8367346938775 661.8163265306123,821.1734693877551 659.2244897959183,820.5102040816327 656.6326530612246,819.8469387755102 654.0408163265306,819.1836734693877 651.4489795918365,818.5204081632653 648.857142857143,817.857142857143 646.265306122449,817.1938775510205 643.6734693877552,816.530612244898 641.0816326530611,815.8673469387753 638.4897959183672,815.2040816326529 635.8979591836734,814.5408163265304 633.3061224489795,813.8775510204081 630.7142857142857,813.2142857142857 628.1224489795919,812.5510204081634 625.530612244898,811.8877551020408 622.9387755102042,811.2244897959183 620.3469387755101,810.5612244897959 617.7551020408164,809.8979591836735 615.1632653061223,809.2346938775509 612.5714285714284,808.5714285714284 609.9795918367346,807.9081632653061 607.3877551020407,807.2448979591836 604.795918367347,806.5816326530613 602.204081632653,805.9183673469387 599.6122448979592,805.2551020408163 597.0204081632653,804.5918367346937 594.4285714285714,803.9285714285714 591.8367346938776,803.2653061224489 589.2448979591836,802.6020408163265 586.6530612244898,801.9387755102041 584.0612244897959,801.2755102040815 581.4693877551019,800.612244897959 578.8775510204081,799.9489795918366 576.2857142857142,799.2857142857142 573.6938775510204,798.6224489795918 571.1020408163265,797.9591836734694 568.5102040816327,797.295918367347 565.9183673469388,796.6326530612245 563.3265306122448,795.969387755102 560.734693877551,795.3061224489795 558.1428571428571,794.6428571428571 555.5510204081631,793.9795918367346 552.9591836734694,793.3163265306122 550.3673469387755,792.6530612244899 547.7755102040817,791.9897959183673 545.1836734693877,791.3265306122448 542.5918367346939,790.6632653061224 540.0,790.0\" stroke=\"#8c35cd\" stroke-width=\"1\" /><polyline fill=\"none\" points=\"543.6043245144926,796.0834895244611 540,790 546.0834895244611,786.3956754855074 540,790\" stroke=\"#8c35cd\" stroke-width=\"1\" /><rect fill=\"white\" font-family=\"Monaco\" height=\"13\" rx=\"2\" ry=\"2\" stroke=\"#8c35cd\" stroke-width=\"1\" transform=\"rotate(14.354255629728266 665.5 819.0)\" width=\"35.22222222222222\" x=\"647.8888888888889\" y=\"812.5\" /><text fill=\"#8c35cd\" font-family=\"courier\" font-size=\"12\" transform=\"rotate(14.354255629728266 665.5 819.0)\" x=\"650.8888888888889\" y=\"822.5\">TeRP</text><polyline fill=\"none\" points=\"104.0,255.0 106.72448979591836,254.33673469387753 109.44897959183672,253.67346938775506 112.17346938775512,253.0102040816327 114.89795918367348,252.3469387755102 117.62244897959184,251.68367346938777 120.34693877551018,251.02040816326527 123.07142857142861,250.35714285714292 125.79591836734696,249.69387755102048 128.52040816326533,249.03061224489795 131.24489795918365,248.36734693877548 133.96938775510202,247.70408163265301 136.6938775510204,247.04081632653057 139.41836734693877,246.37755102040813 142.14285714285714,245.71428571428572 144.86734693877554,245.0510204081633 147.59183673469389,244.38775510204087 150.31632653061226,243.7244897959184 153.0408163265306,243.0612244897959 155.76530612244898,242.3979591836735 158.48979591836732,241.734693877551 161.2142857142857,241.07142857142856 163.93877551020407,240.40816326530614 166.66326530612244,239.74489795918367 169.3877551020408,239.08163265306123 172.11224489795916,238.41836734693877 174.83673469387753,237.75510204081633 177.5612244897959,237.0918367346939 180.2857142857143,236.42857142857144 183.01020408163265,235.76530612244898 185.734693877551,235.10204081632654 188.4591836734694,234.43877551020412 191.18367346938774,233.77551020408163 193.90816326530611,233.11224489795916 196.6326530612245,232.44897959183675 199.35714285714286,231.7857142857143 202.0816326530612,231.12244897959184 204.80612244897958,230.4591836734694 207.53061224489795,229.79591836734696 210.25510204081633,229.13265306122452 212.9795918367347,228.46938775510205 215.70408163265307,227.80612244897958 218.42857142857144,227.14285714285717 221.1530612244898,226.4795918367347 223.87755102040813,225.81632653061223 226.60204081632654,225.15306122448982 229.32653061224488,224.48979591836735 232.05102040816325,223.8265306122449 234.77551020408163,223.16326530612244 237.5,222.5 237.5,222.5 240.22448979591834,221.83673469387753 242.94897959183672,221.17346938775506 245.67346938775512,220.51020408163268 248.39795918367346,219.84693877551018 251.1224489795918,219.18367346938777 253.84693877551018,218.52040816326527 256.5714285714286,217.85714285714292 259.295918367347,217.19387755102045 262.0204081632653,216.53061224489798 264.7448979591836,215.86734693877548 267.469387755102,215.20408163265301 270.19387755102036,214.54081632653055 272.91836734693874,213.87755102040816 275.64285714285717,213.21428571428572 278.36734693877554,212.55102040816328 281.0918367346939,211.8877551020408 283.8163265306123,211.22448979591837 286.5408163265306,210.5612244897959 289.265306122449,209.89795918367346 291.9897959183673,209.23469387755094 294.7142857142857,208.57142857142853 297.4387755102041,207.90816326530611 300.1632653061224,207.24489795918365 302.88775510204084,206.58163265306123 305.61224489795916,205.91836734693874 308.3367346938775,205.25510204081633 311.06122448979596,204.59183673469386 313.78571428571433,203.92857142857144 316.51020408163265,203.26530612244898 319.23469387755097,202.6020408163265 321.9591836734694,201.93877551020407 324.6836734693877,201.27551020408163 327.40816326530614,200.6122448979592 330.13265306122446,199.94897959183672 332.8571428571429,199.2857142857143 335.5816326530612,198.62244897959184 338.30612244897964,197.9591836734694 341.03061224489795,197.29591836734693 343.75510204081627,196.6326530612245 346.4795918367347,195.96938775510205 349.204081632653,195.30612244897958 351.92857142857144,194.64285714285717 354.65306122448976,193.9795918367347 357.37755102040813,193.31632653061223 360.1020408163265,192.65306122448982 362.8265306122449,191.98979591836735 365.55102040816325,191.32653061224488 368.2755102040816,190.66326530612247 371.0,190.0\" stroke=\"#8c35cd\" stroke-width=\"1\" /><polyline fill=\"none\" points=\"364.9592014885241,186.32457439964418 371,190 367.3245743996442,196.04079851147588 371,190\" stroke=\"#8c35cd\" stroke-width=\"1\" /><rect fill=\"white\" font-family=\"Monaco\" height=\"13\" rx=\"2\" ry=\"2\" stroke=\"#8c35cd\" stroke-width=\"1\" transform=\"rotate(-13.682258160256879 236.0 219.0)\" width=\"35.22222222222222\" x=\"218.38888888888889\" y=\"212.5\" /><text fill=\"#8c35cd\" font-family=\"courier\" font-size=\"12\" transform=\"rotate(-13.682258160256879 236.0 219.0)\" x=\"221.38888888888889\" y=\"222.5\">TeRP</text><polyline fill=\"none\" points=\"499.0,755.0 494.67346938775506,753.7960798646823 490.3469387755101,752.593128713376 486.02040816326536,751.3921155300937 481.6938775510204,750.1940092988466 477.36734693877554,748.9997790036464 473.0408163265306,747.810393628505 468.71428571428584,746.6268221574346 464.3877551020409,745.4500335744461 460.06122448979596,744.2809968635519 455.73469387755097,743.1206810087633 451.4081632653061,741.9700549940925 447.0816326530612,740.8300878035511 442.75510204081627,739.701748421151 438.4285714285715,738.5860058309039 434.1020408163266,737.4838290168213 429.77551020408174,736.3961869629153 425.4489795918368,735.3240486531973 421.12244897959187,734.2683830716794 416.7959183673469,733.2301592023732 412.469387755102,732.2103460292905 408.1428571428571,731.2099125364431 403.8163265306123,730.2298277078429 399.48979591836735,729.2710605275013 395.16326530612247,728.3345799794304 390.83673469387753,727.4213550476417 386.51020408163265,726.5323547161472 382.18367346938777,725.6685479689586 377.8571428571429,724.8309037900875 373.530612244898,724.0203911635458 369.20408163265313,723.2379790733453 364.87755102040825,722.4846365034978 360.55102040816325,721.7613324380147 356.22448979591843,721.0690358609083 351.8979591836735,720.4087157561901 347.5714285714286,719.7813411078719 343.24489795918373,719.1878808999652 338.9183673469388,718.6293041164821 334.59183673469386,718.1065797414343 330.26530612244903,717.6206767588335 325.9387755102041,717.1725641526916 321.6122448979592,716.76321090702 317.28571428571433,716.3935860058309 312.9591836734694,716.0646584331358 308.6326530612245,715.7773971729466 304.30612244897964,715.5327712092751 299.9795918367347,715.3317495261329 295.6530612244898,715.1753011075318 291.32653061224494,715.0643949374835 287.0,715.0 287.0,715.0 282.6734693877551,714.9827622844223 278.3469387755101,715.0120358014092 274.0204081632653,715.0868515669491 269.6938775510204,715.2062405970302 265.3673469387755,715.3692339076405 261.04081632653055,715.5748625147684 256.7142857142858,715.8221574344026 252.38775510204084,716.1101496825303 248.06122448979593,716.4378702751405 243.734693877551,716.804350228221 239.4081632653061,717.2086205577607 235.08163265306115,717.6497122797472 230.7551020408163,718.1266564101691 226.42857142857142,718.6384839650145 222.1020408163266,719.1842259602718 217.77551020408166,719.7629134119287 213.44897959183675,720.3735773359739 209.12244897959184,721.0152487483956 204.7959183673469,721.6869586651819 200.469387755102,722.3877381023211 196.1428571428571,723.1166180758016 191.81632653061226,723.8726296016115 187.48979591836735,724.6548036957389 183.16326530612247,725.4621713741723 178.83673469387753,726.2937636528998 174.51020408163265,727.1486115479095 170.18367346938774,728.0257460751898 165.85714285714286,728.9241982507289 161.53061224489795,729.842999090515 157.20408163265307,730.7811796105365 152.8775510204082,731.7377708267813 148.55102040816325,732.711803755238 144.22448979591837,733.7023094118946 139.89795918367346,734.7083188127395 135.57142857142858,735.7288629737609 131.24489795918367,736.7629729109469 126.91836734693878,737.8096796402858 122.59183673469389,738.8680141777661 118.265306122449,739.9370075393756 113.9387755102041,741.0156907411027 109.61224489795919,742.1030947989358 105.28571428571429,743.1982507288631 100.95918367346937,744.3001895468724 96.63265306122452,745.4079422689525 92.30612244897961,746.5205399110915 87.9795918367347,747.6370134892775 83.6530612244898,748.7563940194987 79.32653061224491,749.8777125177435 75.0,751.0\" stroke=\"#0398da\" stroke-width=\"1\" /><polyline fill=\"none\" points=\"80.94653184377044,754.8260631242864 75,751 78.82606312428639,745.0534681562295 75,751\" stroke=\"#0398da\" stroke-width=\"1\" /><rect fill=\"white\" font-family=\"Monaco\" height=\"13\" rx=\"2\" ry=\"2\" stroke=\"#0398da\" stroke-width=\"1\" transform=\"rotate(0.5405101871306665 285.5 716.5)\" width=\"35.22222222222222\" x=\"267.8888888888889\" y=\"710\" /><text fill=\"#0398da\" font-family=\"courier\" font-size=\"12\" transform=\"rotate(0.5405101871306665 285.5 716.5)\" x=\"270.8888888888889\" y=\"720\">TrWP</text><polyline fill=\"none\" points=\"216.0,355.0 219.21428571428567,354.33673469387753 222.4285714285714,353.67346938775506 225.64285714285717,353.01020408163265 228.85714285714283,352.3469387755102 232.07142857142856,351.68367346938777 235.28571428571425,351.02040816326524 238.50000000000006,350.35714285714295 241.71428571428575,349.6938775510205 244.92857142857147,349.030612244898 248.14285714285708,348.3673469387755 251.35714285714283,347.7040816326531 254.57142857142853,347.04081632653055 257.7857142857143,346.37755102040813 261.0,345.7142857142857 264.2142857142857,345.0510204081633 267.42857142857144,344.38775510204084 270.6428571428572,343.72448979591843 273.85714285714283,343.06122448979596 277.0714285714286,342.39795918367355 280.2857142857142,341.734693877551 283.5,341.07142857142856 286.7142857142857,340.40816326530614 289.9285714285714,339.74489795918373 293.14285714285717,339.08163265306126 296.3571428571429,338.4183673469388 299.57142857142856,337.7551020408163 302.7857142857143,337.09183673469386 306.0,336.4285714285715 309.2142857142857,335.76530612244903 312.42857142857144,335.10204081632656 315.64285714285717,334.43877551020415 318.85714285714283,333.7755102040816 322.0714285714286,333.11224489795916 325.2857142857143,332.44897959183675 328.5,331.78571428571433 331.71428571428567,331.1224489795918 334.92857142857144,330.4591836734694 338.1428571428571,329.795918367347 341.3571428571429,329.1326530612245 344.57142857142856,328.46938775510205 347.7857142857143,327.80612244897964 351.0,327.14285714285717 354.21428571428567,326.4795918367347 357.4285714285714,325.81632653061223 360.6428571428571,325.1530612244898 363.85714285714283,324.4897959183674 367.07142857142856,323.82653061224494 370.2857142857143,323.1632653061224 373.5,322.5 373.5,322.5 376.7142857142857,321.8367346938775 379.9285714285714,321.17346938775506 383.1428571428572,320.5102040816327 386.35714285714283,319.84693877551024 389.57142857142856,319.1836734693877 392.7857142857143,318.5204081632653 396.00000000000006,317.85714285714295 399.2142857142857,317.1938775510204 402.4285714285715,316.53061224489795 405.64285714285705,315.8673469387754 408.8571428571428,315.204081632653 412.0714285714285,314.5408163265305 415.2857142857143,313.87755102040813 418.5,313.21428571428567 421.71428571428584,312.55102040816325 424.92857142857144,311.88775510204084 428.14285714285717,311.22448979591843 431.35714285714283,310.5612244897959 434.57142857142856,309.89795918367344 437.7857142857142,309.2346938775509 440.99999999999994,308.57142857142856 444.2142857142857,307.90816326530614 447.42857142857144,307.2448979591837 450.64285714285717,306.5816326530612 453.85714285714283,305.91836734693874 457.07142857142856,305.2551020408163 460.2857142857142,304.59183673469386 463.50000000000006,303.92857142857144 466.71428571428567,303.265306122449 469.9285714285714,302.6020408163265 473.14285714285717,301.9387755102041 476.35714285714283,301.2755102040816 479.57142857142856,300.61224489795916 482.78571428571433,299.94897959183675 486.0,299.28571428571433 489.21428571428567,298.6224489795918 492.4285714285714,297.9591836734694 495.6428571428571,297.295918367347 498.85714285714283,296.63265306122446 502.07142857142856,295.96938775510205 505.2857142857143,295.3061224489796 508.5,294.64285714285717 511.71428571428567,293.9795918367347 514.9285714285713,293.31632653061223 518.1428571428571,292.6530612244898 521.3571428571429,291.98979591836735 524.5714285714286,291.3265306122449 527.7857142857142,290.66326530612247 531.0,290.0\" stroke=\"#8c35cd\" stroke-width=\"1\" /><polyline fill=\"none\" points=\"525.0927091602623,286.11362444754104 531,290 527.113624447541,295.9072908397377 531,290\" stroke=\"#8c35cd\" stroke-width=\"1\" /><rect fill=\"white\" font-family=\"Monaco\" height=\"13\" rx=\"2\" ry=\"2\" stroke=\"#8c35cd\" stroke-width=\"1\" transform=\"rotate(-11.659292653522998 372.0 319.0)\" width=\"35.22222222222222\" x=\"354.3888888888889\" y=\"312.5\" /><text fill=\"#8c35cd\" font-family=\"courier\" font-size=\"12\" transform=\"rotate(-11.659292653522998 372.0 319.0)\" x=\"357.3888888888889\" y=\"322.5\">TeRP</text><polyline fill=\"none\" points=\"216.0,555.0 219.13265306122446,554.3367346938775 222.26530612244895,553.6734693877552 225.39795918367346,553.0102040816328 228.53061224489795,552.3469387755102 231.66326530612244,551.6836734693878 234.79591836734693,551.0204081632653 237.9285714285715,550.3571428571431 241.06122448979593,549.6938775510205 244.19387755102045,549.030612244898 247.32653061224485,548.3673469387754 250.45918367346937,547.704081632653 253.59183673469386,547.0408163265305 256.7244897959183,546.3775510204082 259.8571428571429,545.7142857142858 262.9897959183674,545.0510204081634 266.1224489795918,544.3877551020408 269.2551020408163,543.7244897959184 272.38775510204084,543.061224489796 275.52040816326536,542.3979591836735 278.65306122448976,541.734693877551 281.7857142857143,541.0714285714286 284.9183673469388,540.4081632653061 288.05102040816325,539.7448979591837 291.18367346938777,539.0816326530613 294.31632653061223,538.4183673469388 297.44897959183675,537.7551020408164 300.58163265306126,537.091836734694 303.7142857142858,536.4285714285714 306.84693877551024,535.765306122449 309.9795918367347,535.1020408163266 313.1122448979592,534.4387755102041 316.2448979591837,533.7755102040817 319.3775510204082,533.1122448979593 322.51020408163265,532.4489795918367 325.64285714285717,531.7857142857143 328.7755102040817,531.1224489795918 331.90816326530614,530.4591836734694 335.0408163265306,529.795918367347 338.1734693877551,529.1326530612246 341.30612244897964,528.4693877551022 344.4387755102041,527.8061224489795 347.57142857142856,527.1428571428571 350.704081632653,526.4795918367347 353.83673469387753,525.8163265306123 356.96938775510205,525.1530612244899 360.1020408163265,524.4897959183673 363.234693877551,523.8265306122449 366.3673469387755,523.1632653061224 369.5,522.5 369.5,522.5 372.63265306122446,521.8367346938775 375.7653061224489,521.173469387755 378.89795918367355,520.5102040816328 382.03061224489795,519.8469387755101 385.1632653061224,519.1836734693877 388.2959183673469,518.5204081632653 391.4285714285715,517.857142857143 394.56122448979596,517.1938775510204 397.6938775510204,516.530612244898 400.8265306122448,515.8673469387754 403.95918367346934,515.204081632653 407.0918367346938,514.5408163265305 410.2244897959183,513.8775510204081 413.3571428571428,513.2142857142857 416.48979591836735,512.5510204081633 419.62244897959187,511.88775510204084 422.7551020408164,511.22448979591843 425.8877551020408,510.5612244897959 429.0204081632653,509.89795918367344 432.15306122448965,509.2346938775509 435.28571428571416,508.57142857142844 438.41836734693874,507.90816326530614 441.5510204081632,507.2448979591837 444.6836734693878,506.58163265306126 447.81632653061223,505.91836734693874 450.94897959183663,505.25510204081627 454.0816326530612,504.59183673469386 457.2142857142857,503.92857142857144 460.3469387755102,503.265306122449 463.47959183673464,502.60204081632656 466.61224489795916,501.9387755102041 469.7448979591836,501.27551020408157 472.8775510204082,500.61224489795916 476.01020408163265,499.9489795918367 479.1428571428571,499.2857142857143 482.2755102040816,498.6224489795918 485.40816326530614,497.9591836734694 488.5408163265306,497.2959183673469 491.67346938775506,496.63265306122446 494.80612244897964,495.96938775510205 497.9387755102041,495.3061224489796 501.07142857142856,494.64285714285717 504.204081632653,493.9795918367347 507.3367346938775,493.31632653061223 510.46938775510205,492.6530612244898 513.6020408163265,491.98979591836735 516.734693877551,491.3265306122449 519.8673469387755,490.66326530612247 523.0,490.0\" stroke=\"#8c35cd\" stroke-width=\"1\" /><polyline fill=\"none\" points=\"517.0727648864283,486.14411049063347 523,490 519.1441104906335,495.92723511357167 523,490\" stroke=\"#8c35cd\" stroke-width=\"1\" /><rect fill=\"white\" font-family=\"Monaco\" height=\"13\" rx=\"2\" ry=\"2\" stroke=\"#8c35cd\" stroke-width=\"1\" transform=\"rotate(-11.954482802493075 368.0 519.0)\" width=\"35.22222222222222\" x=\"350.3888888888889\" y=\"512.5\" /><text fill=\"#8c35cd\" font-family=\"courier\" font-size=\"12\" transform=\"rotate(-11.954482802493075 368.0 519.0)\" x=\"353.3888888888889\" y=\"522.5\">TeRP</text><polyline fill=\"none\" points=\"687.0,1155.0 681.7959183673469,1153.796079864682 676.5918367346937,1152.593128713376 671.387755102041,1151.3921155300939 666.1836734693878,1150.1940092988466 660.9795918367346,1148.9997790036464 655.7755102040816,1147.810393628505 650.5714285714287,1146.6268221574346 645.3673469387757,1145.450033574446 640.1632653061224,1144.2809968635518 634.9591836734693,1143.1206810087633 629.7551020408163,1141.9700549940924 624.5510204081631,1140.8300878035511 619.3469387755101,1139.701748421151 614.1428571428572,1138.586005830904 608.9387755102042,1137.4838290168216 603.734693877551,1136.3961869629152 598.5306122448981,1135.3240486531975 593.3265306122449,1134.2683830716794 588.1224489795918,1133.2301592023732 582.9183673469386,1132.2103460292903 577.7142857142857,1131.209912536443 572.5102040816327,1130.2298277078428 567.3061224489796,1129.2710605275013 562.1020408163265,1128.3345799794304 556.8979591836735,1127.4213550476418 551.6938775510205,1126.5323547161472 546.4897959183673,1125.6685479689586 541.2857142857143,1124.8309037900876 536.0816326530612,1124.020391163546 530.8775510204082,1123.2379790733453 525.6734693877552,1122.4846365034978 520.469387755102,1121.761332438015 515.2653061224489,1121.0690358609083 510.06122448979585,1120.40871575619 504.8571428571429,1119.7813411078719 499.6530612244899,1119.1878808999652 494.4489795918368,1118.6293041164822 489.24489795918373,1118.1065797414344 484.0408163265306,1117.6206767588337 478.8367346938776,1117.1725641526916 473.6326530612245,1116.76321090702 468.42857142857144,1116.393586005831 463.2244897959183,1116.0646584331357 458.0204081632653,1115.7773971729466 452.8163265306123,1115.532771209275 447.6122448979593,1115.3317495261329 442.40816326530614,1115.1753011075318 437.204081632653,1115.0643949374835 432.0,1115.0 432.0,1115.0 426.79591836734687,1114.9827622844223 421.59183673469386,1115.0120358014092 416.38775510204084,1115.0868515669492 411.18367346938777,1115.20624059703 405.9795918367347,1115.3692339076404 400.7755102040815,1115.5748625147683 395.57142857142867,1115.8221574344027 390.36734693877554,1116.1101496825302 385.1632653061225,1116.4378702751405 379.95918367346934,1116.8043502282212 374.75510204081627,1117.2086205577607 369.5510204081632,1117.6497122797473 364.34693877551024,1118.1266564101693 359.14285714285717,1118.6384839650145 353.93877551020415,1119.1842259602718 348.734693877551,1119.7629134119288 343.530612244898,1120.3735773359742 338.3265306122449,1121.0152487483956 333.12244897959187,1121.686958665182 327.91836734693874,1122.387738102321 322.71428571428567,1123.1166180758016 317.51020408163265,1123.8726296016116 312.3061224489796,1124.654803695739 307.1020408163265,1125.4621713741724 301.89795918367344,1126.2937636528998 296.6938775510204,1127.1486115479092 291.4897959183674,1128.0257460751898 286.28571428571433,1128.9241982507288 281.08163265306126,1129.842999090515 275.8775510204082,1130.7811796105364 270.6734693877551,1131.7377708267813 265.46938775510205,1132.711803755238 260.265306122449,1133.7023094118947 255.0612244897959,1134.7083188127394 249.8571428571429,1135.728862973761 244.65306122448982,1136.762972910947 239.44897959183675,1137.809679640286 234.24489795918367,1138.8680141777659 229.04081632653066,1139.9370075393756 223.8367346938776,1141.0156907411028 218.63265306122452,1142.1030947989357 213.42857142857144,1143.198250728863 208.22448979591837,1144.3001895468724 203.02040816326533,1145.4079422689524 197.8163265306123,1146.5205399110914 192.61224489795921,1147.6370134892775 187.40816326530614,1148.7563940194987 182.20408163265307,1149.8777125177435 177.0,1151.0\" stroke=\"#8c35cd\" stroke-width=\"1\" /><polyline fill=\"none\" points=\"182.8082138389515,1155.0329458217304 177,1151 181.03294582173035,1145.1917861610484 177,1151\" stroke=\"#8c35cd\" stroke-width=\"1\" /><rect fill=\"white\" font-family=\"Monaco\" height=\"13\" rx=\"2\" ry=\"2\" stroke=\"#8c35cd\" stroke-width=\"1\" transform=\"rotate(0.449369448707963 430.5 1116.5)\" width=\"35.22222222222222\" x=\"412.8888888888889\" y=\"1110\" /><text fill=\"#8c35cd\" font-family=\"courier\" font-size=\"12\" transform=\"rotate(0.449369448707963 430.5 1116.5)\" x=\"415.8888888888889\" y=\"1120\">TeRP</text><polyline fill=\"none\" points=\"124.0,1855.0 128.43877551020407,1854.3367346938774 132.87755102040816,1853.673469387755 137.31632653061226,1853.0102040816328 141.75510204081633,1852.3469387755104 146.1938775510204,1851.683673469388 150.63265306122446,1851.020408163265 155.0714285714286,1850.3571428571433 159.51020408163268,1849.6938775510207 163.94897959183675,1849.030612244898 168.3877551020408,1848.3673469387752 172.82653061224485,1847.7040816326528 177.26530612244898,1847.0408163265304 181.70408163265304,1846.377551020408 186.14285714285714,1845.7142857142858 190.58163265306123,1845.0510204081636 195.0204081632653,1844.3877551020407 199.45918367346943,1843.7244897959185 203.89795918367346,1843.0612244897961 208.33673469387756,1842.3979591836735 212.77551020408157,1841.7346938775509 217.21428571428567,1841.0714285714282 221.6530612244898,1840.4081632653063 226.09183673469386,1839.7448979591838 230.53061224489798,1839.0816326530612 234.96938775510205,1838.4183673469388 239.4081632653061,1837.7551020408164 243.84693877551018,1837.091836734694 248.2857142857143,1836.4285714285716 252.72448979591837,1835.7653061224491 257.1632653061224,1835.1020408163267 261.60204081632656,1834.438775510204 266.0408163265306,1833.7755102040815 270.4795918367347,1833.1122448979593 274.9183673469388,1832.4489795918369 279.35714285714283,1831.7857142857144 283.79591836734687,1831.122448979592 288.234693877551,1830.4591836734694 292.67346938775506,1829.795918367347 297.11224489795916,1829.1326530612246 301.55102040816325,1828.4693877551022 305.98979591836735,1827.8061224489795 310.42857142857144,1827.142857142857 314.8673469387755,1826.4795918367347 319.3061224489795,1825.8163265306123 323.7448979591837,1825.1530612244899 328.18367346938777,1824.4897959183675 332.6224489795918,1823.8265306122448 337.0612244897959,1823.1632653061224 341.5,1822.5 341.5,1822.5 345.93877551020404,1821.8367346938774 350.3775510204081,1821.1734693877547 354.8163265306123,1820.5102040816328 359.2551020408163,1819.8469387755101 363.69387755102036,1819.1836734693875 368.13265306122446,1818.5204081632653 372.5714285714286,1817.8571428571431 377.0102040816327,1817.1938775510207 381.4489795918368,1816.5306122448983 385.8877551020408,1815.867346938775 390.3265306122448,1815.2040816326528 394.76530612244886,1814.5408163265304 399.204081632653,1813.877551020408 403.6428571428571,1813.2142857142856 408.08163265306126,1812.5510204081634 412.5204081632653,1811.887755102041 416.9591836734694,1811.2244897959185 421.39795918367344,1810.5612244897957 425.83673469387753,1809.8979591836735 430.27551020408157,1809.2346938775506 434.71428571428567,1808.571428571428 439.1530612244899,1807.908163265306 443.59183673469386,1807.2448979591836 448.03061224489795,1806.5816326530612 452.46938775510205,1805.9183673469386 456.9081632653061,1805.255102040816 461.3469387755102,1804.591836734694 465.78571428571433,1803.9285714285713 470.2244897959184,1803.265306122449 474.6632653061224,1802.6020408163263 479.1020408163265,1801.9387755102043 483.5408163265306,1801.2755102040815 487.97959183673464,1800.612244897959 492.4183673469387,1799.9489795918366 496.8571428571429,1799.2857142857144 501.29591836734687,1798.6224489795918 505.73469387755097,1797.9591836734694 510.17346938775506,1797.295918367347 514.6122448979592,1796.6326530612246 519.0510204081633,1795.9693877551022 523.4897959183673,1795.3061224489795 527.9285714285714,1794.642857142857 532.3673469387755,1793.9795918367345 536.8061224489795,1793.316326530612 541.2448979591836,1792.6530612244896 545.6836734693877,1791.9897959183672 550.1224489795918,1791.3265306122448 554.5612244897959,1790.6632653061224 559.0,1790.0\" stroke=\"#8c35cd\" stroke-width=\"1\" /><polyline fill=\"none\" points=\"553.3159794207162,1785.79382477133 559,1790 554.7938247713299,1795.6840205792837 559,1790\" stroke=\"#8c35cd\" stroke-width=\"1\" /><rect fill=\"white\" font-family=\"Monaco\" height=\"13\" rx=\"2\" ry=\"2\" stroke=\"#8c35cd\" stroke-width=\"1\" transform=\"rotate(-8.498558879493682 340.0 1819.0)\" width=\"35.22222222222222\" x=\"322.3888888888889\" y=\"1812.5\" /><text fill=\"#8c35cd\" font-family=\"courier\" font-size=\"12\" transform=\"rotate(-8.498558879493682 340.0 1819.0)\" x=\"325.3888888888889\" y=\"1822.5\">TeRP</text><polyline fill=\"none\" points=\"177.0,1155.0 182.18367346938774,1153.316326530612 187.3673469387755,1151.6326530612243 192.55102040816328,1149.9489795918369 197.73469387755102,1148.265306122449 202.91836734693877,1146.5816326530612 208.10204081632648,1144.8979591836733 213.28571428571433,1143.214285714286 218.46938775510208,1141.530612244898 223.65306122448985,1139.8469387755101 228.8367346938775,1138.1632653061222 234.02040816326527,1136.4795918367345 239.20408163265304,1134.7959183673468 244.3877551020408,1133.112244897959 249.5714285714286,1131.4285714285713 254.75510204081638,1129.7448979591838 259.9387755102041,1128.0612244897961 265.1224489795919,1126.3775510204084 270.3061224489796,1124.6938775510205 275.48979591836735,1123.0102040816325 280.67346938775506,1121.3265306122446 285.85714285714283,1119.6428571428569 291.0408163265306,1117.9591836734694 296.2244897959184,1116.2755102040817 301.4081632653062,1114.5918367346937 306.5918367346939,1112.908163265306 311.77551020408157,1111.2244897959183 316.9591836734694,1109.5408163265306 322.14285714285717,1107.857142857143 327.32653061224494,1106.1734693877552 332.51020408163265,1104.4897959183675 337.6938775510205,1102.8061224489797 342.8775510204082,1101.1224489795918 348.0612244897959,1099.438775510204 353.24489795918373,1097.7551020408164 358.42857142857144,1096.0714285714287 363.61224489795916,1094.3877551020407 368.795918367347,1092.704081632653 373.9795918367347,1091.0204081632653 379.16326530612247,1089.3367346938776 384.34693877551024,1087.6530612244899 389.53061224489795,1085.969387755102 394.7142857142858,1084.2857142857142 399.89795918367344,1082.6020408163265 405.0816326530612,1080.9183673469388 410.265306122449,1079.234693877551 415.4489795918367,1077.5510204081634 420.63265306122446,1075.8673469387757 425.81632653061223,1074.1836734693877 431.0,1072.5 431.0,1072.5 436.1836734693877,1070.816326530612 441.3673469387755,1069.1326530612243 446.55102040816325,1067.4489795918369 451.734693877551,1065.765306122449 456.91836734693874,1064.0816326530612 462.10204081632645,1062.3979591836735 467.2857142857144,1060.714285714286 472.46938775510205,1059.030612244898 477.6530612244898,1057.3469387755101 482.8367346938774,1055.6632653061224 488.0204081632652,1053.9795918367347 493.20408163265296,1052.2959183673468 498.3877551020407,1050.6122448979593 503.5714285714286,1048.9285714285716 508.7551020408164,1047.2448979591838 513.9387755102041,1045.561224489796 519.1224489795918,1043.8775510204082 524.3061224489795,1042.1938775510205 529.4897959183673,1040.5102040816328 534.673469387755,1038.8265306122448 539.8571428571428,1037.142857142857 545.0408163265306,1035.4591836734696 550.2244897959183,1033.7755102040817 555.4081632653061,1032.091836734694 560.5918367346939,1030.408163265306 565.7755102040816,1028.7244897959183 570.9591836734694,1027.0408163265306 576.1428571428571,1025.357142857143 581.3265306122448,1023.6734693877552 586.5102040816325,1021.9897959183675 591.6938775510204,1020.3061224489797 596.8775510204081,1018.6224489795918 602.0612244897959,1016.9387755102041 607.2448979591836,1015.2551020408164 612.4285714285713,1013.5714285714284 617.612244897959,1011.887755102041 622.7959183673469,1010.2040816326531 627.9795918367347,1008.5204081632653 633.1632653061224,1006.8367346938776 638.3469387755101,1005.1530612244898 643.5306122448978,1003.4693877551022 648.7142857142858,1001.7857142857144 653.8979591836734,1000.1020408163265 659.0816326530612,998.4183673469388 664.2653061224489,996.7346938775511 669.4489795918367,995.0510204081634 674.6326530612245,993.3673469387755 679.8163265306123,991.6836734693877 685.0,990.0\" stroke=\"#8c35cd\" stroke-width=\"1\" /><polyline fill=\"none\" points=\"678.6999709039799,986.7891382170358 685,990 681.7891382170358,996.3000290960201 685,990\" stroke=\"#8c35cd\" stroke-width=\"1\" /><rect fill=\"white\" font-family=\"Monaco\" height=\"13\" rx=\"2\" ry=\"2\" stroke=\"#8c35cd\" stroke-width=\"1\" transform=\"rotate(-17.99395982021873 429.5 1069.0)\" width=\"35.22222222222222\" x=\"411.8888888888889\" y=\"1062.5\" /><text fill=\"#8c35cd\" font-family=\"courier\" font-size=\"12\" transform=\"rotate(-17.99395982021873 429.5 1069.0)\" x=\"414.8888888888889\" y=\"1072.5\">TeRP</text><polyline fill=\"none\" points=\"211.0,555.0 216.74489795918365,553.3163265306123 222.48979591836732,551.6326530612245 228.23469387755102,549.9489795918369 233.9795918367347,548.265306122449 239.72448979591837,546.5816326530612 245.46938775510202,544.8979591836734 251.2142857142858,543.2142857142858 256.95918367346945,541.5306122448981 262.70408163265313,539.8469387755102 268.4489795918367,538.1632653061224 274.19387755102036,536.4795918367347 279.9387755102041,534.7959183673469 285.68367346938777,533.1122448979592 291.42857142857144,531.4285714285714 297.1734693877551,529.7448979591837 302.91836734693885,528.061224489796 308.6632653061225,526.3775510204083 314.4081632653061,524.6938775510204 320.1530612244899,523.0102040816328 325.89795918367344,521.3265306122448 331.6428571428571,519.6428571428571 337.3877551020409,517.9591836734694 343.1326530612245,516.2755102040816 348.87755102040825,514.591836734694 354.62244897959187,512.9081632653061 360.3673469387755,511.2244897959183 366.1122448979592,509.5408163265306 371.8571428571429,507.8571428571429 377.6020408163266,506.1734693877551 383.34693877551024,504.48979591836735 389.09183673469397,502.80612244897964 394.8367346938776,501.1224489795918 400.5816326530613,499.4387755102041 406.32653061224494,497.75510204081627 412.0714285714286,496.07142857142856 417.8163265306123,494.38775510204084 423.5612244897959,492.704081632653 429.30612244897964,491.0204081632653 435.05102040816325,489.3367346938776 440.795918367347,487.6530612244898 446.5408163265306,485.96938775510205 452.28571428571433,484.28571428571433 458.03061224489795,482.6020408163265 463.7755102040816,480.91836734693874 469.5204081632653,479.234693877551 475.26530612244903,477.55102040816325 481.01020408163265,475.8673469387755 486.7551020408163,474.1836734693877 492.5,472.5 492.5,472.5 498.2448979591836,470.81632653061223 503.98979591836735,469.1326530612244 509.7346938775511,467.44897959183675 515.4795918367347,465.7653061224489 521.2244897959183,464.08163265306115 526.9693877551019,462.3979591836734 532.7142857142858,460.71428571428584 538.4591836734694,459.030612244898 544.2040816326531,457.34693877551024 549.9489795918366,455.6632653061224 555.6938775510203,453.97959183673464 561.4387755102039,452.29591836734687 567.1836734693876,450.61224489795916 572.9285714285713,448.92857142857144 578.6734693877552,447.24489795918373 584.4183673469388,445.56122448979596 590.1632653061225,443.87755102040825 595.9081632653061,442.1938775510204 601.6530612244898,440.5102040816327 607.3979591836733,438.8265306122448 613.1428571428571,437.1428571428571 618.8877551020407,435.4591836734694 624.6326530612243,433.7755102040816 630.3775510204081,432.09183673469386 636.1224489795918,430.4081632653061 641.8673469387754,428.7244897959183 647.612244897959,427.0408163265306 653.3571428571429,425.3571428571429 659.1020408163265,423.6734693877551 664.8469387755101,421.98979591836735 670.5918367346939,420.30612244897964 676.3367346938775,418.62244897959187 682.0816326530612,416.9387755102041 687.8265306122448,415.2551020408163 693.5714285714286,413.5714285714286 699.3163265306123,411.88775510204084 705.0612244897959,410.20408163265313 710.8061224489795,408.5204081632653 716.5510204081633,406.8367346938776 722.295918367347,405.1530612244898 728.0408163265306,403.46938775510205 733.7857142857142,401.78571428571433 739.530612244898,400.1020408163265 745.2755102040816,398.41836734693874 751.0204081632653,396.7346938775511 756.7653061224489,395.05102040816325 762.5102040816325,393.36734693877554 768.2551020408164,391.68367346938777 774.0,390.0\" stroke=\"#8c35cd\" stroke-width=\"1\" /><polyline fill=\"none\" points=\"767.7956007605268,386.6080344817166 774,390 770.6080344817166,396.2043992394732 774,390\" stroke=\"#8c35cd\" stroke-width=\"1\" /><rect fill=\"white\" font-family=\"Monaco\" height=\"13\" rx=\"2\" ry=\"2\" stroke=\"#8c35cd\" stroke-width=\"1\" transform=\"rotate(-16.33442705792688 491.0 469.0)\" width=\"35.22222222222222\" x=\"473.3888888888889\" y=\"462.5\" /><text fill=\"#8c35cd\" font-family=\"courier\" font-size=\"12\" transform=\"rotate(-16.33442705792688 491.0 469.0)\" x=\"476.3888888888889\" y=\"472.5\">TeRP</text><polyline fill=\"none\" points=\"80.0,755.0 87.02040816326529,754.3367346938776 94.04081632653059,753.6734693877551 101.06122448979593,753.0102040816327 108.08163265306122,752.3469387755102 115.10204081632652,751.6836734693877 122.12244897959182,751.0204081632652 129.14285714285717,750.3571428571431 136.16326530612247,749.6938775510206 143.18367346938777,749.0306122448982 150.20408163265304,748.3673469387755 157.22448979591834,747.7040816326529 164.24489795918367,747.0408163265306 171.26530612244898,746.3775510204082 178.28571428571428,745.7142857142859 185.3061224489796,745.0510204081634 192.3265306122449,744.387755102041 199.3469387755102,743.7244897959185 206.3673469387755,743.0612244897959 213.38775510204084,742.3979591836735 220.4081632653061,741.7346938775509 227.42857142857144,741.0714285714286 234.44897959183675,740.4081632653063 241.46938775510205,739.7448979591837 248.48979591836735,739.0816326530612 255.51020408163268,738.4183673469388 262.53061224489795,737.7551020408163 269.55102040816325,737.0918367346939 276.5714285714286,736.4285714285716 283.59183673469386,735.7653061224491 290.61224489795916,735.1020408163265 297.6326530612246,734.4387755102042 304.65306122448976,733.7755102040816 311.6734693877551,733.1122448979593 318.6938775510204,732.4489795918367 325.71428571428567,731.7857142857143 332.73469387755097,731.1224489795918 339.75510204081627,730.4591836734694 346.7755102040816,729.795918367347 353.7959183673469,729.1326530612246 360.81632653061223,728.469387755102 367.83673469387753,727.8061224489796 374.8571428571429,727.1428571428571 381.8775510204082,726.4795918367347 388.89795918367344,725.8163265306123 395.91836734693874,725.1530612244899 402.9387755102041,724.4897959183673 409.9591836734694,723.8265306122448 416.9795918367347,723.1632653061224 424.0,722.5 424.0,722.5 431.0204081632653,721.8367346938775 438.04081632653055,721.173469387755 445.06122448979596,720.5102040816327 452.0816326530612,719.8469387755101 459.1020408163265,719.1836734693878 466.12244897959187,718.5204081632652 473.1428571428573,717.8571428571429 480.16326530612247,717.1938775510205 487.18367346938777,716.530612244898 494.204081632653,715.8673469387754 501.2244897959183,715.204081632653 508.24489795918356,714.5408163265305 515.2653061224489,713.8775510204081 522.2857142857142,713.2142857142858 529.3061224489796,712.5510204081634 536.3265306122448,711.8877551020408 543.3469387755102,711.2244897959184 550.3673469387754,710.5612244897959 557.3877551020408,709.8979591836735 564.4081632653059,709.2346938775509 571.4285714285713,708.5714285714283 578.4489795918367,707.908163265306 585.4693877551019,707.2448979591837 592.4897959183673,706.5816326530612 599.5102040816327,705.9183673469387 606.5306122448978,705.2551020408162 613.5510204081631,704.5918367346939 620.5714285714286,703.9285714285716 627.5918367346939,703.265306122449 634.6122448979592,702.6020408163265 641.6326530612245,701.9387755102041 648.6530612244896,701.2755102040816 655.6734693877551,700.6122448979592 662.6938775510204,699.9489795918366 669.7142857142857,699.2857142857143 676.734693877551,698.6224489795918 683.7551020408163,697.9591836734694 690.7755102040817,697.295918367347 697.7959183673469,696.6326530612245 704.8163265306123,695.969387755102 711.8367346938775,695.3061224489795 718.8571428571429,694.6428571428571 725.8775510204082,693.9795918367347 732.8979591836734,693.3163265306122 739.9183673469387,692.6530612244899 746.9387755102041,691.9897959183673 753.9591836734694,691.3265306122448 760.9795918367346,690.6632653061224 768.0,690.0\" stroke=\"#39bf7f\" stroke-width=\"1\" /><polyline fill=\"none\" points=\"762.551876841958,685.492455873227 768,690 763.492455873227,695.448123158042 768,690\" stroke=\"#39bf7f\" stroke-width=\"1\" /><rect fill=\"white\" font-family=\"Monaco\" height=\"13\" rx=\"2\" ry=\"2\" stroke=\"#39bf7f\" stroke-width=\"1\" transform=\"rotate(-5.3970988402365725 422.5 719.0)\" width=\"35.22222222222222\" x=\"404.8888888888889\" y=\"712.5\" /><text fill=\"#39bf7f\" font-family=\"courier\" font-size=\"12\" transform=\"rotate(-5.3970988402365725 422.5 719.0)\" x=\"407.8888888888889\" y=\"722.5\">TrCP</text></svg>"
      ],
      "text/plain": [
       "<IPython.core.display.HTML object>"
      ]
     },
     "metadata": {
      "tags": []
     },
     "output_type": "display_data"
    }
   ],
   "source": [
    "text = [\n",
    "        \"\"\"This is the case of a very pleasant 46-year-old Caucasian female, seen in clinic on 12/11/07 during which time MRI of the left shoulder showed no evidence of rotator cuff tear. She did have a previous MRI of the cervical spine that did show an osteophyte on the left C6-C7 level. Based on this, negative MRI of the shoulder, the patient was recommended to have anterior cervical discectomy with anterior interbody fusion at C6-C7 level. Operation, expected outcome, risks, and benefits were discussed with her. Risks include, but not exclusive of bleeding and infection, bleeding could be soft tissue bleeding, which may compromise airway and may result in return to the operating room emergently for evacuation of said hematoma. There is also the possibility of bleeding into the epidural space, which can compress the spinal cord and result in weakness and numbness of all four extremities as well as impairment of bowel and bladder function. However, the patient may develop deeper-seated infection, which may require return to the operating room. Should the infection be in the area of the spinal instrumentation, this will cause a dilemma since there might be a need to remove the spinal instrumentation and/or allograft. There is also the possibility of potential injury to the esophageus, the trachea, and the carotid artery. There is also the risks of stroke on the right cerebral circulation should an undiagnosed plaque be propelled from the right carotid. She understood all of these risks and agreed to have the procedure performed.\"\"\",\n",
    "]\n",
    "res = lmodel.fullAnnotate(text)[0]\n",
    "\n",
    "from sparknlp_display import RelationExtractionVisualizer\n",
    "\n",
    "vis = RelationExtractionVisualizer()\n",
    "vis.display(res, 'relations', show_relations=True) # default show_relations: True\n"
   ]
  },
  {
   "cell_type": "markdown",
   "metadata": {
    "id": "8bQmNVDJ1aQT"
   },
   "source": [
    "# **Entity Resolution Visualisation**"
   ]
  },
  {
   "cell_type": "code",
   "execution_count": null,
   "metadata": {
    "colab": {
     "base_uri": "https://localhost:8080/"
    },
    "id": "ZfOj1kVE1jPL",
    "outputId": "8585cbd5-29d1-42e6-c526-4e943e83ff9c"
   },
   "outputs": [
    {
     "name": "stdout",
     "output_type": "stream",
     "text": [
      "embeddings_clinical download started this may take some time.\n",
      "Approximate size to download 1.6 GB\n",
      "[OK!]\n",
      "ner_clinical download started this may take some time.\n",
      "Approximate size to download 13.8 MB\n",
      "[OK!]\n",
      "chunkresolve_snomed_findings_clinical download started this may take some time.\n",
      "Approximate size to download 162.6 MB\n",
      "[OK!]\n"
     ]
    }
   ],
   "source": [
    "document_assembler = DocumentAssembler() \\\n",
    "    .setInputCol('text')\\\n",
    "    .setOutputCol('document')\n",
    "\n",
    "sentence_detector = SentenceDetector() \\\n",
    "    .setInputCols(['document'])\\\n",
    "    .setOutputCol('sentences')\n",
    "\n",
    "tokenizer = Tokenizer()\\\n",
    "    .setInputCols(['sentences']) \\\n",
    "    .setOutputCol('tokens')\n",
    "\n",
    "embeddings = WordEmbeddingsModel.pretrained('embeddings_clinical', 'en', 'clinical/models')\\\n",
    "    .setInputCols([\"sentences\", \"tokens\"])\\\n",
    "    .setOutputCol(\"embeddings\")\n",
    "\n",
    "ner_model = NerDLModel().pretrained('ner_clinical', 'en', 'clinical/models')\\\n",
    "    .setInputCols(\"sentences\", \"tokens\", \"embeddings\")\\\n",
    "    .setOutputCol(\"ner_tags\")   \n",
    "\n",
    "ner_chunker = NerConverter()\\\n",
    "    .setInputCols([\"sentences\", \"tokens\", \"ner_tags\"])\\\n",
    "    .setOutputCol(\"ner_chunk\")#.setWhiteList(['PROBLEM','TREATMENT'])\n",
    "\n",
    "chunk_embeddings = ChunkEmbeddings()\\\n",
    "    .setInputCols(\"ner_chunk\", \"embeddings\")\\\n",
    "    .setOutputCol(\"chunk_embeddings\")\n",
    "\n",
    "entity_resolver = \\\n",
    "    ChunkEntityResolverModel.pretrained(\"chunkresolve_snomed_findings_clinical\",\"en\",\"clinical/models\")\\\n",
    "    .setInputCols(\"tokens\",\"chunk_embeddings\").setOutputCol(\"resolution\")\n",
    "    \n",
    "pipeline = Pipeline(stages=[\n",
    "    document_assembler, \n",
    "    sentence_detector,\n",
    "    tokenizer,\n",
    "    embeddings,\n",
    "    ner_model,\n",
    "    ner_chunker,\n",
    "    chunk_embeddings,\n",
    "    entity_resolver])\n",
    "\n",
    "empty_df = spark.createDataFrame([['']]).toDF(\"text\")\n",
    "pipelineModel = pipeline.fit(empty_df)\n",
    "\n",
    "lmodel = sparknlp.base.LightPipeline(pipelineModel)"
   ]
  },
  {
   "cell_type": "code",
   "execution_count": null,
   "metadata": {
    "colab": {
     "base_uri": "https://localhost:8080/",
     "height": 1000
    },
    "id": "QCzoW-sO1j3l",
    "outputId": "315e030c-07c7-49d1-b19b-0d79266c18dc"
   },
   "outputs": [
    {
     "data": {
      "text/html": [
       "\n",
       "<style>\n",
       "    @import url('https://fonts.googleapis.com/css2?family=Montserrat:wght@300;400;500;600;700&display=swap');\n",
       "    @import url('https://fonts.googleapis.com/css2?family=Vistol Regular:wght@300;400;500;600;700&display=swap');\n",
       "    \n",
       "    .spark-nlp-display-scroll-entities {\n",
       "        border: 1px solid #E7EDF0;\n",
       "        border-radius: 3px;\n",
       "        text-align: justify;\n",
       "        \n",
       "    }\n",
       "    .spark-nlp-display-scroll-entities span {  \n",
       "        font-size: 14px;\n",
       "        line-height: 24px;\n",
       "        color: #536B76;\n",
       "        font-family: 'Montserrat', sans-serif !important;\n",
       "    }\n",
       "    \n",
       "    .spark-nlp-display-entity-wrapper{\n",
       "    \n",
       "        display: inline-grid;\n",
       "        text-align: center;\n",
       "        border-radius: 4px;\n",
       "        margin: 0 2px 5px 2px;\n",
       "        padding: 1px\n",
       "    }\n",
       "    .spark-nlp-display-entity-name{\n",
       "        font-size: 14px;\n",
       "        line-height: 24px;\n",
       "        font-family: 'Montserrat', sans-serif !important;\n",
       "        \n",
       "        background: #f1f2f3;\n",
       "        border-width: medium;\n",
       "        text-align: center;\n",
       "        \n",
       "        font-weight: 400;\n",
       "        \n",
       "        border-radius: 5px;\n",
       "        padding: 2px 5px;\n",
       "        display: block;\n",
       "        margin: 3px 2px;\n",
       "    \n",
       "    }\n",
       "    .spark-nlp-display-entity-type{\n",
       "        font-size: 14px;\n",
       "        line-height: 24px;\n",
       "        color: #ffffff;\n",
       "        font-family: 'Montserrat', sans-serif !important;\n",
       "        \n",
       "        text-transform: uppercase;\n",
       "        \n",
       "        font-weight: 500;\n",
       "\n",
       "        display: block;\n",
       "        padding: 3px 5px;\n",
       "    }\n",
       "    \n",
       "    .spark-nlp-display-entity-resolution{\n",
       "        font-size: 14px;\n",
       "        line-height: 24px;\n",
       "        color: #ffffff;\n",
       "        font-family: 'Vistol Regular', sans-serif !important;\n",
       "        \n",
       "        text-transform: uppercase;\n",
       "        \n",
       "        font-weight: 500;\n",
       "\n",
       "        display: block;\n",
       "        padding: 3px 5px;\n",
       "    }\n",
       "    \n",
       "    .spark-nlp-display-others{\n",
       "        font-size: 14px;\n",
       "        line-height: 24px;\n",
       "        font-family: 'Montserrat', sans-serif !important;\n",
       "        \n",
       "        font-weight: 400;\n",
       "    }\n",
       "\n",
       "</style>\n",
       " <span class=\"spark-nlp-display-others\" style=\"background-color: white\">This is the case of a very pleasant 46-year-old Caucasian female, seen in clinic on 12/11/07 during which </span><span class=\"spark-nlp-display-entity-wrapper\" style=\"background-color: #e6ccffB3\"><span class=\"spark-nlp-display-entity-name\">time MRI of the left shoulder </span><span class=\"spark-nlp-display-entity-type\">TEST</span><span class=\"spark-nlp-display-entity-resolution\" style=\"background-color: #e6ccffFF\">11780921000119100 </span><span class=\"spark-nlp-display-entity-resolution\" style=\"background-color: #e6ccffCC\">Injury of left shoulder</span></span><span class=\"spark-nlp-display-others\" style=\"background-color: white\"> showed no evidence of </span><span class=\"spark-nlp-display-entity-wrapper\" style=\"background-color: #800080B3\"><span class=\"spark-nlp-display-entity-name\">rotator cuff tear </span><span class=\"spark-nlp-display-entity-type\">PROBLEM</span><span class=\"spark-nlp-display-entity-resolution\" style=\"background-color: #800080FF\">4106009 </span><span class=\"spark-nlp-display-entity-resolution\" style=\"background-color: #800080CC\">Rotator cuff tear</span></span><span class=\"spark-nlp-display-others\" style=\"background-color: white\">. She did have </span><span class=\"spark-nlp-display-entity-wrapper\" style=\"background-color: #e6ccffB3\"><span class=\"spark-nlp-display-entity-name\">a previous MRI of the cervical spine </span><span class=\"spark-nlp-display-entity-type\">TEST</span><span class=\"spark-nlp-display-entity-resolution\" style=\"background-color: #e6ccffFF\">116275003 </span><span class=\"spark-nlp-display-entity-resolution\" style=\"background-color: #e6ccffCC\">Finding of cervical spine</span></span><span class=\"spark-nlp-display-others\" style=\"background-color: white\"> that did show </span><span class=\"spark-nlp-display-entity-wrapper\" style=\"background-color: #800080B3\"><span class=\"spark-nlp-display-entity-name\">an osteophyte on the left C6-C7 level </span><span class=\"spark-nlp-display-entity-type\">PROBLEM</span><span class=\"spark-nlp-display-entity-resolution\" style=\"background-color: #800080FF\">316551000119104 </span><span class=\"spark-nlp-display-entity-resolution\" style=\"background-color: #800080CC\">Osteophyte of left ankle (disorder)</span></span><span class=\"spark-nlp-display-others\" style=\"background-color: white\">. Based on this, negative </span><span class=\"spark-nlp-display-entity-wrapper\" style=\"background-color: #e6ccffB3\"><span class=\"spark-nlp-display-entity-name\">MRI of the shoulder </span><span class=\"spark-nlp-display-entity-type\">TEST</span><span class=\"spark-nlp-display-entity-resolution\" style=\"background-color: #e6ccffFF\">267949000 </span><span class=\"spark-nlp-display-entity-resolution\" style=\"background-color: #e6ccffCC\">Arthralgia of the shoulder region</span></span><span class=\"spark-nlp-display-others\" style=\"background-color: white\">, the patient was recommended to have </span><span class=\"spark-nlp-display-entity-wrapper\" style=\"background-color: #008080B3\"><span class=\"spark-nlp-display-entity-name\">anterior cervical discectomy </span><span class=\"spark-nlp-display-entity-type\">TREATMENT</span><span class=\"spark-nlp-display-entity-resolution\" style=\"background-color: #008080FF\">109402007 </span><span class=\"spark-nlp-display-entity-resolution\" style=\"background-color: #008080CC\">Anterior perimaxillary faciosynostosis</span></span><span class=\"spark-nlp-display-others\" style=\"background-color: white\"> with </span><span class=\"spark-nlp-display-entity-wrapper\" style=\"background-color: #008080B3\"><span class=\"spark-nlp-display-entity-name\">anterior interbody fusion at C6-C7 level </span><span class=\"spark-nlp-display-entity-type\">TREATMENT</span><span class=\"spark-nlp-display-entity-resolution\" style=\"background-color: #008080FF\">721515003 </span><span class=\"spark-nlp-display-entity-resolution\" style=\"background-color: #008080CC\">Anterior cord syndrome of spinal cord at fourth lumbar level</span></span><span class=\"spark-nlp-display-others\" style=\"background-color: white\">. Operation, expected outcome, risks, and benefits were discussed with her. Risks include, but not exclusive of </span><span class=\"spark-nlp-display-entity-wrapper\" style=\"background-color: #800080B3\"><span class=\"spark-nlp-display-entity-name\">bleeding </span><span class=\"spark-nlp-display-entity-type\">PROBLEM</span><span class=\"spark-nlp-display-entity-resolution\" style=\"background-color: #800080FF\">266603000 </span><span class=\"spark-nlp-display-entity-resolution\" style=\"background-color: #800080CC\">Ovulation bleeding</span></span><span class=\"spark-nlp-display-others\" style=\"background-color: white\"> and </span><span class=\"spark-nlp-display-entity-wrapper\" style=\"background-color: #800080B3\"><span class=\"spark-nlp-display-entity-name\">infection </span><span class=\"spark-nlp-display-entity-type\">PROBLEM</span><span class=\"spark-nlp-display-entity-resolution\" style=\"background-color: #800080FF\">128351009 </span><span class=\"spark-nlp-display-entity-resolution\" style=\"background-color: #800080CC\">Eye infection</span></span><span class=\"spark-nlp-display-others\" style=\"background-color: white\">, </span><span class=\"spark-nlp-display-entity-wrapper\" style=\"background-color: #800080B3\"><span class=\"spark-nlp-display-entity-name\">bleeding </span><span class=\"spark-nlp-display-entity-type\">PROBLEM</span><span class=\"spark-nlp-display-entity-resolution\" style=\"background-color: #800080FF\">266603000 </span><span class=\"spark-nlp-display-entity-resolution\" style=\"background-color: #800080CC\">Ovulation bleeding</span></span><span class=\"spark-nlp-display-others\" style=\"background-color: white\"> could be </span><span class=\"spark-nlp-display-entity-wrapper\" style=\"background-color: #800080B3\"><span class=\"spark-nlp-display-entity-name\">soft tissue bleeding </span><span class=\"spark-nlp-display-entity-type\">PROBLEM</span><span class=\"spark-nlp-display-entity-resolution\" style=\"background-color: #800080FF\">95880003 </span><span class=\"spark-nlp-display-entity-resolution\" style=\"background-color: #800080CC\">Soft tissue infection</span></span><span class=\"spark-nlp-display-others\" style=\"background-color: white\">, which may compromise airway and may result in return to the operating room emergently for </span><span class=\"spark-nlp-display-entity-wrapper\" style=\"background-color: #008080B3\"><span class=\"spark-nlp-display-entity-name\">evacuation </span><span class=\"spark-nlp-display-entity-type\">TREATMENT</span><span class=\"spark-nlp-display-entity-resolution\" style=\"background-color: #008080FF\">249515001 </span><span class=\"spark-nlp-display-entity-resolution\" style=\"background-color: #008080CC\">Incomplete bowel evacuation</span></span><span class=\"spark-nlp-display-others\" style=\"background-color: white\"> of said </span><span class=\"spark-nlp-display-entity-wrapper\" style=\"background-color: #800080B3\"><span class=\"spark-nlp-display-entity-name\">hematoma </span><span class=\"spark-nlp-display-entity-type\">PROBLEM</span><span class=\"spark-nlp-display-entity-resolution\" style=\"background-color: #800080FF\">236002003 </span><span class=\"spark-nlp-display-entity-resolution\" style=\"background-color: #800080CC\">Retroperitoneal hematoma</span></span><span class=\"spark-nlp-display-others\" style=\"background-color: white\">. There is also the possibility of </span><span class=\"spark-nlp-display-entity-wrapper\" style=\"background-color: #800080B3\"><span class=\"spark-nlp-display-entity-name\">bleeding into the epidural space </span><span class=\"spark-nlp-display-entity-type\">PROBLEM</span><span class=\"spark-nlp-display-entity-resolution\" style=\"background-color: #800080FF\">450379002 </span><span class=\"spark-nlp-display-entity-resolution\" style=\"background-color: #800080CC\">Haemorrhage into epidural space of spine</span></span><span class=\"spark-nlp-display-others\" style=\"background-color: white\">, which can compress the spinal cord and result in </span><span class=\"spark-nlp-display-entity-wrapper\" style=\"background-color: #800080B3\"><span class=\"spark-nlp-display-entity-name\">weakness </span><span class=\"spark-nlp-display-entity-type\">PROBLEM</span><span class=\"spark-nlp-display-entity-resolution\" style=\"background-color: #800080FF\">13791008 </span><span class=\"spark-nlp-display-entity-resolution\" style=\"background-color: #800080CC\">Weakness</span></span><span class=\"spark-nlp-display-others\" style=\"background-color: white\"> and </span><span class=\"spark-nlp-display-entity-wrapper\" style=\"background-color: #800080B3\"><span class=\"spark-nlp-display-entity-name\">numbness of all four extremities </span><span class=\"spark-nlp-display-entity-type\">PROBLEM</span><span class=\"spark-nlp-display-entity-resolution\" style=\"background-color: #800080FF\">609554006 </span><span class=\"spark-nlp-display-entity-resolution\" style=\"background-color: #800080CC\">Paralytic syndrome of all four limbs</span></span><span class=\"spark-nlp-display-others\" style=\"background-color: white\"> as well as </span><span class=\"spark-nlp-display-entity-wrapper\" style=\"background-color: #800080B3\"><span class=\"spark-nlp-display-entity-name\">impairment of bowel and bladder function </span><span class=\"spark-nlp-display-entity-type\">PROBLEM</span><span class=\"spark-nlp-display-entity-resolution\" style=\"background-color: #800080FF\">129023004 </span><span class=\"spark-nlp-display-entity-resolution\" style=\"background-color: #800080CC\">Maintains bowel and bladder continence</span></span><span class=\"spark-nlp-display-others\" style=\"background-color: white\">. However, the patient may develop </span><span class=\"spark-nlp-display-entity-wrapper\" style=\"background-color: #800080B3\"><span class=\"spark-nlp-display-entity-name\">deeper-seated infection </span><span class=\"spark-nlp-display-entity-type\">PROBLEM</span><span class=\"spark-nlp-display-entity-resolution\" style=\"background-color: #800080FF\">419468003 </span><span class=\"spark-nlp-display-entity-resolution\" style=\"background-color: #800080CC\">Gardnerella infection</span></span><span class=\"spark-nlp-display-others\" style=\"background-color: white\">, which may require return to the operating room. Should </span><span class=\"spark-nlp-display-entity-wrapper\" style=\"background-color: #800080B3\"><span class=\"spark-nlp-display-entity-name\">the infection </span><span class=\"spark-nlp-display-entity-type\">PROBLEM</span><span class=\"spark-nlp-display-entity-resolution\" style=\"background-color: #800080FF\">419468003 </span><span class=\"spark-nlp-display-entity-resolution\" style=\"background-color: #800080CC\">Gardnerella infection</span></span><span class=\"spark-nlp-display-others\" style=\"background-color: white\"> be in the area of </span><span class=\"spark-nlp-display-entity-wrapper\" style=\"background-color: #008080B3\"><span class=\"spark-nlp-display-entity-name\">the spinal instrumentation </span><span class=\"spark-nlp-display-entity-type\">TREATMENT</span><span class=\"spark-nlp-display-entity-resolution\" style=\"background-color: #008080FF\">307211004 </span><span class=\"spark-nlp-display-entity-resolution\" style=\"background-color: #008080CC\">Nonunion of spinal fusion</span></span><span class=\"spark-nlp-display-others\" style=\"background-color: white\">, this will cause a dilemma since there might be a need to remove </span><span class=\"spark-nlp-display-entity-wrapper\" style=\"background-color: #008080B3\"><span class=\"spark-nlp-display-entity-name\">the spinal instrumentation </span><span class=\"spark-nlp-display-entity-type\">TREATMENT</span><span class=\"spark-nlp-display-entity-resolution\" style=\"background-color: #008080FF\">307211004 </span><span class=\"spark-nlp-display-entity-resolution\" style=\"background-color: #008080CC\">Nonunion of spinal fusion</span></span><span class=\"spark-nlp-display-others\" style=\"background-color: white\"> and/or </span><span class=\"spark-nlp-display-entity-wrapper\" style=\"background-color: #008080B3\"><span class=\"spark-nlp-display-entity-name\">allograft </span><span class=\"spark-nlp-display-entity-type\">TREATMENT</span><span class=\"spark-nlp-display-entity-resolution\" style=\"background-color: #008080FF\">314002005 </span><span class=\"spark-nlp-display-entity-resolution\" style=\"background-color: #008080CC\">Corneal allograft rejection</span></span><span class=\"spark-nlp-display-others\" style=\"background-color: white\">. There is also the possibility of </span><span class=\"spark-nlp-display-entity-wrapper\" style=\"background-color: #800080B3\"><span class=\"spark-nlp-display-entity-name\">potential injury to the esophageus, the trachea, and the carotid artery </span><span class=\"spark-nlp-display-entity-type\">PROBLEM</span><span class=\"spark-nlp-display-entity-resolution\" style=\"background-color: #800080FF\">285709007 </span><span class=\"spark-nlp-display-entity-resolution\" style=\"background-color: #800080CC\">Injury of artery of head and neck (disorder)</span></span><span class=\"spark-nlp-display-others\" style=\"background-color: white\">. There is also the risks of </span><span class=\"spark-nlp-display-entity-wrapper\" style=\"background-color: #800080B3\"><span class=\"spark-nlp-display-entity-name\">stroke on the right cerebral circulation </span><span class=\"spark-nlp-display-entity-type\">PROBLEM</span><span class=\"spark-nlp-display-entity-resolution\" style=\"background-color: #800080FF\">230696001 </span><span class=\"spark-nlp-display-entity-resolution\" style=\"background-color: #800080CC\">Posterior cerebral circulation stroke</span></span><span class=\"spark-nlp-display-others\" style=\"background-color: white\"> should </span><span class=\"spark-nlp-display-entity-wrapper\" style=\"background-color: #800080B3\"><span class=\"spark-nlp-display-entity-name\">an undiagnosed plaque </span><span class=\"spark-nlp-display-entity-type\">PROBLEM</span><span class=\"spark-nlp-display-entity-resolution\" style=\"background-color: #800080FF\">276321008 </span><span class=\"spark-nlp-display-entity-resolution\" style=\"background-color: #800080CC\">Mucosal plaque (finding)</span></span><span class=\"spark-nlp-display-others\" style=\"background-color: white\"> be propelled from the right carotid. She understood all of these risks and agreed to have </span><span class=\"spark-nlp-display-entity-wrapper\" style=\"background-color: #008080B3\"><span class=\"spark-nlp-display-entity-name\">the procedure </span><span class=\"spark-nlp-display-entity-type\">TREATMENT</span><span class=\"spark-nlp-display-entity-resolution\" style=\"background-color: #008080FF\">183815004 </span><span class=\"spark-nlp-display-entity-resolution\" style=\"background-color: #008080CC\">Admission fundable procedure</span></span><span class=\"spark-nlp-display-others\" style=\"background-color: white\"> performed.</span></div>"
      ],
      "text/plain": [
       "<IPython.core.display.HTML object>"
      ]
     },
     "metadata": {
      "tags": []
     },
     "output_type": "display_data"
    }
   ],
   "source": [
    "text = [\n",
    "        \"\"\"This is the case of a very pleasant 46-year-old Caucasian female, seen in clinic on 12/11/07 during which time MRI of the left shoulder showed no evidence of rotator cuff tear. She did have a previous MRI of the cervical spine that did show an osteophyte on the left C6-C7 level. Based on this, negative MRI of the shoulder, the patient was recommended to have anterior cervical discectomy with anterior interbody fusion at C6-C7 level. Operation, expected outcome, risks, and benefits were discussed with her. Risks include, but not exclusive of bleeding and infection, bleeding could be soft tissue bleeding, which may compromise airway and may result in return to the operating room emergently for evacuation of said hematoma. There is also the possibility of bleeding into the epidural space, which can compress the spinal cord and result in weakness and numbness of all four extremities as well as impairment of bowel and bladder function. However, the patient may develop deeper-seated infection, which may require return to the operating room. Should the infection be in the area of the spinal instrumentation, this will cause a dilemma since there might be a need to remove the spinal instrumentation and/or allograft. There is also the possibility of potential injury to the esophageus, the trachea, and the carotid artery. There is also the risks of stroke on the right cerebral circulation should an undiagnosed plaque be propelled from the right carotid. She understood all of these risks and agreed to have the procedure performed.\"\"\",\n",
    "]\n",
    "res = lmodel.fullAnnotate(text)[0]\n",
    "\n",
    "from sparknlp_display import EntityResolverVisualizer\n",
    "\n",
    "vis = EntityResolverVisualizer()\n",
    "vis.set_label_colors({'TREATMENT':'#008080', 'problem':'#800080'})\n",
    "vis.display(res, 'ner_chunk', 'resolution')\n"
   ]
  },
  {
   "cell_type": "markdown",
   "metadata": {
    "id": "p7miDjgYlgq8"
   },
   "source": [
    "# **Assertion Status Visualisation**"
   ]
  },
  {
   "cell_type": "code",
   "execution_count": null,
   "metadata": {
    "colab": {
     "base_uri": "https://localhost:8080/"
    },
    "id": "zC3DeBKmlmHZ",
    "outputId": "d09840c5-e78c-472a-dcb7-fc617ba0a905"
   },
   "outputs": [
    {
     "name": "stdout",
     "output_type": "stream",
     "text": [
      "embeddings_clinical download started this may take some time.\n",
      "Approximate size to download 1.6 GB\n",
      "[OK!]\n",
      "ner_clinical download started this may take some time.\n",
      "Approximate size to download 13.8 MB\n",
      "[OK!]\n",
      "assertion_dl download started this may take some time.\n",
      "Approximate size to download 1.3 MB\n",
      "[OK!]\n"
     ]
    }
   ],
   "source": [
    "documentAssembler = DocumentAssembler()\\\n",
    "  .setInputCol(\"text\")\\\n",
    "  .setOutputCol(\"document\")\n",
    "\n",
    "sentenceDetector = SentenceDetector()\\\n",
    "  .setInputCols([\"document\"])\\\n",
    "  .setOutputCol(\"sentence\")\n",
    "\n",
    "tokenizer = Tokenizer()\\\n",
    "  .setInputCols([\"sentence\"])\\\n",
    "  .setOutputCol(\"token\")\n",
    "\n",
    "word_embeddings = WordEmbeddingsModel.pretrained(\"embeddings_clinical\", \"en\", \"clinical/models\")\\\n",
    "  .setInputCols([\"sentence\", \"token\"])\\\n",
    "  .setOutputCol(\"embeddings\")\n",
    "\n",
    "clinical_ner = NerDLModel.pretrained(\"ner_clinical\", \"en\", \"clinical/models\") \\\n",
    "  .setInputCols([\"sentence\", \"token\", \"embeddings\"]) \\\n",
    "  .setOutputCol(\"ner\")\n",
    "\n",
    "ner_converter = NerConverter() \\\n",
    "  .setInputCols([\"sentence\", \"token\", \"ner\"]) \\\n",
    "  .setOutputCol(\"ner_chunk\").setWhiteList(['PROBLEM'])\n",
    "\n",
    "clinical_assertion = AssertionDLModel.pretrained(\"assertion_dl\", \"en\", \"clinical/models\") \\\n",
    "    .setInputCols([\"sentence\", \"ner_chunk\", \"embeddings\"]) \\\n",
    "    .setOutputCol(\"assertion\")\n",
    "    \n",
    "nlpPipeline = Pipeline(stages=[\n",
    "    documentAssembler, \n",
    "    sentenceDetector,\n",
    "    tokenizer,\n",
    "    word_embeddings,\n",
    "    clinical_ner,\n",
    "    ner_converter,\n",
    "    clinical_assertion\n",
    "    ])\n",
    "\n",
    "empty_data = spark.createDataFrame([[\"\"]]).toDF(\"text\")\n",
    "\n",
    "model = nlpPipeline.fit(empty_data)\n",
    "\n",
    "lmodel = LightPipeline(model)"
   ]
  },
  {
   "cell_type": "code",
   "execution_count": null,
   "metadata": {
    "colab": {
     "base_uri": "https://localhost:8080/",
     "height": 921
    },
    "id": "T9qaR9J-mQ7z",
    "outputId": "45e233c4-dde6-48ea-a81b-7dd0cb8f53b9"
   },
   "outputs": [
    {
     "data": {
      "text/html": [
       "\n",
       "<style>\n",
       "    @import url('https://fonts.googleapis.com/css2?family=Montserrat:wght@300;400;500;600;700&display=swap');\n",
       "    @import url('https://fonts.googleapis.com/css2?family=Vistol Regular:wght@300;400;500;600;700&display=swap');\n",
       "    \n",
       "    .spark-nlp-display-scroll-entities {\n",
       "        border: 1px solid #E7EDF0;\n",
       "        border-radius: 3px;\n",
       "        text-align: justify;\n",
       "        \n",
       "    }\n",
       "    .spark-nlp-display-scroll-entities span {  \n",
       "        font-size: 14px;\n",
       "        line-height: 24px;\n",
       "        color: #536B76;\n",
       "        font-family: 'Montserrat', sans-serif !important;\n",
       "    }\n",
       "    \n",
       "    .spark-nlp-display-entity-wrapper{\n",
       "    \n",
       "        display: inline-grid;\n",
       "        text-align: center;\n",
       "        border-radius: 4px;\n",
       "        margin: 0 2px 5px 2px;\n",
       "        padding: 1px\n",
       "    }\n",
       "    .spark-nlp-display-entity-name{\n",
       "        font-size: 14px;\n",
       "        line-height: 24px;\n",
       "        font-family: 'Montserrat', sans-serif !important;\n",
       "        \n",
       "        background: #f1f2f3;\n",
       "        border-width: medium;\n",
       "        text-align: center;\n",
       "        \n",
       "        font-weight: 400;\n",
       "        \n",
       "        border-radius: 5px;\n",
       "        padding: 2px 5px;\n",
       "        display: block;\n",
       "        margin: 3px 2px;\n",
       "    \n",
       "    }\n",
       "    .spark-nlp-display-entity-type{\n",
       "        font-size: 14px;\n",
       "        line-height: 24px;\n",
       "        color: #ffffff;\n",
       "        font-family: 'Montserrat', sans-serif !important;\n",
       "        \n",
       "        text-transform: uppercase;\n",
       "        \n",
       "        font-weight: 500;\n",
       "\n",
       "        display: block;\n",
       "        padding: 3px 5px;\n",
       "    }\n",
       "    \n",
       "    .spark-nlp-display-entity-resolution{\n",
       "        font-size: 14px;\n",
       "        line-height: 24px;\n",
       "        color: #ffffff;\n",
       "        font-family: 'Vistol Regular', sans-serif !important;\n",
       "        \n",
       "        text-transform: uppercase;\n",
       "        \n",
       "        font-weight: 500;\n",
       "\n",
       "        display: block;\n",
       "        padding: 3px 5px;\n",
       "    }\n",
       "    \n",
       "    .spark-nlp-display-others{\n",
       "        font-size: 14px;\n",
       "        line-height: 24px;\n",
       "        font-family: 'Montserrat', sans-serif !important;\n",
       "        \n",
       "        font-weight: 400;\n",
       "    }\n",
       "\n",
       "</style>\n",
       " <span class=\"spark-nlp-display-others\" style=\"background-color: white\">This is the case of a very pleasant 46-year-old Caucasian female, seen in clinic on 12/11/07 during which time MRI of the left shoulder showed no evidence of </span><span class=\"spark-nlp-display-entity-wrapper\" style=\"background-color: #800080B3\"><span class=\"spark-nlp-display-entity-name\">rotator cuff tear </span><span class=\"spark-nlp-display-entity-type\">PROBLEM</span><span class=\"spark-nlp-display-entity-resolution\" style=\"background-color: #800080FF\">absent </span></span><span class=\"spark-nlp-display-others\" style=\"background-color: white\">. She did have a previous MRI of the cervical spine that did show </span><span class=\"spark-nlp-display-entity-wrapper\" style=\"background-color: #800080B3\"><span class=\"spark-nlp-display-entity-name\">an osteophyte on the left C6-C7 level </span><span class=\"spark-nlp-display-entity-type\">PROBLEM</span><span class=\"spark-nlp-display-entity-resolution\" style=\"background-color: #800080FF\">present </span></span><span class=\"spark-nlp-display-others\" style=\"background-color: white\">. Based on this, negative MRI of the shoulder, the patient was recommended to have anterior cervical discectomy with anterior interbody fusion at C6-C7 level. Operation, expected outcome, risks, and benefits were discussed with her. Risks include, but not exclusive of </span><span class=\"spark-nlp-display-entity-wrapper\" style=\"background-color: #800080B3\"><span class=\"spark-nlp-display-entity-name\">bleeding </span><span class=\"spark-nlp-display-entity-type\">PROBLEM</span><span class=\"spark-nlp-display-entity-resolution\" style=\"background-color: #800080FF\">present </span></span><span class=\"spark-nlp-display-others\" style=\"background-color: white\"> and </span><span class=\"spark-nlp-display-entity-wrapper\" style=\"background-color: #800080B3\"><span class=\"spark-nlp-display-entity-name\">infection </span><span class=\"spark-nlp-display-entity-type\">PROBLEM</span><span class=\"spark-nlp-display-entity-resolution\" style=\"background-color: #800080FF\">present </span></span><span class=\"spark-nlp-display-others\" style=\"background-color: white\">, </span><span class=\"spark-nlp-display-entity-wrapper\" style=\"background-color: #800080B3\"><span class=\"spark-nlp-display-entity-name\">bleeding </span><span class=\"spark-nlp-display-entity-type\">PROBLEM</span><span class=\"spark-nlp-display-entity-resolution\" style=\"background-color: #800080FF\">present </span></span><span class=\"spark-nlp-display-others\" style=\"background-color: white\"> could be </span><span class=\"spark-nlp-display-entity-wrapper\" style=\"background-color: #800080B3\"><span class=\"spark-nlp-display-entity-name\">soft tissue bleeding </span><span class=\"spark-nlp-display-entity-type\">PROBLEM</span><span class=\"spark-nlp-display-entity-resolution\" style=\"background-color: #800080FF\">present </span></span><span class=\"spark-nlp-display-others\" style=\"background-color: white\">, which may compromise airway and may result in return to the operating room emergently for evacuation of said </span><span class=\"spark-nlp-display-entity-wrapper\" style=\"background-color: #800080B3\"><span class=\"spark-nlp-display-entity-name\">hematoma </span><span class=\"spark-nlp-display-entity-type\">PROBLEM</span><span class=\"spark-nlp-display-entity-resolution\" style=\"background-color: #800080FF\">present </span></span><span class=\"spark-nlp-display-others\" style=\"background-color: white\">. There is also the possibility of </span><span class=\"spark-nlp-display-entity-wrapper\" style=\"background-color: #800080B3\"><span class=\"spark-nlp-display-entity-name\">bleeding into the epidural space </span><span class=\"spark-nlp-display-entity-type\">PROBLEM</span><span class=\"spark-nlp-display-entity-resolution\" style=\"background-color: #800080FF\">possible </span></span><span class=\"spark-nlp-display-others\" style=\"background-color: white\">, which can compress the spinal cord and result in </span><span class=\"spark-nlp-display-entity-wrapper\" style=\"background-color: #800080B3\"><span class=\"spark-nlp-display-entity-name\">weakness </span><span class=\"spark-nlp-display-entity-type\">PROBLEM</span><span class=\"spark-nlp-display-entity-resolution\" style=\"background-color: #800080FF\">present </span></span><span class=\"spark-nlp-display-others\" style=\"background-color: white\"> and </span><span class=\"spark-nlp-display-entity-wrapper\" style=\"background-color: #800080B3\"><span class=\"spark-nlp-display-entity-name\">numbness of all four extremities </span><span class=\"spark-nlp-display-entity-type\">PROBLEM</span><span class=\"spark-nlp-display-entity-resolution\" style=\"background-color: #800080FF\">present </span></span><span class=\"spark-nlp-display-others\" style=\"background-color: white\"> as well as </span><span class=\"spark-nlp-display-entity-wrapper\" style=\"background-color: #800080B3\"><span class=\"spark-nlp-display-entity-name\">impairment of bowel and bladder function </span><span class=\"spark-nlp-display-entity-type\">PROBLEM</span><span class=\"spark-nlp-display-entity-resolution\" style=\"background-color: #800080FF\">present </span></span><span class=\"spark-nlp-display-others\" style=\"background-color: white\">. However, the patient may develop </span><span class=\"spark-nlp-display-entity-wrapper\" style=\"background-color: #800080B3\"><span class=\"spark-nlp-display-entity-name\">deeper-seated infection </span><span class=\"spark-nlp-display-entity-type\">PROBLEM</span><span class=\"spark-nlp-display-entity-resolution\" style=\"background-color: #800080FF\">possible </span></span><span class=\"spark-nlp-display-others\" style=\"background-color: white\">, which may require return to the operating room. Should </span><span class=\"spark-nlp-display-entity-wrapper\" style=\"background-color: #800080B3\"><span class=\"spark-nlp-display-entity-name\">the infection </span><span class=\"spark-nlp-display-entity-type\">PROBLEM</span><span class=\"spark-nlp-display-entity-resolution\" style=\"background-color: #800080FF\">possible </span></span><span class=\"spark-nlp-display-others\" style=\"background-color: white\"> be in the area of the spinal instrumentation, this will cause a dilemma since there might be a need to remove the spinal instrumentation and/or allograft. There is also the possibility of </span><span class=\"spark-nlp-display-entity-wrapper\" style=\"background-color: #800080B3\"><span class=\"spark-nlp-display-entity-name\">potential injury to the esophageus, the trachea, and the carotid artery </span><span class=\"spark-nlp-display-entity-type\">PROBLEM</span><span class=\"spark-nlp-display-entity-resolution\" style=\"background-color: #800080FF\">possible </span></span><span class=\"spark-nlp-display-others\" style=\"background-color: white\">. There is also the risks of </span><span class=\"spark-nlp-display-entity-wrapper\" style=\"background-color: #800080B3\"><span class=\"spark-nlp-display-entity-name\">stroke on the right cerebral circulation </span><span class=\"spark-nlp-display-entity-type\">PROBLEM</span><span class=\"spark-nlp-display-entity-resolution\" style=\"background-color: #800080FF\">possible </span></span><span class=\"spark-nlp-display-others\" style=\"background-color: white\"> should </span><span class=\"spark-nlp-display-entity-wrapper\" style=\"background-color: #800080B3\"><span class=\"spark-nlp-display-entity-name\">an undiagnosed plaque </span><span class=\"spark-nlp-display-entity-type\">PROBLEM</span><span class=\"spark-nlp-display-entity-resolution\" style=\"background-color: #800080FF\">possible </span></span><span class=\"spark-nlp-display-others\" style=\"background-color: white\"> be propelled from the right carotid. She understood all of these risks and agreed to have the procedure performed.</span></div>"
      ],
      "text/plain": [
       "<IPython.core.display.HTML object>"
      ]
     },
     "metadata": {
      "tags": []
     },
     "output_type": "display_data"
    }
   ],
   "source": [
    "text = [\n",
    "        \"\"\"This is the case of a very pleasant 46-year-old Caucasian female, seen in clinic on 12/11/07 during which time MRI of the left shoulder showed no evidence of rotator cuff tear. She did have a previous MRI of the cervical spine that did show an osteophyte on the left C6-C7 level. Based on this, negative MRI of the shoulder, the patient was recommended to have anterior cervical discectomy with anterior interbody fusion at C6-C7 level. Operation, expected outcome, risks, and benefits were discussed with her. Risks include, but not exclusive of bleeding and infection, bleeding could be soft tissue bleeding, which may compromise airway and may result in return to the operating room emergently for evacuation of said hematoma. There is also the possibility of bleeding into the epidural space, which can compress the spinal cord and result in weakness and numbness of all four extremities as well as impairment of bowel and bladder function. However, the patient may develop deeper-seated infection, which may require return to the operating room. Should the infection be in the area of the spinal instrumentation, this will cause a dilemma since there might be a need to remove the spinal instrumentation and/or allograft. There is also the possibility of potential injury to the esophageus, the trachea, and the carotid artery. There is also the risks of stroke on the right cerebral circulation should an undiagnosed plaque be propelled from the right carotid. She understood all of these risks and agreed to have the procedure performed.\"\"\",\n",
    "]\n",
    "res = lmodel.fullAnnotate(text)[0]\n",
    "\n",
    "from sparknlp_display import AssertionVisualizer\n",
    "\n",
    "vis = AssertionVisualizer()\n",
    "vis.set_label_colors({'TREATMENT':'#008080', 'problem':'#800080'})\n",
    "vis.display(res, 'ner_chunk', 'assertion')\n"
   ]
  }
 ],
 "metadata": {
  "colab": {
   "collapsed_sections": [],
   "name": "Spark_NLP_Display.ipynb",
   "provenance": [],
   "toc_visible": true
  },
  "kernelspec": {
   "display_name": "Python 3",
   "language": "python",
   "name": "python3"
  },
  "language_info": {
   "codemirror_mode": {
    "name": "ipython",
    "version": 3
   },
   "file_extension": ".py",
   "mimetype": "text/x-python",
   "name": "python",
   "nbconvert_exporter": "python",
   "pygments_lexer": "ipython3",
   "version": "3.7.6"
  }
 },
 "nbformat": 4,
 "nbformat_minor": 0
}
